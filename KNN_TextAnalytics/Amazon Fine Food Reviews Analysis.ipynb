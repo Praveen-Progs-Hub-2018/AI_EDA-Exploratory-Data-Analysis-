{
 "cells": [
  {
   "cell_type": "markdown",
   "metadata": {},
   "source": [
    "# Amazon Fine Food Reviews Analysis\n",
    "\n",
    "Developer  Details : PraveenAI\n",
    "\n",
    "Data Source: https://www.kaggle.com/snap/amazon-fine-food-reviews <br>\n",
    "\n",
    "EDA: https://nycdatascience.com/blog/student-works/amazon-fine-foods-visualization/\n",
    "\n",
    "\n",
    "The Amazon Fine Food Reviews dataset consists of reviews of fine foods from Amazon.<br>\n",
    "\n",
    "Number of reviews: 568,454<br>\n",
    "Number of users: 256,059<br>\n",
    "Number of products: 74,258<br>\n",
    "Timespan: Oct 1999 - Oct 2012<br>\n",
    "Number of Attributes/Columns in data: 10 \n",
    "\n",
    "Attribute Information:\n",
    "\n",
    "1. Id\n",
    "2. ProductId - unique identifier for the product\n",
    "3. UserId - unqiue identifier for the user\n",
    "4. ProfileName\n",
    "5. HelpfulnessNumerator - number of users who found the review helpful\n",
    "6. HelpfulnessDenominator - number of users who indicated whether they found the review helpful or not\n",
    "7. Score - rating between 1 and 5\n",
    "8. Time - timestamp for the review\n",
    "9. Summary - brief summary of the review\n",
    "10. Text - text of the review\n",
    "\n",
    "\n",
    "#### Objective:\n",
    "Given a review, determine whether the review is positive (rating of 4 or 5) or negative (rating of 1 or 2).\n",
    "\n",
    "<br>\n",
    "[Q] How to determine if a review is positive or negative?<br>\n",
    "<br> \n",
    "[Ans] We could use Score/Rating. A rating of 4 or 5 can be cosnidered as a positive review. A rating of 1 or 2 can be considered as negative one. A review of rating 3 is considered nuetral and such reviews are ignored from our analysis. This is an approximate and proxy way of determining the polarity (positivity/negativity) of a review.\n",
    "\n",
    "\n"
   ]
  },
  {
   "cell_type": "markdown",
   "metadata": {},
   "source": [
    "# [1]. Reading Data"
   ]
  },
  {
   "cell_type": "markdown",
   "metadata": {},
   "source": [
    "## [1.1] Loading the data\n",
    "\n",
    "The dataset is available in two forms\n",
    "1. .csv file\n",
    "2. SQLite Database\n",
    "\n",
    "In order to load the data, We have used the SQLITE dataset as it is easier to query the data and visualise the data efficiently.\n",
    "<br> \n",
    "\n",
    "Here as we only want to get the global sentiment of the recommendations (positive or negative), we will purposefully ignore all Scores equal to 3. If the score is above 3, then the recommendation wil be set to \"positive\". Otherwise, it will be set to \"negative\"."
   ]
  },
  {
   "cell_type": "code",
   "execution_count": 149,
   "metadata": {},
   "outputs": [],
   "source": [
    "import sqlite3\n",
    "import pandas as pd\n",
    "import numpy as np\n",
    "import nltk\n",
    "import string\n",
    "import matplotlib.pyplot as plt\n",
    "import seaborn as sns\n",
    "from sklearn.feature_extraction.text import TfidfTransformer\n",
    "from sklearn.feature_extraction.text import TfidfVectorizer\n",
    "\n",
    "from sklearn.feature_extraction.text import CountVectorizer\n",
    "from sklearn.metrics import confusion_matrix\n",
    "from sklearn import metrics\n",
    "from sklearn.metrics import roc_curve, auc\n",
    "from nltk.stem.porter import PorterStemmer\n",
    "\n",
    "import re\n",
    "# Tutorial about Python regular expressions: https://pymotw.com/2/re/\n",
    "import string\n",
    "from nltk.corpus import stopwords\n",
    "from nltk.stem import PorterStemmer\n",
    "from nltk.stem.wordnet import WordNetLemmatizer\n",
    "\n",
    "from gensim.models import Word2Vec\n",
    "from gensim.models import KeyedVectors\n",
    "import pickle\n",
    "\n",
    "from tqdm import tqdm\n",
    "import os"
   ]
  },
  {
   "cell_type": "code",
   "execution_count": 150,
   "metadata": {},
   "outputs": [
    {
     "name": "stdout",
     "output_type": "stream",
     "text": [
      "Number of data points in our data (50000, 10)\n"
     ]
    },
    {
     "data": {
      "text/html": [
       "<div>\n",
       "<style scoped>\n",
       "    .dataframe tbody tr th:only-of-type {\n",
       "        vertical-align: middle;\n",
       "    }\n",
       "\n",
       "    .dataframe tbody tr th {\n",
       "        vertical-align: top;\n",
       "    }\n",
       "\n",
       "    .dataframe thead th {\n",
       "        text-align: right;\n",
       "    }\n",
       "</style>\n",
       "<table border=\"1\" class=\"dataframe\">\n",
       "  <thead>\n",
       "    <tr style=\"text-align: right;\">\n",
       "      <th></th>\n",
       "      <th>Id</th>\n",
       "      <th>ProductId</th>\n",
       "      <th>UserId</th>\n",
       "      <th>ProfileName</th>\n",
       "      <th>HelpfulnessNumerator</th>\n",
       "      <th>HelpfulnessDenominator</th>\n",
       "      <th>Score</th>\n",
       "      <th>Time</th>\n",
       "      <th>Summary</th>\n",
       "      <th>Text</th>\n",
       "    </tr>\n",
       "  </thead>\n",
       "  <tbody>\n",
       "    <tr>\n",
       "      <th>0</th>\n",
       "      <td>1</td>\n",
       "      <td>B001E4KFG0</td>\n",
       "      <td>A3SGXH7AUHU8GW</td>\n",
       "      <td>delmartian</td>\n",
       "      <td>1</td>\n",
       "      <td>1</td>\n",
       "      <td>1</td>\n",
       "      <td>1303862400</td>\n",
       "      <td>Good Quality Dog Food</td>\n",
       "      <td>I have bought several of the Vitality canned d...</td>\n",
       "    </tr>\n",
       "    <tr>\n",
       "      <th>1</th>\n",
       "      <td>2</td>\n",
       "      <td>B00813GRG4</td>\n",
       "      <td>A1D87F6ZCVE5NK</td>\n",
       "      <td>dll pa</td>\n",
       "      <td>0</td>\n",
       "      <td>0</td>\n",
       "      <td>0</td>\n",
       "      <td>1346976000</td>\n",
       "      <td>Not as Advertised</td>\n",
       "      <td>Product arrived labeled as Jumbo Salted Peanut...</td>\n",
       "    </tr>\n",
       "    <tr>\n",
       "      <th>2</th>\n",
       "      <td>3</td>\n",
       "      <td>B000LQOCH0</td>\n",
       "      <td>ABXLMWJIXXAIN</td>\n",
       "      <td>Natalia Corres \"Natalia Corres\"</td>\n",
       "      <td>1</td>\n",
       "      <td>1</td>\n",
       "      <td>1</td>\n",
       "      <td>1219017600</td>\n",
       "      <td>\"Delight\" says it all</td>\n",
       "      <td>This is a confection that has been around a fe...</td>\n",
       "    </tr>\n",
       "  </tbody>\n",
       "</table>\n",
       "</div>"
      ],
      "text/plain": [
       "   Id   ProductId          UserId                      ProfileName  \\\n",
       "0   1  B001E4KFG0  A3SGXH7AUHU8GW                       delmartian   \n",
       "1   2  B00813GRG4  A1D87F6ZCVE5NK                           dll pa   \n",
       "2   3  B000LQOCH0   ABXLMWJIXXAIN  Natalia Corres \"Natalia Corres\"   \n",
       "\n",
       "   HelpfulnessNumerator  HelpfulnessDenominator  Score        Time  \\\n",
       "0                     1                       1      1  1303862400   \n",
       "1                     0                       0      0  1346976000   \n",
       "2                     1                       1      1  1219017600   \n",
       "\n",
       "                 Summary                                               Text  \n",
       "0  Good Quality Dog Food  I have bought several of the Vitality canned d...  \n",
       "1      Not as Advertised  Product arrived labeled as Jumbo Salted Peanut...  \n",
       "2  \"Delight\" says it all  This is a confection that has been around a fe...  "
      ]
     },
     "execution_count": 150,
     "metadata": {},
     "output_type": "execute_result"
    }
   ],
   "source": [
    "# using SQLite Table to read data.\n",
    "con = sqlite3.connect('database.sqlite') \n",
    "# filtering only positive and negative reviews i.e. \n",
    "# not taking into consideration those reviews with Score=3\n",
    "# SELECT * FROM Reviews WHERE Score != 3 LIMIT 500000, will give top 500000 data points\n",
    "# you can change the number to any other number based on your computing power\n",
    "\n",
    "# filtered_data = pd.read_sql_query(\"\"\" SELECT * FROM Reviews WHERE Score != 3 LIMIT 500000\"\"\", con) \n",
    "# for tsne assignment you can take 5k data points\n",
    "\n",
    "filtered_data = pd.read_sql_query(\"\"\" SELECT * FROM Reviews WHERE Score != 3 LIMIT 50000\"\"\", con) \n",
    "\n",
    "# Give reviews with Score>3 a positive rating(1), and reviews with a score<3 a negative rating(0).\n",
    "def partition(x):\n",
    "    if x < 3:\n",
    "        return 0\n",
    "    return 1\n",
    "\n",
    "#changing reviews with score less than 3 to be positive and vice-versa\n",
    "actualScore = filtered_data['Score']\n",
    "positiveNegative = actualScore.map(partition) \n",
    "filtered_data['Score'] = positiveNegative\n",
    "print(\"Number of data points in our data\", filtered_data.shape)\n",
    "filtered_data.head(3)"
   ]
  },
  {
   "cell_type": "code",
   "execution_count": 151,
   "metadata": {},
   "outputs": [],
   "source": [
    "display = pd.read_sql_query(\"\"\"\n",
    "SELECT UserId, ProductId, ProfileName, Time, Score, Text, COUNT(*)\n",
    "FROM Reviews\n",
    "GROUP BY UserId\n",
    "HAVING COUNT(*)>1\n",
    "\"\"\", con)"
   ]
  },
  {
   "cell_type": "code",
   "execution_count": 152,
   "metadata": {
    "scrolled": true
   },
   "outputs": [
    {
     "name": "stdout",
     "output_type": "stream",
     "text": [
      "(80668, 7)\n"
     ]
    },
    {
     "data": {
      "text/html": [
       "<div>\n",
       "<style scoped>\n",
       "    .dataframe tbody tr th:only-of-type {\n",
       "        vertical-align: middle;\n",
       "    }\n",
       "\n",
       "    .dataframe tbody tr th {\n",
       "        vertical-align: top;\n",
       "    }\n",
       "\n",
       "    .dataframe thead th {\n",
       "        text-align: right;\n",
       "    }\n",
       "</style>\n",
       "<table border=\"1\" class=\"dataframe\">\n",
       "  <thead>\n",
       "    <tr style=\"text-align: right;\">\n",
       "      <th></th>\n",
       "      <th>UserId</th>\n",
       "      <th>ProductId</th>\n",
       "      <th>ProfileName</th>\n",
       "      <th>Time</th>\n",
       "      <th>Score</th>\n",
       "      <th>Text</th>\n",
       "      <th>COUNT(*)</th>\n",
       "    </tr>\n",
       "  </thead>\n",
       "  <tbody>\n",
       "    <tr>\n",
       "      <th>0</th>\n",
       "      <td>#oc-R115TNMSPFT9I7</td>\n",
       "      <td>B007Y59HVM</td>\n",
       "      <td>Breyton</td>\n",
       "      <td>1331510400</td>\n",
       "      <td>2</td>\n",
       "      <td>Overall its just OK when considering the price...</td>\n",
       "      <td>2</td>\n",
       "    </tr>\n",
       "    <tr>\n",
       "      <th>1</th>\n",
       "      <td>#oc-R11D9D7SHXIJB9</td>\n",
       "      <td>B005HG9ET0</td>\n",
       "      <td>Louis E. Emory \"hoppy\"</td>\n",
       "      <td>1342396800</td>\n",
       "      <td>5</td>\n",
       "      <td>My wife has recurring extreme muscle spasms, u...</td>\n",
       "      <td>3</td>\n",
       "    </tr>\n",
       "    <tr>\n",
       "      <th>2</th>\n",
       "      <td>#oc-R11DNU2NBKQ23Z</td>\n",
       "      <td>B007Y59HVM</td>\n",
       "      <td>Kim Cieszykowski</td>\n",
       "      <td>1348531200</td>\n",
       "      <td>1</td>\n",
       "      <td>This coffee is horrible and unfortunately not ...</td>\n",
       "      <td>2</td>\n",
       "    </tr>\n",
       "    <tr>\n",
       "      <th>3</th>\n",
       "      <td>#oc-R11O5J5ZVQE25C</td>\n",
       "      <td>B005HG9ET0</td>\n",
       "      <td>Penguin Chick</td>\n",
       "      <td>1346889600</td>\n",
       "      <td>5</td>\n",
       "      <td>This will be the bottle that you grab from the...</td>\n",
       "      <td>3</td>\n",
       "    </tr>\n",
       "    <tr>\n",
       "      <th>4</th>\n",
       "      <td>#oc-R12KPBODL2B5ZD</td>\n",
       "      <td>B007OSBE1U</td>\n",
       "      <td>Christopher P. Presta</td>\n",
       "      <td>1348617600</td>\n",
       "      <td>1</td>\n",
       "      <td>I didnt like this coffee. Instead of telling y...</td>\n",
       "      <td>2</td>\n",
       "    </tr>\n",
       "  </tbody>\n",
       "</table>\n",
       "</div>"
      ],
      "text/plain": [
       "               UserId   ProductId             ProfileName        Time  Score  \\\n",
       "0  #oc-R115TNMSPFT9I7  B007Y59HVM                 Breyton  1331510400      2   \n",
       "1  #oc-R11D9D7SHXIJB9  B005HG9ET0  Louis E. Emory \"hoppy\"  1342396800      5   \n",
       "2  #oc-R11DNU2NBKQ23Z  B007Y59HVM        Kim Cieszykowski  1348531200      1   \n",
       "3  #oc-R11O5J5ZVQE25C  B005HG9ET0           Penguin Chick  1346889600      5   \n",
       "4  #oc-R12KPBODL2B5ZD  B007OSBE1U   Christopher P. Presta  1348617600      1   \n",
       "\n",
       "                                                Text  COUNT(*)  \n",
       "0  Overall its just OK when considering the price...         2  \n",
       "1  My wife has recurring extreme muscle spasms, u...         3  \n",
       "2  This coffee is horrible and unfortunately not ...         2  \n",
       "3  This will be the bottle that you grab from the...         3  \n",
       "4  I didnt like this coffee. Instead of telling y...         2  "
      ]
     },
     "execution_count": 152,
     "metadata": {},
     "output_type": "execute_result"
    }
   ],
   "source": [
    "\n",
    "print(display.shape)\n",
    "display.head()"
   ]
  },
  {
   "cell_type": "code",
   "execution_count": 153,
   "metadata": {},
   "outputs": [
    {
     "data": {
      "text/plain": [
       "393063"
      ]
     },
     "execution_count": 153,
     "metadata": {},
     "output_type": "execute_result"
    }
   ],
   "source": [
    "display['COUNT(*)'].sum()"
   ]
  },
  {
   "cell_type": "markdown",
   "metadata": {},
   "source": [
    "#  [2] Exploratory Data Analysis"
   ]
  },
  {
   "cell_type": "markdown",
   "metadata": {},
   "source": [
    "## [2.1] Data Cleaning: Deduplication\n",
    "\n",
    "It is observed (as shown in the table below) that the reviews data had many duplicate entries. Hence it was necessary to remove duplicates in order to get unbiased results for the analysis of the data.  Following is an example:"
   ]
  },
  {
   "cell_type": "code",
   "execution_count": 154,
   "metadata": {
    "scrolled": false
   },
   "outputs": [
    {
     "data": {
      "text/html": [
       "<div>\n",
       "<style scoped>\n",
       "    .dataframe tbody tr th:only-of-type {\n",
       "        vertical-align: middle;\n",
       "    }\n",
       "\n",
       "    .dataframe tbody tr th {\n",
       "        vertical-align: top;\n",
       "    }\n",
       "\n",
       "    .dataframe thead th {\n",
       "        text-align: right;\n",
       "    }\n",
       "</style>\n",
       "<table border=\"1\" class=\"dataframe\">\n",
       "  <thead>\n",
       "    <tr style=\"text-align: right;\">\n",
       "      <th></th>\n",
       "      <th>Id</th>\n",
       "      <th>ProductId</th>\n",
       "      <th>UserId</th>\n",
       "      <th>ProfileName</th>\n",
       "      <th>HelpfulnessNumerator</th>\n",
       "      <th>HelpfulnessDenominator</th>\n",
       "      <th>Score</th>\n",
       "      <th>Time</th>\n",
       "      <th>Summary</th>\n",
       "      <th>Text</th>\n",
       "    </tr>\n",
       "  </thead>\n",
       "  <tbody>\n",
       "    <tr>\n",
       "      <th>0</th>\n",
       "      <td>78445</td>\n",
       "      <td>B000HDL1RQ</td>\n",
       "      <td>AR5J8UI46CURR</td>\n",
       "      <td>Geetha Krishnan</td>\n",
       "      <td>2</td>\n",
       "      <td>2</td>\n",
       "      <td>5</td>\n",
       "      <td>1199577600</td>\n",
       "      <td>LOACKER QUADRATINI VANILLA WAFERS</td>\n",
       "      <td>DELICIOUS WAFERS. I FIND THAT EUROPEAN WAFERS ...</td>\n",
       "    </tr>\n",
       "    <tr>\n",
       "      <th>1</th>\n",
       "      <td>138317</td>\n",
       "      <td>B000HDOPYC</td>\n",
       "      <td>AR5J8UI46CURR</td>\n",
       "      <td>Geetha Krishnan</td>\n",
       "      <td>2</td>\n",
       "      <td>2</td>\n",
       "      <td>5</td>\n",
       "      <td>1199577600</td>\n",
       "      <td>LOACKER QUADRATINI VANILLA WAFERS</td>\n",
       "      <td>DELICIOUS WAFERS. I FIND THAT EUROPEAN WAFERS ...</td>\n",
       "    </tr>\n",
       "    <tr>\n",
       "      <th>2</th>\n",
       "      <td>138277</td>\n",
       "      <td>B000HDOPYM</td>\n",
       "      <td>AR5J8UI46CURR</td>\n",
       "      <td>Geetha Krishnan</td>\n",
       "      <td>2</td>\n",
       "      <td>2</td>\n",
       "      <td>5</td>\n",
       "      <td>1199577600</td>\n",
       "      <td>LOACKER QUADRATINI VANILLA WAFERS</td>\n",
       "      <td>DELICIOUS WAFERS. I FIND THAT EUROPEAN WAFERS ...</td>\n",
       "    </tr>\n",
       "    <tr>\n",
       "      <th>3</th>\n",
       "      <td>73791</td>\n",
       "      <td>B000HDOPZG</td>\n",
       "      <td>AR5J8UI46CURR</td>\n",
       "      <td>Geetha Krishnan</td>\n",
       "      <td>2</td>\n",
       "      <td>2</td>\n",
       "      <td>5</td>\n",
       "      <td>1199577600</td>\n",
       "      <td>LOACKER QUADRATINI VANILLA WAFERS</td>\n",
       "      <td>DELICIOUS WAFERS. I FIND THAT EUROPEAN WAFERS ...</td>\n",
       "    </tr>\n",
       "    <tr>\n",
       "      <th>4</th>\n",
       "      <td>155049</td>\n",
       "      <td>B000PAQ75C</td>\n",
       "      <td>AR5J8UI46CURR</td>\n",
       "      <td>Geetha Krishnan</td>\n",
       "      <td>2</td>\n",
       "      <td>2</td>\n",
       "      <td>5</td>\n",
       "      <td>1199577600</td>\n",
       "      <td>LOACKER QUADRATINI VANILLA WAFERS</td>\n",
       "      <td>DELICIOUS WAFERS. I FIND THAT EUROPEAN WAFERS ...</td>\n",
       "    </tr>\n",
       "  </tbody>\n",
       "</table>\n",
       "</div>"
      ],
      "text/plain": [
       "       Id   ProductId         UserId      ProfileName  HelpfulnessNumerator  \\\n",
       "0   78445  B000HDL1RQ  AR5J8UI46CURR  Geetha Krishnan                     2   \n",
       "1  138317  B000HDOPYC  AR5J8UI46CURR  Geetha Krishnan                     2   \n",
       "2  138277  B000HDOPYM  AR5J8UI46CURR  Geetha Krishnan                     2   \n",
       "3   73791  B000HDOPZG  AR5J8UI46CURR  Geetha Krishnan                     2   \n",
       "4  155049  B000PAQ75C  AR5J8UI46CURR  Geetha Krishnan                     2   \n",
       "\n",
       "   HelpfulnessDenominator  Score        Time  \\\n",
       "0                       2      5  1199577600   \n",
       "1                       2      5  1199577600   \n",
       "2                       2      5  1199577600   \n",
       "3                       2      5  1199577600   \n",
       "4                       2      5  1199577600   \n",
       "\n",
       "                             Summary  \\\n",
       "0  LOACKER QUADRATINI VANILLA WAFERS   \n",
       "1  LOACKER QUADRATINI VANILLA WAFERS   \n",
       "2  LOACKER QUADRATINI VANILLA WAFERS   \n",
       "3  LOACKER QUADRATINI VANILLA WAFERS   \n",
       "4  LOACKER QUADRATINI VANILLA WAFERS   \n",
       "\n",
       "                                                Text  \n",
       "0  DELICIOUS WAFERS. I FIND THAT EUROPEAN WAFERS ...  \n",
       "1  DELICIOUS WAFERS. I FIND THAT EUROPEAN WAFERS ...  \n",
       "2  DELICIOUS WAFERS. I FIND THAT EUROPEAN WAFERS ...  \n",
       "3  DELICIOUS WAFERS. I FIND THAT EUROPEAN WAFERS ...  \n",
       "4  DELICIOUS WAFERS. I FIND THAT EUROPEAN WAFERS ...  "
      ]
     },
     "execution_count": 154,
     "metadata": {},
     "output_type": "execute_result"
    }
   ],
   "source": [
    "display= pd.read_sql_query(\"\"\"\n",
    "SELECT *\n",
    "FROM Reviews\n",
    "WHERE Score != 3 AND UserId=\"AR5J8UI46CURR\"\n",
    "ORDER BY ProductID\n",
    "\"\"\", con)\n",
    "display.head()"
   ]
  },
  {
   "cell_type": "markdown",
   "metadata": {},
   "source": [
    "As it can be seen above that same user has multiple reviews with same values for HelpfulnessNumerator, HelpfulnessDenominator, Score, Time, Summary and Text and on doing analysis it was found that <br>\n",
    "<br> \n",
    "ProductId=B000HDOPZG was Loacker Quadratini Vanilla Wafer Cookies, 8.82-Ounce Packages (Pack of 8)<br>\n",
    "<br> \n",
    "ProductId=B000HDL1RQ was Loacker Quadratini Lemon Wafer Cookies, 8.82-Ounce Packages (Pack of 8) and so on<br>\n",
    "\n",
    "It was inferred after analysis that reviews with same parameters other than ProductId belonged to the same product just having different flavour or quantity. Hence in order to reduce redundancy it was decided to eliminate the rows having same parameters.<br>\n",
    "\n",
    "The method used for the same was that we first sort the data according to ProductId and then just keep the first similar product review and delelte the others. for eg. in the above just the review for ProductId=B000HDL1RQ remains. This method ensures that there is only one representative for each product and deduplication without sorting would lead to possibility of different representatives still existing for the same product."
   ]
  },
  {
   "cell_type": "code",
   "execution_count": 155,
   "metadata": {},
   "outputs": [],
   "source": [
    "#Sorting data according to ProductId in ascending order\n",
    "sorted_data=filtered_data.sort_values('ProductId', axis=0, ascending=True, inplace=False, kind='quicksort', na_position='last')"
   ]
  },
  {
   "cell_type": "code",
   "execution_count": 156,
   "metadata": {},
   "outputs": [
    {
     "data": {
      "text/plain": [
       "(46072, 10)"
      ]
     },
     "execution_count": 156,
     "metadata": {},
     "output_type": "execute_result"
    }
   ],
   "source": [
    "#Deduplication of entries\n",
    "final=sorted_data.drop_duplicates(subset={\"UserId\",\"ProfileName\",\"Time\",\"Text\"}, keep='first', inplace=False)\n",
    "final.shape"
   ]
  },
  {
   "cell_type": "code",
   "execution_count": 157,
   "metadata": {},
   "outputs": [
    {
     "data": {
      "text/plain": [
       "92.144"
      ]
     },
     "execution_count": 157,
     "metadata": {},
     "output_type": "execute_result"
    }
   ],
   "source": [
    "#Checking to see how much % of data still remains\n",
    "(final['Id'].size*1.0)/(filtered_data['Id'].size*1.0)*100"
   ]
  },
  {
   "cell_type": "markdown",
   "metadata": {},
   "source": [
    "<b>Observation:-</b> It was also seen that in two rows given below the value of HelpfulnessNumerator is greater than HelpfulnessDenominator which is not practically possible hence these two rows too are removed from calcualtions"
   ]
  },
  {
   "cell_type": "code",
   "execution_count": 158,
   "metadata": {},
   "outputs": [
    {
     "data": {
      "text/html": [
       "<div>\n",
       "<style scoped>\n",
       "    .dataframe tbody tr th:only-of-type {\n",
       "        vertical-align: middle;\n",
       "    }\n",
       "\n",
       "    .dataframe tbody tr th {\n",
       "        vertical-align: top;\n",
       "    }\n",
       "\n",
       "    .dataframe thead th {\n",
       "        text-align: right;\n",
       "    }\n",
       "</style>\n",
       "<table border=\"1\" class=\"dataframe\">\n",
       "  <thead>\n",
       "    <tr style=\"text-align: right;\">\n",
       "      <th></th>\n",
       "      <th>Id</th>\n",
       "      <th>ProductId</th>\n",
       "      <th>UserId</th>\n",
       "      <th>ProfileName</th>\n",
       "      <th>HelpfulnessNumerator</th>\n",
       "      <th>HelpfulnessDenominator</th>\n",
       "      <th>Score</th>\n",
       "      <th>Time</th>\n",
       "      <th>Summary</th>\n",
       "      <th>Text</th>\n",
       "    </tr>\n",
       "  </thead>\n",
       "  <tbody>\n",
       "    <tr>\n",
       "      <th>0</th>\n",
       "      <td>64422</td>\n",
       "      <td>B000MIDROQ</td>\n",
       "      <td>A161DK06JJMCYF</td>\n",
       "      <td>J. E. Stephens \"Jeanne\"</td>\n",
       "      <td>3</td>\n",
       "      <td>1</td>\n",
       "      <td>5</td>\n",
       "      <td>1224892800</td>\n",
       "      <td>Bought This for My Son at College</td>\n",
       "      <td>My son loves spaghetti so I didn't hesitate or...</td>\n",
       "    </tr>\n",
       "    <tr>\n",
       "      <th>1</th>\n",
       "      <td>44737</td>\n",
       "      <td>B001EQ55RW</td>\n",
       "      <td>A2V0I904FH7ABY</td>\n",
       "      <td>Ram</td>\n",
       "      <td>3</td>\n",
       "      <td>2</td>\n",
       "      <td>4</td>\n",
       "      <td>1212883200</td>\n",
       "      <td>Pure cocoa taste with crunchy almonds inside</td>\n",
       "      <td>It was almost a 'love at first bite' - the per...</td>\n",
       "    </tr>\n",
       "  </tbody>\n",
       "</table>\n",
       "</div>"
      ],
      "text/plain": [
       "      Id   ProductId          UserId              ProfileName  \\\n",
       "0  64422  B000MIDROQ  A161DK06JJMCYF  J. E. Stephens \"Jeanne\"   \n",
       "1  44737  B001EQ55RW  A2V0I904FH7ABY                      Ram   \n",
       "\n",
       "   HelpfulnessNumerator  HelpfulnessDenominator  Score        Time  \\\n",
       "0                     3                       1      5  1224892800   \n",
       "1                     3                       2      4  1212883200   \n",
       "\n",
       "                                        Summary  \\\n",
       "0             Bought This for My Son at College   \n",
       "1  Pure cocoa taste with crunchy almonds inside   \n",
       "\n",
       "                                                Text  \n",
       "0  My son loves spaghetti so I didn't hesitate or...  \n",
       "1  It was almost a 'love at first bite' - the per...  "
      ]
     },
     "execution_count": 158,
     "metadata": {},
     "output_type": "execute_result"
    }
   ],
   "source": [
    "display= pd.read_sql_query(\"\"\"\n",
    "SELECT *\n",
    "FROM Reviews\n",
    "WHERE Score != 3 AND Id=44737 OR Id=64422\n",
    "ORDER BY ProductID\n",
    "\"\"\", con)\n",
    "\n",
    "display.head()"
   ]
  },
  {
   "cell_type": "code",
   "execution_count": 159,
   "metadata": {},
   "outputs": [],
   "source": [
    "final=final[final.HelpfulnessNumerator<=final.HelpfulnessDenominator]"
   ]
  },
  {
   "cell_type": "code",
   "execution_count": 160,
   "metadata": {},
   "outputs": [
    {
     "name": "stdout",
     "output_type": "stream",
     "text": [
      "(46071, 10)\n"
     ]
    },
    {
     "data": {
      "text/plain": [
       "1    38479\n",
       "0     7592\n",
       "Name: Score, dtype: int64"
      ]
     },
     "execution_count": 160,
     "metadata": {},
     "output_type": "execute_result"
    }
   ],
   "source": [
    "#Before starting the next phase of preprocessing lets see the number of entries left\n",
    "print(final.shape)\n",
    "\n",
    "#How many positive and negative reviews are present in our dataset?\n",
    "final['Score'].value_counts()"
   ]
  },
  {
   "cell_type": "markdown",
   "metadata": {},
   "source": [
    "#  [3] Preprocessing"
   ]
  },
  {
   "cell_type": "markdown",
   "metadata": {},
   "source": [
    "## [3.1].  Preprocessing Review Text\n",
    "\n",
    "Now that we have finished deduplication our data requires some preprocessing before we go on further with analysis and making the prediction model.\n",
    "\n",
    "Hence in the Preprocessing phase we do the following in the order below:-\n",
    "\n",
    "1. Begin by removing the html tags\n",
    "2. Remove any punctuations or limited set of special characters like , or . or # etc.\n",
    "3. Check if the word is made up of english letters and is not alpha-numeric\n",
    "4. Check to see if the length of the word is greater than 2 (as it was researched that there is no adjective in 2-letters)\n",
    "5. Convert the word to lowercase\n",
    "6. Remove Stopwords\n",
    "7. Finally Snowball Stemming the word (it was obsereved to be better than Porter Stemming)<br>\n",
    "\n",
    "After which we collect the words used to describe positive and negative reviews"
   ]
  },
  {
   "cell_type": "code",
   "execution_count": 161,
   "metadata": {},
   "outputs": [
    {
     "name": "stdout",
     "output_type": "stream",
     "text": [
      "My dogs loves this chicken but its a product from China, so we wont be buying it anymore.  Its very hard to find any chicken products made in the USA but they are out there, but this one isnt.  Its too bad too because its a good product but I wont take any chances till they know what is going on with the china imports.\n",
      "==================================================\n",
      "My dogs loves this chicken but its a product from China, so we wont be buying it anymore.  Its very hard to find any chicken products made in the USA but they are out there, but this one isnt.  Its too bad too because its a good product but I wont take any chances till they know what is going on with the china imports.\n",
      "==================================================\n",
      "Our dogs just love them.  I saw them in a pet store and a tag was attached regarding them being made in China and it satisfied me that they were safe.\n",
      "==================================================\n",
      "I just received my shipment and could hardly wait to try this product. We love &quot;slickers&quot; which is what we call them, instead of stickers because they can be removed so easily. My daughter designed signs to be  printed in reverse to use on her car windows. They printed beautifully (we  have 'The Print Shop' program). I am going to have a lot of fun with this  product because there are windows everywhere and other surfaces like tv  screens and computer monitors.\n",
      "==================================================\n"
     ]
    }
   ],
   "source": [
    "# printing some random reviews\n",
    "sent_0 = final['Text'].values[0]\n",
    "print(sent_0)\n",
    "print(\"=\"*50)\n",
    "\n",
    "sent_1000 = final['Text'].values[0]\n",
    "print(sent_1000)\n",
    "print(\"=\"*50)\n",
    "\n",
    "sent_1500 = final['Text'].values[1]\n",
    "print(sent_1500)\n",
    "print(\"=\"*50)\n",
    "\n",
    "sent_4900 = final['Text'].values[4]\n",
    "print(sent_4900)\n",
    "print(\"=\"*50)"
   ]
  },
  {
   "cell_type": "code",
   "execution_count": 162,
   "metadata": {},
   "outputs": [
    {
     "name": "stdout",
     "output_type": "stream",
     "text": [
      "My dogs loves this chicken but its a product from China, so we wont be buying it anymore.  Its very hard to find any chicken products made in the USA but they are out there, but this one isnt.  Its too bad too because its a good product but I wont take any chances till they know what is going on with the china imports.\n"
     ]
    }
   ],
   "source": [
    "# remove urls from text python: https://stackoverflow.com/a/40823105/4084039\n",
    "sent_0 = re.sub(r\"http\\S+\", \"\", sent_0)\n",
    "sent_1000 = re.sub(r\"http\\S+\", \"\", sent_1000)\n",
    "sent_1500 = re.sub(r\"http\\S+\", \"\", sent_1500)\n",
    "sent_4900 = re.sub(r\"http\\S+\", \"\", sent_4900)\n",
    "\n",
    "print(sent_0)"
   ]
  },
  {
   "cell_type": "code",
   "execution_count": 163,
   "metadata": {},
   "outputs": [
    {
     "name": "stdout",
     "output_type": "stream",
     "text": [
      "My dogs loves this chicken but its a product from China, so we wont be buying it anymore.  Its very hard to find any chicken products made in the USA but they are out there, but this one isnt.  Its too bad too because its a good product but I wont take any chances till they know what is going on with the china imports.\n",
      "==================================================\n",
      "My dogs loves this chicken but its a product from China, so we wont be buying it anymore.  Its very hard to find any chicken products made in the USA but they are out there, but this one isnt.  Its too bad too because its a good product but I wont take any chances till they know what is going on with the china imports.\n",
      "==================================================\n",
      "Our dogs just love them.  I saw them in a pet store and a tag was attached regarding them being made in China and it satisfied me that they were safe.\n",
      "==================================================\n",
      "I just received my shipment and could hardly wait to try this product. We love \"slickers\" which is what we call them, instead of stickers because they can be removed so easily. My daughter designed signs to be  printed in reverse to use on her car windows. They printed beautifully (we  have 'The Print Shop' program). I am going to have a lot of fun with this  product because there are windows everywhere and other surfaces like tv  screens and computer monitors.\n"
     ]
    }
   ],
   "source": [
    "# https://stackoverflow.com/questions/16206380/python-beautifulsoup-how-to-remove-all-tags-from-an-element\n",
    "from bs4 import BeautifulSoup\n",
    "\n",
    "soup = BeautifulSoup(sent_0, 'lxml')\n",
    "text = soup.get_text()\n",
    "print(text)\n",
    "print(\"=\"*50)\n",
    "\n",
    "soup = BeautifulSoup(sent_1000, 'lxml')\n",
    "text = soup.get_text()\n",
    "print(text)\n",
    "print(\"=\"*50)\n",
    "\n",
    "soup = BeautifulSoup(sent_1500, 'lxml')\n",
    "text = soup.get_text()\n",
    "print(text)\n",
    "print(\"=\"*50)\n",
    "\n",
    "soup = BeautifulSoup(sent_4900, 'lxml')\n",
    "text = soup.get_text()\n",
    "print(text)"
   ]
  },
  {
   "cell_type": "code",
   "execution_count": 164,
   "metadata": {},
   "outputs": [],
   "source": [
    "# https://stackoverflow.com/a/47091490/4084039\n",
    "import re\n",
    "\n",
    "def decontracted(phrase):\n",
    "    # specific\n",
    "    phrase = re.sub(r\"won't\", \"will not\", phrase)\n",
    "    phrase = re.sub(r\"can\\'t\", \"can not\", phrase)\n",
    "\n",
    "    # general\n",
    "    phrase = re.sub(r\"n\\'t\", \" not\", phrase)\n",
    "    phrase = re.sub(r\"\\'re\", \" are\", phrase)\n",
    "    phrase = re.sub(r\"\\'s\", \" is\", phrase)\n",
    "    phrase = re.sub(r\"\\'d\", \" would\", phrase)\n",
    "    phrase = re.sub(r\"\\'ll\", \" will\", phrase)\n",
    "    phrase = re.sub(r\"\\'t\", \" not\", phrase)\n",
    "    phrase = re.sub(r\"\\'ve\", \" have\", phrase)\n",
    "    phrase = re.sub(r\"\\'m\", \" am\", phrase)\n",
    "    return phrase"
   ]
  },
  {
   "cell_type": "code",
   "execution_count": 165,
   "metadata": {},
   "outputs": [
    {
     "name": "stdout",
     "output_type": "stream",
     "text": [
      "Our dogs just love them.  I saw them in a pet store and a tag was attached regarding them being made in China and it satisfied me that they were safe.\n",
      "==================================================\n"
     ]
    }
   ],
   "source": [
    "sent_1500 = decontracted(sent_1500)\n",
    "print(sent_1500)\n",
    "print(\"=\"*50)"
   ]
  },
  {
   "cell_type": "code",
   "execution_count": 166,
   "metadata": {},
   "outputs": [
    {
     "name": "stdout",
     "output_type": "stream",
     "text": [
      "My dogs loves this chicken but its a product from China, so we wont be buying it anymore.  Its very hard to find any chicken products made in the USA but they are out there, but this one isnt.  Its too bad too because its a good product but I wont take any chances till they know what is going on with the china imports.\n"
     ]
    }
   ],
   "source": [
    "#remove words with numbers python: https://stackoverflow.com/a/18082370/4084039\n",
    "sent_0 = re.sub(\"\\S*\\d\\S*\", \"\", sent_0).strip()\n",
    "print(sent_0)"
   ]
  },
  {
   "cell_type": "code",
   "execution_count": 167,
   "metadata": {},
   "outputs": [
    {
     "name": "stdout",
     "output_type": "stream",
     "text": [
      "Our dogs just love them I saw them in a pet store and a tag was attached regarding them being made in China and it satisfied me that they were safe \n"
     ]
    }
   ],
   "source": [
    "#remove spacial character: https://stackoverflow.com/a/5843547/4084039\n",
    "sent_1500 = re.sub('[^A-Za-z0-9]+', ' ', sent_1500)\n",
    "print(sent_1500)"
   ]
  },
  {
   "cell_type": "code",
   "execution_count": 168,
   "metadata": {},
   "outputs": [],
   "source": [
    "# https://gist.github.com/sebleier/554280\n",
    "# we are removing the words from the stop words list: 'no', 'nor', 'not'\n",
    "# <br /><br /> ==> after the above steps, we are getting \"br br\"\n",
    "# we are including them into stop words list\n",
    "# instead of <br /> if we have <br/> these tags would have revmoved in the 1st step\n",
    "\n",
    "stopwords= set(['br', 'the', 'i', 'me', 'my', 'myself', 'we', 'our', 'ours', 'ourselves', 'you', \"you're\", \"you've\",\\\n",
    "            \"you'll\", \"you'd\", 'your', 'yours', 'yourself', 'yourselves', 'he', 'him', 'his', 'himself', \\\n",
    "            'she', \"she's\", 'her', 'hers', 'herself', 'it', \"it's\", 'its', 'itself', 'they', 'them', 'their',\\\n",
    "            'theirs', 'themselves', 'what', 'which', 'who', 'whom', 'this', 'that', \"that'll\", 'these', 'those', \\\n",
    "            'am', 'is', 'are', 'was', 'were', 'be', 'been', 'being', 'have', 'has', 'had', 'having', 'do', 'does', \\\n",
    "            'did', 'doing', 'a', 'an', 'the', 'and', 'but', 'if', 'or', 'because', 'as', 'until', 'while', 'of', \\\n",
    "            'at', 'by', 'for', 'with', 'about', 'against', 'between', 'into', 'through', 'during', 'before', 'after',\\\n",
    "            'above', 'below', 'to', 'from', 'up', 'down', 'in', 'out', 'on', 'off', 'over', 'under', 'again', 'further',\\\n",
    "            'then', 'once', 'here', 'there', 'when', 'where', 'why', 'how', 'all', 'any', 'both', 'each', 'few', 'more',\\\n",
    "            'most', 'other', 'some', 'such', 'only', 'own', 'same', 'so', 'than', 'too', 'very', \\\n",
    "            's', 't', 'can', 'will', 'just', 'don', \"don't\", 'should', \"should've\", 'now', 'd', 'll', 'm', 'o', 're', \\\n",
    "            've', 'y', 'ain', 'aren', \"aren't\", 'couldn', \"couldn't\", 'didn', \"didn't\", 'doesn', \"doesn't\", 'hadn',\\\n",
    "            \"hadn't\", 'hasn', \"hasn't\", 'haven', \"haven't\", 'isn', \"isn't\", 'ma', 'mightn', \"mightn't\", 'mustn',\\\n",
    "            \"mustn't\", 'needn', \"needn't\", 'shan', \"shan't\", 'shouldn', \"shouldn't\", 'wasn', \"wasn't\", 'weren', \"weren't\", \\\n",
    "            'won', \"won't\", 'wouldn', \"wouldn't\"])"
   ]
  },
  {
   "cell_type": "code",
   "execution_count": 169,
   "metadata": {},
   "outputs": [
    {
     "name": "stderr",
     "output_type": "stream",
     "text": [
      "100%|██████████████████████████████████████████████████████████████████████████| 46071/46071 [00:22<00:00, 2078.72it/s]\n"
     ]
    }
   ],
   "source": [
    "# Combining all the above stundents \n",
    "\n",
    "preprocessed_reviews = []\n",
    "# tqdm is for printing the status bar\n",
    "for sentance in tqdm(final['Text'].values):\n",
    "    sentance = re.sub(r\"http\\S+\", \"\", sentance)\n",
    "    sentance = BeautifulSoup(sentance, 'lxml').get_text()\n",
    "    sentance = decontracted(sentance)\n",
    "    sentance = re.sub(\"\\S*\\d\\S*\", \"\", sentance).strip()\n",
    "    sentance = re.sub('[^A-Za-z]+', ' ', sentance)\n",
    "    # https://gist.github.com/sebleier/554280\n",
    "    sentance = ' '.join(e.lower() for e in sentance.split() if e.lower() not in stopwords)\n",
    "    preprocessed_reviews.append(sentance.strip())"
   ]
  },
  {
   "cell_type": "code",
   "execution_count": 170,
   "metadata": {},
   "outputs": [
    {
     "name": "stdout",
     "output_type": "stream",
     "text": [
      " size of a Data set 46071 , length of reviews :  46071   46071\n"
     ]
    }
   ],
   "source": [
    "print(\" size of a Data set\" , final['Text'].size , \", length of reviews : \",len(preprocessed_reviews) , \" \", final['Text'].size)\n"
   ]
  },
  {
   "cell_type": "code",
   "execution_count": 171,
   "metadata": {},
   "outputs": [],
   "source": [
    "#final['Score'][final['Score']==1] = \"Positive\"\n",
    "#final['Score'][final['Score']==0] = \"Negative\""
   ]
  },
  {
   "cell_type": "code",
   "execution_count": 172,
   "metadata": {},
   "outputs": [],
   "source": [
    "#final['Score'][final['Score']==1] = \"Positive\"\n",
    "#final['Score'][final['Score']==0] = \"Negative\"\n",
    "\n",
    "#final['Score'][final['Score']==1] = \"Positive\"\n",
    "#final['Score'][final['Score']==0] = \"Negative\""
   ]
  },
  {
   "cell_type": "markdown",
   "metadata": {},
   "source": [
    "<h2><font color='red'>[3.2] Preprocessing Review Summary</font></h2>"
   ]
  },
  {
   "cell_type": "code",
   "execution_count": 173,
   "metadata": {},
   "outputs": [],
   "source": [
    "## Similartly you can do preprocessing for review summary also."
   ]
  },
  {
   "cell_type": "markdown",
   "metadata": {},
   "source": [
    "### Split the Data "
   ]
  },
  {
   "cell_type": "code",
   "execution_count": 174,
   "metadata": {},
   "outputs": [],
   "source": [
    "X = preprocessed_reviews\n",
    "Y = final['Score']"
   ]
  },
  {
   "cell_type": "code",
   "execution_count": 175,
   "metadata": {},
   "outputs": [],
   "source": [
    "from sklearn.cross_validation import train_test_split\n",
    "X_1 , X_test , Y_1 , Y_test  = train_test_split(X,Y,test_size=0.3,random_state=0)\n",
    "X_tr , X_cv , Y_tr , Y_cv  = train_test_split(X_1,Y_1,test_size=0.3,random_state=0)"
   ]
  },
  {
   "cell_type": "markdown",
   "metadata": {},
   "source": [
    "We Split the Data for Train, Test and CrossValidation.\n",
    "\n",
    "Train Data is to Train the Model. Where as Cross validation is to understand the Over/Under fit of a model.\n",
    "\n",
    "Majorly The Cross Validation will be usefull to figureout the best no of nearest neibhours, It helps the model to Test With.\n",
    "\n",
    "Test Data is exclusively for testing the trained Model. where we prediect the Outcomes."
   ]
  },
  {
   "cell_type": "markdown",
   "metadata": {},
   "source": [
    "# [4] Featurization"
   ]
  },
  {
   "cell_type": "markdown",
   "metadata": {},
   "source": [
    "## [4.1] BAG OF WORDS"
   ]
  },
  {
   "cell_type": "code",
   "execution_count": 176,
   "metadata": {
    "scrolled": true
   },
   "outputs": [
    {
     "name": "stdout",
     "output_type": "stream",
     "text": [
      "some feature names  ['also', 'amazon', 'bag', 'best', 'better', 'bit', 'bought', 'box', 'buy', 'chocolate']\n",
      "==================================================\n",
      "the type of count vectorizer  <class 'scipy.sparse.csr.csr_matrix'>\n",
      "the shape of out text BOW vectorizer  (22574, 70)\n",
      "the number of unique words  70\n"
     ]
    }
   ],
   "source": [
    "#BoW\n",
    "count_vect = CountVectorizer(min_df=30, max_features=70) #in scikit-learn  max no of feature in a vector is 300\n",
    "count_vect.fit(X_tr)\n",
    "print(\"some feature names \", count_vect.get_feature_names()[:10])\n",
    "print('='*50)\n",
    "\n",
    "X_Bow_Tr = count_vect.transform(X_tr)\n",
    "X_Bow_Cv = count_vect.transform(X_cv)\n",
    "X_Bow_Test = count_vect.transform(X_test)\n",
    "\n",
    "print(\"the type of count vectorizer \",type(X_Bow_Tr))\n",
    "print(\"the shape of out text BOW vectorizer \",X_Bow_Tr.get_shape())\n",
    "print(\"the number of unique words \", X_Bow_Tr.get_shape()[1])"
   ]
  },
  {
   "cell_type": "code",
   "execution_count": 177,
   "metadata": {},
   "outputs": [],
   "source": [
    "X_Bow_Tr = X_Bow_Tr.toarray()\n",
    "X_Bow_Cv = X_Bow_Cv.toarray()\n",
    "X_Bow_Test = X_Bow_Test.toarray()"
   ]
  },
  {
   "cell_type": "markdown",
   "metadata": {},
   "source": [
    "We got the Bag of words vector for each review\n",
    "\n",
    "Each vectore is of 100 Dimensions.\n",
    "\n",
    "We have Converted the Train data, Cross Validation Data and the Test to an Identical form, that is Bag Of Words\n",
    "\n",
    "Also converted the sparse matrixes to dense matrixes"
   ]
  },
  {
   "cell_type": "markdown",
   "metadata": {},
   "source": [
    "## [4.2] Bi-Grams and n-Grams."
   ]
  },
  {
   "cell_type": "markdown",
   "metadata": {},
   "source": [
    "Reduced max_features size,due to computationl issues"
   ]
  },
  {
   "cell_type": "markdown",
   "metadata": {},
   "source": [
    "## [4.3] TF-IDF"
   ]
  },
  {
   "cell_type": "code",
   "execution_count": 178,
   "metadata": {},
   "outputs": [
    {
     "name": "stdout",
     "output_type": "stream",
     "text": [
      "some sample features(unique words in the corpus) ['also', 'amazon', 'bag', 'best', 'better', 'bit', 'bought', 'box', 'buy', 'chocolate']\n",
      "==================================================\n",
      "the type of count vectorizer  <class 'scipy.sparse.csr.csr_matrix'>\n",
      "the shape of out text TFIDF vectorizer  (22574, 70)\n",
      "the number of unique words including both unigrams and bigrams  70\n"
     ]
    }
   ],
   "source": [
    "tf_idf_vect = TfidfVectorizer(ngram_range=(1,2), min_df=30, max_features=70)\n",
    "tf_idf_vect.fit(preprocessed_reviews)\n",
    "print(\"some sample features(unique words in the corpus)\",tf_idf_vect.get_feature_names()[0:10])\n",
    "print('='*50)\n",
    "\n",
    "X_Tfidf_Tr = tf_idf_vect.transform(X_tr)\n",
    "X_Tfidf_Cv = tf_idf_vect.transform(X_cv)\n",
    "X_Tfidf_Test = tf_idf_vect.transform(X_test)\n",
    "\n",
    "print(\"the type of count vectorizer \",type(X_Tfidf_Tr))\n",
    "print(\"the shape of out text TFIDF vectorizer \",X_Tfidf_Tr.get_shape())\n",
    "print(\"the number of unique words including both unigrams and bigrams \", X_Tfidf_Tr.get_shape()[1])"
   ]
  },
  {
   "cell_type": "code",
   "execution_count": 179,
   "metadata": {},
   "outputs": [],
   "source": [
    "X_Tfidf_Tr = X_Tfidf_Tr.toarray()\n",
    "X_Tfidf_Cv = X_Tfidf_Cv.toarray()\n",
    "X_Tfidf_Test = X_Tfidf_Test.toarray()"
   ]
  },
  {
   "cell_type": "markdown",
   "metadata": {},
   "source": [
    "We got the TfIdf s vector for each review\n",
    "\n",
    "Each vectore is of 100 Dimensions.\n",
    "\n",
    "We have Converted the Train data, Cross Validation Data and the Test to an Identical form, that is TfIdf-vector\n",
    "\n",
    "Also converted the sparse matrixes to dense matrixes"
   ]
  },
  {
   "cell_type": "markdown",
   "metadata": {},
   "source": [
    "## [4.4] Word2Vec"
   ]
  },
  {
   "cell_type": "code",
   "execution_count": 180,
   "metadata": {},
   "outputs": [],
   "source": [
    "# Train your own Word2Vec model using your own text corpus\n",
    "i=0\n",
    "list_of_sentance=[]\n",
    "for sentance in X_tr :\n",
    "    list_of_sentance.append(sentance.split())"
   ]
  },
  {
   "cell_type": "code",
   "execution_count": 181,
   "metadata": {
    "scrolled": true
   },
   "outputs": [
    {
     "name": "stdout",
     "output_type": "stream",
     "text": [
      "==================================================\n"
     ]
    }
   ],
   "source": [
    "# Using Google News Word2Vectors\n",
    "\n",
    "# in this project we are using a pretrained model by google\n",
    "# its 3.3G file, once you load this into your memory \n",
    "# it occupies ~9Gb, so please do this step only if you have >12G of ram\n",
    "# we will provide a pickle file wich contains a dict , \n",
    "# and it contains all our courpus words as keys and  model[word] as values\n",
    "# To use this code-snippet, download \"GoogleNews-vectors-negative300.bin\" \n",
    "# from https://drive.google.com/file/d/0B7XkCwpI5KDYNlNUTTlSS21pQmM/edit\n",
    "# it's 1.9GB in size.\n",
    "\n",
    "\n",
    "# http://kavita-ganesan.com/gensim-word2vec-tutorial-starter-code/#.W17SRFAzZPY\n",
    "# you can comment this whole cell\n",
    "# or change these varible according to your need\n",
    "\n",
    "is_your_ram_gt_16g=False\n",
    "want_to_use_google_w2v = False\n",
    "want_to_train_w2v = True\n",
    "\n",
    "if want_to_train_w2v:\n",
    "    # min_count = 5 considers only words that occured atleast 5 times\n",
    "    w2v_model=Word2Vec(list_of_sentance,min_count=30,size=70, workers=4)\n",
    "    #print(w2v_model.wv.most_similar('great'))\n",
    "    print('='*50)\n",
    "    #print(w2v_model.wv.most_similar('worst'))\n",
    "    \n",
    "elif want_to_use_google_w2v and is_your_ram_gt_16g:\n",
    "    if os.path.isfile('GoogleNews-vectors-negative300.bin'):\n",
    "        w2v_model=KeyedVectors.load_word2vec_format('GoogleNews-vectors-negative300.bin', binary=True)\n",
    "        #print(w2v_model.wv.most_similar('great'))\n",
    "        #print(w2v_model.wv.most_similar('worst'))\n",
    "    else:\n",
    "        print(\"you don't have gogole's word2vec file, keep want_to_train_w2v = True, to train your own w2v \")"
   ]
  },
  {
   "cell_type": "markdown",
   "metadata": {},
   "source": [
    "We have created the Word2Vec Model with the Training Data Corpus. "
   ]
  },
  {
   "cell_type": "code",
   "execution_count": 182,
   "metadata": {},
   "outputs": [
    {
     "name": "stdout",
     "output_type": "stream",
     "text": [
      "number of words that occured minimum 1 times  3166\n",
      "sample words  ['favorite', 'nut', 'snacks', 'sunflower', 'absolute', 'almond', 'buttery', 'rich', 'really', 'great', 'given', 'gifts', 'everyone', 'ask', 'buy', 'stay', 'long', 'hours', 'school', 'looking', 'bring', 'not', 'unhealthy', 'found', 'pretty', 'excited', 'since', 'absolutely', 'love', 'full', 'size', 'smaller', 'course', 'much', 'less', 'fruit', 'filling', 'still', 'delicious', 'snack', 'individual', 'bag', 'quite', 'small', 'little', 'hunger', 'helps', 'repeat', 'purchase', 'used']\n"
     ]
    }
   ],
   "source": [
    "w2v_words = list(w2v_model.wv.vocab)\n",
    "print(\"number of words that occured minimum 1 times \",len(w2v_words))\n",
    "print(\"sample words \", w2v_words[0:50])"
   ]
  },
  {
   "cell_type": "markdown",
   "metadata": {},
   "source": [
    "## [4.4.1] Converting text into vectors using Avg W2V, TFIDF-W2V"
   ]
  },
  {
   "cell_type": "markdown",
   "metadata": {},
   "source": [
    "#### [4.4.1.1] Avg W2v"
   ]
  },
  {
   "cell_type": "markdown",
   "metadata": {},
   "source": [
    "# average Word2Vec\n",
    "# compute average word2vec for each review."
   ]
  },
  {
   "cell_type": "code",
   "execution_count": 183,
   "metadata": {},
   "outputs": [],
   "source": [
    "# average Word2Vec\n",
    "# compute average word2vec for each review.\n",
    "\n",
    "#def getAvgWordToVector(x):\n",
    "#    if x < 3:\n",
    "#        return 0\n",
    "#    return 1\n",
    "\n",
    "def getAvgWordToVector(list_of_sentance):\n",
    "    sent_vectors = []; # the avg-w2v for each sentence/review is stored in this list    \n",
    "    for sentence in list_of_sentance: # for each review/sentence\n",
    "        sent = sentence.split()\n",
    "        sent_vec = np.zeros(70) # as word vectors are of zero length 50, you might need to change this to 300 if you use google's w2v\n",
    "        cnt_words =0; # num of words with a valid vector in the sentence/review\n",
    "        for word in sent: # for each word in a review/sentence\n",
    "            if word in w2v_words:\n",
    "                vec = w2v_model.wv[word]\n",
    "                sent_vec += vec\n",
    "                cnt_words += 1\n",
    "        if cnt_words != 0:\n",
    "            sent_vec /= cnt_words\n",
    "        sent_vectors.append(sent_vec)\n",
    "    print(len(sent_vectors))\n",
    "    print(len(sent_vectors[0]))\n",
    "    return sent_vectors"
   ]
  },
  {
   "cell_type": "code",
   "execution_count": 184,
   "metadata": {},
   "outputs": [
    {
     "name": "stdout",
     "output_type": "stream",
     "text": [
      "22574\n",
      "70\n",
      "9675\n",
      "70\n",
      "13822\n",
      "70\n"
     ]
    }
   ],
   "source": [
    "X_AvgW2V_Tr     = getAvgWordToVector(X_tr)\n",
    "X_AvgW2V_Cv     = getAvgWordToVector(X_cv)\n",
    "X_AvgW2V_Test   = getAvgWordToVector(X_test)"
   ]
  },
  {
   "cell_type": "markdown",
   "metadata": {},
   "source": [
    "We have created the Average WordtoVec Vectors for each review in the Train Data"
   ]
  },
  {
   "cell_type": "markdown",
   "metadata": {},
   "source": [
    "#### [4.4.1.2] TFIDF weighted W2v"
   ]
  },
  {
   "cell_type": "code",
   "execution_count": 185,
   "metadata": {},
   "outputs": [],
   "source": [
    "# S = [\"abc def pqr\", \"def def def abc\", \"pqr pqr def\"]\n",
    "model = TfidfVectorizer(min_df=1, max_features=70) \n",
    "tf_idf_matrix = model.fit(X_tr)\n",
    "# we are converting a dictionary with word as a key, and the idf as a value\n",
    "dictionary = dict(zip(model.get_feature_names(), list(model.idf_)))"
   ]
  },
  {
   "cell_type": "code",
   "execution_count": 186,
   "metadata": {},
   "outputs": [],
   "source": [
    "# TF-IDF weighted Word2Vec\n",
    "tfidf_feat = model.get_feature_names() # tfidf words/col-names\n",
    "# final_tf_idf is the sparse matrix with row= sentence, col=word and cell_val = tfidf\n",
    "\n",
    "def getAvgW2VtfIdfToVector(list_of_sentance):\n",
    "    tfidf_sent_vectors = []; # the tfidf-w2v for each sentence/review is stored in this list\n",
    "    row=0;\n",
    "    for sentence in list_of_sentance: # for each review/sentence \n",
    "        sent = []\n",
    "        sent_vec = np.zeros(70) # as word vectors are of zero length\n",
    "        weight_sum =0; # num of words with a valid vector in the sentence/review\n",
    "        sent = sentence.split()\n",
    "        for word in sent: # for each word in a review/sentence3        \n",
    "            if word in w2v_words and word in tfidf_feat:\n",
    "                vec = w2v_model.wv[word]\n",
    "                #tf_idf = tf_idf_matrix[row, tfidf_feat.index(word)]\n",
    "                # to reduce the computation we are \n",
    "                # dictionary[word] = idf value of word in whole courpus\n",
    "                # sent.count(word) = tf valeus of word in this review\n",
    "                tf_idf = dictionary[word]*(sent.count(word)/len(sent))\n",
    "                sent_vec += (vec * tf_idf)\n",
    "                weight_sum += tf_idf\n",
    "        if weight_sum != 0:\n",
    "            sent_vec /= weight_sum\n",
    "        tfidf_sent_vectors.append(sent_vec)\n",
    "        row += 1\n",
    "    return tfidf_sent_vectors"
   ]
  },
  {
   "cell_type": "code",
   "execution_count": 187,
   "metadata": {},
   "outputs": [],
   "source": [
    "X_AvgW2VtfIdf_Tr     = getAvgW2VtfIdfToVector(X_tr)\n",
    "X_AvgW2VtfIdf_Cv     = getAvgW2VtfIdfToVector(X_cv)\n",
    "X_AvgW2VtfIdf_Test   = getAvgW2VtfIdfToVector(X_test)"
   ]
  },
  {
   "cell_type": "code",
   "execution_count": 188,
   "metadata": {},
   "outputs": [
    {
     "data": {
      "text/plain": [
       "array([ 0.12421825, -0.96347333,  1.27903725,  1.02377459, -0.07715738,\n",
       "        0.45785842,  0.00763287, -0.39731525, -1.03407082, -0.23909475,\n",
       "        0.5594552 , -0.79354915,  0.26635891,  0.58160582,  0.03707935,\n",
       "       -0.24100805, -0.55271607, -0.04885027,  0.12132413, -0.57295137,\n",
       "       -0.17638869,  0.25682716,  0.13558562, -0.31369082, -0.36007373,\n",
       "       -0.45052612,  1.02519157, -0.37695714, -0.6061574 ,  0.22376945,\n",
       "       -0.81491955, -0.48295462,  0.43720743, -0.70331514, -0.57756556,\n",
       "       -0.16003028,  0.51863033, -0.9103166 , -0.94457474,  0.05190576,\n",
       "       -0.01670023,  0.06648053, -0.13083925, -0.82293201,  0.82290824,\n",
       "        0.5256388 , -0.53291657, -0.39139237, -0.34614278,  0.51781061,\n",
       "       -0.15311419,  0.06597874,  0.68958409, -0.06948233, -0.15222518,\n",
       "       -0.77651263, -0.29069334,  1.16683331, -0.54262205, -0.48582012,\n",
       "       -0.55259421, -0.74967218,  0.07608354, -0.43342726, -0.273494  ,\n",
       "        0.88578205,  0.6737901 ,  1.56796923, -0.48675159,  0.67705026])"
      ]
     },
     "execution_count": 188,
     "metadata": {},
     "output_type": "execute_result"
    }
   ],
   "source": [
    "X_AvgW2VtfIdf_Tr[0]"
   ]
  },
  {
   "cell_type": "markdown",
   "metadata": {},
   "source": [
    "# [5] Assignment 3: KNN"
   ]
  },
  {
   "cell_type": "markdown",
   "metadata": {},
   "source": [
    "<ol>\n",
    "    <li><strong>Apply Knn(brute force version) on these feature sets</strong>\n",
    "        <ul>\n",
    "            <li><font color='red'>SET 1:</font>Review text, preprocessed one converted into vectors using (BOW)</li>\n",
    "            <li><font color='red'>SET 2:</font>Review text, preprocessed one converted into vectors using (TFIDF)</li>\n",
    "            <li><font color='red'>SET 3:</font>Review text, preprocessed one converted into vectors using (AVG W2v)</li>\n",
    "            <li><font color='red'>SET 4:</font>Review text, preprocessed one converted into vectors using (TFIDF W2v)</li>\n",
    "        </ul>\n",
    "    </li>\n",
    "    <br>\n",
    "    <li><strong>Apply Knn(kd tree version) on these feature sets</strong>\n",
    "        <br><font color='red'>NOTE: </font>sklearn implementation of kd-tree accepts only dense matrices, you need to convert the sparse matrices of CountVectorizer/TfidfVectorizer into dense matices. You can convert sparse matrices to dense using .toarray() attribute. For more information please visit this <a href='https://docs.scipy.org/doc/scipy-0.18.1/reference/generated/scipy.sparse.csr_matrix.toarray.html'>link</a>\n",
    "        <ul>\n",
    "            <li><font color='red'>SET 5:</font>Review text, preprocessed one converted into vectors using (BOW) but with restriction on maximum features generated.\n",
    "            <pre>\n",
    "            count_vect = CountVectorizer(min_df=10, max_features=500) \n",
    "            count_vect.fit(preprocessed_reviews)\n",
    "            </pre>\n",
    "            </li>\n",
    "            <li><font color='red'>SET 6:</font>Review text, preprocessed one converted into vectors using (TFIDF) but with restriction on maximum features generated.\n",
    "            <pre>\n",
    "                tf_idf_vect = TfidfVectorizer(min_df=10, max_features=500)\n",
    "                tf_idf_vect.fit(preprocessed_reviews)\n",
    "            </pre>\n",
    "            </li>\n",
    "            <li><font color='red'>SET 3:</font>Review text, preprocessed one converted into vectors using (AVG W2v)</li>\n",
    "            <li><font color='red'>SET 4:</font>Review text, preprocessed one converted into vectors using (TFIDF W2v)</li>\n",
    "        </ul>\n",
    "    </li>\n",
    "    <br>\n",
    "    <li><strong>The hyper paramter tuning(find best K)</strong>\n",
    "        <ul>\n",
    "    <li>Find the best hyper parameter which will give the maximum <a href='https://www.appliedaicourse.com/course/applied-ai-course-online/lessons/receiver-operating-characteristic-curve-roc-curve-and-auc-1/'>AUC</a> value</li>\n",
    "    <li>Find the best hyper paramter using k-fold cross validation or simple cross validation data</li>\n",
    "    <li>Use gridsearch cv or randomsearch cv or you can also write your own for loops to do this task of hyperparameter tuning</li>\n",
    "        </ul>\n",
    "    </li>\n",
    "    <br>\n",
    "    <li>\n",
    "    <strong>Representation of results</strong>\n",
    "        <ul>\n",
    "    <li>You need to plot the performance of model both on train data and cross validation data for each hyper parameter, like shown in the figure\n",
    "    <img src='train_cv_auc.JPG' width=300px></li>\n",
    "    <li>Once after you found the best hyper parameter, you need to train your model with it, and find the AUC on test data and plot the ROC curve on both train and test.\n",
    "    <img src='train_test_auc.JPG' width=300px></li>\n",
    "    <li>Along with plotting ROC curve, you need to print the <a href='https://www.appliedaicourse.com/course/applied-ai-course-online/lessons/confusion-matrix-tpr-fpr-fnr-tnr-1/'>confusion matrix</a> with predicted and original labels of test data points\n",
    "    <img src='confusion_matrix.png' width=300px></li>\n",
    "        </ul>\n",
    "    </li>\n",
    "    <br>\n",
    "    <li><strong>Conclusion</strong>\n",
    "        <ul>\n",
    "    <li>You need to summarize the results at the end of the notebook, summarize it in the table format. To print out a table please refer to this prettytable library<a href='http://zetcode.com/python/prettytable/'> link</a> \n",
    "        <img src='summary.JPG' width=400px>\n",
    "    </li>\n",
    "        </ul>\n",
    "</ol>"
   ]
  },
  {
   "cell_type": "markdown",
   "metadata": {},
   "source": [
    "<h4><font color='red'>Note: Data Leakage</font></h4>\n",
    "\n",
    "1. There will be an issue of data-leakage if you vectorize the entire data and then split it into train/cv/test.\n",
    "2. To avoid the issue of data-leakag, make sure to split your data first and then vectorize it. \n",
    "3. While vectorizing your data, apply the method fit_transform() on you train data, and apply the method transform() on cv/test data.\n",
    "4. For more details please go through this <a href='https://soundcloud.com/applied-ai-course/leakage-bow-and-tfidf'>link.</a>"
   ]
  },
  {
   "cell_type": "code",
   "execution_count": 189,
   "metadata": {},
   "outputs": [],
   "source": [
    "Total_AUC = {}"
   ]
  },
  {
   "cell_type": "raw",
   "metadata": {},
   "source": [
    "#cv = Y_cv.apply(lambda x : 1 if x==\"Positive\" else 0)\n",
    "#test = Y_test.apply(lambda x : 1 if x==\"Positive\" else 0)\n",
    "#tr = Y_tr.apply(lambda x : 1 if x==\"Positive\" else 0\n",
    "#Y_cv = cv\n",
    "#Y_test = test\n",
    "#Y_tr = tr"
   ]
  },
  {
   "cell_type": "code",
   "execution_count": 190,
   "metadata": {},
   "outputs": [],
   "source": [
    "from sklearn.cross_validation import train_test_split\n",
    "from sklearn.metrics import accuracy_score\n",
    "from sklearn.cross_validation import cross_val_score\n",
    "from sklearn.neighbors import KNeighborsClassifier\n",
    "from sklearn.neighbors import KDTree\n",
    "from sklearn.metrics import roc_curve, auc, roc_auc_score\n",
    "from sklearn.metrics import confusion_matrix"
   ]
  },
  {
   "cell_type": "markdown",
   "metadata": {},
   "source": [
    "## [5.1] Applying KNN brute force"
   ]
  },
  {
   "cell_type": "markdown",
   "metadata": {},
   "source": [
    "### [5.1.1] Applying KNN brute force on BOW,<font color='red'> SET 1</font>"
   ]
  },
  {
   "cell_type": "code",
   "execution_count": 191,
   "metadata": {},
   "outputs": [
    {
     "data": {
      "text/plain": [
       "array([ 3,  5,  7,  9, 11, 13, 15, 17, 19, 21, 23, 25, 27, 29, 31])"
      ]
     },
     "execution_count": 191,
     "metadata": {},
     "output_type": "execute_result"
    }
   ],
   "source": [
    "neighbors = np.arange(3,32,2)\n",
    "neighbors"
   ]
  },
  {
   "cell_type": "markdown",
   "metadata": {},
   "source": [
    "We have taken a list of Odd numbers from 1 to 29 for finding out the best nearest neibhour for each type dataset\n",
    "\n",
    "The reason behind we chosing the odd numbers is for simplifying the voting process between the classes.\n"
   ]
  },
  {
   "cell_type": "markdown",
   "metadata": {},
   "source": [
    "We Split the Data for Train, Test and CrossValidation.\n",
    "\n",
    "Train Data is to Train the Model. Wherase Cross validation is to understand the Over/Under fit of a model.\n",
    "\n",
    "Majorly The Cross Validation will be usefull to figureout the best no of nearest neibhours, It helps the model to Test With.\n",
    "\n",
    "Test Data is exclusively for testing the trained Model. where we prediect the Outcomes."
   ]
  },
  {
   "cell_type": "markdown",
   "metadata": {},
   "source": [
    "##### Hyper Parametre Tuning with 20% of Cross Validation Data"
   ]
  },
  {
   "cell_type": "code",
   "execution_count": 192,
   "metadata": {},
   "outputs": [
    {
     "name": "stdout",
     "output_type": "stream",
     "text": [
      " AUC for the  TRAIN Data at nearest neibour  3  is  0.9074287409914582\n",
      " AUC for the Cross-Validation Data at nearest neibour  3  is  0.6740125386996904\n",
      " AUC for the  TRAIN Data at nearest neibour  5  is  0.8815581211848615\n",
      " AUC for the Cross-Validation Data at nearest neibour  5  is  0.7052143188854489\n",
      " AUC for the  TRAIN Data at nearest neibour  7  is  0.863751525333031\n",
      " AUC for the Cross-Validation Data at nearest neibour  7  is  0.7185589009287925\n",
      " AUC for the  TRAIN Data at nearest neibour  9  is  0.8505493011812338\n",
      " AUC for the Cross-Validation Data at nearest neibour  9  is  0.7294779024767801\n",
      " AUC for the  TRAIN Data at nearest neibour  11  is  0.8419509317694495\n",
      " AUC for the Cross-Validation Data at nearest neibour  11  is  0.7369605650154798\n",
      " AUC for the  TRAIN Data at nearest neibour  13  is  0.834457957433172\n",
      " AUC for the Cross-Validation Data at nearest neibour  13  is  0.7417635835913312\n",
      " AUC for the  TRAIN Data at nearest neibour  15  is  0.8297382682403005\n",
      " AUC for the Cross-Validation Data at nearest neibour  15  is  0.7437003095975232\n",
      " AUC for the  TRAIN Data at nearest neibour  17  is  0.8250728102780943\n",
      " AUC for the Cross-Validation Data at nearest neibour  17  is  0.7497752321981423\n",
      " AUC for the  TRAIN Data at nearest neibour  19  is  0.8214345589586742\n",
      " AUC for the Cross-Validation Data at nearest neibour  19  is  0.7494690402476779\n",
      " AUC for the  TRAIN Data at nearest neibour  21  is  0.8172610344868563\n",
      " AUC for the Cross-Validation Data at nearest neibour  21  is  0.7514564241486068\n",
      " AUC for the  TRAIN Data at nearest neibour  23  is  0.8147975429470912\n",
      " AUC for the Cross-Validation Data at nearest neibour  23  is  0.7514819272445822\n",
      " AUC for the  TRAIN Data at nearest neibour  25  is  0.8129604369929624\n",
      " AUC for the Cross-Validation Data at nearest neibour  25  is  0.7540015866873064\n",
      " AUC for the  TRAIN Data at nearest neibour  27  is  0.8108462546310234\n",
      " AUC for the Cross-Validation Data at nearest neibour  27  is  0.7554080882352942\n",
      " AUC for the  TRAIN Data at nearest neibour  29  is  0.8089048573039505\n",
      " AUC for the Cross-Validation Data at nearest neibour  29  is  0.7562293730650154\n",
      " AUC for the  TRAIN Data at nearest neibour  31  is  0.8070822687202661\n",
      " AUC for the Cross-Validation Data at nearest neibour  31  is  0.7588217105263158\n"
     ]
    }
   ],
   "source": [
    "#https://www.analyticsvidhya.com/blog/2017/11/information-retrieval-using-kdtree/\n",
    "Set1_Acc_Tr    = []\n",
    "Set1_Acc_Cv    = []\n",
    "Set1_Train_Auc = []\n",
    "Set1_Cv_Auc    = []\n",
    "for i in neighbors:\n",
    "    knn =  KNeighborsClassifier(n_neighbors = i, algorithm = 'brute')\n",
    "    knn.fit(X_Bow_Tr,Y_tr)   \n",
    "    \n",
    "    #pred_tr =  knn.predict(X_Bow_Tr) # Class-Predictions of TRAIN-Validation\n",
    "    #pred_cv =  knn.predict(X_Bow_Cv) # Class-Predictions of Cross-Validation    \n",
    "    #Y_train_acc  = accuracy_score(Y_tr,pred_tr,normalize=True)    # Accuracy of TRAIN-Validation\n",
    "    #Y_cv_acc  = accuracy_score(Y_cv,pred_cv,normalize=True)     # Accuracy of TRAIN-Validation            \n",
    "\n",
    "    # Let PLOT  AUC-socre Vs each nearest neibhours  for both Test and CrossValidation Data    \n",
    "    Train_pred_prob =  knn.predict_proba(X_Bow_Tr)    # Probablity of TRAIN-Validation    \n",
    "    Cv_pred_prob    =  knn.predict_proba(X_Bow_Cv)    \n",
    "    \n",
    "    Train_Auc = roc_auc_score(Y_tr,Train_pred_prob[:,1])\n",
    "    Cv_Auc    = roc_auc_score(Y_cv,Cv_pred_prob[:,1])\n",
    "      \n",
    "    Set1_Train_Auc.append(Train_Auc)\n",
    "    Set1_Cv_Auc.append(Cv_Auc) \n",
    "\n",
    "    print(\" AUC for the  TRAIN Data at nearest neibour \",i,  \" is \", Train_Auc)\n",
    "    print(\" AUC for the Cross-Validation Data at nearest neibour \",i,  \" is \", Cv_Auc)"
   ]
  },
  {
   "cell_type": "markdown",
   "metadata": {},
   "source": [
    "Here, we are trianing the KNN-Model with the Bag of words.\n",
    "\n",
    "We do not know what is the best nearest neibhour to train the Model.\n",
    "\n",
    "To find out this, we are trying to train the model on top of Cross-Validation Data with different neighrest neibhours.\n",
    "\n",
    "We get the  AUC/ROC which helps to judge a Model performance.\n",
    "\n",
    "Let us see the  AUC values  for Cross Validation Data and Training Data. "
   ]
  },
  {
   "cell_type": "markdown",
   "metadata": {},
   "source": [
    "#### Plot AUC Curves for the Train and CrossValidation"
   ]
  },
  {
   "cell_type": "code",
   "execution_count": 193,
   "metadata": {},
   "outputs": [
    {
     "data": {
      "image/png": "[encoded data removed]",
      "text/plain": [
       "<Figure size 432x288 with 1 Axes>"
      ]
     },
     "metadata": {},
     "output_type": "display_data"
    }
   ],
   "source": [
    "#set1_train_auc,set1_cv_auc\n",
    "plt.grid()\n",
    "plt.scatter(neighbors, Set1_Train_Auc, label='Train AUC')\n",
    "plt.plot(neighbors, Set1_Train_Auc, label='Train AUC')\n",
    "plt.scatter(neighbors, Set1_Cv_Auc, label='CV AUC')\n",
    "plt.plot(neighbors, Set1_Cv_Auc, label='CV AUC')\n",
    "plt.legend()\n",
    "plt.xlabel(\"K: hyperparameter\")\n",
    "plt.ylabel(\"Auc\")\n",
    "plt.title(\" Nearest Neibhours Vs AUC  \")\n",
    "plt.show()"
   ]
  },
  {
   "cell_type": "markdown",
   "metadata": {},
   "source": [
    "AUC for both CrossValidation  and  Training Data Getting Closer/Converging at Neibhour 31\n",
    "\n",
    "Accoring to analysis of Train-AUC and CrosValidation-AUC,we can Uderstand that 31-nearest neibhours will be the best fit.\n",
    "\n",
    "Let us figure out, which hyper parameter can yeild the  the Highest AUC.\n",
    "\n",
    "Average the accruacis from the Hyper parameters, the value we get is the one we expect on top of test data.\n"
   ]
  },
  {
   "cell_type": "code",
   "execution_count": 194,
   "metadata": {},
   "outputs": [
    {
     "name": "stdout",
     "output_type": "stream",
     "text": [
      "Train AUC:  31\n",
      "Cross Validation AUC:  31\n"
     ]
    }
   ],
   "source": [
    "print(\"Train AUC: \",neighbors[Set1_Train_Auc.index(min(Set1_Train_Auc))] )  # Best Fit =  Minimum Errror in Cross Validation Data\n",
    "print(\"Cross Validation AUC: \",neighbors[Set1_Cv_Auc.index(max(Set1_Cv_Auc))])         # Best Fit =  MAx Errror in Train Data Set1_Cv_Tr"
   ]
  },
  {
   "cell_type": "code",
   "execution_count": 195,
   "metadata": {},
   "outputs": [
    {
     "name": "stdout",
     "output_type": "stream",
     "text": [
      "Highest nearest neighbors of CrosValidation:  31\n"
     ]
    }
   ],
   "source": [
    "Optimal_N = neighbors[Set1_Cv_Auc.index(max(Set1_Cv_Auc))]  \n",
    "print(\"Highest nearest neighbors of CrosValidation: \", Optimal_N  )\n"
   ]
  },
  {
   "cell_type": "markdown",
   "metadata": {},
   "source": [
    "According to the CrossValidation, we are getting the Highest AUC at Neigherest Neibhour value is at  31.\n",
    "\n",
    "Hence, we can expext the test data AUc near around the same.\n",
    "\n",
    "In case we we have the CrossValidation AUC High and Test Accruacy is High, then we can consider it as a Over Fitting.\n",
    "\n",
    "In case we we have the CrossValidation AUC Low and Test Accruacy is also Low, then we can consider it as a Under Fitting."
   ]
  },
  {
   "cell_type": "code",
   "execution_count": 196,
   "metadata": {},
   "outputs": [
    {
     "name": "stdout",
     "output_type": "stream",
     "text": [
      " AUC for the  Train Data at nearest neibour  31  is  0.8070822687202661\n",
      " AUC for the Test-Validation Data at nearest neibour  31  is  0.7490356132336193\n"
     ]
    }
   ],
   "source": [
    "#https://scikit-learn.org/stable/modules/generated/sklearn.metrics.roc_auc_score.html#sklearn.metrics.roc_auc_score\n",
    "#Set1_Train_Pred =  knn.predict(X_Bow_Tr)\n",
    "#Set1_Train_Acc  = accuracy_score(Y_tr,Set1_Train_Pred,normalize=True)\n",
    "\n",
    "Set1_Train_Auc = []\n",
    "Set1_Tst_Auc   = []\n",
    "Set1_Train_Prb = []\n",
    "Set1_Tst_Prb   = []\n",
    "Set1_Train_Predict = []\n",
    "Set1_Tst_Predict   = []\n",
    "\n",
    "knn =  KNeighborsClassifier(n_neighbors = Optimal_N, algorithm = 'brute')\n",
    "knn.fit(X_Bow_Tr,Y_tr)    \n",
    "Train_Predict =  knn.predict(X_Bow_Tr)\n",
    "Tst_Predict   =  knn.predict(X_Bow_Test)\n",
    "        \n",
    "# Let PLOT  AUC-socre Vs each nearest neibhours  for both Test and CrossValidation Data\n",
    "Train_pred_prob   =  knn.predict_proba(X_Bow_Tr)# Probablity of TRAIN-Validation \n",
    "Tst_pred_prob     =  knn.predict_proba(X_Bow_Test)\n",
    "\n",
    "Train_Auc=  roc_auc_score(Y_tr,Train_pred_prob[:,1])\n",
    "Test_Auc  = roc_auc_score(Y_test,Tst_pred_prob[:,1])\n",
    "\n",
    "#Probablity Scores\n",
    "Set1_Train_Prb = Train_pred_prob[:,1]\n",
    "Set1_Tst_Prb=Tst_pred_prob[:,1]\n",
    "\n",
    "#AUC\n",
    "Set1_Train_Auc=Train_Auc\n",
    "Set1_Tst_Auc=Test_Auc\n",
    "    \n",
    "#MOdel Predictions    \n",
    "Set1_Train_Predict=Train_Predict\n",
    "Set1_Tst_Predict=Tst_Predict   \n",
    "\n",
    "print(\" AUC for the  Train Data at nearest neibour \",Optimal_N,  \" is \", Train_Auc)\n",
    "print(\" AUC for the Test-Validation Data at nearest neibour \",Optimal_N,  \" is \", Test_Auc)"
   ]
  },
  {
   "cell_type": "code",
   "execution_count": 197,
   "metadata": {},
   "outputs": [
    {
     "data": {
      "image/png": "[encoded data removed]",
      "text/plain": [
       "<Figure size 432x288 with 1 Axes>"
      ]
     },
     "metadata": {},
     "output_type": "display_data"
    }
   ],
   "source": [
    "#https://qiita.com/bmj0114/items/460424c110a8ce22d945\n",
    "set1_tst_fpr, set1_tst_tpr, thresholds = roc_curve(Y_test,Set1_Tst_Prb)\n",
    "set1_tst_roc_auc = auc(set1_tst_fpr, set1_tst_tpr)\n",
    "\n",
    "\n",
    "set1_train_fpr, set1_train_tpr, thresholds = roc_curve(Y_tr,Set1_Train_Prb)\n",
    "set1_train_roc_auc = auc(set1_train_fpr, set1_train_tpr)\n",
    "\n",
    "lw=1\n",
    "plt.figure()\n",
    "plt.plot(set1_tst_fpr, set1_tst_tpr, color='darkorange', lw=1, label='Test ROC curve (area = %0.2f)' % set1_tst_roc_auc)\n",
    "plt.plot(set1_train_fpr, set1_train_tpr, color='navy', lw=1, label='Train ROC curve (area = %0.2f)' % set1_train_roc_auc)\n",
    "plt.plot([0, 1], [0,1], color='red', lw=lw, linestyle='--')\n",
    "plt.xlim([0.0, 1.0])\n",
    "plt.ylim([0.0, 1.04])\n",
    "plt.xlabel('False Positive Rate')\n",
    "plt.ylabel('True Positive Rate')\n",
    "plt.title('ROC - Receiver operating characteristic')\n",
    "plt.legend(loc=\"lower right\")\n",
    "plt.show()"
   ]
  },
  {
   "cell_type": "markdown",
   "metadata": {},
   "source": [
    "Test Results of the Model with Neigherest Neibhour value is at 25.\n",
    "Area Under Curve = \"0.66\"\n"
   ]
  },
  {
   "cell_type": "code",
   "execution_count": 198,
   "metadata": {},
   "outputs": [],
   "source": [
    "Total_AUC['set1']=[Optimal_N , set1_tst_roc_auc]"
   ]
  },
  {
   "cell_type": "markdown",
   "metadata": {},
   "source": [
    "###### Train Confusion Matrix"
   ]
  },
  {
   "cell_type": "code",
   "execution_count": 199,
   "metadata": {},
   "outputs": [
    {
     "name": "stdout",
     "output_type": "stream",
     "text": [
      "Train Confusion Matrix::\n",
      " [[  670  3081]\n",
      " [  393 18430]] \n",
      "\n"
     ]
    },
    {
     "data": {
      "text/plain": [
       "<matplotlib.axes._subplots.AxesSubplot at 0x20d30b8f3c8>"
      ]
     },
     "execution_count": 199,
     "metadata": {},
     "output_type": "execute_result"
    },
    {
     "data": {
      "image/png": "[encoded data removed]",
      "text/plain": [
       "<Figure size 432x288 with 2 Axes>"
      ]
     },
     "metadata": {},
     "output_type": "display_data"
    }
   ],
   "source": [
    "Train_CM= confusion_matrix(Y_tr, Set1_Train_Predict, labels=None, sample_weight=None) \n",
    "print(\"Train Confusion Matrix::\\n\",Train_CM,\"\\n\")\n",
    "sns.heatmap(Train_CM, cmap=\"YlGnBu\"  ,annot=True,annot_kws={\"size\": 17})"
   ]
  },
  {
   "cell_type": "code",
   "execution_count": 200,
   "metadata": {},
   "outputs": [
    {
     "data": {
      "text/plain": [
       "1    18823\n",
       "0     3751\n",
       "Name: Score, dtype: int64"
      ]
     },
     "execution_count": 200,
     "metadata": {},
     "output_type": "execute_result"
    }
   ],
   "source": [
    "Y_tr.value_counts()"
   ]
  },
  {
   "cell_type": "markdown",
   "metadata": {},
   "source": [
    "###### Test Confusion Matrix"
   ]
  },
  {
   "cell_type": "code",
   "execution_count": 201,
   "metadata": {},
   "outputs": [
    {
     "name": "stdout",
     "output_type": "stream",
     "text": [
      "Test Confusion Matrix::\n",
      " [[  318  1923]\n",
      " [  320 11261]] \n",
      "\n"
     ]
    },
    {
     "data": {
      "text/plain": [
       "<matplotlib.axes._subplots.AxesSubplot at 0x20d30c640b8>"
      ]
     },
     "execution_count": 201,
     "metadata": {},
     "output_type": "execute_result"
    },
    {
     "data": {
      "image/png": "[encoded data removed]",
      "text/plain": [
       "<Figure size 432x288 with 2 Axes>"
      ]
     },
     "metadata": {},
     "output_type": "display_data"
    }
   ],
   "source": [
    "Test_CM= confusion_matrix(Y_test, Set1_Tst_Predict, labels=None, sample_weight=None) \n",
    "print(\"Test Confusion Matrix::\\n\",Test_CM,\"\\n\")  \n",
    "sns.heatmap(Test_CM, cmap=\"YlGnBu\"  ,annot=True,annot_kws={\"size\": 17})"
   ]
  },
  {
   "cell_type": "markdown",
   "metadata": {},
   "source": [
    "\n",
    "By definition a confusion matrix C is such that C-ij is equal to the number of observations known to be in group i  but predicted to be in group j .\n",
    "\n",
    "Thus in binary classification, the count of \n",
    "\n",
    "true negatives is 318 at C(0,0) , \n",
    "\n",
    "false negatives is 320 C(1,0), \n",
    "\n",
    "true positives is 11261 at C(1,1) \n",
    "\n",
    "and false positives is 1923 at C(0,1).\n",
    "\n"
   ]
  },
  {
   "cell_type": "markdown",
   "metadata": {},
   "source": [
    "### [5.1.2] Applying KNN brute force on TFIDF,<font color='red'> SET 2</font>"
   ]
  },
  {
   "cell_type": "code",
   "execution_count": 202,
   "metadata": {},
   "outputs": [
    {
     "name": "stdout",
     "output_type": "stream",
     "text": [
      " AUC for the  TRAIN Data at nearest neibour  3  is  0.9074856490836005\n",
      " AUC for the Cross-Validation Data at nearest neibour  3  is  0.6587791021671826\n",
      " AUC for the  TRAIN Data at nearest neibour  5  is  0.8780214348054\n",
      " AUC for the Cross-Validation Data at nearest neibour  5  is  0.6910849845201239\n",
      " AUC for the  TRAIN Data at nearest neibour  7  is  0.860786440940299\n",
      " AUC for the Cross-Validation Data at nearest neibour  7  is  0.7085582817337461\n",
      " AUC for the  TRAIN Data at nearest neibour  9  is  0.8485149431118072\n",
      " AUC for the Cross-Validation Data at nearest neibour  9  is  0.7245259287925697\n",
      " AUC for the  TRAIN Data at nearest neibour  11  is  0.8385591358286677\n",
      " AUC for the Cross-Validation Data at nearest neibour  11  is  0.7294190015479877\n",
      " AUC for the  TRAIN Data at nearest neibour  13  is  0.8303952536101763\n",
      " AUC for the Cross-Validation Data at nearest neibour  13  is  0.7362797213622292\n",
      " AUC for the  TRAIN Data at nearest neibour  15  is  0.8266847482758072\n",
      " AUC for the Cross-Validation Data at nearest neibour  15  is  0.7433087461300311\n",
      " AUC for the  TRAIN Data at nearest neibour  17  is  0.8221367039730983\n",
      " AUC for the Cross-Validation Data at nearest neibour  17  is  0.7482295665634675\n",
      " AUC for the  TRAIN Data at nearest neibour  19  is  0.8215859503466557\n",
      " AUC for the Cross-Validation Data at nearest neibour  19  is  0.7525596362229102\n",
      " AUC for the  TRAIN Data at nearest neibour  21  is  0.8189682135163291\n",
      " AUC for the Cross-Validation Data at nearest neibour  21  is  0.756713273993808\n",
      " AUC for the  TRAIN Data at nearest neibour  23  is  0.8171004865330287\n",
      " AUC for the Cross-Validation Data at nearest neibour  23  is  0.7611113003095975\n",
      " AUC for the  TRAIN Data at nearest neibour  25  is  0.8144422214534075\n",
      " AUC for the Cross-Validation Data at nearest neibour  25  is  0.7641306114551084\n",
      " AUC for the  TRAIN Data at nearest neibour  27  is  0.8145281288782181\n",
      " AUC for the Cross-Validation Data at nearest neibour  27  is  0.7666563854489163\n",
      " AUC for the  TRAIN Data at nearest neibour  29  is  0.8142264720836703\n",
      " AUC for the Cross-Validation Data at nearest neibour  29  is  0.7667280185758514\n",
      " AUC for the  TRAIN Data at nearest neibour  31  is  0.8141215008728906\n",
      " AUC for the Cross-Validation Data at nearest neibour  31  is  0.7683788699690403\n"
     ]
    }
   ],
   "source": [
    "#https://www.analyticsvidhya.com/blog/2017/11/information-retrieval-using-kdtree/\n",
    "Set2_Train_Auc = []\n",
    "Set2_Cv_Auc    = []\n",
    "for i in neighbors:\n",
    "    knn =  KNeighborsClassifier(n_neighbors = i, algorithm = 'brute')\n",
    "    knn.fit(X_Tfidf_Tr,Y_tr)    \n",
    "    \n",
    "    #pred_tr =  knn.predict(X_Tfidf_Tr) # Class-Predictions of TRAIN-Validation\n",
    "    #pred_cv =  knn.predict(X_Tfidf_Cv) # Class-Predictions of Cross-Validation    \n",
    "    #Y_train_acc  = accuracy_score(Y_tr,pred_tr,normalize=True)    # Accuracy of TRAIN-Validation\n",
    "    #Y_cv_acc  = accuracy_score(Y_cv,pred_cv,normalize=True)     # Accuracy of TRAIN-Validation            \n",
    "    \n",
    "    #Set2_Acc_Tr.append(Y_train_acc)   #Accuracy                \n",
    "    #Set2_Acc_Cv.append(Y_cv_acc)      #Accuracy    \n",
    "     \n",
    "    \n",
    "    # Let PLOT  AUC-socre Vs each nearest neibhours  for both Test and CrossValidation Data    \n",
    "    Train_pred_prob =  knn.predict_proba(X_Tfidf_Tr)[:,1]    # Probablity of TRAIN-Validation    \n",
    "    Cv_pred_prob    =  knn.predict_proba(X_Tfidf_Cv)[:,1]    \n",
    "        \n",
    "    Train_Auc = roc_auc_score(Y_tr,Train_pred_prob)\n",
    "    Cv_Auc    = roc_auc_score(Y_cv,Cv_pred_prob)\n",
    "      \n",
    "    Set2_Train_Auc.append(Train_Auc)\n",
    "    Set2_Cv_Auc.append(Cv_Auc)\n",
    "\n",
    "    print(\" AUC for the  TRAIN Data at nearest neibour \",i,  \" is \", Train_Auc)\n",
    "    print(\" AUC for the Cross-Validation Data at nearest neibour \",i,  \" is \", Cv_Auc)"
   ]
  },
  {
   "cell_type": "markdown",
   "metadata": {},
   "source": [
    "Here, we are trianing the KNN-Model with the Bag of words.\n",
    "\n",
    "We do not know what is the best nearest neibhour to train the Model.\n",
    "\n",
    "To find out this, we are trying to train the model on top of Cross-Validation Data with different neighrest neibhours.\n",
    "\n",
    "We got the AUC, Error and AUC/ROC which helps to judge a Model performance.\n",
    "\n",
    "Let us see the  AUC values for Cross Validation Data and Training Data at each k."
   ]
  },
  {
   "cell_type": "markdown",
   "metadata": {},
   "source": [
    "#### AUC Curves for the Train and CrossValidation Data"
   ]
  },
  {
   "cell_type": "code",
   "execution_count": 203,
   "metadata": {},
   "outputs": [
    {
     "data": {
      "image/png": "[encoded data removed]",
      "text/plain": [
       "<Figure size 432x288 with 1 Axes>"
      ]
     },
     "metadata": {},
     "output_type": "display_data"
    }
   ],
   "source": [
    "#set2_train_auc,set2_cv_auc\n",
    "plt.grid()\n",
    "plt.scatter(neighbors, Set2_Train_Auc, label='Train AUC')\n",
    "plt.plot(neighbors, Set2_Train_Auc, label='Train AUC')\n",
    "plt.scatter(neighbors, Set2_Cv_Auc, label='CV AUC')\n",
    "plt.plot(neighbors, Set2_Cv_Auc, label='CV AUC')\n",
    "plt.legend()\n",
    "plt.xlabel(\"K: hyperparameter\")\n",
    "plt.ylabel(\"Auc\")\n",
    "plt.title(\" Nearest Neibhours Vs AUC  \")\n",
    "plt.show()"
   ]
  },
  {
   "cell_type": "markdown",
   "metadata": {},
   "source": [
    "Both AUC for CrossValidation  and  Training Data Getting Closer/Converging at Neibhour 31\n",
    "\n",
    "Accoring to analysis of Train-AUC and CrosValidation-AUC,we can Uderstand that 19-nearest neibhours will be the best fit.\n",
    "\n",
    "Let us figure out, which hyper parameter can yeild the  the Highest AUC.\n",
    "\n",
    "Average the accruacis from the Hyper parameters, the value we get is the one we expect on top of test data.\n",
    "\n"
   ]
  },
  {
   "cell_type": "code",
   "execution_count": 204,
   "metadata": {},
   "outputs": [
    {
     "name": "stdout",
     "output_type": "stream",
     "text": [
      "Highest nearest neighbors of CrosValidation:  31\n"
     ]
    }
   ],
   "source": [
    "Optimal_N = neighbors[Set2_Cv_Auc.index(max(Set2_Cv_Auc))]  \n",
    "print(\"Highest nearest neighbors of CrosValidation: \", Optimal_N  )\n"
   ]
  },
  {
   "cell_type": "markdown",
   "metadata": {},
   "source": [
    "\n",
    "According to the CrossValidation, we are getting the Highest AUC at Neigherest Neibhour value is at 31.\n",
    "\n",
    "Hence, we can expext the test data AUC near around the same.\n",
    "\n",
    "In case  we have the CrossValidation AUC High and Test AUC is High, then we can consider it as a Over Fitting.\n",
    "\n",
    "In case we have the CrossValidation AUC Low and Test AUc is also Low, then we can consider it as a Under Fitting."
   ]
  },
  {
   "cell_type": "code",
   "execution_count": 205,
   "metadata": {},
   "outputs": [
    {
     "name": "stdout",
     "output_type": "stream",
     "text": [
      " AUC for the  Train Data at nearest neibour  31  is  0.8141215008728906\n",
      " AUC for the Test-Validation Data at nearest neibour  31  is  0.7525841018662144\n"
     ]
    }
   ],
   "source": [
    "\n",
    "#https://scikit-learn.org/stable/modules/generated/sklearn.metrics.roc_auc_score.html#sklearn.metrics.roc_auc_score\n",
    "#Set2_Train_Pred =  knn.predict(X_Bow_Tr)\n",
    "#Set2_Train_Acc  = accuracy_score(Y_tr,Set2_Train_Pred,normalize=True)\n",
    "\n",
    "Set2_Train_Auc = []\n",
    "Set2_Tst_Auc   = []\n",
    "Set2_Train_Prb = []\n",
    "Set2_Tst_Prb   = []\n",
    "Set2_Train_Predict = []\n",
    "Set2_Tst_Predict   = []\n",
    "\n",
    "knn =  KNeighborsClassifier(n_neighbors = Optimal_N, algorithm = 'brute')\n",
    "knn.fit(X_Tfidf_Tr,Y_tr)    \n",
    "    \n",
    "Train_Predict =  knn.predict(X_Tfidf_Tr)\n",
    "Tst_Predict   =  knn.predict(X_Tfidf_Test)\n",
    "        \n",
    "# Let PLOT  AUC-socre Vs each nearest neibhours  for both Test and CrossValidation Data\n",
    "Train_pred_prob   =  knn.predict_proba(X_Tfidf_Tr)[:,1] # Probablity of TRAIN-Validation \n",
    "Tst_pred_prob     =  knn.predict_proba(X_Tfidf_Test)[:,1] \n",
    "\n",
    "Train_Auc=  roc_auc_score(Y_tr,Train_pred_prob)\n",
    "Test_Auc  = roc_auc_score(Y_test,Tst_pred_prob)\n",
    "\n",
    "#Probablity Scores\n",
    "Set2_Train_Prb = Train_pred_prob\n",
    "Set2_Tst_Prb =Tst_pred_prob \n",
    "    \n",
    "#AUC\n",
    "Set2_Train_Auc= Train_Auc\n",
    "Set2_Tst_Auc=Test_Auc\n",
    "    \n",
    "#MOdel Predictions    \n",
    "Set2_Train_Predict = Train_Predict\n",
    "Set2_Tst_Predict = Tst_Predict\n",
    "\n",
    "\n",
    "print(\" AUC for the  Train Data at nearest neibour \",Optimal_N,  \" is \", Train_Auc)\n",
    "print(\" AUC for the Test-Validation Data at nearest neibour \",Optimal_N,  \" is \", Test_Auc)"
   ]
  },
  {
   "cell_type": "markdown",
   "metadata": {},
   "source": [
    "###### AUC and ROC for Knn-bruteforce on top BagOfWords"
   ]
  },
  {
   "cell_type": "code",
   "execution_count": 206,
   "metadata": {},
   "outputs": [
    {
     "data": {
      "image/png": "[encoded data removed]",
      "text/plain": [
       "<Figure size 432x288 with 1 Axes>"
      ]
     },
     "metadata": {},
     "output_type": "display_data"
    }
   ],
   "source": [
    "#https://qiita.com/bmj0114/items/460424c110a8ce22d945\n",
    "set2_tst_fpr, set2_tst_tpr, thresholds = roc_curve(Y_test,Tst_pred_prob)\n",
    "set2_tst_roc_auc = auc(set2_tst_fpr, set2_tst_tpr)\n",
    "\n",
    "\n",
    "set2_train_fpr, set2_train_tpr, thresholds = roc_curve(Y_tr,Train_pred_prob)\n",
    "set2_train_roc_auc = auc(set2_train_fpr, set2_train_tpr)\n",
    "\n",
    "lw=1\n",
    "plt.figure()\n",
    "plt.plot(set2_tst_fpr, set2_tst_tpr, color='darkorange', lw=1, label='Test ROC curve (area = %0.2f)' % set2_tst_roc_auc)\n",
    "plt.plot(set2_train_fpr, set2_train_tpr, color='navy', lw=1, label='Train ROC curve (area = %0.2f)' % set2_train_roc_auc)\n",
    "plt.plot([0, 1], [0,1], color='red', lw=lw, linestyle='--')\n",
    "plt.xlim([0.0, 1.0])\n",
    "plt.ylim([0.0, 1.04])\n",
    "plt.xlabel('False Positive Rate')\n",
    "plt.ylabel('True Positive Rate')\n",
    "plt.title('ROC - Receiver operating characteristic')\n",
    "plt.legend(loc=\"lower right\")\n",
    "plt.show()"
   ]
  },
  {
   "cell_type": "markdown",
   "metadata": {},
   "source": [
    "Test Results of the Model with Neigherest Neibhour value is at 31.\n",
    "\n",
    "Auc is = \"0.72\"\n"
   ]
  },
  {
   "cell_type": "code",
   "execution_count": 207,
   "metadata": {},
   "outputs": [],
   "source": [
    "Total_AUC['set2']=[Optimal_N , set2_tst_roc_auc]"
   ]
  },
  {
   "cell_type": "markdown",
   "metadata": {},
   "source": [
    "#### Train Confusion Matrix"
   ]
  },
  {
   "cell_type": "code",
   "execution_count": 208,
   "metadata": {},
   "outputs": [
    {
     "name": "stdout",
     "output_type": "stream",
     "text": [
      "Train Confusion Matrix::\n",
      " [[  412  3339]\n",
      " [  150 18673]] \n",
      "\n"
     ]
    },
    {
     "data": {
      "text/plain": [
       "<matplotlib.axes._subplots.AxesSubplot at 0x20d30d56fd0>"
      ]
     },
     "execution_count": 208,
     "metadata": {},
     "output_type": "execute_result"
    },
    {
     "data": {
      "image/png": "[encoded data removed]",
      "text/plain": [
       "<Figure size 432x288 with 2 Axes>"
      ]
     },
     "metadata": {},
     "output_type": "display_data"
    }
   ],
   "source": [
    "\n",
    "Train_CM= confusion_matrix(Y_tr, Set2_Train_Predict, labels=None, sample_weight=None) \n",
    "print(\"Train Confusion Matrix::\\n\",Train_CM,\"\\n\")\n",
    "sns.heatmap(Train_CM, cmap=\"YlGnBu\"  ,annot=True,annot_kws={\"size\": 17})\n"
   ]
  },
  {
   "cell_type": "markdown",
   "metadata": {},
   "source": [
    "#### Test Confusion Matrix"
   ]
  },
  {
   "cell_type": "code",
   "execution_count": 209,
   "metadata": {},
   "outputs": [
    {
     "name": "stdout",
     "output_type": "stream",
     "text": [
      "Test Confusion Matrix::\n",
      " [[  189  2052]\n",
      " [  143 11438]] \n",
      "\n"
     ]
    },
    {
     "data": {
      "text/plain": [
       "<matplotlib.axes._subplots.AxesSubplot at 0x20d23a8c128>"
      ]
     },
     "execution_count": 209,
     "metadata": {},
     "output_type": "execute_result"
    },
    {
     "data": {
      "image/png": "[encoded data removed]",
      "text/plain": [
       "<Figure size 432x288 with 2 Axes>"
      ]
     },
     "metadata": {},
     "output_type": "display_data"
    }
   ],
   "source": [
    "Test_CM= confusion_matrix(Y_test, Set2_Tst_Predict, labels=None, sample_weight=None) \n",
    "print(\"Test Confusion Matrix::\\n\",Test_CM,\"\\n\")  \n",
    "sns.heatmap(Test_CM, cmap=\"YlGnBu\"  ,annot=True,annot_kws={\"size\": 17})"
   ]
  },
  {
   "cell_type": "markdown",
   "metadata": {},
   "source": [
    "\n",
    "By definition a confusion matrix C is such that C-ij is equal to the number of observations known to be in group i  but predicted to be in group j .\n",
    "\n",
    "Thus in binary classification, the count of \n",
    "\n",
    "true negatives is 189 at C(0,0) , \n",
    "\n",
    "false negatives is 143 C(1,0), \n",
    "\n",
    "true positives is 11438 at C(1,1) \n",
    "\n",
    "and false positives is 2052 at C(0,1).\n"
   ]
  },
  {
   "cell_type": "markdown",
   "metadata": {},
   "source": [
    "### [5.1.3] Applying KNN brute force on AVG W2V,<font color='red'> SET 3</font>"
   ]
  },
  {
   "cell_type": "raw",
   "metadata": {},
   "source": [
    "Below Model is Knn Brute on top of Average Word2Vec Data"
   ]
  },
  {
   "cell_type": "code",
   "execution_count": 210,
   "metadata": {},
   "outputs": [
    {
     "name": "stdout",
     "output_type": "stream",
     "text": [
      " AUC for the  TRAIN Data at nearest neibour  3  is  0.9538551146317772\n",
      " AUC for the Cross-Validation Data at nearest neibour  3  is  0.7705941950464397\n",
      " AUC for the  TRAIN Data at nearest neibour  5  is  0.9349450711565725\n",
      " AUC for the Cross-Validation Data at nearest neibour  5  is  0.8086689628482973\n",
      " AUC for the  TRAIN Data at nearest neibour  7  is  0.9237257852562522\n",
      " AUC for the Cross-Validation Data at nearest neibour  7  is  0.8247266253869969\n",
      " AUC for the  TRAIN Data at nearest neibour  9  is  0.9158371240548111\n",
      " AUC for the Cross-Validation Data at nearest neibour  9  is  0.8348497678018576\n",
      " AUC for the  TRAIN Data at nearest neibour  11  is  0.9113497906871366\n",
      " AUC for the Cross-Validation Data at nearest neibour  11  is  0.8443977554179568\n",
      " AUC for the  TRAIN Data at nearest neibour  13  is  0.9089620302495828\n",
      " AUC for the Cross-Validation Data at nearest neibour  13  is  0.8510549148606811\n",
      " AUC for the  TRAIN Data at nearest neibour  15  is  0.9060312635042527\n",
      " AUC for the Cross-Validation Data at nearest neibour  15  is  0.8532627708978328\n",
      " AUC for the  TRAIN Data at nearest neibour  17  is  0.903733595743184\n",
      " AUC for the Cross-Validation Data at nearest neibour  17  is  0.8570554179566563\n",
      " AUC for the  TRAIN Data at nearest neibour  19  is  0.9026606487610317\n",
      " AUC for the Cross-Validation Data at nearest neibour  19  is  0.8590802631578948\n",
      " AUC for the  TRAIN Data at nearest neibour  21  is  0.9018980760773377\n",
      " AUC for the Cross-Validation Data at nearest neibour  21  is  0.8603642027863778\n",
      " AUC for the  TRAIN Data at nearest neibour  23  is  0.9005894873871174\n",
      " AUC for the Cross-Validation Data at nearest neibour  23  is  0.8633974071207432\n",
      " AUC for the  TRAIN Data at nearest neibour  25  is  0.899145405599963\n",
      " AUC for the Cross-Validation Data at nearest neibour  25  is  0.8654171439628483\n",
      " AUC for the  TRAIN Data at nearest neibour  27  is  0.8982966138991174\n",
      " AUC for the Cross-Validation Data at nearest neibour  27  is  0.8669555340557276\n",
      " AUC for the  TRAIN Data at nearest neibour  29  is  0.8973328941958604\n",
      " AUC for the Cross-Validation Data at nearest neibour  29  is  0.8684996904024768\n",
      " AUC for the  TRAIN Data at nearest neibour  31  is  0.8958472148311497\n",
      " AUC for the Cross-Validation Data at nearest neibour  31  is  0.8693058049535602\n"
     ]
    }
   ],
   "source": [
    "#https://www.analyticsvidhya.com/blog/2017/11/information-retrieval-using-kdtree/\n",
    "Set3_Train_Auc = []\n",
    "Set3_Cv_Auc    = []\n",
    "for i in neighbors:\n",
    "    knn =  KNeighborsClassifier(n_neighbors = i, algorithm = 'brute')\n",
    "    knn.fit(X_AvgW2V_Tr,Y_tr)    \n",
    "    \n",
    "    #pred_tr =  knn.predict(X_Tfidf_Tr) # Class-Predictions of TRAIN-Validation\n",
    "    #pred_cv =  knn.predict(X_Tfidf_Cv) # Class-Predictions of Cross-Validation    \n",
    "    #Y_train_acc  = accuracy_score(Y_tr,pred_tr,normalize=True)    # Accuracy of TRAIN-Validation\n",
    "    #Y_cv_acc  = accuracy_score(Y_cv,pred_cv,normalize=True)     # Accuracy of TRAIN-Validation            \n",
    "    \n",
    "    #Set3_Acc_Tr.append(Y_train_acc)   #Accuracy                \n",
    "    #Set3_Acc_Cv.append(Y_cv_acc)      #Accuracy    \n",
    "     \n",
    "    \n",
    "    # Let PLOT  AUC-socre Vs each nearest neibhours  for both Test and CrossValidation Data    \n",
    "    Train_pred_prob =  knn.predict_proba(X_AvgW2V_Tr)[:,1]    # Probablity of TRAIN-Validation    \n",
    "    Cv_pred_prob    =  knn.predict_proba(X_AvgW2V_Cv)[:,1]    \n",
    "        \n",
    "    Train_Auc = roc_auc_score(Y_tr,Train_pred_prob)\n",
    "    Cv_Auc    = roc_auc_score(Y_cv,Cv_pred_prob)\n",
    "      \n",
    "    Set3_Train_Auc.append(Train_Auc)\n",
    "    Set3_Cv_Auc.append(Cv_Auc)\n",
    "\n",
    "    print(\" AUC for the  TRAIN Data at nearest neibour \",i,  \" is \", Train_Auc)\n",
    "    print(\" AUC for the Cross-Validation Data at nearest neibour \",i,  \" is \", Cv_Auc)\n",
    "    "
   ]
  },
  {
   "cell_type": "markdown",
   "metadata": {},
   "source": [
    "#### Plot AUC Curves for the Train and CrossValidation"
   ]
  },
  {
   "cell_type": "code",
   "execution_count": 211,
   "metadata": {},
   "outputs": [
    {
     "data": {
      "image/png": "[encoded data removed]",
      "text/plain": [
       "<Figure size 432x288 with 1 Axes>"
      ]
     },
     "metadata": {},
     "output_type": "display_data"
    }
   ],
   "source": [
    "#set3_train_auc,set3_cv_auc\n",
    "plt.grid()\n",
    "plt.scatter(neighbors, Set3_Train_Auc, label='Train AUC')\n",
    "plt.plot(neighbors, Set3_Train_Auc, label='Train AUC')\n",
    "plt.scatter(neighbors, Set3_Cv_Auc, label='CV AUC')\n",
    "plt.plot(neighbors, Set3_Cv_Auc, label='CV AUC')\n",
    "plt.legend()\n",
    "plt.xlabel(\"K: hyperparameter\")\n",
    "plt.ylabel(\"Auc\")\n",
    "plt.title(\" Nearest Neibhours Vs AUC  \")\n",
    "plt.show()"
   ]
  },
  {
   "cell_type": "markdown",
   "metadata": {},
   "source": [
    "\n",
    "Here, we are trianing the KNN-Model with the Average Woork2Vec.\n",
    "\n",
    "We do not know what is the best nearest neibhour to train the Model.\n",
    "\n",
    "To find out this, we are trying to train the model on top of Cross-Validation Data with different neighrest neibhours.\n",
    "\n",
    "We got the AUC, Error and AUC/ROC which helps to judge a Model performance.\n",
    "\n",
    "Let us see the  AUC values for Cross Validation Data and Training Data at each k.\n",
    "\n",
    "\n"
   ]
  },
  {
   "cell_type": "code",
   "execution_count": 212,
   "metadata": {},
   "outputs": [
    {
     "name": "stdout",
     "output_type": "stream",
     "text": [
      "Best nearest neighbors of CrosValidation:  31\n"
     ]
    }
   ],
   "source": [
    "Optimal_N = neighbors[Set3_Cv_Auc.index(max(Set3_Cv_Auc))]  \n",
    "print(\"Best nearest neighbors of CrosValidation: \", Optimal_N  )"
   ]
  },
  {
   "cell_type": "markdown",
   "metadata": {},
   "source": [
    "\n",
    "According to the CrossValidation, we are getting the Highest AUC at Neigherest Neibhour value is at 31.\n",
    "\n",
    "Hence, we can expext the test data AUC near around the same.\n",
    "\n",
    "In case  we have the CrossValidation AUC High and Test AUC is High, then we can consider it as a Over Fitting.\n",
    "\n",
    "In case we have the CrossValidation AUC Low and Test AUc is also Low, then we can consider it as a Under Fitting."
   ]
  },
  {
   "cell_type": "code",
   "execution_count": 213,
   "metadata": {},
   "outputs": [
    {
     "name": "stdout",
     "output_type": "stream",
     "text": [
      " AUC for the  Train Data at nearest neibour  31  is  0.8958472148311497\n",
      " AUC for the Test-Validation Data at nearest neibour  31  is  0.8591701520990562\n"
     ]
    }
   ],
   "source": [
    "#https://scikit-learn.org/stable/modules/generated/sklearn.metrics.roc_auc_score.html#sklearn.metrics.roc_auc_score\n",
    "#Set3_Train_Pred =  knn.predict(X_Bow_Tr)\n",
    "#Set3_Train_Acc  = accuracy_score(Y_tr,Set3_Train_Pred,normalize=True)\n",
    "\n",
    "Set3_Train_Auc = []\n",
    "Set3_Tst_Auc   = []\n",
    "Set3_Train_Prb = []\n",
    "Set3_Tst_Prb   = []\n",
    "Set3_Train_Predict = []\n",
    "Set3_Tst_Predict   = []\n",
    "\n",
    "\n",
    "knn =  KNeighborsClassifier(n_neighbors = i, algorithm = 'brute')\n",
    "knn.fit(X_AvgW2V_Tr,Y_tr)    \n",
    "    \n",
    "Train_Predict =  knn.predict(X_AvgW2V_Tr)\n",
    "Tst_Predict   =  knn.predict(X_AvgW2V_Test)\n",
    "        \n",
    "# Let PLOT  AUC-socre Vs each nearest neibhours  for both Test and CrossValidation Data\n",
    "Train_pred_prob   =  knn.predict_proba(X_AvgW2V_Tr)[:,1] # Probablity of TRAIN-Validation \n",
    "Tst_pred_prob     =  knn.predict_proba(X_AvgW2V_Test)[:,1] \n",
    "\n",
    "Train_Auc=  roc_auc_score(Y_tr,Train_pred_prob)\n",
    "Test_Auc  = roc_auc_score(Y_test,Tst_pred_prob)\n",
    "\n",
    "#Probablity Scores\n",
    "Set3_Train_Prb = Train_pred_prob\n",
    "Set3_Tst_Prb = Tst_pred_prob\n",
    "    \n",
    "#AUC\n",
    "Set3_Train_Auc= Train_Auc\n",
    "Set3_Tst_Auc = Test_Auc\n",
    "    \n",
    "#MOdel Predictions    \n",
    "Set3_Train_Predict= Train_Predict\n",
    "Set3_Tst_Predict=Tst_Predict\n",
    "\n",
    "\n",
    "print(\" AUC for the  Train Data at nearest neibour \",Optimal_N,  \" is \", Train_Auc)\n",
    "print(\" AUC for the Test-Validation Data at nearest neibour \",Optimal_N,  \" is \", Test_Auc)"
   ]
  },
  {
   "cell_type": "code",
   "execution_count": 214,
   "metadata": {},
   "outputs": [
    {
     "data": {
      "image/png": "[encoded data removed]",
      "text/plain": [
       "<Figure size 432x288 with 1 Axes>"
      ]
     },
     "metadata": {},
     "output_type": "display_data"
    }
   ],
   "source": [
    "#https://qiita.com/bmj0114/items/460424c110a8ce22d945\n",
    "set3_tst_fpr, set3_tst_tpr, thresholds = roc_curve(Y_test,Set3_Tst_Prb)\n",
    "set3_tst_roc_auc = auc(set3_tst_fpr, set3_tst_tpr)\n",
    "\n",
    "\n",
    "set3_train_fpr, set3_train_tpr, thresholds = roc_curve(Y_tr,Set3_Train_Prb)\n",
    "set3_train_roc_auc = auc(set3_train_fpr, set3_train_tpr)\n",
    "\n",
    "lw=1\n",
    "plt.figure()\n",
    "plt.plot(set3_tst_fpr, set3_tst_tpr, color='darkorange', lw=1, label='Test ROC curve (area = %0.2f)' % set3_tst_roc_auc)\n",
    "plt.plot(set3_train_fpr, set3_train_tpr, color='navy', lw=1, label='Train ROC curve (area = %0.2f)' % set3_train_roc_auc)\n",
    "plt.plot([0, 1], [0,1], color='red', lw=lw, linestyle='--')\n",
    "plt.xlim([0.0, 1.0])\n",
    "plt.ylim([0.0, 1.04])\n",
    "plt.xlabel('False Positive Rate')\n",
    "plt.ylabel('True Positive Rate')\n",
    "plt.title('ROC - Receiver operating characteristic')\n",
    "plt.legend(loc=\"lower right\")\n",
    "plt.show()"
   ]
  },
  {
   "cell_type": "code",
   "execution_count": 215,
   "metadata": {},
   "outputs": [],
   "source": [
    "Total_AUC['set3']=[Optimal_N , set3_tst_roc_auc]"
   ]
  },
  {
   "cell_type": "markdown",
   "metadata": {},
   "source": [
    "###### Confusion Matrix"
   ]
  },
  {
   "cell_type": "code",
   "execution_count": 216,
   "metadata": {},
   "outputs": [
    {
     "name": "stdout",
     "output_type": "stream",
     "text": [
      "Train Confusion Matrix::\n",
      " [[ 1237  2514]\n",
      " [  334 18489]] \n",
      "\n"
     ]
    },
    {
     "data": {
      "text/plain": [
       "<matplotlib.axes._subplots.AxesSubplot at 0x20d30b71550>"
      ]
     },
     "execution_count": 216,
     "metadata": {},
     "output_type": "execute_result"
    },
    {
     "data": {
      "image/png": "[encoded data removed]",
      "text/plain": [
       "<Figure size 432x288 with 2 Axes>"
      ]
     },
     "metadata": {},
     "output_type": "display_data"
    }
   ],
   "source": [
    "Train_CM= confusion_matrix(Y_tr, Set3_Train_Predict, labels=None, sample_weight=None) \n",
    "print(\"Train Confusion Matrix::\\n\",Train_CM,\"\\n\")\n",
    "sns.heatmap(Train_CM, cmap=\"YlGnBu\"  ,annot=True,annot_kws={\"size\": 17})"
   ]
  },
  {
   "cell_type": "code",
   "execution_count": 217,
   "metadata": {},
   "outputs": [
    {
     "name": "stdout",
     "output_type": "stream",
     "text": [
      "Test Confusion Matrix::\n",
      " [[  628  1613]\n",
      " [  265 11316]] \n",
      "\n"
     ]
    },
    {
     "data": {
      "text/plain": [
       "<matplotlib.axes._subplots.AxesSubplot at 0x20d30b99048>"
      ]
     },
     "execution_count": 217,
     "metadata": {},
     "output_type": "execute_result"
    },
    {
     "data": {
      "image/png": "[encoded data removed]",
      "text/plain": [
       "<Figure size 432x288 with 2 Axes>"
      ]
     },
     "metadata": {},
     "output_type": "display_data"
    }
   ],
   "source": [
    "Test_CM= confusion_matrix(Y_test, Set3_Tst_Predict, labels=None, sample_weight=None) \n",
    "print(\"Test Confusion Matrix::\\n\",Test_CM,\"\\n\")  \n",
    "sns.heatmap(Test_CM, cmap=\"YlGnBu\"  ,annot=True,annot_kws={\"size\": 17})"
   ]
  },
  {
   "cell_type": "markdown",
   "metadata": {},
   "source": [
    "\n",
    "By definition a confusion matrix C is such that C-ij is equal to the number of observations known to be in group i  but predicted to be in group j .\n",
    "\n",
    "\n",
    "Horizantal Lines are Predictions and the Verticals are Acutuals\n",
    " \n",
    "\n",
    "Thus in binary classification, the count of \n",
    "\n",
    "true negatives is 628 at C(0,0) , \n",
    "\n",
    "false negatives is 265 C(1,0), \n",
    "\n",
    "true positives is 11316 at C(1,1) \n",
    "\n",
    "and false positives is 1613 at C(0,1).\n"
   ]
  },
  {
   "cell_type": "markdown",
   "metadata": {},
   "source": [
    "### [5.1.4] Applying KNN brute force on TFIDF W2V,<font color='red'> SET 4</font>"
   ]
  },
  {
   "cell_type": "code",
   "execution_count": 218,
   "metadata": {},
   "outputs": [],
   "source": [
    "# Please write all the code with proper documentation\n",
    "#Bag_O_W_Dense,Tfidf_Data_Dense,Total_W2V_Vecors,Tfidf_W2V_vectors"
   ]
  },
  {
   "cell_type": "code",
   "execution_count": 219,
   "metadata": {},
   "outputs": [
    {
     "name": "stdout",
     "output_type": "stream",
     "text": [
      " AUC for the  TRAIN Data at nearest neibour  3  is  0.9134352144923071\n",
      " AUC for the Cross-Validation Data at nearest neibour  3  is  0.6609238777089783\n",
      " AUC for the  TRAIN Data at nearest neibour  5  is  0.8806625906328289\n",
      " AUC for the Cross-Validation Data at nearest neibour  5  is  0.6824257352941177\n",
      " AUC for the  TRAIN Data at nearest neibour  7  is  0.8626597270142331\n",
      " AUC for the Cross-Validation Data at nearest neibour  7  is  0.6991528250773995\n",
      " AUC for the  TRAIN Data at nearest neibour  9  is  0.8489262237573213\n",
      " AUC for the Cross-Validation Data at nearest neibour  9  is  0.7088974845201239\n",
      " AUC for the  TRAIN Data at nearest neibour  11  is  0.8378836107144879\n",
      " AUC for the Cross-Validation Data at nearest neibour  11  is  0.7187628095975231\n",
      " AUC for the  TRAIN Data at nearest neibour  13  is  0.8330921490584678\n",
      " AUC for the Cross-Validation Data at nearest neibour  13  is  0.724004721362229\n",
      " AUC for the  TRAIN Data at nearest neibour  15  is  0.8276535384362538\n",
      " AUC for the Cross-Validation Data at nearest neibour  15  is  0.7288383900928791\n",
      " AUC for the  TRAIN Data at nearest neibour  17  is  0.8236618068506211\n",
      " AUC for the Cross-Validation Data at nearest neibour  17  is  0.7314968266253871\n",
      " AUC for the  TRAIN Data at nearest neibour  19  is  0.8221111321561837\n",
      " AUC for the Cross-Validation Data at nearest neibour  19  is  0.7349159055727554\n",
      " AUC for the  TRAIN Data at nearest neibour  21  is  0.8202145474730973\n",
      " AUC for the Cross-Validation Data at nearest neibour  21  is  0.7388579334365325\n",
      " AUC for the  TRAIN Data at nearest neibour  23  is  0.8169293586028867\n",
      " AUC for the Cross-Validation Data at nearest neibour  23  is  0.7396951238390094\n",
      " AUC for the  TRAIN Data at nearest neibour  25  is  0.8153131999452787\n",
      " AUC for the Cross-Validation Data at nearest neibour  25  is  0.7406568111455109\n",
      " AUC for the  TRAIN Data at nearest neibour  27  is  0.8130296388192956\n",
      " AUC for the Cross-Validation Data at nearest neibour  27  is  0.7394300309597523\n",
      " AUC for the  TRAIN Data at nearest neibour  29  is  0.8103444280838007\n",
      " AUC for the Cross-Validation Data at nearest neibour  29  is  0.7417170665634676\n",
      " AUC for the  TRAIN Data at nearest neibour  31  is  0.8083128247739366\n",
      " AUC for the Cross-Validation Data at nearest neibour  31  is  0.7431274380804954\n"
     ]
    }
   ],
   "source": [
    "\n",
    "#https://www.analyticsvidhya.com/blog/2017/11/information-retrieval-using-kdtree/\n",
    "Set4_Train_Auc = []\n",
    "Set4_Cv_Auc    = []\n",
    "for i in neighbors:\n",
    "    knn =  KNeighborsClassifier(n_neighbors = i, algorithm = 'brute')\n",
    "    knn.fit(X_AvgW2VtfIdf_Tr,Y_tr)    \n",
    "    \n",
    "    #pred_tr =  knn.predict(X_Tfidf_Tr) # Class-Predictions of TRAIN-Validation\n",
    "    #pred_cv =  knn.predict(X_Tfidf_Cv) # Class-Predictions of Cross-Validation    \n",
    "    #Y_train_acc  = accuracy_score(Y_tr,pred_tr,normalize=True)    # Accuracy of TRAIN-Validation\n",
    "    #Y_cv_acc  = accuracy_score(Y_cv,pred_cv,normalize=True)     # Accuracy of TRAIN-Validation            \n",
    "    \n",
    "    #Set4_Acc_Tr.append(Y_train_acc)   #Accuracy                \n",
    "    #Set4_Acc_Cv.append(Y_cv_acc)      #Accuracy    \n",
    "     \n",
    "    \n",
    "    # Let PLOT  AUC-socre Vs each nearest neibhours  for both Test and CrossValidation Data    \n",
    "    Train_pred_prob =  knn.predict_proba(X_AvgW2VtfIdf_Tr)[:,1]    # Probablity of TRAIN-Validation    \n",
    "    Cv_pred_prob    =  knn.predict_proba(X_AvgW2VtfIdf_Cv)[:,1]    \n",
    "        \n",
    "    Train_Auc = roc_auc_score(Y_tr,Train_pred_prob)\n",
    "    Cv_Auc    = roc_auc_score(Y_cv,Cv_pred_prob)\n",
    "      \n",
    "    Set4_Train_Auc.append(Train_Auc)\n",
    "    Set4_Cv_Auc.append(Cv_Auc)\n",
    "\n",
    "    print(\" AUC for the  TRAIN Data at nearest neibour \",i,  \" is \", Train_Auc)\n",
    "    print(\" AUC for the Cross-Validation Data at nearest neibour \",i,  \" is \", Cv_Auc)"
   ]
  },
  {
   "cell_type": "markdown",
   "metadata": {},
   "source": [
    "Here, we are trianing the KNN-Model with the Tf-Idf values.\n",
    "\n",
    "We do not know what is the best nearest neibhour to train the Model.\n",
    "\n",
    "To find out this, we are trying to train the model on top of Cross-Validation Data with different neighrest neibhours.\n",
    "\n",
    "We got the  Error and AUC/ROC which helps to judge a Model performance.\n",
    "\n",
    "Let us see the  AUC values for Cross Validation Data and Training Data."
   ]
  },
  {
   "cell_type": "markdown",
   "metadata": {},
   "source": [
    "#### AUC Vs KNN  -  for the Train and CrossValidation Data"
   ]
  },
  {
   "cell_type": "code",
   "execution_count": 220,
   "metadata": {},
   "outputs": [
    {
     "data": {
      "image/png": "[encoded data removed]",
      "text/plain": [
       "<Figure size 432x288 with 1 Axes>"
      ]
     },
     "metadata": {},
     "output_type": "display_data"
    }
   ],
   "source": [
    "#set4_train_auc,set4_cv_auc\n",
    "plt.grid()\n",
    "plt.scatter(neighbors, Set4_Train_Auc, label='Train AUC')\n",
    "plt.plot(neighbors, Set4_Train_Auc, label='Train AUC')\n",
    "plt.scatter(neighbors, Set4_Cv_Auc, label='CV AUC')\n",
    "plt.plot(neighbors, Set4_Cv_Auc, label='CV AUC')\n",
    "plt.legend()\n",
    "plt.xlabel(\"K: hyperparameter\")\n",
    "plt.ylabel(\"Auc\")\n",
    "plt.title(\" Nearest Neibhours Vs AUC  \")\n",
    "plt.show()\n"
   ]
  },
  {
   "cell_type": "markdown",
   "metadata": {},
   "source": [
    "AUC for Both CrossValidation  and  Training Data Getting Closer/Converging at Neibhour 9 \n",
    "\n",
    "Accoring to analysis of Train-AUC and CrosValidation-AUC,we can Uderstand that 9-nearest neibhours will be the best fit.\n",
    "\n",
    "Let us figure out, which hyper parameter can yeild the  the Highest AUC\n",
    ".\n",
    "\n",
    "Average the AUc from the Hyper parameters, the value we get is the one we expect on top of test data.\n"
   ]
  },
  {
   "cell_type": "code",
   "execution_count": 221,
   "metadata": {},
   "outputs": [
    {
     "name": "stdout",
     "output_type": "stream",
     "text": [
      "Highest nearest neighbors of CrosValidation:  31\n"
     ]
    }
   ],
   "source": [
    "Optimal_N = neighbors[Set4_Cv_Auc.index(max(Set4_Cv_Auc))]  \n",
    "print(\"Highest nearest neighbors of CrosValidation: \", Optimal_N  )"
   ]
  },
  {
   "cell_type": "markdown",
   "metadata": {},
   "source": [
    "\n",
    "Nearest Neibhours we have at highest AUC is = 31\n",
    "\n",
    "Hence, we can expect the test data AUC near around the same.\n",
    "\n",
    "In case we we have the CrossValidation AUC High and Test AUC is High, then we can consider it as a Over Fitting.\n",
    "\n",
    "In case we we have the CrossValidation AUC Low and Test AUC is also Low, then we can consider it as a Under Fitting\n"
   ]
  },
  {
   "cell_type": "code",
   "execution_count": null,
   "metadata": {},
   "outputs": [],
   "source": [
    "\n",
    "#https://scikit-learn.org/stable/modules/generated/sklearn.metrics.roc_auc_score.html#sklearn.metrics.roc_auc_score\n",
    "#Set4_Train_Pred =  knn.predict(X_Bow_Tr)\n",
    "#Set4_Train_Acc  = accuracy_score(Y_tr,Set4_Train_Pred,normalize=True)\n",
    "\n",
    "Set4_Train_Auc = []\n",
    "Set4_Tst_Auc   = []\n",
    "Set4_Train_Prb = []\n",
    "Set4_Tst_Prb   = []\n",
    "Set4_Train_Predict = []\n",
    "Set4_Tst_Predict   = []\n",
    "\n",
    "\n",
    "knn =  KNeighborsClassifier(n_neighbors = i, algorithm = 'brute')\n",
    "knn.fit(X_AvgW2VtfIdf_Tr,Y_tr)    \n",
    "    \n",
    "Train_Predict =  knn.predict(X_AvgW2VtfIdf_Tr)\n",
    "Tst_Predict   =  knn.predict(X_AvgW2VtfIdf_Test)\n",
    "        \n",
    "   # Let PLOT  AUC-socre Vs each nearest neibhours  for both Test and CrossValidation Data\n",
    "Train_pred_prob   =  knn.predict_proba(X_AvgW2VtfIdf_Tr)[:,1] # Probablity of TRAIN-Validation \n",
    "Tst_pred_prob     =  knn.predict_proba(X_AvgW2VtfIdf_Test)[:,1] \n",
    "\n",
    "Train_Auc=  roc_auc_score(Y_tr,Train_pred_prob)\n",
    "Test_Auc  = roc_auc_score(Y_test,Tst_pred_prob)\n",
    "\n",
    "    #Probablity Scores\n",
    "Set4_Train_Prb=Train_pred_prob\n",
    "Set4_Tst_Prb=Tst_pred_prob\n",
    "    \n",
    "    #AUC\n",
    "Set4_Train_Auc=Train_Auc\n",
    "Set4_Tst_Auc=Test_Auc\n",
    "    \n",
    "    #MOdel Predictions    \n",
    "Set4_Train_Predict=Train_Predict\n",
    "Set4_Tst_Predict=Tst_Predict\n",
    "\n",
    "print(\" AUC for the  Train Data at nearest neibour \",Optimal_N,  \" is \", Train_Auc)\n",
    "print(\" AUC for the Test-Validation Data at nearest neibour \",Optimal_N,  \" is \", Test_Auc)"
   ]
  },
  {
   "cell_type": "code",
   "execution_count": 223,
   "metadata": {},
   "outputs": [
    {
     "data": {
      "image/png": "[encoded data removed]",
      "text/plain": [
       "<Figure size 432x288 with 1 Axes>"
      ]
     },
     "metadata": {},
     "output_type": "display_data"
    }
   ],
   "source": [
    "#https://qiita.com/bmj0114/items/460424c110a8ce22d945\n",
    "set4_tst_fpr, set4_tst_tpr, thresholds = roc_curve(Y_test,Set4_Tst_Predict)\n",
    "set4_tst_roc_auc = auc(set4_tst_fpr, set4_tst_tpr)\n",
    "\n",
    "\n",
    "set4_train_fpr, set4_train_tpr, thresholds = roc_curve(Y_tr,Set4_Train_Predict)\n",
    "set4_train_roc_auc = auc(set4_train_fpr, set4_train_tpr)\n",
    "\n",
    "lw=1\n",
    "plt.figure()\n",
    "plt.plot(set4_tst_fpr, set4_tst_tpr, color='darkorange', lw=1, label='Test ROC curve (area = %0.2f)' % set4_tst_roc_auc)\n",
    "plt.plot(set4_train_fpr, set4_train_tpr, color='navy', lw=1, label='Train ROC curve (area = %0.2f)' % set4_train_roc_auc)\n",
    "plt.plot([0, 1], [0,1], color='red', lw=lw, linestyle='--')\n",
    "plt.xlim([0.0, 1.0])\n",
    "plt.ylim([0.0, 1.04])\n",
    "plt.xlabel('False Positive Rate')\n",
    "plt.ylabel('True Positive Rate')\n",
    "plt.title('ROC - Receiver operating characteristic')\n",
    "plt.legend(loc=\"lower right\")\n",
    "plt.show()"
   ]
  },
  {
   "cell_type": "code",
   "execution_count": 224,
   "metadata": {},
   "outputs": [],
   "source": [
    "Total_AUC['set4']=[Optimal_N , set4_tst_roc_auc]"
   ]
  },
  {
   "cell_type": "markdown",
   "metadata": {},
   "source": [
    "###### Confusion Matrix"
   ]
  },
  {
   "cell_type": "code",
   "execution_count": 225,
   "metadata": {},
   "outputs": [
    {
     "name": "stdout",
     "output_type": "stream",
     "text": [
      "Train Confusion Matrix::\n",
      " [[  360  3391]\n",
      " [  170 18653]] \n",
      "\n"
     ]
    },
    {
     "data": {
      "text/plain": [
       "<matplotlib.axes._subplots.AxesSubplot at 0x20d30e37470>"
      ]
     },
     "execution_count": 225,
     "metadata": {},
     "output_type": "execute_result"
    },
    {
     "data": {
      "image/png": "[encoded data removed]",
      "text/plain": [
       "<Figure size 432x288 with 2 Axes>"
      ]
     },
     "metadata": {},
     "output_type": "display_data"
    }
   ],
   "source": [
    "Train_CM= confusion_matrix(Y_tr, Set4_Train_Predict, labels=None, sample_weight=None)   \n",
    "print(\"Train Confusion Matrix::\\n\",Train_CM,\"\\n\")\n",
    "sns.heatmap(Train_CM, cmap=\"YlGnBu\"  ,annot=True,annot_kws={\"size\": 17})"
   ]
  },
  {
   "cell_type": "code",
   "execution_count": 226,
   "metadata": {},
   "outputs": [
    {
     "name": "stdout",
     "output_type": "stream",
     "text": [
      "Test Confusion Matrix::\n",
      " [[  154  2087]\n",
      " [  147 11434]] \n",
      "\n"
     ]
    },
    {
     "data": {
      "text/plain": [
       "<matplotlib.axes._subplots.AxesSubplot at 0x20d30f12860>"
      ]
     },
     "execution_count": 226,
     "metadata": {},
     "output_type": "execute_result"
    },
    {
     "data": {
      "image/png": "[encoded data removed]",
      "text/plain": [
       "<Figure size 432x288 with 2 Axes>"
      ]
     },
     "metadata": {},
     "output_type": "display_data"
    }
   ],
   "source": [
    "Test_CM= confusion_matrix(Y_test, Set4_Tst_Predict, labels=None, sample_weight=None) \n",
    "print(\"Test Confusion Matrix::\\n\",Test_CM,\"\\n\")  \n",
    "sns.heatmap(Test_CM, cmap=\"YlGnBu\"  ,annot=True,annot_kws={\"size\": 17})"
   ]
  },
  {
   "cell_type": "markdown",
   "metadata": {},
   "source": [
    "\n",
    "By definition a confusion matrix C is such that C-ij is equal to the number of observations known to be in group i  but predicted to be in group j .\n",
    "\n",
    "\n",
    "Horizantal Lines are Predictions and the Verticals are Acutuals\n",
    " \n",
    "\n",
    "Thus in binary classification, the count of \n",
    "\n",
    "true negatives is 154 at C(0,0) , \n",
    "\n",
    "false negatives is 147 C(1,0), \n",
    "\n",
    "true positives is 11434 at C(1,1) \n",
    "\n",
    "and false positives is 2087 at C(0,1).\n"
   ]
  },
  {
   "cell_type": "code",
   "execution_count": 227,
   "metadata": {},
   "outputs": [],
   "source": [
    "# Please write all the code with proper documentation"
   ]
  },
  {
   "cell_type": "markdown",
   "metadata": {},
   "source": [
    "## [5.2] Applying KNN kd-tree"
   ]
  },
  {
   "cell_type": "markdown",
   "metadata": {},
   "source": [
    "### [5.2.1] Applying KNN kd-tree on BOW,<font color='red'> SET 5</font>"
   ]
  },
  {
   "cell_type": "code",
   "execution_count": 228,
   "metadata": {},
   "outputs": [],
   "source": [
    "# Please write all the code with proper documentation"
   ]
  },
  {
   "cell_type": "raw",
   "metadata": {},
   "source": [
    "Applying the KD-Tree on BagOfWords"
   ]
  },
  {
   "cell_type": "code",
   "execution_count": 229,
   "metadata": {},
   "outputs": [
    {
     "name": "stdout",
     "output_type": "stream",
     "text": [
      " AUC for the  TRAIN Data at nearest neibour  3  is  0.9075206111606173\n",
      " AUC for the Cross-Validation Data at nearest neibour  3  is  0.6729682275541796\n",
      " AUC for the  TRAIN Data at nearest neibour  5  is  0.8759118838387151\n",
      " AUC for the Cross-Validation Data at nearest neibour  5  is  0.6979592492260062\n",
      " AUC for the  TRAIN Data at nearest neibour  7  is  0.856668330333714\n",
      " AUC for the Cross-Validation Data at nearest neibour  7  is  0.7148040247678018\n",
      " AUC for the  TRAIN Data at nearest neibour  9  is  0.8477760160378278\n",
      " AUC for the Cross-Validation Data at nearest neibour  9  is  0.7237731037151702\n",
      " AUC for the  TRAIN Data at nearest neibour  11  is  0.837892221993737\n",
      " AUC for the Cross-Validation Data at nearest neibour  11  is  0.7308560758513931\n",
      " AUC for the  TRAIN Data at nearest neibour  13  is  0.8335559825849908\n",
      " AUC for the Cross-Validation Data at nearest neibour  13  is  0.7415518962848298\n",
      " AUC for the  TRAIN Data at nearest neibour  15  is  0.8284478298039575\n",
      " AUC for the Cross-Validation Data at nearest neibour  15  is  0.7454275928792571\n",
      " AUC for the  TRAIN Data at nearest neibour  17  is  0.8240504970513947\n",
      " AUC for the Cross-Validation Data at nearest neibour  17  is  0.7467004643962849\n",
      " AUC for the  TRAIN Data at nearest neibour  19  is  0.819365231730587\n",
      " AUC for the Cross-Validation Data at nearest neibour  19  is  0.7510936145510835\n",
      " AUC for the  TRAIN Data at nearest neibour  21  is  0.8149123505615524\n",
      " AUC for the Cross-Validation Data at nearest neibour  21  is  0.7522578947368421\n",
      " AUC for the  TRAIN Data at nearest neibour  23  is  0.8133218770271649\n",
      " AUC for the Cross-Validation Data at nearest neibour  23  is  0.7521466718266254\n",
      " AUC for the  TRAIN Data at nearest neibour  25  is  0.8131101287863551\n",
      " AUC for the Cross-Validation Data at nearest neibour  25  is  0.7517726006191949\n",
      " AUC for the  TRAIN Data at nearest neibour  27  is  0.8102964003733839\n",
      " AUC for the Cross-Validation Data at nearest neibour  27  is  0.7546842492260062\n",
      " AUC for the  TRAIN Data at nearest neibour  29  is  0.8089596904743659\n",
      " AUC for the Cross-Validation Data at nearest neibour  29  is  0.7544361068111455\n",
      " AUC for the  TRAIN Data at nearest neibour  31  is  0.8064759666773519\n",
      " AUC for the Cross-Validation Data at nearest neibour  31  is  0.7559072755417956\n"
     ]
    }
   ],
   "source": [
    "#https://www.analyticsvidhya.com/blog/2017/11/information-retrieval-using-kdtree/\n",
    "Set5_Train_Auc = []\n",
    "Set5_Cv_Auc    = []\n",
    "for i in neighbors:\n",
    "    knn =  KNeighborsClassifier(n_neighbors = i,leaf_size=30 , algorithm= 'kd_tree')\n",
    "    knn.fit(X_Bow_Tr,Y_tr)    \n",
    "\n",
    "    #pred_tr =  knn.predict(X_Tfidf_Tr) # Class-Predictions of TRAIN-Validation\n",
    "    #pred_cv =  knn.predict(X_Tfidf_Cv) # Class-Predictions of Cross-Validation    \n",
    "    #Y_train_acc  = accuracy_score(Y_tr,pred_tr,normalize=True)    # Accuracy of TRAIN-Validation\n",
    "    #Y_cv_acc  = accuracy_score(Y_cv,pred_cv,normalize=True)     # Accuracy of TRAIN-Validation            \n",
    "    \n",
    "    #Set5_Acc_Tr.append(Y_train_acc)   #Accuracy                \n",
    "    #Set5_Acc_Cv.append(Y_cv_acc)      #Accuracy    \n",
    "     \n",
    "    \n",
    "    # Let PLOT  AUC-socre Vs each nearest neibhours  for both Test and CrossValidation Data    \n",
    "    Train_pred_prob =  knn.predict_proba(X_Bow_Tr)[:,1]    # Probablity of TRAIN-Validation    \n",
    "    Cv_pred_prob    =  knn.predict_proba(X_Bow_Cv)[:,1]    \n",
    "        \n",
    "    Train_Auc = roc_auc_score(Y_tr,Train_pred_prob)\n",
    "    Cv_Auc    = roc_auc_score(Y_cv,Cv_pred_prob)\n",
    "      \n",
    "    Set5_Train_Auc.append(Train_Auc)\n",
    "    Set5_Cv_Auc.append(Cv_Auc)\n",
    "\n",
    "    print(\" AUC for the  TRAIN Data at nearest neibour \",i,  \" is \", Train_Auc)\n",
    "    print(\" AUC for the Cross-Validation Data at nearest neibour \",i,  \" is \", Cv_Auc)\n"
   ]
  },
  {
   "cell_type": "markdown",
   "metadata": {},
   "source": [
    "Here, we are trianing the KD-Tree Model with the Bag of words values.\n",
    "\n",
    "We do not know what is the best nearest neibhour to train the Model.\n",
    "\n",
    "To find out this, we are trying to train the model on top of Cross-Validation Data with different neighrest neibhours.\n",
    "\n",
    "We got the AUC/ROC which helps to judge a Model performance.\n",
    "\n",
    "Let us see the AUC values for Cross Validation Data and Training Data"
   ]
  },
  {
   "cell_type": "markdown",
   "metadata": {},
   "source": [
    "#### Plot KNN VS AUC"
   ]
  },
  {
   "cell_type": "code",
   "execution_count": 230,
   "metadata": {},
   "outputs": [
    {
     "data": {
      "image/png": "[encoded data removed]",
      "text/plain": [
       "<Figure size 432x288 with 1 Axes>"
      ]
     },
     "metadata": {},
     "output_type": "display_data"
    }
   ],
   "source": [
    "#set5_train_auc,set5_cv_auc\n",
    "plt.grid()\n",
    "plt.scatter(neighbors, Set5_Train_Auc, label='Train AUC')\n",
    "plt.plot(neighbors, Set5_Train_Auc, label='Train AUC')\n",
    "plt.scatter(neighbors, Set5_Cv_Auc, label='CV AUC')\n",
    "plt.plot(neighbors, Set5_Cv_Auc, label='CV AUC')\n",
    "plt.legend()\n",
    "plt.xlabel(\"K: hyperparameter\")\n",
    "plt.ylabel(\"Auc\")\n",
    "plt.title(\" Nearest Neibhours Vs AUC  \")\n",
    "plt.show()"
   ]
  },
  {
   "cell_type": "markdown",
   "metadata": {},
   "source": [
    "Both AUC for CrossValidation  and  Training Data Getting Closer/Converging at Neibhour 23 \n",
    "\n",
    "Accoring to analysis of Train-AUC and CrosValidation-AUC,we can Uderstand that 23-nearest neibhours will be the best fit.\n",
    "\n",
    "Let us figure out, which hyper parameter can yeild the  the Highest accuracy.\n",
    "\n",
    "Average the accruacis from the Hyper parameters, the value we get is the one we expect on top of test data.\n"
   ]
  },
  {
   "cell_type": "code",
   "execution_count": 231,
   "metadata": {},
   "outputs": [
    {
     "name": "stdout",
     "output_type": "stream",
     "text": [
      "Highest nearest neighbors of CrosValidation:  31\n"
     ]
    }
   ],
   "source": [
    "#set1_tst_fpr, set1_tst_tpr, set1_tst_thresholds = roc_curve(set1_tst_pred, Y_test)\n",
    "#set1_cv_roc_auc = auc(set1_tst_fpr, set1_tst_fpr)\n",
    "\n",
    "#https://qiita.com/bmj0114/items/460424c110a8ce22d945\n",
    "\n",
    "Optimal_N = neighbors[Set5_Cv_Auc.index(max(Set5_Cv_Auc))]  \n",
    "print(\"Highest nearest neighbors of CrosValidation: \", Optimal_N  )"
   ]
  },
  {
   "cell_type": "markdown",
   "metadata": {},
   "source": [
    "\n",
    "\n",
    "Hence, we can expext the test data AUC near around the same.\n",
    "\n",
    "In case we we have the CrossValidation AUC High and Test Accruacy is High, then we can consider it as a Over Fitting.\n",
    "\n",
    "In case we we have the CrossValidation AUC Low and Test Accruacy is also Low, then we can consider it as a Under Fitting"
   ]
  },
  {
   "cell_type": "code",
   "execution_count": 232,
   "metadata": {},
   "outputs": [
    {
     "name": "stdout",
     "output_type": "stream",
     "text": [
      " AUC for the  Train Data at nearest neibour  31  is \n",
      " 0.8064759666773519\n",
      " AUC for the Test-Validation Data at nearest neibour  31  is \n",
      " 0.745163983029182\n"
     ]
    }
   ],
   "source": [
    "\n",
    "#https://scikit-learn.org/stable/modules/generated/sklearn.metrics.roc_auc_score.html#sklearn.metrics.roc_auc_score\n",
    "#Set5_Train_Pred =  knn.predict(X_Bow_Tr)\n",
    "#Set5_Train_Acc  = accuracy_score(Y_tr,Set5_Train_Pred,normalize=True)\n",
    "\n",
    "Set5_Train_Auc = []\n",
    "Set5_Tst_Auc   = []\n",
    "Set5_Train_Prb = []\n",
    "Set5_Tst_Prb   = []\n",
    "Set5_Train_Predict = []\n",
    "Set5_Tst_Predict   = []\n",
    "\n",
    "knn =  KNeighborsClassifier(n_neighbors = i,leaf_size=30 , algorithm= 'kd_tree')\n",
    "knn.fit(X_Bow_Tr,Y_tr)    \n",
    "    \n",
    "Train_Predict =  knn.predict(X_Bow_Tr)\n",
    "Tst_Predict   =  knn.predict(X_Bow_Test)\n",
    "        \n",
    "# Let PLOT  AUC-socre Vs each nearest neibhours  for both Test and CrossValidation Data\n",
    "Train_pred_prob   =  knn.predict_proba(X_Bow_Tr)[:,1] # Probablity of TRAIN-Validation \n",
    "Tst_pred_prob     =  knn.predict_proba(X_Bow_Test)[:,1] \n",
    "\n",
    "Train_Auc=  roc_auc_score(Y_tr,Train_pred_prob)\n",
    "Test_Auc  = roc_auc_score(Y_test,Tst_pred_prob)\n",
    "\n",
    "    #Probablity Scores\n",
    "Set5_Train_Prb = Train_pred_prob\n",
    "Set5_Tst_Prb = Tst_pred_prob\n",
    "    \n",
    "    #AUC\n",
    "Set5_Train_Auc=Train_Auc\n",
    "Set5_Tst_Auc=Test_Auc\n",
    "    \n",
    "    #MOdel Predictions    \n",
    "Set5_Train_Predict=Train_Predict\n",
    "Set5_Tst_Predict=Tst_Predict\n",
    "\n",
    "print(\" AUC for the  Train Data at nearest neibour \",Optimal_N,  \" is \\n\", Train_Auc)\n",
    "print(\" AUC for the Test-Validation Data at nearest neibour \",Optimal_N,  \" is \\n\", Test_Auc)"
   ]
  },
  {
   "cell_type": "code",
   "execution_count": 233,
   "metadata": {},
   "outputs": [
    {
     "data": {
      "image/png": "[encoded data removed]",
      "text/plain": [
       "<Figure size 432x288 with 1 Axes>"
      ]
     },
     "metadata": {},
     "output_type": "display_data"
    }
   ],
   "source": [
    "#https://qiita.com/bmj0114/items/460424c110a8ce22d945\n",
    "set5_tst_fpr, set5_tst_tpr, thresholds = roc_curve(Y_test,Set5_Tst_Prb)\n",
    "set5_tst_roc_auc = auc(set5_tst_fpr, set5_tst_tpr)\n",
    "\n",
    "\n",
    "set5_train_fpr, set5_train_tpr, thresholds = roc_curve(Y_tr,Set5_Train_Prb)\n",
    "set5_train_roc_auc = auc(set5_train_fpr, set5_train_tpr)\n",
    "\n",
    "lw=1\n",
    "plt.figure()\n",
    "plt.plot(set5_tst_fpr, set5_tst_tpr, color='darkorange', lw=1, label='Test ROC curve (area = %0.2f)' % set5_tst_roc_auc)\n",
    "plt.plot(set5_train_fpr, set5_train_tpr, color='navy', lw=1, label='Train ROC curve (area = %0.2f)' % set5_train_roc_auc)\n",
    "plt.plot([0, 1], [0,1], color='red', lw=lw, linestyle='--')\n",
    "plt.xlim([0.0, 1.0])\n",
    "plt.ylim([0.0, 1.04])\n",
    "plt.xlabel('False Positive Rate')\n",
    "plt.ylabel('True Positive Rate')\n",
    "plt.title('ROC - Receiver operating characteristic')\n",
    "plt.legend(loc=\"lower right\")\n",
    "plt.show()"
   ]
  },
  {
   "cell_type": "code",
   "execution_count": 234,
   "metadata": {},
   "outputs": [],
   "source": [
    "Total_AUC['set5']=[Optimal_N , set5_tst_roc_auc]"
   ]
  },
  {
   "cell_type": "markdown",
   "metadata": {},
   "source": [
    "###### Confusion Matrix"
   ]
  },
  {
   "cell_type": "code",
   "execution_count": 235,
   "metadata": {},
   "outputs": [
    {
     "name": "stdout",
     "output_type": "stream",
     "text": [
      "Train Confusion Matrix::\n",
      " [[  621  3130]\n",
      " [  391 18432]] \n",
      "\n"
     ]
    },
    {
     "data": {
      "text/plain": [
       "<matplotlib.axes._subplots.AxesSubplot at 0x20d35893c88>"
      ]
     },
     "execution_count": 235,
     "metadata": {},
     "output_type": "execute_result"
    },
    {
     "data": {
      "image/png": "[encoded data removed]",
      "text/plain": [
       "<Figure size 432x288 with 2 Axes>"
      ]
     },
     "metadata": {},
     "output_type": "display_data"
    }
   ],
   "source": [
    "Train_CM= confusion_matrix(Y_tr, Set5_Train_Predict, labels=None, sample_weight=None) \n",
    "print(\"Train Confusion Matrix::\\n\",Train_CM,\"\\n\")\n",
    "sns.heatmap(Train_CM, cmap=\"YlGnBu\"  ,annot=True,annot_kws={\"size\": 17})"
   ]
  },
  {
   "cell_type": "code",
   "execution_count": 236,
   "metadata": {},
   "outputs": [
    {
     "name": "stdout",
     "output_type": "stream",
     "text": [
      "Test Confusion Matrix::\n",
      " [[  293  1948]\n",
      " [  277 11304]] \n",
      "\n"
     ]
    },
    {
     "data": {
      "text/plain": [
       "<matplotlib.axes._subplots.AxesSubplot at 0x20d3590dc18>"
      ]
     },
     "execution_count": 236,
     "metadata": {},
     "output_type": "execute_result"
    },
    {
     "data": {
      "image/png": "[encoded data removed]",
      "text/plain": [
       "<Figure size 432x288 with 2 Axes>"
      ]
     },
     "metadata": {},
     "output_type": "display_data"
    }
   ],
   "source": [
    "Test_CM= confusion_matrix(Y_test, Set5_Tst_Predict, labels=None, sample_weight=None) \n",
    "print(\"Test Confusion Matrix::\\n\",Test_CM,\"\\n\")  \n",
    "sns.heatmap(Test_CM, cmap=\"YlGnBu\"  ,annot=True,annot_kws={\"size\": 17})"
   ]
  },
  {
   "cell_type": "markdown",
   "metadata": {},
   "source": [
    "\n",
    "By definition a confusion matrix C is such that C-ij is equal to the number of observations known to be in group i  but predicted to be in group j .\n",
    "\n",
    "\n",
    "Horizantal Lines are Predictions and the Verticals are Acutuals\n",
    " \n",
    "\n",
    "Thus in binary classification, the count of \n",
    "\n",
    "true negatives is 293 at C(0,0) , \n",
    "\n",
    "false negatives is 277 C(1,0), \n",
    "\n",
    "true positives is 11304 at C(1,1),\n",
    "\n",
    "and false positives is 1948 at C(0,1).\n"
   ]
  },
  {
   "cell_type": "markdown",
   "metadata": {},
   "source": [
    "### [5.2.2] Applying KNN kd-tree on TFIDF,<font color='red'> SET 6</font>"
   ]
  },
  {
   "cell_type": "raw",
   "metadata": {},
   "source": [
    "Applying the Kd-Tree on Tf-Idf"
   ]
  },
  {
   "cell_type": "code",
   "execution_count": 237,
   "metadata": {},
   "outputs": [
    {
     "name": "stdout",
     "output_type": "stream",
     "text": [
      " AUC for the  TRAIN Data at nearest neibour  3  is  0.907740892782591\n",
      " AUC for the Cross-Validation Data at nearest neibour  3  is  0.6590726393188855\n",
      " AUC for the  TRAIN Data at nearest neibour  5  is  0.8764307771482652\n",
      " AUC for the Cross-Validation Data at nearest neibour  5  is  0.6862049922600618\n",
      " AUC for the  TRAIN Data at nearest neibour  7  is  0.8600517203629263\n",
      " AUC for the Cross-Validation Data at nearest neibour  7  is  0.7065621517027864\n",
      " AUC for the  TRAIN Data at nearest neibour  9  is  0.8497561287133009\n",
      " AUC for the Cross-Validation Data at nearest neibour  9  is  0.7232135061919505\n",
      " AUC for the  TRAIN Data at nearest neibour  11  is  0.8392996279459977\n",
      " AUC for the Cross-Validation Data at nearest neibour  11  is  0.7291846749226006\n",
      " AUC for the  TRAIN Data at nearest neibour  13  is  0.8316465730444043\n",
      " AUC for the Cross-Validation Data at nearest neibour  13  is  0.734661145510836\n",
      " AUC for the  TRAIN Data at nearest neibour  15  is  0.8278961059922706\n",
      " AUC for the Cross-Validation Data at nearest neibour  15  is  0.7429294504643964\n",
      " AUC for the  TRAIN Data at nearest neibour  17  is  0.8226376382331622\n",
      " AUC for the Cross-Validation Data at nearest neibour  17  is  0.7472634287925697\n",
      " AUC for the  TRAIN Data at nearest neibour  19  is  0.8208253251150948\n",
      " AUC for the Cross-Validation Data at nearest neibour  19  is  0.7508465170278638\n",
      " AUC for the  TRAIN Data at nearest neibour  21  is  0.8183011863750923\n",
      " AUC for the Cross-Validation Data at nearest neibour  21  is  0.7559453560371517\n",
      " AUC for the  TRAIN Data at nearest neibour  23  is  0.8168165621753554\n",
      " AUC for the Cross-Validation Data at nearest neibour  23  is  0.761242685758514\n",
      " AUC for the  TRAIN Data at nearest neibour  25  is  0.8152455631622958\n",
      " AUC for the Cross-Validation Data at nearest neibour  25  is  0.7643790634674923\n",
      " AUC for the  TRAIN Data at nearest neibour  27  is  0.8137823326094431\n",
      " AUC for the Cross-Validation Data at nearest neibour  27  is  0.7662901315789472\n",
      " AUC for the  TRAIN Data at nearest neibour  29  is  0.812706864561984\n",
      " AUC for the Cross-Validation Data at nearest neibour  29  is  0.7660095588235294\n",
      " AUC for the  TRAIN Data at nearest neibour  31  is  0.8132762004225956\n",
      " AUC for the Cross-Validation Data at nearest neibour  31  is  0.768903947368421\n"
     ]
    }
   ],
   "source": [
    "#https://www.analyticsvidhya.com/blog/2017/11/information-retrieval-using-kdtree/\n",
    "Set6_Train_Auc = []\n",
    "Set6_Cv_Auc    = []\n",
    "for i in neighbors:\n",
    "    knn =  KNeighborsClassifier(n_neighbors = i, leaf_size=30 , algorithm= 'kd_tree')\n",
    "    knn.fit(X_Tfidf_Tr,Y_tr)    \n",
    "    \n",
    "    #pred_tr =  knn.predict(X_Tfidf_Tr) # Class-Predictions of TRAIN-Validation\n",
    "    #pred_cv =  knn.predict(X_Tfidf_Cv) # Class-Predictions of Cross-Validation    \n",
    "    #Y_train_acc  = accuracy_score(Y_tr,pred_tr,normalize=True)    # Accuracy of TRAIN-Validation\n",
    "    #Y_cv_acc  = accuracy_score(Y_cv,pred_cv,normalize=True)     # Accuracy of TRAIN-Validation            \n",
    "    \n",
    "    #Set6_Acc_Tr.append(Y_train_acc)   #Accuracy                \n",
    "    #Set6_Acc_Cv.append(Y_cv_acc)      #Accuracy    \n",
    "     \n",
    "    \n",
    "    # Let PLOT  AUC-socre Vs each nearest neibhours  for both Test and CrossValidation Data    \n",
    "    Train_pred_prob =  knn.predict_proba(X_Tfidf_Tr)[:,1]    # Probablity of TRAIN-Validation    \n",
    "    Cv_pred_prob    =  knn.predict_proba(X_Tfidf_Cv)[:,1]    \n",
    "        \n",
    "    Train_Auc = roc_auc_score(Y_tr,Train_pred_prob)\n",
    "    Cv_Auc    = roc_auc_score(Y_cv,Cv_pred_prob)\n",
    "      \n",
    "    Set6_Train_Auc.append(Train_Auc)\n",
    "    Set6_Cv_Auc.append(Cv_Auc)\n",
    "\n",
    "    print(\" AUC for the  TRAIN Data at nearest neibour \",i,  \" is \", Train_Auc)\n",
    "    print(\" AUC for the Cross-Validation Data at nearest neibour \",i,  \" is \", Cv_Auc)    "
   ]
  },
  {
   "cell_type": "markdown",
   "metadata": {},
   "source": [
    "Here, we are trianing the KD-Tree Model with the Tf-Idf values.\n",
    "\n",
    "We do not know what is the best nearest neibhour to train the Model.\n",
    "\n",
    "To find out this, we are trying to train the model on top of Cross-Validation Data with different neighrest neibhours.\n",
    "\n",
    "We got the AUC , Error and AUC/ROC which helps to judge a Model performance.\n",
    "\n",
    "Let us see the AUC values for Cross Validation Data and Training Data."
   ]
  },
  {
   "cell_type": "markdown",
   "metadata": {},
   "source": [
    "#### Plot K-NN Vs AUC"
   ]
  },
  {
   "cell_type": "code",
   "execution_count": 238,
   "metadata": {},
   "outputs": [
    {
     "data": {
      "image/png": "[encoded data removed]",
      "text/plain": [
       "<Figure size 432x288 with 1 Axes>"
      ]
     },
     "metadata": {},
     "output_type": "display_data"
    }
   ],
   "source": [
    "#set6_train_auc,set6_cv_auc\n",
    "plt.grid()\n",
    "plt.scatter(neighbors, Set6_Train_Auc, label='Train AUC')\n",
    "plt.plot(neighbors, Set6_Train_Auc, label='Train AUC')\n",
    "plt.scatter(neighbors, Set6_Cv_Auc, label='CV AUC')\n",
    "plt.plot(neighbors, Set6_Cv_Auc, label='CV AUC')\n",
    "plt.legend()\n",
    "plt.xlabel(\"K: hyperparameter\")\n",
    "plt.ylabel(\"Auc\")\n",
    "plt.title(\" Nearest Neibhours Vs AUC  \")\n",
    "plt.show()"
   ]
  },
  {
   "cell_type": "markdown",
   "metadata": {},
   "source": [
    "Both  AUC  for CrossValidation  and  Training Data Getting Closer/Converging at Neibhour 25 \n",
    "\n",
    "Accoring to analysis of Train-AUC and CrosValidation-AUC,we can Uderstand that 25-nearest neibhours will be the best fit.\n",
    "\n",
    "Let us figure out, which hyper parameter can yeild the  the Highest accuracy.\n",
    "\n",
    "Average the accruacis from the Hyper parameters, the value we get is the one we expect on top of test data.\n"
   ]
  },
  {
   "cell_type": "code",
   "execution_count": 239,
   "metadata": {},
   "outputs": [
    {
     "name": "stdout",
     "output_type": "stream",
     "text": [
      "Highest nearest neighbors of CrosValidation:  31\n"
     ]
    }
   ],
   "source": [
    "Optimal_N = neighbors[Set6_Cv_Auc.index(max(Set6_Cv_Auc))]  \n",
    "print(\"Highest nearest neighbors of CrosValidation: \", Optimal_N  )"
   ]
  },
  {
   "cell_type": "markdown",
   "metadata": {},
   "source": [
    "According to the CrossValidation, we are getting the Highest Accuacy at Neigherest Neibhour value is at 31.\n",
    "\n",
    "In case we we have the CrossValidation AUC  High and Test Accruacy is High, then we can consider it as a Over Fitting.\n",
    "\n",
    "In case we we have the CrossValidation AUC Low and Test Accruacy is also Low, then we can consider it as a Under Fitting\n"
   ]
  },
  {
   "cell_type": "code",
   "execution_count": 240,
   "metadata": {},
   "outputs": [
    {
     "name": "stdout",
     "output_type": "stream",
     "text": [
      " AUC for the  Train Data at nearest neibour  31  is \n",
      " 0.8132762004225956\n",
      " AUC for the Test-Validation Data at nearest neibour  31  is \n",
      " 0.7518026128827161\n"
     ]
    }
   ],
   "source": [
    "\n",
    "Hence, we can expext the test data Accuracy near around the same.\n",
    "#https://scikit-learn.org/stable/modules/generated/sklearn.metrics.roc_auc_score.html#sklearn.metrics.roc_auc_score\n",
    "#Set6_Train_Pred =  knn.predict(X_Bow_Tr)\n",
    "#Set6_Train_Acc  = accuracy_score(Y_tr,Set6_Train_Pred,normalize=True)\n",
    "\n",
    "Set6_Train_Auc = []\n",
    "Set6_Tst_Auc   = []\n",
    "Set6_Train_Prb = []\n",
    "Set6_Tst_Prb   = []\n",
    "Set6_Train_Predict = []\n",
    "Set6_Tst_Predict   = []\n",
    "\n",
    "\n",
    "knn =  KNeighborsClassifier(n_neighbors = i, leaf_size=30 , algorithm= 'kd_tree')\n",
    "knn.fit(X_Tfidf_Tr,Y_tr)    \n",
    "    \n",
    "Train_Predict =  knn.predict(X_Tfidf_Tr)\n",
    "Tst_Predict   =  knn.predict(X_Tfidf_Test)\n",
    "        \n",
    "# Let PLOT  AUC-socre Vs each nearest neibhours  for both Test and CrossValidation Data\n",
    "Train_pred_prob   =  knn.predict_proba(X_Tfidf_Tr)[:,1] # Probablity of TRAIN-Validation \n",
    "Tst_pred_prob     =  knn.predict_proba(X_Tfidf_Test)[:,1] \n",
    "\n",
    "Train_Auc=  roc_auc_score(Y_tr,Train_pred_prob)\n",
    "Test_Auc  = roc_auc_score(Y_test,Tst_pred_prob)\n",
    "\n",
    "    #Probablity Scores\n",
    "Set6_Train_Prb=Train_pred_prob\n",
    "Set6_Tst_Prb=Tst_pred_prob\n",
    "    \n",
    "    #AUC\n",
    "Set6_Train_Auc=Train_Auc\n",
    "Set6_Tst_Auc=Test_Auc\n",
    "    \n",
    "    #MOdel Predictions    \n",
    "Set6_Train_Predict=Train_Predict\n",
    "Set6_Tst_Predict=Tst_Predict\n",
    "\n",
    "\n",
    "print(\" AUC for the  Train Data at nearest neibour \",Optimal_N,  \" is \\n\", Train_Auc)\n",
    "print(\" AUC for the Test-Validation Data at nearest neibour \",Optimal_N,  \" is \\n\", Test_Auc)"
   ]
  },
  {
   "cell_type": "code",
   "execution_count": 241,
   "metadata": {},
   "outputs": [
    {
     "data": {
      "image/png": "[encoded data removed]",
      "text/plain": [
       "<Figure size 432x288 with 1 Axes>"
      ]
     },
     "metadata": {},
     "output_type": "display_data"
    }
   ],
   "source": [
    "\n",
    "#https://qiita.com/bmj0114/items/460424c110a8ce22d945\n",
    "set6_tst_fpr, set6_tst_tpr, thresholds = roc_curve(Y_test,Set6_Tst_Prb)\n",
    "set6_tst_roc_auc = auc(set6_tst_fpr, set6_tst_tpr)\n",
    "\n",
    "\n",
    "set6_train_fpr, set6_train_tpr, thresholds = roc_curve(Y_tr,Set6_Train_Prb)\n",
    "set6_train_roc_auc = auc(set6_train_fpr, set6_train_tpr)\n",
    "\n",
    "lw=1\n",
    "plt.figure()\n",
    "plt.plot(set6_tst_fpr, set6_tst_tpr, color='darkorange', lw=1, label='Test ROC curve (area = %0.2f)' % set6_tst_roc_auc)\n",
    "plt.plot(set6_train_fpr, set6_train_tpr, color='navy', lw=1, label='Train ROC curve (area = %0.2f)' % set6_train_roc_auc)\n",
    "plt.plot([0, 1], [0,1], color='red', lw=lw, linestyle='--')\n",
    "plt.xlim([0.0, 1.0])\n",
    "plt.ylim([0.0, 1.04])\n",
    "plt.xlabel('False Positive Rate')\n",
    "plt.ylabel('True Positive Rate')\n",
    "plt.title('ROC - Receiver operating characteristic')\n",
    "plt.legend(loc=\"lower right\")\n",
    "plt.show()"
   ]
  },
  {
   "cell_type": "code",
   "execution_count": 242,
   "metadata": {},
   "outputs": [],
   "source": [
    "Total_AUC['set6']=[Optimal_N , set6_tst_roc_auc]"
   ]
  },
  {
   "cell_type": "markdown",
   "metadata": {},
   "source": [
    "###### Train Confusion Matrix"
   ]
  },
  {
   "cell_type": "code",
   "execution_count": 243,
   "metadata": {},
   "outputs": [
    {
     "name": "stdout",
     "output_type": "stream",
     "text": [
      "Train Confusion Matrix::\n",
      " [[  416  3335]\n",
      " [  150 18673]] \n",
      "\n"
     ]
    },
    {
     "data": {
      "text/plain": [
       "<matplotlib.axes._subplots.AxesSubplot at 0x20d339bf860>"
      ]
     },
     "execution_count": 243,
     "metadata": {},
     "output_type": "execute_result"
    },
    {
     "data": {
      "image/png": "[encoded data removed]",
      "text/plain": [
       "<Figure size 432x288 with 2 Axes>"
      ]
     },
     "metadata": {},
     "output_type": "display_data"
    }
   ],
   "source": [
    "Train_CM= confusion_matrix(Y_tr, Set6_Train_Predict, labels=None, sample_weight=None) \n",
    "print(\"Train Confusion Matrix::\\n\",Train_CM,\"\\n\")\n",
    "sns.heatmap(Train_CM, cmap=\"YlGnBu\"  ,annot=True,annot_kws={\"size\": 17})"
   ]
  },
  {
   "cell_type": "markdown",
   "metadata": {},
   "source": [
    "#### Test Confusion Matrix"
   ]
  },
  {
   "cell_type": "code",
   "execution_count": 244,
   "metadata": {},
   "outputs": [
    {
     "name": "stdout",
     "output_type": "stream",
     "text": [
      "Test Confusion Matrix::\n",
      " [[  187  2054]\n",
      " [  145 11436]] \n",
      "\n"
     ]
    },
    {
     "data": {
      "text/plain": [
       "<matplotlib.axes._subplots.AxesSubplot at 0x20d3392c278>"
      ]
     },
     "execution_count": 244,
     "metadata": {},
     "output_type": "execute_result"
    },
    {
     "data": {
      "image/png": "[encoded data removed]",
      "text/plain": [
       "<Figure size 432x288 with 2 Axes>"
      ]
     },
     "metadata": {},
     "output_type": "display_data"
    }
   ],
   "source": [
    "Test_CM= confusion_matrix(Y_test, Set6_Tst_Predict, labels=None, sample_weight=None) \n",
    "print(\"Test Confusion Matrix::\\n\",Test_CM,\"\\n\")  \n",
    "sns.heatmap(Test_CM, cmap=\"YlGnBu\"  ,annot=True,annot_kws={\"size\": 17})\n"
   ]
  },
  {
   "cell_type": "markdown",
   "metadata": {},
   "source": [
    "\n",
    "By definition a confusion matrix C is such that C-ij is equal to the number of observations known to be in group i  but predicted to be in group j .\n",
    "\n",
    "\n",
    "Horizantal Lines are Predictions and the Verticals are Acutuals\n",
    " \n",
    "\n",
    "Thus in binary classification, the count of \n",
    "\n",
    "true negatives is 187 at C(0,0) ,\n",
    "\n",
    "false negatives is 145 C(1,0),\n",
    "\n",
    "true positives is 11436 at C(1,1)\n",
    "\n",
    "false positives is 2054 at C(0,1).\n",
    "\n",
    "Accuracy : 0.8632153882688198"
   ]
  },
  {
   "cell_type": "markdown",
   "metadata": {},
   "source": [
    "### [5.2.3] Applying KNN kd-tree on AVG W2V,<font color='red'> SET 7</font>"
   ]
  },
  {
   "cell_type": "raw",
   "metadata": {},
   "source": [
    "Applying the Kd-Tree on AvgW2v Data"
   ]
  },
  {
   "cell_type": "code",
   "execution_count": 245,
   "metadata": {},
   "outputs": [
    {
     "name": "stdout",
     "output_type": "stream",
     "text": [
      " AUC for the  TRAIN Data at nearest neibour  3  is  0.9538099195790082\n",
      " AUC for the Cross-Validation Data at nearest neibour  3  is  0.7716401702786377\n",
      " AUC for the  TRAIN Data at nearest neibour  5  is  0.9349450711565725\n",
      " AUC for the Cross-Validation Data at nearest neibour  5  is  0.8086689628482973\n",
      " AUC for the  TRAIN Data at nearest neibour  7  is  0.9237257852562522\n",
      " AUC for the Cross-Validation Data at nearest neibour  7  is  0.8247266253869969\n",
      " AUC for the  TRAIN Data at nearest neibour  9  is  0.9161226771906319\n",
      " AUC for the Cross-Validation Data at nearest neibour  9  is  0.8344906346749227\n",
      " AUC for the  TRAIN Data at nearest neibour  11  is  0.9116351809451427\n",
      " AUC for the Cross-Validation Data at nearest neibour  11  is  0.8441295278637772\n",
      " AUC for the  TRAIN Data at nearest neibour  13  is  0.9089894574572567\n",
      " AUC for the Cross-Validation Data at nearest neibour  13  is  0.8507305727554179\n",
      " AUC for the  TRAIN Data at nearest neibour  15  is  0.9060901119668838\n",
      " AUC for the Cross-Validation Data at nearest neibour  15  is  0.8529855650154798\n",
      " AUC for the  TRAIN Data at nearest neibour  17  is  0.9038141919349053\n",
      " AUC for the Cross-Validation Data at nearest neibour  17  is  0.8568343266253869\n",
      " AUC for the  TRAIN Data at nearest neibour  19  is  0.9027622774357871\n",
      " AUC for the Cross-Validation Data at nearest neibour  19  is  0.8588962074303406\n",
      " AUC for the  TRAIN Data at nearest neibour  21  is  0.9018980760773377\n",
      " AUC for the Cross-Validation Data at nearest neibour  21  is  0.8603642027863778\n",
      " AUC for the  TRAIN Data at nearest neibour  23  is  0.9005894873871174\n",
      " AUC for the Cross-Validation Data at nearest neibour  23  is  0.8633974071207432\n",
      " AUC for the  TRAIN Data at nearest neibour  25  is  0.8991897933453025\n",
      " AUC for the Cross-Validation Data at nearest neibour  25  is  0.8652499226006192\n",
      " AUC for the  TRAIN Data at nearest neibour  27  is  0.898341306155154\n",
      " AUC for the Cross-Validation Data at nearest neibour  27  is  0.8666244582043343\n",
      " AUC for the  TRAIN Data at nearest neibour  29  is  0.8973989305272725\n",
      " AUC for the Cross-Validation Data at nearest neibour  29  is  0.8682135061919505\n",
      " AUC for the  TRAIN Data at nearest neibour  31  is  0.8959334763381663\n",
      " AUC for the Cross-Validation Data at nearest neibour  31  is  0.8690544117647058\n"
     ]
    }
   ],
   "source": [
    "#https://www.analyticsvidhya.com/blog/2017/11/information-retrieval-using-kdtree/\n",
    "#https://www.analyticsvidhya.com/blog/2017/11/information-retrieval-using-kdtree/\n",
    "Set7_Train_Auc = []\n",
    "Set7_Cv_Auc    = []\n",
    "for i in neighbors:\n",
    "    knn =  KNeighborsClassifier(n_neighbors = i, leaf_size=30 , algorithm= 'kd_tree')\n",
    "    knn.fit(X_AvgW2V_Tr,Y_tr)    \n",
    "    \n",
    "    #pred_tr =  knn.predict(X_Tfidf_Tr) # Class-Predictions of TRAIN-Validation\n",
    "    #pred_cv =  knn.predict(X_Tfidf_Cv) # Class-Predictions of Cross-Validation    \n",
    "    #Y_train_acc  = accuracy_score(Y_tr,pred_tr,normalize=True)    # Accuracy of TRAIN-Validation\n",
    "    #Y_cv_acc  = accuracy_score(Y_cv,pred_cv,normalize=True)     # Accuracy of TRAIN-Validation            \n",
    "    \n",
    "    #Set7_Acc_Tr.append(Y_train_acc)   #Accuracy                \n",
    "    #Set7_Acc_Cv.append(Y_cv_acc)      #Accuracy    \n",
    "     \n",
    "    \n",
    "    # Let PLOT  AUC-socre Vs each nearest neibhours  for both Test and CrossValidation Data    \n",
    "    Train_pred_prob =  knn.predict_proba(X_AvgW2V_Tr)[:,1]    # Probablity of TRAIN-Validation    \n",
    "    Cv_pred_prob    =  knn.predict_proba(X_AvgW2V_Cv)[:,1]    \n",
    "        \n",
    "    Train_Auc = roc_auc_score(Y_tr,Train_pred_prob)\n",
    "    Cv_Auc    = roc_auc_score(Y_cv,Cv_pred_prob)\n",
    "      \n",
    "    Set7_Train_Auc.append(Train_Auc)\n",
    "    Set7_Cv_Auc.append(Cv_Auc)\n",
    "\n",
    "    print(\" AUC for the  TRAIN Data at nearest neibour \",i,  \" is \", Train_Auc)\n",
    "    print(\" AUC for the Cross-Validation Data at nearest neibour \",i,  \" is \", Cv_Auc)\n",
    "    "
   ]
  },
  {
   "cell_type": "markdown",
   "metadata": {},
   "source": [
    "Here, we are trianing the KD-Tree Model with the Avg W2V values.\n",
    "\n",
    "We do not know what is the best nearest neibhour to train the Model.\n",
    "\n",
    "To find out this, we are trying to train the model on top of Cross-Validation Data with different neighrest neibhours.\n",
    "\n",
    "We got the  AUC/ROC which helps to judge a Model performance.\n",
    "\n",
    "Let us see the AUC values for Cross Validation Data and Training Data"
   ]
  },
  {
   "cell_type": "markdown",
   "metadata": {},
   "source": [
    "#### Plot K-nn Vs AUC"
   ]
  },
  {
   "cell_type": "code",
   "execution_count": 246,
   "metadata": {},
   "outputs": [
    {
     "data": {
      "image/png": "[encoded data removed]",
      "text/plain": [
       "<Figure size 432x288 with 1 Axes>"
      ]
     },
     "metadata": {},
     "output_type": "display_data"
    }
   ],
   "source": [
    "#set7_train_auc,set7_cv_auc\n",
    "plt.grid()\n",
    "plt.scatter(neighbors, Set7_Train_Auc, label='Train AUC')\n",
    "plt.plot(neighbors, Set7_Train_Auc, label='Train AUC')\n",
    "plt.scatter(neighbors, Set7_Cv_Auc, label='CV AUC')\n",
    "plt.plot(neighbors, Set7_Cv_Auc, label='CV AUC')\n",
    "plt.legend()\n",
    "plt.xlabel(\"K: hyperparameter\")\n",
    "plt.ylabel(\"Auc\")\n",
    "plt.title(\" Nearest Neibhours Vs AUC  \")\n",
    "plt.show()"
   ]
  },
  {
   "cell_type": "markdown",
   "metadata": {},
   "source": [
    "AUC for both CrossValidation and Training Data Getting Closer/Converging at Neibhour 29\n",
    "\n",
    "Accoring to analysis of Train-AUC and CrosValidation-AUC,we can Uderstand that 29-nearest neibhours will be the best fit.\n",
    "\n",
    "Let us figure out, which hyper parameter can yeild the the Highest accuracy.\n",
    "\n",
    "Average the accruacis from the Hyper parameters, the value we get is the one we expect on top of test data.\n"
   ]
  },
  {
   "cell_type": "code",
   "execution_count": 247,
   "metadata": {},
   "outputs": [
    {
     "name": "stdout",
     "output_type": "stream",
     "text": [
      "Highest nearest neighbors of CrosValidation:  31\n"
     ]
    }
   ],
   "source": [
    "Optimal_N = neighbors[Set7_Cv_Auc.index(max(Set7_Cv_Auc))]  \n",
    "print(\"Highest nearest neighbors of CrosValidation: \", Optimal_N  )"
   ]
  },
  {
   "cell_type": "markdown",
   "metadata": {},
   "source": [
    "\n",
    "According to the CrossValidation, we are getting the Highest Accuacy at Neigherest Neibhour value is at 31.\n",
    "\n",
    "Hence, we can expext the test data AUC near around the same.\n",
    "\n",
    "In case we we have the CrossValidation AUC High and Test Accruacy is High, then we can consider it as a Over Fitting.\n",
    "\n",
    "In case we we have the CrossValidation AUC Low and Test Accruacy is also Low, then we can consider it as a Under Fitting\n"
   ]
  },
  {
   "cell_type": "code",
   "execution_count": 248,
   "metadata": {},
   "outputs": [
    {
     "name": "stdout",
     "output_type": "stream",
     "text": [
      " AUC for the  Train Data at nearest neibour  31  is  0.8959334763381663\n",
      " AUC for the Test-Validation Data at nearest neibour  31  is  0.8593388415167544\n"
     ]
    }
   ],
   "source": [
    "#https://scikit-learn.org/stable/modules/generated/sklearn.metrics.roc_auc_score.html#sklearn.metrics.roc_auc_score\n",
    "#Set7_Train_Pred =  knn.predict(X_Bow_Tr)\n",
    "#Set7_Train_Acc  = accuracy_score(Y_tr,Set7_Train_Pred,normalize=True)\n",
    "\n",
    "Set7_Train_Auc = []\n",
    "Set7_Tst_Auc   = []\n",
    "Set7_Train_Prb = []\n",
    "Set7_Tst_Prb   = []\n",
    "Set7_Train_Predict = []\n",
    "Set7_Tst_Predict   = []\n",
    "\n",
    "\n",
    "knn =  KNeighborsClassifier(n_neighbors = Optimal_N, leaf_size=30 , algorithm= 'kd_tree')\n",
    "knn.fit(X_AvgW2V_Tr,Y_tr)    \n",
    "    \n",
    "Train_Predict =  knn.predict(X_AvgW2V_Tr)\n",
    "Tst_Predict   =  knn.predict(X_AvgW2V_Test)\n",
    "        \n",
    "# Let PLOT  AUC-socre Vs each nearest neibhours  for both Test and CrossValidation Data\n",
    "Train_pred_prob   =  knn.predict_proba(X_AvgW2V_Tr)[:,1] # Probablity of TRAIN-Validation \n",
    "Tst_pred_prob     =  knn.predict_proba(X_AvgW2V_Test)[:,1] \n",
    "\n",
    "Train_Auc=  roc_auc_score(Y_tr,Train_pred_prob)\n",
    "Test_Auc  = roc_auc_score(Y_test,Tst_pred_prob)\n",
    "\n",
    "#Probablity Scores\n",
    "Set7_Train_Prb=Train_pred_prob\n",
    "Set7_Tst_Prb=Tst_pred_prob\n",
    "    \n",
    "    #AUC\n",
    "Set7_Train_Auc=Train_Auc\n",
    "Set7_Tst_Auc=Test_Auc\n",
    "    \n",
    "    #MOdel Predictions    \n",
    "Set7_Train_Predict=Train_Predict\n",
    "Set7_Tst_Predict=Tst_Predict\n",
    "                            \n",
    "print(\" AUC for the  Train Data at nearest neibour \",Optimal_N,  \" is \", Train_Auc)\n",
    "print(\" AUC for the Test-Validation Data at nearest neibour \",Optimal_N,  \" is \", Test_Auc)\n"
   ]
  },
  {
   "cell_type": "code",
   "execution_count": 249,
   "metadata": {},
   "outputs": [
    {
     "data": {
      "image/png": "[encoded data removed]",
      "text/plain": [
       "<Figure size 432x288 with 1 Axes>"
      ]
     },
     "metadata": {},
     "output_type": "display_data"
    }
   ],
   "source": [
    "#https://qiita.com/bmj0114/items/460424c110a8ce22d945\n",
    "set7_tst_fpr, set7_tst_tpr, thresholds = roc_curve(Y_test,Set7_Tst_Prb)\n",
    "set7_tst_roc_auc = auc(set7_tst_fpr, set7_tst_tpr)\n",
    "\n",
    "\n",
    "set7_train_fpr, set7_train_tpr, thresholds = roc_curve(Y_tr,Set7_Train_Prb)\n",
    "set7_train_roc_auc = auc(set7_train_fpr, set7_train_tpr)\n",
    "\n",
    "lw=1\n",
    "plt.figure()\n",
    "plt.plot(set7_tst_fpr, set7_tst_tpr, color='darkorange', lw=1, label='Test ROC curve (area = %0.2f)' % set7_tst_roc_auc)\n",
    "plt.plot(set7_train_fpr, set7_train_tpr, color='navy', lw=1, label='Train ROC curve (area = %0.2f)' % set7_train_roc_auc)\n",
    "plt.plot([0, 1], [0,1], color='red', lw=lw, linestyle='--')\n",
    "plt.xlim([0.0, 1.0])\n",
    "plt.ylim([0.0, 1.04])\n",
    "plt.xlabel('False Positive Rate')\n",
    "plt.ylabel('True Positive Rate')\n",
    "plt.title('ROC - Receiver operating characteristic')\n",
    "plt.legend(loc=\"lower right\")\n",
    "plt.show()\n"
   ]
  },
  {
   "cell_type": "code",
   "execution_count": 250,
   "metadata": {},
   "outputs": [],
   "source": [
    "Total_AUC['set7']=[Optimal_N , set7_tst_roc_auc]"
   ]
  },
  {
   "cell_type": "markdown",
   "metadata": {},
   "source": [
    "###### Confusion Matrix"
   ]
  },
  {
   "cell_type": "code",
   "execution_count": 251,
   "metadata": {},
   "outputs": [
    {
     "name": "stdout",
     "output_type": "stream",
     "text": [
      "Train Confusion Matrix::\n",
      " [[ 1237  2514]\n",
      " [  334 18489]] \n",
      "\n"
     ]
    },
    {
     "data": {
      "text/plain": [
       "<matplotlib.axes._subplots.AxesSubplot at 0x20d33bf0e10>"
      ]
     },
     "execution_count": 251,
     "metadata": {},
     "output_type": "execute_result"
    },
    {
     "data": {
      "image/png": "[encoded data removed]",
      "text/plain": [
       "<Figure size 432x288 with 2 Axes>"
      ]
     },
     "metadata": {},
     "output_type": "display_data"
    }
   ],
   "source": [
    "Train_CM= confusion_matrix(Y_tr, Set7_Train_Predict, labels=None, sample_weight=None) \n",
    "print(\"Train Confusion Matrix::\\n\",Train_CM,\"\\n\")\n",
    "sns.heatmap(Train_CM, cmap=\"YlGnBu\"  ,annot=True,annot_kws={\"size\": 17})\n"
   ]
  },
  {
   "cell_type": "code",
   "execution_count": 252,
   "metadata": {},
   "outputs": [
    {
     "name": "stdout",
     "output_type": "stream",
     "text": [
      "Test Confusion Matrix::\n",
      " [[  628  1613]\n",
      " [  265 11316]] \n",
      "\n"
     ]
    },
    {
     "data": {
      "text/plain": [
       "<matplotlib.axes._subplots.AxesSubplot at 0x20d33cc9ba8>"
      ]
     },
     "execution_count": 252,
     "metadata": {},
     "output_type": "execute_result"
    },
    {
     "data": {
      "image/png": "[encoded data removed]",
      "text/plain": [
       "<Figure size 432x288 with 2 Axes>"
      ]
     },
     "metadata": {},
     "output_type": "display_data"
    }
   ],
   "source": [
    "Test_CM= confusion_matrix(Y_test, Set7_Tst_Predict, labels=None, sample_weight=None) \n",
    "print(\"Test Confusion Matrix::\\n\",Test_CM,\"\\n\")  \n",
    "sns.heatmap(Test_CM, cmap=\"YlGnBu\"  ,annot=True,annot_kws={\"size\": 17})"
   ]
  },
  {
   "cell_type": "markdown",
   "metadata": {},
   "source": [
    "\n",
    "By definition a confusion matrix C is such that C-ij is equal to the number of observations known to be in group i  but predicted to be in group j .\n",
    "\n",
    "\n",
    "Horizantal Lines are Predictions and the Verticals are Acutuals\n",
    " \n",
    "\n",
    "Thus in binary classification, the count of \n",
    "\n",
    "true negatives is 628 at C(0,0) , \n",
    "\n",
    "false negatives is 265 C(1,0), \n",
    "\n",
    "true positives is 11316 at C(1,1) \n",
    "\n",
    "and false positives is 1613 at C(0,1).\n"
   ]
  },
  {
   "cell_type": "markdown",
   "metadata": {},
   "source": [
    "###### AUC and ROC for Kd-Tree on top Tf-IDF"
   ]
  },
  {
   "cell_type": "markdown",
   "metadata": {},
   "source": [
    "### [5.2.4] Applying KNN kd-tree on TFIDF W2V,<font color='red'> SET 8</font>"
   ]
  },
  {
   "cell_type": "raw",
   "metadata": {},
   "source": [
    "Applying the Kd-tree on Average Tf-idf,W2V"
   ]
  },
  {
   "cell_type": "code",
   "execution_count": 253,
   "metadata": {},
   "outputs": [
    {
     "name": "stdout",
     "output_type": "stream",
     "text": [
      " AUC for the  TRAIN Data at nearest neibour  3  is  0.9153320257880053\n",
      " AUC for the Cross-Validation Data at nearest neibour  3  is  0.6593353328173374\n",
      " AUC for the  TRAIN Data at nearest neibour  5  is  0.8817401548469471\n",
      " AUC for the Cross-Validation Data at nearest neibour  5  is  0.6796473297213622\n",
      " AUC for the  TRAIN Data at nearest neibour  7  is  0.8644229785018422\n",
      " AUC for the Cross-Validation Data at nearest neibour  7  is  0.6975804566563468\n",
      " AUC for the  TRAIN Data at nearest neibour  9  is  0.8509692285142173\n",
      " AUC for the Cross-Validation Data at nearest neibour  9  is  0.7080868034055727\n",
      " AUC for the  TRAIN Data at nearest neibour  11  is  0.8403287324694076\n",
      " AUC for the Cross-Validation Data at nearest neibour  11  is  0.7185769736842106\n",
      " AUC for the  TRAIN Data at nearest neibour  13  is  0.8355394236331999\n",
      " AUC for the Cross-Validation Data at nearest neibour  13  is  0.7242016640866872\n",
      " AUC for the  TRAIN Data at nearest neibour  15  is  0.8303192321605559\n",
      " AUC for the Cross-Validation Data at nearest neibour  15  is  0.7284476780185758\n",
      " AUC for the  TRAIN Data at nearest neibour  17  is  0.8264534051257195\n",
      " AUC for the Cross-Validation Data at nearest neibour  17  is  0.7314712848297213\n",
      " AUC for the  TRAIN Data at nearest neibour  19  is  0.823495062458189\n",
      " AUC for the Cross-Validation Data at nearest neibour  19  is  0.734133746130031\n",
      " AUC for the  TRAIN Data at nearest neibour  21  is  0.8200344825080771\n",
      " AUC for the Cross-Validation Data at nearest neibour  21  is  0.7377849845201238\n",
      " AUC for the  TRAIN Data at nearest neibour  23  is  0.8169868261449145\n",
      " AUC for the Cross-Validation Data at nearest neibour  23  is  0.7387319659442725\n",
      " AUC for the  TRAIN Data at nearest neibour  25  is  0.8152832516722983\n",
      " AUC for the Cross-Validation Data at nearest neibour  25  is  0.7401545278637771\n",
      " AUC for the  TRAIN Data at nearest neibour  27  is  0.8130022682647747\n",
      " AUC for the Cross-Validation Data at nearest neibour  27  is  0.7394025541795665\n",
      " AUC for the  TRAIN Data at nearest neibour  29  is  0.8102929445310537\n",
      " AUC for the Cross-Validation Data at nearest neibour  29  is  0.7417574303405574\n",
      " AUC for the  TRAIN Data at nearest neibour  31  is  0.8078603502045809\n",
      " AUC for the Cross-Validation Data at nearest neibour  31  is  0.7422925309597523\n"
     ]
    }
   ],
   "source": [
    "#https://www.analyticsvidhya.com/blog/2017/11/information-retrieval-using-kdtree/\n",
    "Set8_Train_Auc = []\n",
    "Set8_Cv_Auc    = []\n",
    "for i in neighbors:\n",
    "    knn =  KNeighborsClassifier(n_neighbors = i, leaf_size=30 , algorithm= 'kd_tree')\n",
    "    knn.fit(X_AvgW2VtfIdf_Tr,Y_tr)    \n",
    "    \n",
    "    #pred_tr =  knn.predict(X_Tfidf_Tr) # Class-Predictions of TRAIN-Validation\n",
    "    #pred_cv =  knn.predict(X_Tfidf_Cv) # Class-Predictions of Cross-Validation    \n",
    "    #Y_train_acc  = accuracy_score(Y_tr,pred_tr,normalize=True)    # Accuracy of TRAIN-Validation\n",
    "    #Y_cv_acc  = accuracy_score(Y_cv,pred_cv,normalize=True)     # Accuracy of TRAIN-Validation            \n",
    "    \n",
    "    #Set8_Acc_Tr.append(Y_train_acc)   #Accuracy                \n",
    "    #Set8_Acc_Cv.append(Y_cv_acc)      #Accuracy    \n",
    "     \n",
    "    \n",
    "    # Let PLOT  AUC-socre Vs each nearest neibhours  for both Test and CrossValidation Data    \n",
    "    Train_pred_prob =  knn.predict_proba(X_AvgW2VtfIdf_Tr)[:,1]    # Probablity of TRAIN-Validation    \n",
    "    Cv_pred_prob    =  knn.predict_proba(X_AvgW2VtfIdf_Cv)[:,1]    \n",
    "        \n",
    "    Train_Auc = roc_auc_score(Y_tr,Train_pred_prob)\n",
    "    Cv_Auc    = roc_auc_score(Y_cv,Cv_pred_prob)\n",
    "      \n",
    "    Set8_Train_Auc.append(Train_Auc)\n",
    "    Set8_Cv_Auc.append(Cv_Auc)\n",
    "\n",
    "    print(\" AUC for the  TRAIN Data at nearest neibour \",i,  \" is \", Train_Auc)\n",
    "    print(\" AUC for the Cross-Validation Data at nearest neibour \",i,  \" is \", Cv_Auc)\n",
    "    "
   ]
  },
  {
   "cell_type": "markdown",
   "metadata": {},
   "source": [
    "Here, we are trianing the KD-Tree Model with the Avg of Tf-Idf values.\n",
    "\n",
    "We do not know what is the best nearest neibhour to train the Model.\n",
    "\n",
    "To find out this, we are trying to train the model on top of Cross-Validation Data with different neighrest neibhours.\n",
    "\n",
    "We got the AUC, Error and AUC/ROC which helps to judge a Model performance.\n",
    "\n",
    "Let us see the AUC values for Cross Validation Data and Training Data"
   ]
  },
  {
   "cell_type": "markdown",
   "metadata": {},
   "source": [
    "#### Plot K-nn Vs AUC"
   ]
  },
  {
   "cell_type": "code",
   "execution_count": 254,
   "metadata": {},
   "outputs": [
    {
     "data": {
      "image/png": "[encoded data removed]",
      "text/plain": [
       "<Figure size 432x288 with 1 Axes>"
      ]
     },
     "metadata": {},
     "output_type": "display_data"
    }
   ],
   "source": [
    "\n",
    "#set8_train_auc,set8_cv_auc\n",
    "plt.grid()\n",
    "plt.scatter(neighbors, Set8_Train_Auc, label='Train AUC')\n",
    "plt.plot(neighbors, Set8_Train_Auc, label='Train AUC')\n",
    "plt.scatter(neighbors, Set8_Cv_Auc, label='CV AUC')\n",
    "plt.plot(neighbors, Set8_Cv_Auc, label='CV AUC')\n",
    "plt.legend()\n",
    "plt.xlabel(\"K: hyperparameter\")\n",
    "plt.ylabel(\"Auc\")\n",
    "plt.title(\" Nearest Neibhours Vs AUC  \")\n",
    "plt.show()\n",
    "\n"
   ]
  },
  {
   "cell_type": "markdown",
   "metadata": {},
   "source": [
    "Both AUC for CrossValidation and Training Data Getting Closer/Converging at Neibhour 31\n",
    "\n",
    "Accoring to analysis of Train-AUC and CrosValidation-AUC,we can Uderstand that 31-nearest neibhours will be the best fit.\n",
    "\n",
    "Let us figure out, which hyper parameter can yeild the the Highest accuracy.\n",
    "\n",
    "Average the accruacis from the Hyper parameters, the value we get is the one we expect on top of test data.\n"
   ]
  },
  {
   "cell_type": "code",
   "execution_count": 255,
   "metadata": {},
   "outputs": [
    {
     "name": "stdout",
     "output_type": "stream",
     "text": [
      "Highest nearest neighbors of CrosValidation:  31\n"
     ]
    }
   ],
   "source": [
    "Optimal_N = neighbors[Set8_Cv_Auc.index(max(Set8_Cv_Auc))]  \n",
    "print(\"Highest nearest neighbors of CrosValidation: \", Optimal_N  )"
   ]
  },
  {
   "cell_type": "markdown",
   "metadata": {},
   "source": [
    "According to the CrossValidation, we are getting the Highest auc at Neigherest Neibhour value is at 31.\n",
    "\n",
    "Hence, we can expext the test data AUC near around the same.\n",
    "\n",
    "In case we we have the CrossValidation AUC High and Test Accruacy is High, then we can consider it as a Over Fitting.\n",
    "\n",
    "In case we we have the CrossValidation AUC Low and Test Accruacy is also Low, then we can consider it as a Under Fitting\n"
   ]
  },
  {
   "cell_type": "code",
   "execution_count": 256,
   "metadata": {},
   "outputs": [
    {
     "name": "stdout",
     "output_type": "stream",
     "text": [
      " AUC for the  Train Data at nearest neibour  31  is  0.8078603502045809\n",
      " AUC for the Test-Validation Data at nearest neibour  31  is  0.7389905783993316\n"
     ]
    }
   ],
   "source": [
    "#https://scikit-learn.org/stable/modules/generated/sklearn.metrics.roc_auc_score.html#sklearn.metrics.roc_auc_score\n",
    "#Set8_Train_Pred =  knn.predict(X_Bow_Tr)\n",
    "#Set8_Train_Acc  = accuracy_score(Y_tr,Set8_Train_Pred,normalize=True)\n",
    "\n",
    "Set8_Train_Auc = []\n",
    "Set8_Tst_Auc   = []\n",
    "Set8_Train_Prb = []\n",
    "Set8_Tst_Prb   = []\n",
    "Set8_Train_Predict = []\n",
    "Set8_Tst_Predict   = []\n",
    "\n",
    "knn =  KNeighborsClassifier(n_neighbors = i, leaf_size=30 , algorithm= 'kd_tree')\n",
    "knn.fit(X_AvgW2VtfIdf_Tr,Y_tr)    \n",
    "    \n",
    "Train_Predict =  knn.predict(X_AvgW2VtfIdf_Tr)\n",
    "Tst_Predict   =  knn.predict(X_AvgW2VtfIdf_Test)\n",
    "        \n",
    "    # Let PLOT  AUC-socre Vs each nearest neibhours  for both Test and CrossValidation Data\n",
    "Train_pred_prob   =  knn.predict_proba(X_AvgW2VtfIdf_Tr)[:,1] # Probablity of TRAIN-Validation \n",
    "Tst_pred_prob     =  knn.predict_proba(X_AvgW2VtfIdf_Test)[:,1] \n",
    "\n",
    "Train_Auc=  roc_auc_score(Y_tr,Train_pred_prob)\n",
    "Test_Auc  = roc_auc_score(Y_test,Tst_pred_prob)\n",
    "\n",
    "    #Probablity Scores\n",
    "Set8_Train_Prb=Train_pred_prob\n",
    "Set8_Tst_Prb=Tst_pred_prob\n",
    "    \n",
    "    #AUC\n",
    "Set8_Train_Auc=Train_Auc\n",
    "Set8_Tst_Auc=Test_Auc\n",
    "    \n",
    "    #MOdel Predictions    \n",
    "Set8_Train_Predict=Train_Predict\n",
    "Set8_Tst_Predict=Tst_Predict\n",
    "\n",
    "print(\" AUC for the  Train Data at nearest neibour \",Optimal_N,  \" is \", Train_Auc)\n",
    "print(\" AUC for the Test-Validation Data at nearest neibour \",Optimal_N,  \" is \", Test_Auc)"
   ]
  },
  {
   "cell_type": "code",
   "execution_count": 257,
   "metadata": {},
   "outputs": [
    {
     "data": {
      "image/png": "[encoded data removed]",
      "text/plain": [
       "<Figure size 432x288 with 1 Axes>"
      ]
     },
     "metadata": {},
     "output_type": "display_data"
    }
   ],
   "source": [
    "\n",
    "#https://qiita.com/bmj0114/items/460424c110a8ce22d945\n",
    "set8_tst_fpr, set8_tst_tpr, thresholds = roc_curve(Y_test,Tst_pred_prob)\n",
    "set8_tst_roc_auc = auc(set8_tst_fpr, set8_tst_tpr)\n",
    "\n",
    "\n",
    "set8_train_fpr, set8_train_tpr, thresholds = roc_curve(Y_tr,Train_pred_prob)\n",
    "set8_train_roc_auc = auc(set8_train_fpr, set8_train_tpr)\n",
    "\n",
    "lw=1\n",
    "plt.figure()\n",
    "plt.plot(set8_tst_fpr, set8_tst_tpr, color='darkorange', lw=1, label='Test ROC curve (area = %0.2f)' % set8_tst_roc_auc)\n",
    "plt.plot(set8_train_fpr, set8_train_tpr, color='navy', lw=1, label='Train ROC curve (area = %0.2f)' % set8_train_roc_auc)\n",
    "plt.plot([0, 1], [0,1], color='red', lw=lw, linestyle='--')\n",
    "plt.xlim([0.0, 1.0])\n",
    "plt.ylim([0.0, 1.04])\n",
    "plt.xlabel('False Positive Rate')\n",
    "plt.ylabel('True Positive Rate')\n",
    "plt.title('ROC - Receiver operating characteristic')\n",
    "plt.legend(loc=\"lower right\")\n",
    "plt.show()\n"
   ]
  },
  {
   "cell_type": "code",
   "execution_count": 258,
   "metadata": {},
   "outputs": [],
   "source": [
    "Total_AUC['set8']=[Optimal_N , set8_tst_roc_auc]"
   ]
  },
  {
   "cell_type": "markdown",
   "metadata": {},
   "source": [
    "###### Confusion Matrix"
   ]
  },
  {
   "cell_type": "code",
   "execution_count": 259,
   "metadata": {},
   "outputs": [
    {
     "name": "stdout",
     "output_type": "stream",
     "text": [
      "Train Confusion Matrix::\n",
      " [[  363  3388]\n",
      " [  173 18650]] \n",
      "\n"
     ]
    },
    {
     "data": {
      "text/plain": [
       "<matplotlib.axes._subplots.AxesSubplot at 0x20d339ddd30>"
      ]
     },
     "execution_count": 259,
     "metadata": {},
     "output_type": "execute_result"
    },
    {
     "data": {
      "image/png": "[encoded data removed]",
      "text/plain": [
       "<Figure size 432x288 with 2 Axes>"
      ]
     },
     "metadata": {},
     "output_type": "display_data"
    }
   ],
   "source": [
    "Train_CM= confusion_matrix(Y_tr, Set8_Train_Predict, labels=None, sample_weight=None) \n",
    "print(\"Train Confusion Matrix::\\n\",Train_CM,\"\\n\")\n",
    "sns.heatmap(Train_CM, cmap=\"YlGnBu\"  ,annot=True,annot_kws={\"size\": 17})"
   ]
  },
  {
   "cell_type": "code",
   "execution_count": 260,
   "metadata": {},
   "outputs": [
    {
     "name": "stdout",
     "output_type": "stream",
     "text": [
      "Test Confusion Matrix::\n",
      " [[  155  2086]\n",
      " [  148 11433]] \n",
      "\n"
     ]
    },
    {
     "data": {
      "text/plain": [
       "<matplotlib.axes._subplots.AxesSubplot at 0x20d3100f7f0>"
      ]
     },
     "execution_count": 260,
     "metadata": {},
     "output_type": "execute_result"
    },
    {
     "data": {
      "image/png": "[encoded data removed]",
      "text/plain": [
       "<Figure size 432x288 with 2 Axes>"
      ]
     },
     "metadata": {},
     "output_type": "display_data"
    }
   ],
   "source": [
    "Test_CM= confusion_matrix(Y_test, Set8_Tst_Predict, labels=None, sample_weight=None) \n",
    "print(\"Test Confusion Matrix::\\n\",Test_CM,\"\\n\")  \n",
    "sns.heatmap(Test_CM, cmap=\"YlGnBu\"  ,annot=True,annot_kws={\"size\": 17})"
   ]
  },
  {
   "cell_type": "markdown",
   "metadata": {},
   "source": [
    "\n",
    "By definition a confusion matrix C is such that C-ij is equal to the number of observations known to be in group i  but predicted to be in group j .\n",
    "\n",
    "Horizantal Lines are Predictions and the Verticals are Acutuals\n",
    "\n",
    "Thus in binary classification, the count of true \n",
    "\n",
    "negatives is 154 at C(0,0) , \n",
    "\n",
    "false negatives is 148 C(1,0),\n",
    "\n",
    "true positives is 11433 at C(1,1),\n",
    "\n",
    "false positives is 2086 at C(0,1).\n"
   ]
  },
  {
   "cell_type": "markdown",
   "metadata": {},
   "source": [
    "# [6] Conclusions"
   ]
  },
  {
   "cell_type": "code",
   "execution_count": 261,
   "metadata": {},
   "outputs": [],
   "source": [
    "#Letus check all the neibours\n",
    "from prettytable import PrettyTable"
   ]
  },
  {
   "cell_type": "code",
   "execution_count": 262,
   "metadata": {},
   "outputs": [
    {
     "name": "stdout",
     "output_type": "stream",
     "text": [
      "+------+------------+---------+----------------------+--------------------+\n",
      "| SET  | Vectorizer |  Model  | Best Hyper parameter |      Test AUC      |\n",
      "+------+------------+---------+----------------------+--------------------+\n",
      "| set1 |    BOW     |  Brute  |          31          | 0.7490356132336193 |\n",
      "| set2 |   TFIDF    |  Brute  |          31          | 0.7525841018662144 |\n",
      "| set3 |    W2V     |  Brute  |          31          | 0.8591701520990562 |\n",
      "| set4 |  TFIDFW2V  | KD-Tree |          31          | 0.5280130586724374 |\n",
      "| set5 |    BOW     | KD-Tree |          31          | 0.745163983029182  |\n",
      "| set6 |   TFIDF    | KD-Tree |          31          | 0.7518026128827161 |\n",
      "| set7 |    W2V     | KD-Tree |          31          | 0.8593388415167544 |\n",
      "| set8 |  TFIDFW2V  | KD-Tree |          31          | 0.7389905783993316 |\n",
      "+------+------------+---------+----------------------+--------------------+\n"
     ]
    }
   ],
   "source": [
    "#http://zetcode.com/python/prettytable/\n",
    "x = PrettyTable()\n",
    "x.clear_rows()\n",
    "sets = [\"BOW\",\"TFIDF\",\"W2V\",\"TFIDFW2V\"]\n",
    "x.field_names = [\"SET\",\"Vectorizer\", \"Model\", \"Best Hyper parameter\", \"Test AUC\"]\n",
    "for i,j in enumerate(Total_AUC) :    \n",
    "    #print(j,sets[(i%4)],\"Brute\",Total_ACU[j][0],Total_ACU[j][1])\n",
    "    x.add_row([ j, sets[(i%4)], (\"Brute\") if (i < 3) else (\"KD-Tree\") ,Total_AUC[j][0],Total_AUC[j][1]])\n",
    "print(x)"
   ]
  },
  {
   "cell_type": "markdown",
   "metadata": {},
   "source": [
    "Area Under the Curve is the best Metrice to understand or to compare the Models.\n",
    "\n",
    "In the Above table, we can see each model with its Hyper parameter and corresponding the Test AUC.\n",
    "\n",
    "By Observing the above Auc fOR each Model we can conclude Highest Test Area under the curve is 0.8593388415167544.\n",
    "\n",
    "And we are acheiving the High AUC with AVg Tf-idf for KD-Tree Algorithms."
   ]
  }
 ],
 "metadata": {
  "kernelspec": {
   "display_name": "Python 3",
   "language": "python",
   "name": "python3"
  },
  "language_info": {
   "codemirror_mode": {
    "name": "ipython",
    "version": 3
   },
   "file_extension": ".py",
   "mimetype": "text/x-python",
   "name": "python",
   "nbconvert_exporter": "python",
   "pygments_lexer": "ipython3",
   "version": "3.6.5"
  },
  "widgets": {
   "application/vnd.jupyter.widget-state+json": {
    "state": {},
    "version_major": 2,
    "version_minor": 0
   }
  }
 },
 "nbformat": 4,
 "nbformat_minor": 2
}
