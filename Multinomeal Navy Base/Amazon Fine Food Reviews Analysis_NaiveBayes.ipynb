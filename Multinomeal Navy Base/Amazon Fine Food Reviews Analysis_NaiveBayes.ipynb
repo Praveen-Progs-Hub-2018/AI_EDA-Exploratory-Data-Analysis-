{
 "cells": [
  {
   "cell_type": "markdown",
   "metadata": {
    "colab_type": "text",
    "id": "UIn1GsFNJkjH"
   },
   "source": [
    "# Amazon Fine Food Reviews Analysis\n",
    "\n",
    "\n",
    "Developer : PraveenAI\n",
    "\n",
    "Source Copyrights: Wherever I have copied any code snippets, I used it understanding it throughly. Also povided the links.\n",
    "                  \n",
    "Data Source: https://www.kaggle.com/snap/amazon-fine-food-reviews <br>\n",
    "\n",
    "EDA: https://nycdatascience.com/blog/student-works/amazon-fine-foods-visualization/\n",
    "\n",
    "\n",
    "The Amazon Fine Food Reviews dataset consists of reviews of fine foods from Amazon.<br>\n",
    "\n",
    "Number of reviews: 568,454<br>\n",
    "Number of users: 256,059<br>\n",
    "Number of products: 74,258<br>\n",
    "Timespan: Oct 1999 - Oct 2012<br>\n",
    "Number of Attributes/Columns in data: 10 \n",
    "\n",
    "Attribute Information:\n",
    "\n",
    "1. Id\n",
    "2. ProductId - unique identifier for the product\n",
    "3. UserId - unqiue identifier for the user\n",
    "4. ProfileName\n",
    "5. HelpfulnessNumerator - number of users who found the review helpful\n",
    "6. HelpfulnessDenominator - number of users who indicated whether they found the review helpful or not\n",
    "7. Score - rating between 1 and 5\n",
    "8. Time - timestamp for the review\n",
    "9. Summary - brief summary of the review\n",
    "10. Text - text of the review\n",
    "\n",
    "\n",
    "#### Objective:\n",
    "Given a review, determine whether the review is positive (rating of 4 or 5) or negative (rating of 1 or 2).\n",
    "\n",
    "<br>\n",
    "[Q] How to determine if a review is positive or negative?<br>\n",
    "<br> \n",
    "[Ans] We could use Score/Rating. A rating of 4 or 5 can be cosnidered as a positive review. A rating of 1 or 2 can be considered as negative one. A review of rating 3 is considered nuetral and such reviews are ignored from our analysis. This is an approximate and proxy way of determining the polarity (positivity/negativity) of a review.\n",
    "\n",
    "\n"
   ]
  },
  {
   "cell_type": "markdown",
   "metadata": {
    "colab_type": "text",
    "id": "5Uf26aoLJkjJ"
   },
   "source": [
    "# [1]. Reading Data"
   ]
  },
  {
   "cell_type": "markdown",
   "metadata": {
    "colab_type": "text",
    "id": "yo-LaJg3JkjK"
   },
   "source": [
    "## [1.1] Loading the data\n",
    "\n",
    "The dataset is available in two forms\n",
    "1. .csv file\n",
    "2. SQLite Database\n",
    "\n",
    "In order to load the data, We have used the SQLITE dataset as it is easier to query the data and visualise the data efficiently.\n",
    "<br> \n",
    "\n",
    "Here as we only want to get the global sentiment of the recommendations (positive or negative), we will purposefully ignore all Scores equal to 3. If the score is above 3, then the recommendation wil be set to \"positive\". Otherwise, it will be set to \"negative\"."
   ]
  },
  {
   "cell_type": "code",
   "execution_count": 128,
   "metadata": {
    "colab": {},
    "colab_type": "code",
    "id": "dLYq3BkfJkjL"
   },
   "outputs": [],
   "source": [
    "%matplotlib inline\n",
    "import warnings\n",
    "warnings.filterwarnings(\"ignore\")\n",
    "\n",
    "\n",
    "import sqlite3\n",
    "import pandas as pd\n",
    "import numpy as np\n",
    "import nltk\n",
    "import string\n",
    "import matplotlib.pyplot as plt\n",
    "import seaborn as sns\n",
    "from sklearn.feature_extraction.text import TfidfTransformer\n",
    "from sklearn.feature_extraction.text import TfidfVectorizer\n",
    "\n",
    "from sklearn.feature_extraction.text import CountVectorizer\n",
    "from sklearn.metrics import confusion_matrix\n",
    "from sklearn import metrics\n",
    "from sklearn.metrics import roc_curve, auc\n",
    "from nltk.stem.porter import PorterStemmer\n",
    "\n",
    "import re\n",
    "# Tutorial about Python regular expressions: https://pymotw.com/2/re/\n",
    "import string\n",
    "from nltk.corpus import stopwords\n",
    "from nltk.stem import PorterStemmer\n",
    "from nltk.stem.wordnet import WordNetLemmatizer\n",
    "\n",
    "from gensim.models import Word2Vec\n",
    "from gensim.models import KeyedVectors\n",
    "import pickle\n",
    "\n",
    "from tqdm import tqdm\n",
    "import os"
   ]
  },
  {
   "cell_type": "code",
   "execution_count": 129,
   "metadata": {
    "colab": {},
    "colab_type": "code",
    "id": "rXVxnx_NJkjO",
    "outputId": "98628980-4d6e-4c53-913f-2d207932d2d0"
   },
   "outputs": [
    {
     "name": "stdout",
     "output_type": "stream",
     "text": [
      "Number of data points in our data (525814, 10)\n"
     ]
    },
    {
     "data": {
      "text/html": [
       "<div>\n",
       "<style scoped>\n",
       "    .dataframe tbody tr th:only-of-type {\n",
       "        vertical-align: middle;\n",
       "    }\n",
       "\n",
       "    .dataframe tbody tr th {\n",
       "        vertical-align: top;\n",
       "    }\n",
       "\n",
       "    .dataframe thead th {\n",
       "        text-align: right;\n",
       "    }\n",
       "</style>\n",
       "<table border=\"1\" class=\"dataframe\">\n",
       "  <thead>\n",
       "    <tr style=\"text-align: right;\">\n",
       "      <th></th>\n",
       "      <th>Id</th>\n",
       "      <th>ProductId</th>\n",
       "      <th>UserId</th>\n",
       "      <th>ProfileName</th>\n",
       "      <th>HelpfulnessNumerator</th>\n",
       "      <th>HelpfulnessDenominator</th>\n",
       "      <th>Score</th>\n",
       "      <th>Time</th>\n",
       "      <th>Summary</th>\n",
       "      <th>Text</th>\n",
       "    </tr>\n",
       "  </thead>\n",
       "  <tbody>\n",
       "    <tr>\n",
       "      <th>0</th>\n",
       "      <td>1</td>\n",
       "      <td>B001E4KFG0</td>\n",
       "      <td>A3SGXH7AUHU8GW</td>\n",
       "      <td>delmartian</td>\n",
       "      <td>1</td>\n",
       "      <td>1</td>\n",
       "      <td>1</td>\n",
       "      <td>1303862400</td>\n",
       "      <td>Good Quality Dog Food</td>\n",
       "      <td>I have bought several of the Vitality canned d...</td>\n",
       "    </tr>\n",
       "    <tr>\n",
       "      <th>1</th>\n",
       "      <td>2</td>\n",
       "      <td>B00813GRG4</td>\n",
       "      <td>A1D87F6ZCVE5NK</td>\n",
       "      <td>dll pa</td>\n",
       "      <td>0</td>\n",
       "      <td>0</td>\n",
       "      <td>0</td>\n",
       "      <td>1346976000</td>\n",
       "      <td>Not as Advertised</td>\n",
       "      <td>Product arrived labeled as Jumbo Salted Peanut...</td>\n",
       "    </tr>\n",
       "    <tr>\n",
       "      <th>2</th>\n",
       "      <td>3</td>\n",
       "      <td>B000LQOCH0</td>\n",
       "      <td>ABXLMWJIXXAIN</td>\n",
       "      <td>Natalia Corres \"Natalia Corres\"</td>\n",
       "      <td>1</td>\n",
       "      <td>1</td>\n",
       "      <td>1</td>\n",
       "      <td>1219017600</td>\n",
       "      <td>\"Delight\" says it all</td>\n",
       "      <td>This is a confection that has been around a fe...</td>\n",
       "    </tr>\n",
       "  </tbody>\n",
       "</table>\n",
       "</div>"
      ],
      "text/plain": [
       "   Id   ProductId          UserId                      ProfileName  \\\n",
       "0   1  B001E4KFG0  A3SGXH7AUHU8GW                       delmartian   \n",
       "1   2  B00813GRG4  A1D87F6ZCVE5NK                           dll pa   \n",
       "2   3  B000LQOCH0   ABXLMWJIXXAIN  Natalia Corres \"Natalia Corres\"   \n",
       "\n",
       "   HelpfulnessNumerator  HelpfulnessDenominator  Score        Time  \\\n",
       "0                     1                       1      1  1303862400   \n",
       "1                     0                       0      0  1346976000   \n",
       "2                     1                       1      1  1219017600   \n",
       "\n",
       "                 Summary                                               Text  \n",
       "0  Good Quality Dog Food  I have bought several of the Vitality canned d...  \n",
       "1      Not as Advertised  Product arrived labeled as Jumbo Salted Peanut...  \n",
       "2  \"Delight\" says it all  This is a confection that has been around a fe...  "
      ]
     },
     "execution_count": 129,
     "metadata": {},
     "output_type": "execute_result"
    }
   ],
   "source": [
    "# using SQLite Table to read data.\n",
    "con = sqlite3.connect('database.sqlite') \n",
    "\n",
    "# filtering only positive and negative reviews i.e. \n",
    "# not taking into consideration those reviews with Score=3\n",
    "# SELECT * FROM Reviews WHERE Score != 3 LIMIT 500000, will give top 500000 data points\n",
    "# you can change the number to any other number based on your computing power\n",
    "\n",
    "# filtered_data = pd.read_sql_query(\"\"\" SELECT * FROM Reviews WHERE Score != 3 LIMIT 500000\"\"\", con) \n",
    "# for tsne assignment you can take 5k data points\n",
    "\n",
    "filtered_data = pd.read_sql_query(\"\"\" SELECT * FROM Reviews WHERE Score != 3 LIMIT 900000\"\"\", con) \n",
    "\n",
    "# Give reviews with Score>3 a positive rating(1), and reviews with a score<3 a negative rating(0).\n",
    "def partition(x):\n",
    "    if x < 3:\n",
    "        return 0\n",
    "    return 1\n",
    "\n",
    "#changing reviews with score less than 3 to be positive and vice-versa\n",
    "actualScore = filtered_data['Score']\n",
    "positiveNegative = actualScore.map(partition) \n",
    "filtered_data['Score'] = positiveNegative\n",
    "print(\"Number of data points in our data\", filtered_data.shape)\n",
    "filtered_data.head(3)"
   ]
  },
  {
   "cell_type": "code",
   "execution_count": 130,
   "metadata": {
    "colab": {},
    "colab_type": "code",
    "id": "ZLasp3QxJkjS"
   },
   "outputs": [],
   "source": [
    "display = pd.read_sql_query(\"\"\"\n",
    "SELECT UserId, ProductId, ProfileName, Time, Score, Text, COUNT(*)\n",
    "FROM Reviews\n",
    "GROUP BY UserId\n",
    "HAVING COUNT(*)>1\n",
    "\"\"\", con)"
   ]
  },
  {
   "cell_type": "code",
   "execution_count": 131,
   "metadata": {
    "colab": {},
    "colab_type": "code",
    "id": "pHzk_lUkJkjW",
    "outputId": "3461f626-dc72-4b0d-af37-c3625e7e81b2",
    "scrolled": true
   },
   "outputs": [
    {
     "name": "stdout",
     "output_type": "stream",
     "text": [
      "(80668, 7)\n"
     ]
    },
    {
     "data": {
      "text/html": [
       "<div>\n",
       "<style scoped>\n",
       "    .dataframe tbody tr th:only-of-type {\n",
       "        vertical-align: middle;\n",
       "    }\n",
       "\n",
       "    .dataframe tbody tr th {\n",
       "        vertical-align: top;\n",
       "    }\n",
       "\n",
       "    .dataframe thead th {\n",
       "        text-align: right;\n",
       "    }\n",
       "</style>\n",
       "<table border=\"1\" class=\"dataframe\">\n",
       "  <thead>\n",
       "    <tr style=\"text-align: right;\">\n",
       "      <th></th>\n",
       "      <th>UserId</th>\n",
       "      <th>ProductId</th>\n",
       "      <th>ProfileName</th>\n",
       "      <th>Time</th>\n",
       "      <th>Score</th>\n",
       "      <th>Text</th>\n",
       "      <th>COUNT(*)</th>\n",
       "    </tr>\n",
       "  </thead>\n",
       "  <tbody>\n",
       "    <tr>\n",
       "      <th>0</th>\n",
       "      <td>#oc-R115TNMSPFT9I7</td>\n",
       "      <td>B007Y59HVM</td>\n",
       "      <td>Breyton</td>\n",
       "      <td>1331510400</td>\n",
       "      <td>2</td>\n",
       "      <td>Overall its just OK when considering the price...</td>\n",
       "      <td>2</td>\n",
       "    </tr>\n",
       "    <tr>\n",
       "      <th>1</th>\n",
       "      <td>#oc-R11D9D7SHXIJB9</td>\n",
       "      <td>B005HG9ET0</td>\n",
       "      <td>Louis E. Emory \"hoppy\"</td>\n",
       "      <td>1342396800</td>\n",
       "      <td>5</td>\n",
       "      <td>My wife has recurring extreme muscle spasms, u...</td>\n",
       "      <td>3</td>\n",
       "    </tr>\n",
       "    <tr>\n",
       "      <th>2</th>\n",
       "      <td>#oc-R11DNU2NBKQ23Z</td>\n",
       "      <td>B007Y59HVM</td>\n",
       "      <td>Kim Cieszykowski</td>\n",
       "      <td>1348531200</td>\n",
       "      <td>1</td>\n",
       "      <td>This coffee is horrible and unfortunately not ...</td>\n",
       "      <td>2</td>\n",
       "    </tr>\n",
       "    <tr>\n",
       "      <th>3</th>\n",
       "      <td>#oc-R11O5J5ZVQE25C</td>\n",
       "      <td>B005HG9ET0</td>\n",
       "      <td>Penguin Chick</td>\n",
       "      <td>1346889600</td>\n",
       "      <td>5</td>\n",
       "      <td>This will be the bottle that you grab from the...</td>\n",
       "      <td>3</td>\n",
       "    </tr>\n",
       "    <tr>\n",
       "      <th>4</th>\n",
       "      <td>#oc-R12KPBODL2B5ZD</td>\n",
       "      <td>B007OSBE1U</td>\n",
       "      <td>Christopher P. Presta</td>\n",
       "      <td>1348617600</td>\n",
       "      <td>1</td>\n",
       "      <td>I didnt like this coffee. Instead of telling y...</td>\n",
       "      <td>2</td>\n",
       "    </tr>\n",
       "  </tbody>\n",
       "</table>\n",
       "</div>"
      ],
      "text/plain": [
       "               UserId   ProductId             ProfileName        Time  Score  \\\n",
       "0  #oc-R115TNMSPFT9I7  B007Y59HVM                 Breyton  1331510400      2   \n",
       "1  #oc-R11D9D7SHXIJB9  B005HG9ET0  Louis E. Emory \"hoppy\"  1342396800      5   \n",
       "2  #oc-R11DNU2NBKQ23Z  B007Y59HVM        Kim Cieszykowski  1348531200      1   \n",
       "3  #oc-R11O5J5ZVQE25C  B005HG9ET0           Penguin Chick  1346889600      5   \n",
       "4  #oc-R12KPBODL2B5ZD  B007OSBE1U   Christopher P. Presta  1348617600      1   \n",
       "\n",
       "                                                Text  COUNT(*)  \n",
       "0  Overall its just OK when considering the price...         2  \n",
       "1  My wife has recurring extreme muscle spasms, u...         3  \n",
       "2  This coffee is horrible and unfortunately not ...         2  \n",
       "3  This will be the bottle that you grab from the...         3  \n",
       "4  I didnt like this coffee. Instead of telling y...         2  "
      ]
     },
     "execution_count": 131,
     "metadata": {},
     "output_type": "execute_result"
    }
   ],
   "source": [
    "print(display.shape)\n",
    "display.head()"
   ]
  },
  {
   "cell_type": "code",
   "execution_count": 132,
   "metadata": {
    "colab": {},
    "colab_type": "code",
    "id": "HUsn2lg8Jkjb",
    "outputId": "76e2e98e-b728-46ba-d619-c2008134a3b7"
   },
   "outputs": [
    {
     "data": {
      "text/html": [
       "<div>\n",
       "<style scoped>\n",
       "    .dataframe tbody tr th:only-of-type {\n",
       "        vertical-align: middle;\n",
       "    }\n",
       "\n",
       "    .dataframe tbody tr th {\n",
       "        vertical-align: top;\n",
       "    }\n",
       "\n",
       "    .dataframe thead th {\n",
       "        text-align: right;\n",
       "    }\n",
       "</style>\n",
       "<table border=\"1\" class=\"dataframe\">\n",
       "  <thead>\n",
       "    <tr style=\"text-align: right;\">\n",
       "      <th></th>\n",
       "      <th>UserId</th>\n",
       "      <th>ProductId</th>\n",
       "      <th>ProfileName</th>\n",
       "      <th>Time</th>\n",
       "      <th>Score</th>\n",
       "      <th>Text</th>\n",
       "      <th>COUNT(*)</th>\n",
       "    </tr>\n",
       "  </thead>\n",
       "  <tbody>\n",
       "    <tr>\n",
       "      <th>80638</th>\n",
       "      <td>AZY10LLTJ71NX</td>\n",
       "      <td>B006P7E5ZI</td>\n",
       "      <td>undertheshrine \"undertheshrine\"</td>\n",
       "      <td>1334707200</td>\n",
       "      <td>5</td>\n",
       "      <td>I was recommended to try green tea extract to ...</td>\n",
       "      <td>5</td>\n",
       "    </tr>\n",
       "  </tbody>\n",
       "</table>\n",
       "</div>"
      ],
      "text/plain": [
       "              UserId   ProductId                      ProfileName        Time  \\\n",
       "80638  AZY10LLTJ71NX  B006P7E5ZI  undertheshrine \"undertheshrine\"  1334707200   \n",
       "\n",
       "       Score                                               Text  COUNT(*)  \n",
       "80638      5  I was recommended to try green tea extract to ...         5  "
      ]
     },
     "execution_count": 132,
     "metadata": {},
     "output_type": "execute_result"
    }
   ],
   "source": [
    "display[display['UserId']=='AZY10LLTJ71NX']"
   ]
  },
  {
   "cell_type": "code",
   "execution_count": 133,
   "metadata": {
    "colab": {},
    "colab_type": "code",
    "id": "CyPhzHZKJkjf",
    "outputId": "28b60f13-e2e6-4960-e5ba-3467e16dbd03"
   },
   "outputs": [
    {
     "data": {
      "text/plain": [
       "393063"
      ]
     },
     "execution_count": 133,
     "metadata": {},
     "output_type": "execute_result"
    }
   ],
   "source": [
    "display['COUNT(*)'].sum()"
   ]
  },
  {
   "cell_type": "markdown",
   "metadata": {
    "colab_type": "text",
    "id": "y22fy_WtJkji"
   },
   "source": [
    "#  [2] Exploratory Data Analysis"
   ]
  },
  {
   "cell_type": "markdown",
   "metadata": {
    "colab_type": "text",
    "id": "ZqpW3tWPJkjl"
   },
   "source": [
    "## [2.1] Data Cleaning: Deduplication\n",
    "\n",
    "It is observed (as shown in the table below) that the reviews data had many duplicate entries. Hence it was necessary to remove duplicates in order to get unbiased results for the analysis of the data.  Following is an example:"
   ]
  },
  {
   "cell_type": "code",
   "execution_count": 134,
   "metadata": {
    "colab": {},
    "colab_type": "code",
    "id": "fmlu_oooJkjl",
    "outputId": "9ae82f65-ed65-425a-ad4d-b96091e37940",
    "scrolled": false
   },
   "outputs": [
    {
     "data": {
      "text/html": [
       "<div>\n",
       "<style scoped>\n",
       "    .dataframe tbody tr th:only-of-type {\n",
       "        vertical-align: middle;\n",
       "    }\n",
       "\n",
       "    .dataframe tbody tr th {\n",
       "        vertical-align: top;\n",
       "    }\n",
       "\n",
       "    .dataframe thead th {\n",
       "        text-align: right;\n",
       "    }\n",
       "</style>\n",
       "<table border=\"1\" class=\"dataframe\">\n",
       "  <thead>\n",
       "    <tr style=\"text-align: right;\">\n",
       "      <th></th>\n",
       "      <th>Id</th>\n",
       "      <th>ProductId</th>\n",
       "      <th>UserId</th>\n",
       "      <th>ProfileName</th>\n",
       "      <th>HelpfulnessNumerator</th>\n",
       "      <th>HelpfulnessDenominator</th>\n",
       "      <th>Score</th>\n",
       "      <th>Time</th>\n",
       "      <th>Summary</th>\n",
       "      <th>Text</th>\n",
       "    </tr>\n",
       "  </thead>\n",
       "  <tbody>\n",
       "    <tr>\n",
       "      <th>0</th>\n",
       "      <td>78445</td>\n",
       "      <td>B000HDL1RQ</td>\n",
       "      <td>AR5J8UI46CURR</td>\n",
       "      <td>Geetha Krishnan</td>\n",
       "      <td>2</td>\n",
       "      <td>2</td>\n",
       "      <td>5</td>\n",
       "      <td>1199577600</td>\n",
       "      <td>LOACKER QUADRATINI VANILLA WAFERS</td>\n",
       "      <td>DELICIOUS WAFERS. I FIND THAT EUROPEAN WAFERS ...</td>\n",
       "    </tr>\n",
       "    <tr>\n",
       "      <th>1</th>\n",
       "      <td>138317</td>\n",
       "      <td>B000HDOPYC</td>\n",
       "      <td>AR5J8UI46CURR</td>\n",
       "      <td>Geetha Krishnan</td>\n",
       "      <td>2</td>\n",
       "      <td>2</td>\n",
       "      <td>5</td>\n",
       "      <td>1199577600</td>\n",
       "      <td>LOACKER QUADRATINI VANILLA WAFERS</td>\n",
       "      <td>DELICIOUS WAFERS. I FIND THAT EUROPEAN WAFERS ...</td>\n",
       "    </tr>\n",
       "    <tr>\n",
       "      <th>2</th>\n",
       "      <td>138277</td>\n",
       "      <td>B000HDOPYM</td>\n",
       "      <td>AR5J8UI46CURR</td>\n",
       "      <td>Geetha Krishnan</td>\n",
       "      <td>2</td>\n",
       "      <td>2</td>\n",
       "      <td>5</td>\n",
       "      <td>1199577600</td>\n",
       "      <td>LOACKER QUADRATINI VANILLA WAFERS</td>\n",
       "      <td>DELICIOUS WAFERS. I FIND THAT EUROPEAN WAFERS ...</td>\n",
       "    </tr>\n",
       "    <tr>\n",
       "      <th>3</th>\n",
       "      <td>73791</td>\n",
       "      <td>B000HDOPZG</td>\n",
       "      <td>AR5J8UI46CURR</td>\n",
       "      <td>Geetha Krishnan</td>\n",
       "      <td>2</td>\n",
       "      <td>2</td>\n",
       "      <td>5</td>\n",
       "      <td>1199577600</td>\n",
       "      <td>LOACKER QUADRATINI VANILLA WAFERS</td>\n",
       "      <td>DELICIOUS WAFERS. I FIND THAT EUROPEAN WAFERS ...</td>\n",
       "    </tr>\n",
       "    <tr>\n",
       "      <th>4</th>\n",
       "      <td>155049</td>\n",
       "      <td>B000PAQ75C</td>\n",
       "      <td>AR5J8UI46CURR</td>\n",
       "      <td>Geetha Krishnan</td>\n",
       "      <td>2</td>\n",
       "      <td>2</td>\n",
       "      <td>5</td>\n",
       "      <td>1199577600</td>\n",
       "      <td>LOACKER QUADRATINI VANILLA WAFERS</td>\n",
       "      <td>DELICIOUS WAFERS. I FIND THAT EUROPEAN WAFERS ...</td>\n",
       "    </tr>\n",
       "  </tbody>\n",
       "</table>\n",
       "</div>"
      ],
      "text/plain": [
       "       Id   ProductId         UserId      ProfileName  HelpfulnessNumerator  \\\n",
       "0   78445  B000HDL1RQ  AR5J8UI46CURR  Geetha Krishnan                     2   \n",
       "1  138317  B000HDOPYC  AR5J8UI46CURR  Geetha Krishnan                     2   \n",
       "2  138277  B000HDOPYM  AR5J8UI46CURR  Geetha Krishnan                     2   \n",
       "3   73791  B000HDOPZG  AR5J8UI46CURR  Geetha Krishnan                     2   \n",
       "4  155049  B000PAQ75C  AR5J8UI46CURR  Geetha Krishnan                     2   \n",
       "\n",
       "   HelpfulnessDenominator  Score        Time  \\\n",
       "0                       2      5  1199577600   \n",
       "1                       2      5  1199577600   \n",
       "2                       2      5  1199577600   \n",
       "3                       2      5  1199577600   \n",
       "4                       2      5  1199577600   \n",
       "\n",
       "                             Summary  \\\n",
       "0  LOACKER QUADRATINI VANILLA WAFERS   \n",
       "1  LOACKER QUADRATINI VANILLA WAFERS   \n",
       "2  LOACKER QUADRATINI VANILLA WAFERS   \n",
       "3  LOACKER QUADRATINI VANILLA WAFERS   \n",
       "4  LOACKER QUADRATINI VANILLA WAFERS   \n",
       "\n",
       "                                                Text  \n",
       "0  DELICIOUS WAFERS. I FIND THAT EUROPEAN WAFERS ...  \n",
       "1  DELICIOUS WAFERS. I FIND THAT EUROPEAN WAFERS ...  \n",
       "2  DELICIOUS WAFERS. I FIND THAT EUROPEAN WAFERS ...  \n",
       "3  DELICIOUS WAFERS. I FIND THAT EUROPEAN WAFERS ...  \n",
       "4  DELICIOUS WAFERS. I FIND THAT EUROPEAN WAFERS ...  "
      ]
     },
     "execution_count": 134,
     "metadata": {},
     "output_type": "execute_result"
    }
   ],
   "source": [
    "display= pd.read_sql_query(\"\"\"\n",
    "SELECT *\n",
    "FROM Reviews\n",
    "WHERE Score != 3 AND UserId=\"AR5J8UI46CURR\"\n",
    "ORDER BY ProductID\n",
    "\"\"\", con)\n",
    "display.head()"
   ]
  },
  {
   "cell_type": "markdown",
   "metadata": {
    "colab_type": "text",
    "id": "pvogJHEyJkjq"
   },
   "source": [
    "As it can be seen above that same user has multiple reviews with same values for HelpfulnessNumerator, HelpfulnessDenominator, Score, Time, Summary and Text and on doing analysis it was found that <br>\n",
    "<br> \n",
    "ProductId=B000HDOPZG was Loacker Quadratini Vanilla Wafer Cookies, 8.82-Ounce Packages (Pack of 8)<br>\n",
    "<br> \n",
    "ProductId=B000HDL1RQ was Loacker Quadratini Lemon Wafer Cookies, 8.82-Ounce Packages (Pack of 8) and so on<br>\n",
    "\n",
    "It was inferred after analysis that reviews with same parameters other than ProductId belonged to the same product just having different flavour or quantity. Hence in order to reduce redundancy it was decided to eliminate the rows having same parameters.<br>\n",
    "\n",
    "The method used for the same was that we first sort the data according to ProductId and then just keep the first similar product review and delelte the others. for eg. in the above just the review for ProductId=B000HDL1RQ remains. This method ensures that there is only one representative for each product and deduplication without sorting would lead to possibility of different representatives still existing for the same product."
   ]
  },
  {
   "cell_type": "code",
   "execution_count": 135,
   "metadata": {
    "colab": {},
    "colab_type": "code",
    "id": "LAWOrfBaJkjr"
   },
   "outputs": [],
   "source": [
    "#Sorting data according to ProductId in ascending order\n",
    "sorted_data=filtered_data.sort_values('ProductId', axis=0, ascending=True, inplace=False, kind='quicksort', na_position='last')"
   ]
  },
  {
   "cell_type": "code",
   "execution_count": 136,
   "metadata": {
    "colab": {},
    "colab_type": "code",
    "id": "dfaQob28Jkju",
    "outputId": "21104e4f-cd18-4353-a54a-5b4638fc552b"
   },
   "outputs": [
    {
     "data": {
      "text/plain": [
       "(364173, 10)"
      ]
     },
     "execution_count": 136,
     "metadata": {},
     "output_type": "execute_result"
    }
   ],
   "source": [
    "#Deduplication of entries\n",
    "final=sorted_data.drop_duplicates(subset={\"UserId\",\"ProfileName\",\"Time\",\"Text\"}, keep='first', inplace=False)\n",
    "final.shape"
   ]
  },
  {
   "cell_type": "code",
   "execution_count": 137,
   "metadata": {
    "colab": {},
    "colab_type": "code",
    "id": "9QVxT6oxJkjx",
    "outputId": "f292b9fe-6065-4979-830d-c79bc6785a3d"
   },
   "outputs": [
    {
     "data": {
      "text/plain": [
       "69.25890143662969"
      ]
     },
     "execution_count": 137,
     "metadata": {},
     "output_type": "execute_result"
    }
   ],
   "source": [
    "#Checking to see how much % of data still remains\n",
    "(final['Id'].size*1.0)/(filtered_data['Id'].size*1.0)*100"
   ]
  },
  {
   "cell_type": "markdown",
   "metadata": {
    "colab_type": "text",
    "id": "qVaxONHLJkj1"
   },
   "source": [
    "<b>Observation:-</b> It was also seen that in two rows given below the value of HelpfulnessNumerator is greater than HelpfulnessDenominator which is not practically possible hence these two rows too are removed from calcualtions"
   ]
  },
  {
   "cell_type": "code",
   "execution_count": 138,
   "metadata": {
    "colab": {},
    "colab_type": "code",
    "id": "vLoqfOjcJkj1",
    "outputId": "db3448f8-fbda-4205-a7cc-5048e0f1fd19"
   },
   "outputs": [
    {
     "data": {
      "text/html": [
       "<div>\n",
       "<style scoped>\n",
       "    .dataframe tbody tr th:only-of-type {\n",
       "        vertical-align: middle;\n",
       "    }\n",
       "\n",
       "    .dataframe tbody tr th {\n",
       "        vertical-align: top;\n",
       "    }\n",
       "\n",
       "    .dataframe thead th {\n",
       "        text-align: right;\n",
       "    }\n",
       "</style>\n",
       "<table border=\"1\" class=\"dataframe\">\n",
       "  <thead>\n",
       "    <tr style=\"text-align: right;\">\n",
       "      <th></th>\n",
       "      <th>Id</th>\n",
       "      <th>ProductId</th>\n",
       "      <th>UserId</th>\n",
       "      <th>ProfileName</th>\n",
       "      <th>HelpfulnessNumerator</th>\n",
       "      <th>HelpfulnessDenominator</th>\n",
       "      <th>Score</th>\n",
       "      <th>Time</th>\n",
       "      <th>Summary</th>\n",
       "      <th>Text</th>\n",
       "    </tr>\n",
       "  </thead>\n",
       "  <tbody>\n",
       "    <tr>\n",
       "      <th>0</th>\n",
       "      <td>64422</td>\n",
       "      <td>B000MIDROQ</td>\n",
       "      <td>A161DK06JJMCYF</td>\n",
       "      <td>J. E. Stephens \"Jeanne\"</td>\n",
       "      <td>3</td>\n",
       "      <td>1</td>\n",
       "      <td>5</td>\n",
       "      <td>1224892800</td>\n",
       "      <td>Bought This for My Son at College</td>\n",
       "      <td>My son loves spaghetti so I didn't hesitate or...</td>\n",
       "    </tr>\n",
       "    <tr>\n",
       "      <th>1</th>\n",
       "      <td>44737</td>\n",
       "      <td>B001EQ55RW</td>\n",
       "      <td>A2V0I904FH7ABY</td>\n",
       "      <td>Ram</td>\n",
       "      <td>3</td>\n",
       "      <td>2</td>\n",
       "      <td>4</td>\n",
       "      <td>1212883200</td>\n",
       "      <td>Pure cocoa taste with crunchy almonds inside</td>\n",
       "      <td>It was almost a 'love at first bite' - the per...</td>\n",
       "    </tr>\n",
       "  </tbody>\n",
       "</table>\n",
       "</div>"
      ],
      "text/plain": [
       "      Id   ProductId          UserId              ProfileName  \\\n",
       "0  64422  B000MIDROQ  A161DK06JJMCYF  J. E. Stephens \"Jeanne\"   \n",
       "1  44737  B001EQ55RW  A2V0I904FH7ABY                      Ram   \n",
       "\n",
       "   HelpfulnessNumerator  HelpfulnessDenominator  Score        Time  \\\n",
       "0                     3                       1      5  1224892800   \n",
       "1                     3                       2      4  1212883200   \n",
       "\n",
       "                                        Summary  \\\n",
       "0             Bought This for My Son at College   \n",
       "1  Pure cocoa taste with crunchy almonds inside   \n",
       "\n",
       "                                                Text  \n",
       "0  My son loves spaghetti so I didn't hesitate or...  \n",
       "1  It was almost a 'love at first bite' - the per...  "
      ]
     },
     "execution_count": 138,
     "metadata": {},
     "output_type": "execute_result"
    }
   ],
   "source": [
    "display= pd.read_sql_query(\"\"\"\n",
    "SELECT *\n",
    "FROM Reviews\n",
    "WHERE Score != 3 AND Id=44737 OR Id=64422\n",
    "ORDER BY ProductID\n",
    "\"\"\", con)\n",
    "\n",
    "display.head()"
   ]
  },
  {
   "cell_type": "code",
   "execution_count": 139,
   "metadata": {
    "colab": {},
    "colab_type": "code",
    "id": "f_185ozFJkj9"
   },
   "outputs": [],
   "source": [
    "final=final[final.HelpfulnessNumerator<=final.HelpfulnessDenominator]"
   ]
  },
  {
   "cell_type": "code",
   "execution_count": 140,
   "metadata": {
    "colab": {},
    "colab_type": "code",
    "id": "CofRySJyJkkC",
    "outputId": "a06c52f6-66a9-429b-8a5e-e20259f0bb21"
   },
   "outputs": [
    {
     "name": "stdout",
     "output_type": "stream",
     "text": [
      "(364171, 10)\n"
     ]
    },
    {
     "data": {
      "text/plain": [
       "1    307061\n",
       "0     57110\n",
       "Name: Score, dtype: int64"
      ]
     },
     "execution_count": 140,
     "metadata": {},
     "output_type": "execute_result"
    }
   ],
   "source": [
    "#Before starting the next phase of preprocessing lets see the number of entries left\n",
    "print(final.shape)\n",
    "\n",
    "#How many positive and negative reviews are present in our dataset?\n",
    "final['Score'].value_counts()"
   ]
  },
  {
   "cell_type": "markdown",
   "metadata": {
    "colab_type": "text",
    "id": "-fEWeywxJkkI"
   },
   "source": [
    "#  [3] Preprocessing"
   ]
  },
  {
   "cell_type": "markdown",
   "metadata": {
    "colab_type": "text",
    "id": "tzpbt9aOJkkJ"
   },
   "source": [
    "## [3.1].  Preprocessing Review Text\n",
    "\n",
    "Now that we have finished deduplication our data requires some preprocessing before we go on further with analysis and making the prediction model.\n",
    "\n",
    "Hence in the Preprocessing phase we do the following in the order below:-\n",
    "\n",
    "1. Begin by removing the html tags\n",
    "2. Remove any punctuations or limited set of special characters like , or . or # etc.\n",
    "3. Check if the word is made up of english letters and is not alpha-numeric\n",
    "4. Check to see if the length of the word is greater than 2 (as it was researched that there is no adjective in 2-letters)\n",
    "5. Convert the word to lowercase\n",
    "6. Remove Stopwords\n",
    "7. Finally Snowball Stemming the word (it was obsereved to be better than Porter Stemming)<br>\n",
    "\n",
    "After which we collect the words used to describe positive and negative reviews"
   ]
  },
  {
   "cell_type": "code",
   "execution_count": 141,
   "metadata": {
    "colab": {},
    "colab_type": "code",
    "id": "YqxBeLk8JkkL",
    "outputId": "1819632d-0129-4a13-d7ff-4e7bbf129dff"
   },
   "outputs": [
    {
     "name": "stdout",
     "output_type": "stream",
     "text": [
      "this witty little book makes my son laugh at loud. i recite it in the car as we're driving along and he always can sing the refrain. he's learned about whales, India, drooping roses:  i love all the new words this book  introduces and the silliness of it all.  this is a classic book i am  willing to bet my son will STILL be able to recite from memory when he is  in college\n",
      "==================================================\n",
      "I grew up reading these Sendak books, and watching the Really Rosie movie that incorporates them, and love them. My son loves them too. I do however, miss the hard cover version. The paperbacks seem kind of flimsy and it takes two hands to keep the pages open.\n",
      "==================================================\n",
      "My 7 year old daughter brought this book home from the school library. It was a little easy for her reading skills, but she loved it anyways. My 4 year old daughter started reading it and now we can't get her to return it to school. The book is small but this is better for little hands. This is a great book for any age! The pictures are cute and go well with the writing. The rhyming makes it easy to get to know the months. I recommend this book to every parent!\n",
      "==================================================\n",
      "This is a book of poetry about the months of the year.  It goes through each month and has a cute little poem to go along with it.  I love this book because it is a really fun way to learn the months and the poems are very creative. The author's purpose for writing this book was to give children a fun way to learn the months.  The children can also learn things about poetry and rhythm through reading this book.\n",
      "==================================================\n"
     ]
    }
   ],
   "source": [
    "# printing some random reviews\n",
    "sent_0 = final['Text'].values[0]\n",
    "print(sent_0)\n",
    "print(\"=\"*50)\n",
    "\n",
    "sent_1000 = final['Text'].values[1]\n",
    "print(sent_1000)\n",
    "print(\"=\"*50)\n",
    "\n",
    "sent_1500 = final['Text'].values[15]\n",
    "print(sent_1500)\n",
    "print(\"=\"*50)\n",
    "\n",
    "sent_4900 = final['Text'].values[4]\n",
    "print(sent_4900)\n",
    "print(\"=\"*50)"
   ]
  },
  {
   "cell_type": "code",
   "execution_count": 142,
   "metadata": {
    "colab": {},
    "colab_type": "code",
    "id": "lWiJ2_9gJkkP",
    "outputId": "08234806-3657-4d8f-c6d2-020dc9cda61c"
   },
   "outputs": [
    {
     "name": "stdout",
     "output_type": "stream",
     "text": [
      "this witty little book makes my son laugh at loud. i recite it in the car as we're driving along and he always can sing the refrain. he's learned about whales, India, drooping roses:  i love all the new words this book  introduces and the silliness of it all.  this is a classic book i am  willing to bet my son will STILL be able to recite from memory when he is  in college\n"
     ]
    }
   ],
   "source": [
    "# remove urls from text python: https://stackoverflow.com/a/40823105/4084039\n",
    "sent_0 = re.sub(r\"http\\S+\", \"\", sent_0)\n",
    "sent_1000 = re.sub(r\"http\\S+\", \"\", sent_1000)\n",
    "sent_150 = re.sub(r\"http\\S+\", \"\", sent_1500)\n",
    "sent_4900 = re.sub(r\"http\\S+\", \"\", sent_4900)\n",
    "\n",
    "print(sent_0)"
   ]
  },
  {
   "cell_type": "code",
   "execution_count": 143,
   "metadata": {
    "colab": {},
    "colab_type": "code",
    "id": "cpLtZ-lAJkkR",
    "outputId": "7e0bf159-4db4-4ffe-d72e-6d5952d453f1"
   },
   "outputs": [
    {
     "name": "stdout",
     "output_type": "stream",
     "text": [
      "this witty little book makes my son laugh at loud. i recite it in the car as we're driving along and he always can sing the refrain. he's learned about whales, India, drooping roses:  i love all the new words this book  introduces and the silliness of it all.  this is a classic book i am  willing to bet my son will STILL be able to recite from memory when he is  in college\n",
      "==================================================\n",
      "I grew up reading these Sendak books, and watching the Really Rosie movie that incorporates them, and love them. My son loves them too. I do however, miss the hard cover version. The paperbacks seem kind of flimsy and it takes two hands to keep the pages open.\n",
      "==================================================\n",
      "My 7 year old daughter brought this book home from the school library. It was a little easy for her reading skills, but she loved it anyways. My 4 year old daughter started reading it and now we can't get her to return it to school. The book is small but this is better for little hands. This is a great book for any age! The pictures are cute and go well with the writing. The rhyming makes it easy to get to know the months. I recommend this book to every parent!\n",
      "==================================================\n",
      "This is a book of poetry about the months of the year.  It goes through each month and has a cute little poem to go along with it.  I love this book because it is a really fun way to learn the months and the poems are very creative. The author's purpose for writing this book was to give children a fun way to learn the months.  The children can also learn things about poetry and rhythm through reading this book.\n"
     ]
    }
   ],
   "source": [
    "# https://stackoverflow.com/questions/16206380/python-beautifulsoup-how-to-remove-all-tags-from-an-element\n",
    "from bs4 import BeautifulSoup\n",
    "\n",
    "soup = BeautifulSoup(sent_0, 'lxml')\n",
    "text = soup.get_text()\n",
    "print(text)\n",
    "print(\"=\"*50)\n",
    "\n",
    "soup = BeautifulSoup(sent_1000, 'lxml')\n",
    "text = soup.get_text()\n",
    "print(text)\n",
    "print(\"=\"*50)\n",
    "\n",
    "soup = BeautifulSoup(sent_1500, 'lxml')\n",
    "text = soup.get_text()\n",
    "print(text)\n",
    "print(\"=\"*50)\n",
    "\n",
    "soup = BeautifulSoup(sent_4900, 'lxml')\n",
    "text = soup.get_text()\n",
    "print(text)"
   ]
  },
  {
   "cell_type": "code",
   "execution_count": 144,
   "metadata": {
    "colab": {},
    "colab_type": "code",
    "id": "HYBbtiCMJkkW"
   },
   "outputs": [],
   "source": [
    "# https://stackoverflow.com/a/47091490/4084039\n",
    "import re\n",
    "\n",
    "def decontracted(phrase):\n",
    "    # specific\n",
    "    phrase = re.sub(r\"won't\", \"will not\", phrase)\n",
    "    phrase = re.sub(r\"can\\'t\", \"can not\", phrase)\n",
    "\n",
    "    # general\n",
    "    phrase = re.sub(r\"n\\'t\", \" not\", phrase)\n",
    "    phrase = re.sub(r\"\\'re\", \" are\", phrase)\n",
    "    phrase = re.sub(r\"\\'s\", \" is\", phrase)\n",
    "    phrase = re.sub(r\"\\'d\", \" would\", phrase)\n",
    "    phrase = re.sub(r\"\\'ll\", \" will\", phrase)\n",
    "    phrase = re.sub(r\"\\'t\", \" not\", phrase)\n",
    "    phrase = re.sub(r\"\\'ve\", \" have\", phrase)\n",
    "    phrase = re.sub(r\"\\'m\", \" am\", phrase)\n",
    "    return phrase"
   ]
  },
  {
   "cell_type": "code",
   "execution_count": 145,
   "metadata": {
    "colab": {},
    "colab_type": "code",
    "id": "WPQSZurTJkkY",
    "outputId": "6d91fc9f-8f77-497c-95bb-96bfc9781196"
   },
   "outputs": [
    {
     "name": "stdout",
     "output_type": "stream",
     "text": [
      "My 7 year old daughter brought this book home from the school library. It was a little easy for her reading skills, but she loved it anyways. My 4 year old daughter started reading it and now we can not get her to return it to school. The book is small but this is better for little hands. This is a great book for any age! The pictures are cute and go well with the writing. The rhyming makes it easy to get to know the months. I recommend this book to every parent!\n",
      "==================================================\n"
     ]
    }
   ],
   "source": [
    "sent_1500 = decontracted(sent_1500)\n",
    "print(sent_1500)\n",
    "print(\"=\"*50)"
   ]
  },
  {
   "cell_type": "code",
   "execution_count": 146,
   "metadata": {
    "colab": {},
    "colab_type": "code",
    "id": "6bakeyaQJkkb",
    "outputId": "f7cf0096-0b7b-4ec1-84df-01e838621d62"
   },
   "outputs": [
    {
     "name": "stdout",
     "output_type": "stream",
     "text": [
      "this witty little book makes my son laugh at loud. i recite it in the car as we're driving along and he always can sing the refrain. he's learned about whales, India, drooping roses:  i love all the new words this book  introduces and the silliness of it all.  this is a classic book i am  willing to bet my son will STILL be able to recite from memory when he is  in college\n"
     ]
    }
   ],
   "source": [
    "#remove words with numbers python: https://stackoverflow.com/a/18082370/4084039\n",
    "sent_0 = re.sub(\"\\S*\\d\\S*\", \"\", sent_0).strip()\n",
    "print(sent_0)"
   ]
  },
  {
   "cell_type": "code",
   "execution_count": 147,
   "metadata": {
    "colab": {},
    "colab_type": "code",
    "id": "dMqqVqadJkkg",
    "outputId": "e4a6bd28-9d39-4dd2-9483-0406dd3dff50"
   },
   "outputs": [
    {
     "name": "stdout",
     "output_type": "stream",
     "text": [
      "My 7 year old daughter brought this book home from the school library It was a little easy for her reading skills but she loved it anyways My 4 year old daughter started reading it and now we can not get her to return it to school The book is small but this is better for little hands This is a great book for any age The pictures are cute and go well with the writing The rhyming makes it easy to get to know the months I recommend this book to every parent \n"
     ]
    }
   ],
   "source": [
    "#remove spacial character: https://stackoverflow.com/a/5843547/4084039\n",
    "sent_1500 = re.sub('[^A-Za-z0-9]+', ' ', sent_1500)\n",
    "print(sent_1500)"
   ]
  },
  {
   "cell_type": "code",
   "execution_count": 148,
   "metadata": {
    "colab": {},
    "colab_type": "code",
    "id": "bvEoXB5NJkkk"
   },
   "outputs": [],
   "source": [
    "# https://gist.github.com/sebleier/554280\n",
    "# we are removing the words from the stop words list: 'no', 'nor', 'not'\n",
    "# <br /><br /> ==> after the above steps, we are getting \"br br\"\n",
    "# we are including them into stop words list\n",
    "# instead of <br /> if we have <br/> these tags would have revmoved in the 1st step\n",
    "\n",
    "stopwords= set(['br', 'the', 'i', 'me', 'my', 'myself', 'we', 'our', 'ours', 'ourselves', 'you', \"you're\", \"you've\",\\\n",
    "            \"you'll\", \"you'd\", 'your', 'yours', 'yourself', 'yourselves', 'he', 'him', 'his', 'himself', \\\n",
    "            'she', \"she's\", 'her', 'hers', 'herself', 'it', \"it's\", 'its', 'itself', 'they', 'them', 'their',\\\n",
    "            'theirs', 'themselves', 'what', 'which', 'who', 'whom', 'this', 'that', \"that'll\", 'these', 'those', \\\n",
    "            'am', 'is', 'are', 'was', 'were', 'be', 'been', 'being', 'have', 'has', 'had', 'having', 'do', 'does', \\\n",
    "            'did', 'doing', 'a', 'an', 'the', 'and', 'but', 'if', 'or', 'because', 'as', 'until', 'while', 'of', \\\n",
    "            'at', 'by', 'for', 'with', 'about', 'against', 'between', 'into', 'through', 'during', 'before', 'after',\\\n",
    "            'above', 'below', 'to', 'from', 'up', 'down', 'in', 'out', 'on', 'off', 'over', 'under', 'again', 'further',\\\n",
    "            'then', 'once', 'here', 'there', 'when', 'where', 'why', 'how', 'all', 'any', 'both', 'each', 'few', 'more',\\\n",
    "            'most', 'other', 'some', 'such', 'only', 'own', 'same', 'so', 'than', 'too', 'very', \\\n",
    "            's', 't', 'can', 'will', 'just', 'don', \"don't\", 'should', \"should've\", 'now', 'd', 'll', 'm', 'o', 're', \\\n",
    "            've', 'y', 'ain', 'aren', \"aren't\", 'couldn', \"couldn't\", 'didn', \"didn't\", 'doesn', \"doesn't\", 'hadn',\\\n",
    "            \"hadn't\", 'hasn', \"hasn't\", 'haven', \"haven't\", 'isn', \"isn't\", 'ma', 'mightn', \"mightn't\", 'mustn',\\\n",
    "            \"mustn't\", 'needn', \"needn't\", 'shan', \"shan't\", 'shouldn', \"shouldn't\", 'wasn', \"wasn't\", 'weren', \"weren't\", \\\n",
    "            'won', \"won't\", 'wouldn', \"wouldn't\"])"
   ]
  },
  {
   "cell_type": "code",
   "execution_count": 149,
   "metadata": {
    "colab": {},
    "colab_type": "code",
    "id": "0j3jfqWCJkko",
    "outputId": "c83c59c5-fe17-4ad2-d43f-0b0947a6e6ba"
   },
   "outputs": [
    {
     "name": "stderr",
     "output_type": "stream",
     "text": [
      "100%|████████████████████████████████████████████████████████████████████████| 364171/364171 [02:55<00:00, 2076.34it/s]\n"
     ]
    }
   ],
   "source": [
    "# Combining all the above stundents \n",
    "from tqdm import tqdm\n",
    "preprocessed_reviews = []\n",
    "# tqdm is for printing the status bar\n",
    "for sentance in tqdm(final['Text'].values):\n",
    "    sentance = re.sub(r\"http\\S+\", \"\", sentance)\n",
    "    sentance = BeautifulSoup(sentance, 'lxml').get_text()\n",
    "    sentance = decontracted(sentance)\n",
    "    sentance = re.sub(\"\\S*\\d\\S*\", \"\", sentance).strip()\n",
    "    sentance = re.sub('[^A-Za-z]+', ' ', sentance)\n",
    "    # https://gist.github.com/sebleier/554280\n",
    "    sentance = ' '.join(e.lower() for e in sentance.split() if e.lower() not in stopwords)\n",
    "    preprocessed_reviews.append(sentance.strip())"
   ]
  },
  {
   "cell_type": "code",
   "execution_count": 150,
   "metadata": {
    "colab": {},
    "colab_type": "code",
    "id": "nS_7EeV7Jkkr",
    "outputId": "4d4cd05e-0730-4e52-dc30-eb97014871dd"
   },
   "outputs": [
    {
     "data": {
      "text/plain": [
       "'charming rhyming book describes circumstances eat not chicken soup rice month month sounds like kind thing kids would make recess sing drive teachers crazy cute catchy sounds really childlike skillfully written'"
      ]
     },
     "execution_count": 150,
     "metadata": {},
     "output_type": "execute_result"
    }
   ],
   "source": [
    "preprocessed_reviews[5]"
   ]
  },
  {
   "cell_type": "markdown",
   "metadata": {
    "colab_type": "text",
    "id": "zak5yP5zJkkt"
   },
   "source": [
    "<h2><font color='red'>[3.2] Preprocessing Review Summary</font></h2>"
   ]
  },
  {
   "cell_type": "code",
   "execution_count": 151,
   "metadata": {
    "colab": {},
    "colab_type": "code",
    "id": "wZ3Epk1wJkku"
   },
   "outputs": [],
   "source": [
    "## Similartly you can do preprocessing for review summary also."
   ]
  },
  {
   "cell_type": "code",
   "execution_count": 152,
   "metadata": {},
   "outputs": [],
   "source": [
    "X = preprocessed_reviews\n",
    "Y = final['Score']"
   ]
  },
  {
   "cell_type": "code",
   "execution_count": 153,
   "metadata": {},
   "outputs": [],
   "source": [
    "from sklearn.cross_validation import train_test_split\n",
    "X_1 , X_test , Y_1 , Y_test  = train_test_split(X,Y,test_size=0.3,random_state=0)\n",
    "X_tr , X_cv , Y_tr , Y_cv  = train_test_split(X_1,Y_1,test_size=0.3,random_state=0)"
   ]
  },
  {
   "cell_type": "markdown",
   "metadata": {},
   "source": [
    "We Split the Data for Train, Test and CrossValidation.\n",
    "\n",
    "Train Data is to Train the Model. Wherase Cross validation is to understand the Over/Under fit of a model.\n",
    "\n",
    "Majorly The Cross Validation will be usefull to figureout the best no of nearest neibhours, It helps the model to Test With.\n",
    "\n",
    "Test Data is exclusively for testing the trained Model. where we prediect the Outcomes."
   ]
  },
  {
   "cell_type": "markdown",
   "metadata": {
    "colab_type": "text",
    "id": "ChHwtw1iJkky"
   },
   "source": [
    "# [4] Featurization"
   ]
  },
  {
   "cell_type": "markdown",
   "metadata": {
    "colab_type": "text",
    "id": "qyWESNvzJkky"
   },
   "source": [
    "## [4.1] BAG OF WORDS"
   ]
  },
  {
   "cell_type": "code",
   "execution_count": 154,
   "metadata": {
    "colab": {},
    "colab_type": "code",
    "id": "zS0niozAJkkz",
    "outputId": "e2a25e5d-2e1a-497a-f094-a7e249201001"
   },
   "outputs": [
    {
     "name": "stdout",
     "output_type": "stream",
     "text": [
      "some feature names  ['also', 'amazon', 'best', 'better', 'buy', 'chocolate', 'coffee', 'could', 'eat', 'even']\n",
      "==================================================\n",
      "the type of count vectorizer  <class 'scipy.sparse.csr.csr_matrix'>\n",
      "the shape of out text BOW vectorizer  (178443, 40)\n",
      "the number of unique words  40\n"
     ]
    }
   ],
   "source": [
    "#BoW\n",
    "count_vect = CountVectorizer(min_df=50, max_features=40) #in scikit-learn  max no of feature in a vector is 300\n",
    "count_vect.fit(X_tr)\n",
    "print(\"some feature names \", count_vect.get_feature_names()[:10])\n",
    "print('='*50)\n",
    "\n",
    "X_Bow_Tr = count_vect.transform(X_tr)\n",
    "X_Bow_Cv = count_vect.transform(X_cv)\n",
    "X_Bow_Test = count_vect.transform(X_test)\n",
    "\n",
    "print(\"the type of count vectorizer \",type(X_Bow_Tr))\n",
    "print(\"the shape of out text BOW vectorizer \",X_Bow_Tr.get_shape())\n",
    "print(\"the number of unique words \", X_Bow_Tr.get_shape()[1])"
   ]
  },
  {
   "cell_type": "code",
   "execution_count": 155,
   "metadata": {},
   "outputs": [],
   "source": [
    "Bow_Feature = count_vect.get_feature_names()"
   ]
  },
  {
   "cell_type": "code",
   "execution_count": 156,
   "metadata": {},
   "outputs": [],
   "source": [
    "X_Bow_Tr = X_Bow_Tr.toarray()\n",
    "X_Bow_Cv = X_Bow_Cv.toarray()\n",
    "X_Bow_Test = X_Bow_Test.toarray()"
   ]
  },
  {
   "cell_type": "markdown",
   "metadata": {},
   "source": [
    "We got the Bag of words vector for each review\n",
    "\n",
    "Each vectore is of 100 Dimensions.\n",
    "\n",
    "We have Converted the Train data, Cross Validation Data and the Test to an Identical form, that is Bag Of Words\n",
    "\n",
    "Also converted the sparse matrixes to dense matrixes"
   ]
  },
  {
   "cell_type": "markdown",
   "metadata": {
    "colab_type": "text",
    "id": "1fvAmu91Jkk6"
   },
   "source": [
    "## [4.3] TF-IDF"
   ]
  },
  {
   "cell_type": "code",
   "execution_count": 157,
   "metadata": {
    "colab": {},
    "colab_type": "code",
    "id": "ag5-WCR8Jkk7",
    "outputId": "94a8ddc3-4bb7-4c49-d4e7-ed98560633b6"
   },
   "outputs": [
    {
     "name": "stdout",
     "output_type": "stream",
     "text": [
      "some sample features(unique words in the corpus) ['amazon', 'coffee', 'flavor', 'food', 'get', 'good', 'great', 'like', 'love', 'much']\n",
      "==================================================\n",
      "the type of count vectorizer  <class 'scipy.sparse.csr.csr_matrix'>\n",
      "the shape of out text TFIDF vectorizer  (178443, 20)\n",
      "the number of unique words including both unigrams and bigrams  20\n"
     ]
    }
   ],
   "source": [
    "tf_idf_vect = TfidfVectorizer(ngram_range=(1,2), min_df=50, max_features=20)\n",
    "tf_idf_vect.fit(X_tr)\n",
    "print(\"some sample features(unique words in the corpus)\",tf_idf_vect.get_feature_names()[0:10])\n",
    "print('='*50)\n",
    "\n",
    "\n",
    "X_Tfidf_Tr = tf_idf_vect.transform(X_tr)\n",
    "X_Tfidf_Cv = tf_idf_vect.transform(X_cv)\n",
    "X_Tfidf_Test = tf_idf_vect.transform(X_test)\n",
    "\n",
    "print(\"the type of count vectorizer \",type(X_Tfidf_Tr))\n",
    "print(\"the shape of out text TFIDF vectorizer \",X_Tfidf_Tr.get_shape())\n",
    "print(\"the number of unique words including both unigrams and bigrams \", X_Tfidf_Tr.get_shape()[1])"
   ]
  },
  {
   "cell_type": "code",
   "execution_count": 158,
   "metadata": {},
   "outputs": [],
   "source": [
    "X_Tfidf_Tr = X_Tfidf_Tr.toarray()\n",
    "X_Tfidf_Cv = X_Tfidf_Cv.toarray()\n",
    "X_Tfidf_Test = X_Tfidf_Test.toarray()"
   ]
  },
  {
   "cell_type": "code",
   "execution_count": 159,
   "metadata": {},
   "outputs": [
    {
     "data": {
      "text/plain": [
       "array([0.        , 0.        , 0.58249888, 0.        , 0.        ,\n",
       "       0.        , 0.        , 0.23925546, 0.        , 0.64949614,\n",
       "       0.        , 0.17305432, 0.27047058, 0.28018657, 0.        ,\n",
       "       0.        , 0.        , 0.        , 0.        , 0.        ])"
      ]
     },
     "execution_count": 159,
     "metadata": {},
     "output_type": "execute_result"
    }
   ],
   "source": [
    "X_Tfidf_Tr[0]"
   ]
  },
  {
   "cell_type": "markdown",
   "metadata": {},
   "source": [
    "We got the TfIdf s vector for each review\n",
    "\n",
    "Each vectore is of 100 Dimensions.\n",
    "\n",
    "We have Converted the Train data, Cross Validation Data and the Test to an Identical form, that is TfIdf-vector\n",
    "\n",
    "Also converted the sparse matrixes to dense matrixes"
   ]
  },
  {
   "cell_type": "markdown",
   "metadata": {
    "colab_type": "text",
    "id": "ZFN0k_hEJklb"
   },
   "source": [
    "# [5]  Apply Naive Bayes"
   ]
  },
  {
   "cell_type": "markdown",
   "metadata": {
    "colab_type": "text",
    "id": "O1ABSoejJklc"
   },
   "source": [
    "<ol>\n",
    "    <li><strong>Apply Multinomial NaiveBayes on these feature sets</strong>\n",
    "        <ul>\n",
    "            <li><font color='red'>SET 1:</font>Review text, preprocessed one converted into vectors using (BOW)</li>\n",
    "            <li><font color='red'>SET 2:</font>Review text, preprocessed one converted into vectors using (TFIDF)</li>\n",
    "        </ul>\n",
    "    </li>\n",
    "    <br>\n",
    "    <li><strong>The hyper paramter tuning(find best Alpha)</strong>\n",
    "        <ul>\n",
    "    <li>Find the best hyper parameter which will give the maximum <a href='https://www.appliedaicourse.com/course/applied-ai-course-online/lessons/receiver-operating-characteristic-curve-roc-curve-and-auc-1/'>AUC</a> value</li>\n",
    "    <li>Consider a wide range of alpha values for hyperparameter tuning, start as low as 0.00001</li>\n",
    "    <li>Find the best hyper paramter using k-fold cross validation or simple cross validation data</li>\n",
    "    <li>Use gridsearch cv or randomsearch cv or you can also write your own for loops to do this task of hyperparameter tuning</li>\n",
    "        </ul>\n",
    "    </li>\n",
    "    <br>\n",
    "    <li><strong>Feature importance</strong>\n",
    "        <ul>\n",
    "    <li>Find the top 10 features of positive class and top 10 features of negative class for both feature sets <font color='red'>Set 1</font> and <font color='red'>Set 2</font> using values of `feature_log_prob_` parameter of  <a href='https://scikit-learn.org/stable/modules/generated/sklearn.naive_bayes.MultinomialNB.html'>MultinomialNB</a> and print their corresponding feature names</li>\n",
    "        </ul>\n",
    "    </li>\n",
    "    <br>\n",
    "    <li><strong>Feature engineering</strong>\n",
    "        <ul>\n",
    "    <li>To increase the performance of your model, you can also experiment with with feature engineering like :</li>\n",
    "            <ul>\n",
    "            <li>Taking length of reviews as another feature.</li>\n",
    "            <li>Considering some features from review summary as well.</li>\n",
    "        </ul>\n",
    "        </ul>\n",
    "    </li>\n",
    "    <br>\n",
    "    <li><strong>Representation of results</strong>\n",
    "        <ul>\n",
    "    <li>You need to plot the performance of model both on train data and cross validation data for each hyper parameter, like shown in the figure. Here on X-axis you will have alpha values, since they have a wide range, just to represent those alpha values on the graph, apply log function on those alpha values.\n",
    "    <img src='train_cv_auc.JPG' width=300px></li>\n",
    "    <li>Once after you found the best hyper parameter, you need to train your model with it, and find the AUC on test data and plot the ROC curve on both train and test.\n",
    "    <img src='train_test_auc.JPG' width=300px></li>\n",
    "    <li>Along with plotting ROC curve, you need to print the <a href='https://www.appliedaicourse.com/course/applied-ai-course-online/lessons/confusion-matrix-tpr-fpr-fnr-tnr-1/'>confusion matrix</a> with predicted and original labels of test data points. Please visualize your confusion matrices using <a href='https://seaborn.pydata.org/generated/seaborn.heatmap.html'>seaborn heatmaps.\n",
    "    <img src='confusion_matrix.png' width=300px></li>\n",
    "        </ul>\n",
    "    </li>\n",
    "    <br>\n",
    "    <li><strong>Conclusion</strong>\n",
    "        <ul>\n",
    "    <li>You need to summarize the results at the end of the notebook, summarize it in the table format. To print out a table please refer to this prettytable library<a href='http://zetcode.com/python/prettytable/'>  link</a> \n",
    "        <img src='summary.JPG' width=400px>\n",
    "    </li>\n",
    "        </ul>\n",
    "</ol>"
   ]
  },
  {
   "cell_type": "markdown",
   "metadata": {
    "colab_type": "text",
    "id": "YawkDx8TJklc"
   },
   "source": [
    "<h4><font color='red'>Note: Data Leakage</font></h4>\n",
    "\n",
    "1. There will be an issue of data-leakage if you vectorize the entire data and then split it into train/cv/test.\n",
    "2. To avoid the issue of data-leakag, make sure to split your data first and then vectorize it. \n",
    "3. While vectorizing your data, apply the method fit_transform() on you train data, and apply the method transform() on cv/test data.\n",
    "4. For more details please go through this <a href='https://soundcloud.com/applied-ai-course/leakage-bow-and-tfidf'>link.</a>"
   ]
  },
  {
   "cell_type": "markdown",
   "metadata": {
    "colab_type": "text",
    "id": "RGRFxjhgJklc"
   },
   "source": [
    "# Applying Multinomial Naive Bayes"
   ]
  },
  {
   "cell_type": "markdown",
   "metadata": {
    "colab_type": "text",
    "id": "FxGKHpZlJkle"
   },
   "source": [
    "## [5.1] Applying Naive Bayes on BOW,<font color='red'> SET 1</font>"
   ]
  },
  {
   "cell_type": "code",
   "execution_count": 160,
   "metadata": {
    "colab": {},
    "colab_type": "code",
    "id": "UR0f8SfZJkle"
   },
   "outputs": [],
   "source": [
    "# Please write all the code with proper documentation"
   ]
  },
  {
   "cell_type": "markdown",
   "metadata": {},
   "source": [
    "Naive Bayes is Model is for Binary Dataset where the feature values are with 0 or 1.\n",
    "\n",
    "Here in out Dataset for both Bag Of Words of Tf-Idf, Feature values are the conintues Real values.\n",
    "\n",
    "Mullitinomial Naive Bayes is type of Naive Bayes Algorithm which is available in Scikit.\n",
    "\n",
    "This is will helps to work out the Naive Bayes on top of Multivalued feuaters (not only binary)\n",
    "\n",
    "Hence we have selected the MultinomialNB."
   ]
  },
  {
   "cell_type": "code",
   "execution_count": 161,
   "metadata": {},
   "outputs": [],
   "source": [
    "from sklearn.naive_bayes import MultinomialNB\n",
    "from sklearn.metrics import accuracy_score,roc_auc_score"
   ]
  },
  {
   "cell_type": "markdown",
   "metadata": {},
   "source": [
    "For Naive Bayes Alogorithm will calculate the likelyhoods and priors of each features \n",
    "\n",
    "And As per the, Theorem To find the probability of class Given the N-Dimensions,\n",
    "\n",
    "we will calculate the summation of fueature (product of Likehood ly and priors)\n",
    "\n",
    "To Avoid zero mulitplication problem which will probes the entire prediction wrongly we will aplly the concept called Additive Smooting.\n",
    "\n",
    "\n",
    "We will find the best Over Alpha for not getting Over/Under fitting.\n",
    "\n"
   ]
  },
  {
   "cell_type": "code",
   "execution_count": 162,
   "metadata": {},
   "outputs": [
    {
     "name": "stdout",
     "output_type": "stream",
     "text": [
      "[1.e-05 1.e-04 1.e-03 1.e-02 1.e-01 1.e+00 1.e+01 1.e+02 1.e+03 1.e+04\n",
      " 1.e+05 1.e+06 1.e+07 1.e+08 1.e+09]\n"
     ]
    }
   ],
   "source": [
    "Alpha = np.arange(-5,10,1)\n",
    "Alpha = np.array(10.0**Alpha) \n",
    "print(Alpha)"
   ]
  },
  {
   "cell_type": "code",
   "execution_count": 163,
   "metadata": {},
   "outputs": [
    {
     "name": "stdout",
     "output_type": "stream",
     "text": [
      " AUC for the  TRAIN Data at alpha of Laplace Smoothing  1e-05  is  0.7758102829487484\n",
      " AUC for the Cross-Validation Data at  alpha of Laplace Smoothing   1e-05  is  0.7725487833324738\n",
      " AUC for the  TRAIN Data at alpha of Laplace Smoothing  0.0001  is  0.775810282473753\n",
      " AUC for the Cross-Validation Data at  alpha of Laplace Smoothing   0.0001  is  0.7725487846373678\n",
      " AUC for the  TRAIN Data at alpha of Laplace Smoothing  0.001  is  0.7758102831862462\n",
      " AUC for the Cross-Validation Data at  alpha of Laplace Smoothing   0.001  is  0.7725487794177918\n",
      " AUC for the  TRAIN Data at alpha of Laplace Smoothing  0.01  is  0.7758102549240202\n",
      " AUC for the Cross-Validation Data at  alpha of Laplace Smoothing   0.01  is  0.772548735051395\n",
      " AUC for the  TRAIN Data at alpha of Laplace Smoothing  0.1  is  0.7758099072273905\n",
      " AUC for the Cross-Validation Data at  alpha of Laplace Smoothing   0.1  is  0.7725481178365232\n",
      " AUC for the  TRAIN Data at alpha of Laplace Smoothing  1.0  is  0.7758082768056948\n",
      " AUC for the Cross-Validation Data at  alpha of Laplace Smoothing   1.0  is  0.7725458003447425\n",
      " AUC for the  TRAIN Data at alpha of Laplace Smoothing  10.0  is  0.7757921922741082\n",
      " AUC for the Cross-Validation Data at  alpha of Laplace Smoothing   10.0  is  0.7725347713804798\n",
      " AUC for the  TRAIN Data at alpha of Laplace Smoothing  100.0  is  0.7756129634489405\n",
      " AUC for the Cross-Validation Data at  alpha of Laplace Smoothing   100.0  is  0.772364262183691\n",
      " AUC for the  TRAIN Data at alpha of Laplace Smoothing  1000.0  is  0.7710786072896552\n",
      " AUC for the Cross-Validation Data at  alpha of Laplace Smoothing   1000.0  is  0.7680460559995792\n",
      " AUC for the  TRAIN Data at alpha of Laplace Smoothing  10000.0  is  0.6456801261116576\n",
      " AUC for the Cross-Validation Data at  alpha of Laplace Smoothing   10000.0  is  0.6470631826814048\n",
      " AUC for the  TRAIN Data at alpha of Laplace Smoothing  100000.0  is  0.4094468462969263\n",
      " AUC for the Cross-Validation Data at  alpha of Laplace Smoothing   100000.0  is  0.41836344798201797\n",
      " AUC for the  TRAIN Data at alpha of Laplace Smoothing  1000000.0  is  0.3809310541736927\n",
      " AUC for the Cross-Validation Data at  alpha of Laplace Smoothing   1000000.0  is  0.3899636810152117\n",
      " AUC for the  TRAIN Data at alpha of Laplace Smoothing  10000000.0  is  0.37830533757574836\n",
      " AUC for the Cross-Validation Data at  alpha of Laplace Smoothing   10000000.0  is  0.3873195938345115\n",
      " AUC for the  TRAIN Data at alpha of Laplace Smoothing  100000000.0  is  0.37804651543460843\n",
      " AUC for the Cross-Validation Data at  alpha of Laplace Smoothing   100000000.0  is  0.387065942010301\n",
      " AUC for the  TRAIN Data at alpha of Laplace Smoothing  1000000000.0  is  0.37802209912753487\n",
      " AUC for the Cross-Validation Data at  alpha of Laplace Smoothing   1000000000.0  is  0.3870410381079162\n"
     ]
    }
   ],
   "source": [
    "Set1_Acc_Tr    = []\n",
    "Set1_Acc_Cv    = []\n",
    "Set1_Train_Auc = []\n",
    "Set1_Cv_Auc    = []    \n",
    "Set1_Coef_Tr   = []\n",
    "Set1_Coef_Cv   = []\n",
    "Imp_Features   = []\n",
    "\n",
    "for i in Alpha:\n",
    "    clf = MultinomialNB(alpha=i, class_prior=None, fit_prior=True)\n",
    "    clf.fit(X_Bow_Tr, Y_tr)    \n",
    "    \n",
    "    \n",
    "    #CO-Efficeints\n",
    "    Co_Eff = clf.coef_[0].tolist()\n",
    "    Co_Eff_Sorted = sorted(Co_Eff)  \n",
    "    Co_Eff_Sorted.reverse()    \n",
    "\n",
    "    pred_tr =  clf.predict(X_Bow_Tr) # Class-Predictions of TRAIN-Validation\n",
    "    pred_cv =  clf.predict(X_Bow_Cv) # Class-Predictions of Cross-Validation\n",
    "\n",
    "    train_acc  = accuracy_score(Y_tr,pred_tr,normalize=True)    # Accuracy of TRAIN-Validation\n",
    "    cv_acc  = accuracy_score(Y_cv,pred_cv,normalize=True)     # Accuracy of TRAIN-Validation\n",
    "             \n",
    "    Train_pred_prob =  clf.predict_proba(X_Bow_Tr)[:,1]    # Probablity of TRAIN-Validation\n",
    "    Cv_pred_prob    =  clf.predict_proba(X_Bow_Cv)[:,1]    # Probablity of Cross-Validation         \n",
    "    cv_auc          = roc_auc_score(Y_cv, Cv_pred_prob)\n",
    "    train_auc       = roc_auc_score(Y_tr, Train_pred_prob)\n",
    "        \n",
    "    Set1_Acc_Tr.append(train_acc)                #Accuracy                \n",
    "    Set1_Acc_Cv.append(cv_acc)                   #Accuracy   \n",
    "    Set1_Train_Auc.append(train_auc)             #AUc\n",
    "    Set1_Cv_Auc.append(cv_auc)                   #AUc\n",
    "    #Imp_Features.append(local_Imp_Features)    #AUc  \n",
    "    \n",
    "    print(\" AUC for the  TRAIN Data at alpha of Laplace Smoothing \",i,  \" is \", train_auc)\n",
    "    print(\" AUC for the Cross-Validation Data at  alpha of Laplace Smoothing  \",i,  \" is \", cv_auc)"
   ]
  },
  {
   "cell_type": "code",
   "execution_count": 164,
   "metadata": {},
   "outputs": [
    {
     "data": {
      "image/png": "[encoded data removed]",
      "text/plain": [
       "<Figure size 432x288 with 1 Axes>"
      ]
     },
     "metadata": {},
     "output_type": "display_data"
    }
   ],
   "source": [
    "#plt.grid()\n",
    "plt.scatter(np.log(Alpha), Set1_Train_Auc, label='Train Accuracy',s=19)    \n",
    "plt.plot(np.log(Alpha), Set1_Train_Auc, label='Train Accuracy')\n",
    "plt.scatter(np.log(Alpha), Set1_Cv_Auc, label='CV Accuracy',s=19)\n",
    "plt.plot(np.log(Alpha), Set1_Cv_Auc, label='CV Accuracy')\n",
    "#plt.plot(X, , c = '.75', lw = 2., label = r'$f(x)=\\log(x)$'\n",
    "#plt.xscale('log') \n",
    "plt.legend()\n",
    "plt.xlabel(\"Alpha : Hyperparameter\")\n",
    "plt.ylabel(\"Accuracy\")\n",
    "plt.title(\"PLOT:: Alpha  Vs Auc  \")\n",
    "plt.show()"
   ]
  },
  {
   "cell_type": "code",
   "execution_count": 165,
   "metadata": {},
   "outputs": [
    {
     "name": "stdout",
     "output_type": "stream",
     "text": [
      "Highest AUC for CrosValidation, Laplace Smoothing is at :  0.0001\n"
     ]
    }
   ],
   "source": [
    "Optimal_Alpha = Alpha[Set1_Cv_Auc.index(max(Set1_Cv_Auc))]\n",
    "print(\"Highest AUC for CrosValidation, Laplace Smoothing is at : \", Optimal_Alpha )\n",
    "Optimal_Alpha1 = Optimal_Alpha"
   ]
  },
  {
   "cell_type": "markdown",
   "metadata": {},
   "source": [
    "Our Optimal Alpha (Addtive smoothing value)  for BagOfWords Dataset is 1e-05. \n",
    "\n",
    "Lets try out to train the Model with Optimal Alpha and Evalute the model with our testin Data. \n",
    "\n",
    "As AUC is One of the best Metrics to weigh a model we are focusing much on it."
   ]
  },
  {
   "cell_type": "code",
   "execution_count": 166,
   "metadata": {},
   "outputs": [
    {
     "name": "stdout",
     "output_type": "stream",
     "text": [
      " Accuracy,AUC, for Train Data for the Best Laplace Smoothing :  0.8419439260716307    0.37802209912753487\n",
      " Accuracy,AUC, for Test Data for the Best Laplace Smoothing  :  0.8400120821586791    0.7738939901891412\n"
     ]
    }
   ],
   "source": [
    "clf = MultinomialNB(alpha=Optimal_Alpha, class_prior=None, fit_prior=True)\n",
    "clf.fit(X_Bow_Tr, Y_tr)  \n",
    "\n",
    "Set1_Tr_Pred =  clf.predict(X_Bow_Tr)\n",
    "Set1_Tr_pred_prob =  clf.predict_proba(X_Bow_Tr)[:,1]\n",
    "Set1_Tr_Acc  =  accuracy_score(Y_tr,Set1_Tr_Pred,normalize=True)\n",
    "Set1_Tr_Auc  =  roc_auc_score(Y_tr,Train_pred_prob)\n",
    "\n",
    "Set1_Tst_Pred     =  clf.predict(X_Bow_Test)\n",
    "Set1_Tst_pred_prob =  clf.predict_proba(X_Bow_Test)[:,1]\n",
    "Set1_Tst_Acc  =  accuracy_score(Y_test,Set1_Tst_Pred,normalize=True)\n",
    "Set1_Tst_Auc  =  roc_auc_score(Y_test,Set1_Tst_pred_prob)\n",
    "\n",
    "print(\" Accuracy,AUC, for Train Data for the Best Laplace Smoothing : \", Set1_Tr_Acc,\"  \",Set1_Tr_Auc)\n",
    "print(\" Accuracy,AUC, for Test Data for the Best Laplace Smoothing  : \", Set1_Tst_Acc,\"  \",Set1_Tst_Auc)"
   ]
  },
  {
   "cell_type": "code",
   "execution_count": 167,
   "metadata": {},
   "outputs": [
    {
     "data": {
      "image/png": "[encoded data removed]",
      "text/plain": [
       "<Figure size 432x288 with 1 Axes>"
      ]
     },
     "metadata": {},
     "output_type": "display_data"
    }
   ],
   "source": [
    "set1_tst_fpr, set1_tst_tpr, thresholds = roc_curve(Y_test,Set1_Tst_pred_prob)\n",
    "set1_tst_roc_auc = auc(set1_tst_fpr, set1_tst_tpr)\n",
    "\n",
    "\n",
    "set1_train_fpr, set1_train_tpr, thresholds = roc_curve(Y_tr,Set1_Tr_pred_prob)\n",
    "set1_train_roc_auc = auc(set1_train_fpr, set1_train_tpr)\n",
    "\n",
    "lw=1\n",
    "plt.figure()\n",
    "plt.plot(set1_tst_fpr, set1_tst_tpr, color='darkorange', lw=1, label='Test ROC curve (area = %0.2f)' % set1_tst_roc_auc)\n",
    "plt.plot(set1_train_fpr, set1_train_tpr, color='navy', lw=1, label='Train ROC curve (area = %0.2f)' % set1_train_roc_auc)\n",
    "plt.plot([0, 1], [0,1], color='red', lw=lw, linestyle='--')\n",
    "plt.xlim([0.0, 1.0])\n",
    "plt.ylim([0.0, 1.04])\n",
    "plt.xlabel('False Positive Rate')\n",
    "plt.ylabel('True Positive Rate')\n",
    "plt.title('ROC - Receiver operating characteristic')\n",
    "plt.legend(loc=\"lower right\")\n",
    "plt.show()"
   ]
  },
  {
   "cell_type": "markdown",
   "metadata": {},
   "source": [
    "We have a Reasonable Aure under the Curve.\n",
    "\n",
    "We have to notice that AUC for our Train Data is almost equalent to he Test Data.\n"
   ]
  },
  {
   "cell_type": "markdown",
   "metadata": {},
   "source": [
    "###### Confusion Matrix Train Data"
   ]
  },
  {
   "cell_type": "code",
   "execution_count": 168,
   "metadata": {},
   "outputs": [
    {
     "name": "stdout",
     "output_type": "stream",
     "text": [
      "Train Confusion Matrix::\n",
      "\n",
      "        Predicted\n",
      " True   [ 5014 22971]\n",
      "       [  5233 145225] \n",
      "\n"
     ]
    },
    {
     "data": {
      "text/plain": [
       "Text(33,0.5,'True label')"
      ]
     },
     "execution_count": 168,
     "metadata": {},
     "output_type": "execute_result"
    },
    {
     "data": {
      "image/png": "[encoded data removed]",
      "text/plain": [
       "<Figure size 432x288 with 2 Axes>"
      ]
     },
     "metadata": {},
     "output_type": "display_data"
    }
   ],
   "source": [
    "Train_CM= confusion_matrix(Y_tr, Set1_Tr_Pred,  sample_weight=None) \n",
    "print(\"Train Confusion Matrix::\\n\\n        Predicted\\n\",\"True  \",Train_CM[0])\n",
    "print(\"      \",Train_CM[1],\"\\n\",)\n",
    "sns.heatmap(Train_CM, cmap=\"YlGnBu\"  ,annot=True,annot_kws={\"size\": 17})\n",
    "plt.xlabel('Predicted label')\n",
    "plt.ylabel('True label')\n"
   ]
  },
  {
   "cell_type": "markdown",
   "metadata": {},
   "source": [
    "###### Confusion Matrix for Test Data"
   ]
  },
  {
   "cell_type": "code",
   "execution_count": 169,
   "metadata": {},
   "outputs": [
    {
     "name": "stdout",
     "output_type": "stream",
     "text": [
      "Test Confusion Matrix::\n",
      "\n",
      "        Predicted\n",
      " True   [ 3139 14126]\n",
      "       [ 3353 88634] \n",
      "\n"
     ]
    },
    {
     "data": {
      "text/plain": [
       "Text(33,0.5,'True label')"
      ]
     },
     "execution_count": 169,
     "metadata": {},
     "output_type": "execute_result"
    },
    {
     "data": {
      "image/png": "[encoded data removed]",
      "text/plain": [
       "<Figure size 432x288 with 2 Axes>"
      ]
     },
     "metadata": {},
     "output_type": "display_data"
    }
   ],
   "source": [
    "Test_CM= confusion_matrix(Y_test, Set1_Tst_Pred , labels=None, sample_weight=None) \n",
    "print(\"Test Confusion Matrix::\\n\\n        Predicted\\n\",\"True  \",Test_CM[0])\n",
    "print(\"      \",Test_CM[1],\"\\n\",)\n",
    "sns.heatmap(Test_CM, cmap=\"YlGnBu\"  ,annot=True,annot_kws={\"size\": 17})\n",
    "plt.xlabel('Predicted label')\n",
    "plt.ylabel('True label')"
   ]
  },
  {
   "cell_type": "markdown",
   "metadata": {},
   "source": [
    "\n",
    "By definition a confusion matrix C is such that C-ij is equal to the number of observations known to be in group i  but predicted to be in group j .\n",
    "\n",
    "Horizantal Lines are Predictions and the Verticals are Acutuals\n",
    "\n",
    "Thus in binary classification, the count of true \n",
    "\n",
    "negatives is 154 at C(0,0) , \n",
    "\n",
    "false negatives is 148 C(1,0),\n",
    "\n",
    "true positives is 11433 at C(1,1),\n",
    "\n",
    "false positives is 2086 at C(0,1).\n"
   ]
  },
  {
   "cell_type": "code",
   "execution_count": 170,
   "metadata": {},
   "outputs": [],
   "source": [
    "_, coef_ = clf.feature_log_prob_"
   ]
  },
  {
   "cell_type": "code",
   "execution_count": 171,
   "metadata": {},
   "outputs": [],
   "source": [
    "#CO-Efficeints\n",
    "Co_Eff = coef_.tolist()"
   ]
  },
  {
   "cell_type": "code",
   "execution_count": 172,
   "metadata": {},
   "outputs": [],
   "source": [
    "#https://medium.com/@aneesha/visualising-top-features-in-linear-svm-with-scikit-learn-and-matplotlib-3454ab18a14d\n",
    "Set1_Feat_per_change = dict(zip(Bow_Feature, Co_Eff))\n",
    "#Feat_per_change = dict(enumerate(Perc))\n",
    "#Feat_per_change = dict(zip(key, values))"
   ]
  },
  {
   "cell_type": "code",
   "execution_count": 173,
   "metadata": {},
   "outputs": [],
   "source": [
    "#https://www.saltycrane.com/blog/2007/09/how-to-sort-python-dictionary-by-keys/\n",
    "set1_Pstv_Co_Effs = {k:v for (k,v) in Set1_Feat_per_change.items() if v>0 }\n",
    "set1_Neg_Co_Effs  = {k:-1*v for (k,v) in Set1_Feat_per_change.items() if v<=0 }"
   ]
  },
  {
   "cell_type": "markdown",
   "metadata": {
    "colab_type": "text",
    "id": "u-ZSD3tlJklg"
   },
   "source": [
    "### [5.1.1] Top 10 important features of positive class from<font color='red'> SET 1</font>"
   ]
  },
  {
   "cell_type": "code",
   "execution_count": 174,
   "metadata": {
    "colab": {},
    "colab_type": "code",
    "id": "86fu_aO8Jklg"
   },
   "outputs": [],
   "source": [
    "# Please write all the code with proper documentation"
   ]
  },
  {
   "cell_type": "code",
   "execution_count": 175,
   "metadata": {},
   "outputs": [
    {
     "data": {
      "text/plain": [
       "Text(0,0.5,'Collinearity')"
      ]
     },
     "execution_count": 175,
     "metadata": {},
     "output_type": "execute_result"
    },
    {
     "data": {
      "image/png": "[encoded data removed]",
      "text/plain": [
       "<Figure size 432x288 with 1 Axes>"
      ]
     },
     "metadata": {},
     "output_type": "display_data"
    }
   ],
   "source": [
    "y = list(set1_Pstv_Co_Effs.values())\n",
    "x = np.arange(0,len(set1_Pstv_Co_Effs))\n",
    "Set1_pos_w_sort = sorted(y)[::-1]\n",
    "plt.grid()\n",
    "plt.plot(x, Set1_pos_w_sort,scaley=False,linewidth=5)\n",
    "plt.title(\"Positive Features Vs Importance\")\n",
    "plt.xlabel(\"Features\")\n",
    "plt.ylabel(\"Collinearity\")"
   ]
  },
  {
   "cell_type": "markdown",
   "metadata": {},
   "source": [
    "Observation : No Positive features Available to plot "
   ]
  },
  {
   "cell_type": "code",
   "execution_count": 176,
   "metadata": {},
   "outputs": [
    {
     "name": "stdout",
     "output_type": "stream",
     "text": [
      "Top 10 Negative Colineal Features :: \n",
      "==============================\n",
      "\n",
      "\t*****\tNo Features are Positively Impacting\t*****\n"
     ]
    }
   ],
   "source": [
    "Set1_Sorted_Pos_Co_Effs = sorted(set1_Pstv_Co_Effs.items(), key=lambda x: x[1])[::-1]  # 1>x[1] value, x[0] key\n",
    "print(\"Top 10 Negative Colineal Features :: \")\n",
    "print(\"=\"*30)\n",
    "\n",
    "if len(Set1_Sorted_Pos_Co_Effs) > 0:\n",
    "    for i in range(len(Set1_Sorted_Pos_Co_Effs)):  \n",
    "        if(i<10):\n",
    "            print(\"\\t\\tFeature :\",Set1_Sorted_Pos_Co_Effs[i][0])\n",
    "else:\n",
    "    print(\"\\n\\t*****\\tNo Features are Positively Impacting\\t*****\")"
   ]
  },
  {
   "cell_type": "markdown",
   "metadata": {
    "colab_type": "text",
    "id": "mquFtwF5Jklj"
   },
   "source": [
    "### [5.1.2] Top 10 important features of negative class from<font color='red'> SET 1</font>"
   ]
  },
  {
   "cell_type": "code",
   "execution_count": 177,
   "metadata": {
    "colab": {},
    "colab_type": "code",
    "id": "_RacUnTrJklj"
   },
   "outputs": [],
   "source": [
    "# Please write all the code with proper documentation"
   ]
  },
  {
   "cell_type": "code",
   "execution_count": 178,
   "metadata": {},
   "outputs": [
    {
     "data": {
      "text/plain": [
       "Text(0,0.5,'Collinearity')"
      ]
     },
     "execution_count": 178,
     "metadata": {},
     "output_type": "execute_result"
    },
    {
     "data": {
      "image/png": "[encoded data removed]",
      "text/plain": [
       "<Figure size 432x288 with 1 Axes>"
      ]
     },
     "metadata": {},
     "output_type": "display_data"
    }
   ],
   "source": [
    "y = list(set1_Neg_Co_Effs.values())\n",
    "Set2_Neg_w_sort = sorted(y)[::-1]\n",
    "x = np.arange(0,len(set1_Neg_Co_Effs))\n",
    "plt.grid()\n",
    "plt.plot(x, Set2_Neg_w_sort,linewidth=5)\n",
    "plt.title(\"Feature Importance\")\n",
    "plt.xlabel(\"Feature\")\n",
    "plt.ylabel(\"Collinearity\")"
   ]
  },
  {
   "cell_type": "markdown",
   "metadata": {},
   "source": [
    "Above are the Important Features wih Negative C0-Effecients in sorted Order"
   ]
  },
  {
   "cell_type": "code",
   "execution_count": 179,
   "metadata": {},
   "outputs": [
    {
     "name": "stdout",
     "output_type": "stream",
     "text": [
      "Top 10 Negative Colineal Features :: \n",
      "==============================\n",
      "\t\tFeature : could\n",
      "\t\tFeature : first\n",
      "\t\tFeature : water\n",
      "\t\tFeature : found\n",
      "\t\tFeature : used\n",
      "\t\tFeature : sugar\n",
      "\t\tFeature : eat\n",
      "\t\tFeature : chocolate\n",
      "\t\tFeature : better\n",
      "\t\tFeature : even\n"
     ]
    }
   ],
   "source": [
    "Set1_Sorted_Neg_Co_Effs = sorted(set1_Neg_Co_Effs.items(), key=lambda x: x[1])[::-1]  # 1>x[1] value, x[0] key\n",
    "print(\"Top 10 Negative Colineal Features :: \")\n",
    "print(\"=\"*30)\n",
    "\n",
    "if len(Set1_Sorted_Neg_Co_Effs) > 0:\n",
    "    for i in range(len(Set1_Sorted_Neg_Co_Effs)):  \n",
    "        if(i<10):\n",
    "            print(\"\\t\\tFeature :\",Set1_Sorted_Neg_Co_Effs[i][0])\n",
    "else:\n",
    "    print(\"\\n\\t\\tNo Features are Positively Impacting\")"
   ]
  },
  {
   "cell_type": "markdown",
   "metadata": {
    "colab_type": "text",
    "id": "6bp7BbwCJkll"
   },
   "source": [
    "## [5.2] Applying Naive Bayes on TFIDF,<font color='red'> SET 2</font>"
   ]
  },
  {
   "cell_type": "code",
   "execution_count": 180,
   "metadata": {},
   "outputs": [
    {
     "name": "stdout",
     "output_type": "stream",
     "text": [
      " AUC for the  TRAIN Data at alpha of Laplace Smoothing  1e-05  is  0.7422122256960668\n",
      " AUC for the Cross-Validation Data at  alpha of Laplace Smoothing   1e-05  is  0.7413505171608178\n",
      " AUC for the  TRAIN Data at alpha of Laplace Smoothing  0.0001  is  0.742212217739894\n",
      " AUC for the Cross-Validation Data at  alpha of Laplace Smoothing   0.0001  is  0.741350528252417\n",
      " AUC for the  TRAIN Data at alpha of Laplace Smoothing  0.001  is  0.7422121366344301\n",
      " AUC for the Cross-Validation Data at  alpha of Laplace Smoothing   0.001  is  0.7413505132461358\n",
      " AUC for the  TRAIN Data at alpha of Laplace Smoothing  0.01  is  0.7422121982650827\n",
      " AUC for the Cross-Validation Data at  alpha of Laplace Smoothing   0.01  is  0.7413505673992377\n",
      " AUC for the  TRAIN Data at alpha of Laplace Smoothing  0.1  is  0.7422121914963983\n",
      " AUC for the Cross-Validation Data at  alpha of Laplace Smoothing   0.1  is  0.7413503175120328\n",
      " AUC for the  TRAIN Data at alpha of Laplace Smoothing  1.0  is  0.7422332931668518\n",
      " AUC for the Cross-Validation Data at  alpha of Laplace Smoothing   1.0  is  0.7413509712639371\n",
      " AUC for the  TRAIN Data at alpha of Laplace Smoothing  10.0  is  0.7422640005504436\n",
      " AUC for the Cross-Validation Data at  alpha of Laplace Smoothing   10.0  is  0.7413711416632617\n",
      " AUC for the  TRAIN Data at alpha of Laplace Smoothing  100.0  is  0.7425736614487845\n",
      " AUC for the Cross-Validation Data at  alpha of Laplace Smoothing   100.0  is  0.7415343532402399\n",
      " AUC for the  TRAIN Data at alpha of Laplace Smoothing  1000.0  is  0.7406654935578713\n",
      " AUC for the Cross-Validation Data at  alpha of Laplace Smoothing   1000.0  is  0.7388559101573159\n",
      " AUC for the  TRAIN Data at alpha of Laplace Smoothing  10000.0  is  0.6214260011097364\n",
      " AUC for the Cross-Validation Data at  alpha of Laplace Smoothing   10000.0  is  0.6226505898590736\n",
      " AUC for the  TRAIN Data at alpha of Laplace Smoothing  100000.0  is  0.5044890917105507\n",
      " AUC for the Cross-Validation Data at  alpha of Laplace Smoothing   100000.0  is  0.5102246478143234\n",
      " AUC for the  TRAIN Data at alpha of Laplace Smoothing  1000000.0  is  0.48671158485959115\n",
      " AUC for the Cross-Validation Data at  alpha of Laplace Smoothing   1000000.0  is  0.4929189932492092\n",
      " AUC for the  TRAIN Data at alpha of Laplace Smoothing  10000000.0  is  0.48478867584281926\n",
      " AUC for the Cross-Validation Data at  alpha of Laplace Smoothing   10000000.0  is  0.49095596614248904\n",
      " AUC for the  TRAIN Data at alpha of Laplace Smoothing  100000000.0  is  0.48459725732956077\n",
      " AUC for the Cross-Validation Data at  alpha of Laplace Smoothing   100000000.0  is  0.4907593975596603\n",
      " AUC for the  TRAIN Data at alpha of Laplace Smoothing  1000000000.0  is  0.48457142232998907\n",
      " AUC for the Cross-Validation Data at  alpha of Laplace Smoothing   1000000000.0  is  0.4907337805326932\n"
     ]
    }
   ],
   "source": [
    "Set2_Acc_Tr    = []\n",
    "Set2_Acc_Cv    = []\n",
    "Set2_Train_Auc = []\n",
    "Set2_Cv_Auc    = []    \n",
    "\n",
    "\n",
    "for i in Alpha:\n",
    "    clf = MultinomialNB(alpha=i, class_prior=None, fit_prior=True)\n",
    "    clf.fit(X_Tfidf_Tr, Y_tr)    \n",
    "    \n",
    "    #CO-Efficeints\n",
    "    Co_Eff = clf.coef_[0].tolist()\n",
    "    Co_Eff_Sorted = sorted(Co_Eff)  \n",
    "    Co_Eff_Sorted.reverse()    \n",
    "\n",
    "    pred_tr =  clf.predict(X_Tfidf_Tr) # Class-Predictions of TRAIN-Validation\n",
    "    pred_cv =  clf.predict(X_Tfidf_Cv) # Class-Predictions of Cross-Validation\n",
    "\n",
    "    train_acc  = accuracy_score(Y_tr,pred_tr,normalize=True)    # Accuracy of TRAIN-Validation\n",
    "    cv_acc  = accuracy_score(Y_cv,pred_cv,normalize=True)     # Accuracy of TRAIN-Validation\n",
    "             \n",
    "    Train_pred_prob =  clf.predict_proba(X_Tfidf_Tr)[:,1]    # Probablity of TRAIN-Validation\n",
    "    Cv_pred_prob    =  clf.predict_proba(X_Tfidf_Cv)[:,1]    # Probablity of Cross-Validation         \n",
    "    cv_auc    = roc_auc_score(Y_cv, Cv_pred_prob)\n",
    "    train_auc   = roc_auc_score(Y_tr, Train_pred_prob)\n",
    "    \n",
    "    Set2_Acc_Tr.append(train_acc)                #Accuracy                \n",
    "    Set2_Acc_Cv.append(cv_acc)                   #Accuracy   \n",
    "    Set2_Train_Auc.append(train_auc)             #AUc\n",
    "    Set2_Cv_Auc.append(cv_auc)                   #AUc\n",
    "    #Imp_Features.append(local_Imp_Features)  #AUc\n",
    "  \n",
    "    \n",
    "    print(\" AUC for the  TRAIN Data at alpha of Laplace Smoothing \",i,  \" is \", train_auc)\n",
    "    print(\" AUC for the Cross-Validation Data at  alpha of Laplace Smoothing  \",i,  \" is \", cv_auc)"
   ]
  },
  {
   "cell_type": "code",
   "execution_count": 181,
   "metadata": {},
   "outputs": [
    {
     "data": {
      "image/png": "[encoded data removed]",
      "text/plain": [
       "<Figure size 432x288 with 1 Axes>"
      ]
     },
     "metadata": {},
     "output_type": "display_data"
    }
   ],
   "source": [
    "plt.grid()\n",
    "plt.scatter(np.log(Alpha), Set2_Train_Auc, label='Train AUC',s=20)\n",
    "plt.plot(np.log(Alpha), Set2_Train_Auc, label='Train AUC')\n",
    "plt.scatter(np.log(Alpha), Set2_Cv_Auc, label='CV AUC',s=10)\n",
    "plt.plot(np.log(Alpha), Set2_Cv_Auc, label='CV AUC')\n",
    "plt.legend()\n",
    "plt.xlabel(\"Alpha : hyperparameter\")\n",
    "plt.ylabel(\"AUC\")\n",
    "plt.title(\"PLOT:: Alpha  Vs AUC  \")\n",
    "plt.show()"
   ]
  },
  {
   "cell_type": "code",
   "execution_count": 182,
   "metadata": {},
   "outputs": [
    {
     "name": "stdout",
     "output_type": "stream",
     "text": [
      "Highest AUC is at Alpha:  100.0\n",
      "[0.7413505171608178, 0.741350528252417, 0.7413505132461358, 0.7413505673992377, 0.7413503175120328, 0.7413509712639371, 0.7413711416632617, 0.7415343532402399, 0.7388559101573159, 0.6226505898590736, 0.5102246478143234, 0.4929189932492092, 0.49095596614248904, 0.4907593975596603, 0.4907337805326932]\n",
      "0.7415343532402399\n"
     ]
    }
   ],
   "source": [
    "Optimal_Alpha = Alpha[Set2_Cv_Auc.index(max(Set2_Cv_Auc))]\n",
    "print(\"Highest AUC is at Alpha: \", Optimal_Alpha )\n",
    "print(Set2_Cv_Auc)\n",
    "print(max(Set2_Cv_Auc))\n",
    "Optimal_Alpha2 = Optimal_Alpha"
   ]
  },
  {
   "cell_type": "code",
   "execution_count": 183,
   "metadata": {},
   "outputs": [
    {
     "name": "stdout",
     "output_type": "stream",
     "text": [
      " Set2 Highest AUC is  :  0.7425736614487845\n"
     ]
    }
   ],
   "source": [
    "Set2_Train_Auc = Set2_Train_Auc[Set2_Cv_Auc.index(max(Set2_Cv_Auc))]\n",
    "print(\" Set2 Highest AUC is  : \", Set2_Train_Auc )"
   ]
  },
  {
   "cell_type": "markdown",
   "metadata": {},
   "source": [
    "Our Optimal Alpha (Addtive smoothing value) for BagOfWords Dataset is 100.\n",
    "\n",
    "Lets try out to train the Model with Optimal Alpha and Evalute the model with our testin Data.\n",
    "\n",
    "As AUC is One of the best Metrics to weigh a model we are focusing much on it."
   ]
  },
  {
   "cell_type": "code",
   "execution_count": 184,
   "metadata": {},
   "outputs": [
    {
     "name": "stdout",
     "output_type": "stream",
     "text": [
      " AUC,  for Train Data for the Optimal Alpha :  0.48457142232998907\n",
      " AUC,  for Test Data for the Optimal Alpha  :  0.7406419640675563\n"
     ]
    }
   ],
   "source": [
    "clf = MultinomialNB(alpha=Optimal_Alpha, class_prior=None, fit_prior=True)\n",
    "clf.fit(X_Tfidf_Tr, Y_tr)  \n",
    "\n",
    "Set2_Tr_Pred =  clf.predict(X_Tfidf_Tr)\n",
    "Set2_Tr_pred_prob =  clf.predict_proba(X_Tfidf_Tr)[:,1]\n",
    "Set2_Tr_Acc  =  accuracy_score(Y_tr,Set2_Tr_Pred,normalize=True)\n",
    "Set2_Tr_Auc  =  roc_auc_score(Y_tr,Train_pred_prob)\n",
    "\n",
    "\n",
    "Set2_Tst_Pred     =  clf.predict(X_Tfidf_Test)\n",
    "Set2_Tst_pred_prob =  clf.predict_proba(X_Tfidf_Test)[:,1]\n",
    "Set2_Tst_Acc  =  accuracy_score(Y_test,Set2_Tst_Pred,normalize=True)\n",
    "Set2_Tst_Auc  =  roc_auc_score(Y_test,Set2_Tst_pred_prob)\n",
    "\n",
    "print(\" AUC,  for Train Data for the Optimal Alpha : \", Set2_Tr_Auc)\n",
    "print(\" AUC,  for Test Data for the Optimal Alpha  : \", Set2_Tst_Auc)"
   ]
  },
  {
   "cell_type": "code",
   "execution_count": 185,
   "metadata": {},
   "outputs": [
    {
     "data": {
      "image/png": "[encoded data removed]",
      "text/plain": [
       "<Figure size 432x288 with 1 Axes>"
      ]
     },
     "metadata": {},
     "output_type": "display_data"
    }
   ],
   "source": [
    "set2_tst_fpr, set2_tst_tpr, thresholds = roc_curve(Y_test,Set2_Tst_pred_prob)\n",
    "set2_tst_roc_auc = auc(set1_tst_fpr, set1_tst_tpr)\n",
    "\n",
    "\n",
    "set2_train_fpr, set2_train_tpr, thresholds = roc_curve(Y_tr,Set2_Tr_pred_prob)\n",
    "set2_train_roc_auc = auc(set2_train_fpr, set2_train_tpr)\n",
    "\n",
    "lw=1\n",
    "plt.figure()\n",
    "plt.plot(set2_tst_fpr, set2_tst_tpr, color='darkorange', lw=4, label='Test ROC curve (area = %0.2f)' % set2_tst_roc_auc)\n",
    "plt.plot(set2_train_fpr, set2_train_tpr, color='navy', lw=1, label='Train ROC curve (area = %0.2f)' % set2_train_roc_auc)\n",
    "plt.plot([0, 1], [0,1], color='red', lw=lw, linestyle='--')\n",
    "plt.xlim([0.0, 1.0])\n",
    "plt.ylim([0.0, 1.04])\n",
    "plt.xlabel('False Positive Rate')\n",
    "plt.ylabel('True Positive Rate')\n",
    "plt.title('ROC - Receiver operating characteristic')\n",
    "plt.legend(loc=\"lower right\")\n",
    "plt.show()"
   ]
  },
  {
   "cell_type": "markdown",
   "metadata": {},
   "source": [
    "We have a Reasonable Aure under the Curve.\n",
    "\n",
    "We have to notice that AUC for our Train Data is almost equalent to he Test Data.\n"
   ]
  },
  {
   "cell_type": "markdown",
   "metadata": {},
   "source": [
    "#### Confusion Matrix for Train Data"
   ]
  },
  {
   "cell_type": "code",
   "execution_count": 186,
   "metadata": {},
   "outputs": [
    {
     "name": "stdout",
     "output_type": "stream",
     "text": [
      "Train Confusion Matrix::\n",
      "\n",
      "        Predicted\n",
      " True   [    0 27985]\n",
      "       [     0 150458] \n",
      "\n"
     ]
    },
    {
     "data": {
      "text/plain": [
       "Text(33,0.5,'True label')"
      ]
     },
     "execution_count": 186,
     "metadata": {},
     "output_type": "execute_result"
    },
    {
     "data": {
      "image/png": "[encoded data removed]",
      "text/plain": [
       "<Figure size 432x288 with 2 Axes>"
      ]
     },
     "metadata": {},
     "output_type": "display_data"
    }
   ],
   "source": [
    "Train_CM= confusion_matrix(Y_tr, Set2_Tr_Pred, labels=None, sample_weight=None) \n",
    "print(\"Train Confusion Matrix::\\n\\n        Predicted\\n\",\"True  \",Train_CM[0])\n",
    "print(\"      \",Train_CM[1],\"\\n\",)\n",
    "sns.heatmap(Train_CM, cmap=\"YlGnBu\"  ,annot=True,annot_kws={\"size\": 17})\n",
    "plt.xlabel('Predicted label')\n",
    "plt.ylabel('True label')"
   ]
  },
  {
   "cell_type": "markdown",
   "metadata": {},
   "source": [
    "#### Confusion Matrix for Test Data"
   ]
  },
  {
   "cell_type": "code",
   "execution_count": 187,
   "metadata": {},
   "outputs": [
    {
     "name": "stdout",
     "output_type": "stream",
     "text": [
      "Test Confusion Matrix::\n",
      "\n",
      "        Predicted\n",
      " True   [    0 17265]\n",
      "       [    0 91987] \n",
      "\n"
     ]
    },
    {
     "data": {
      "text/plain": [
       "Text(33,0.5,'True label')"
      ]
     },
     "execution_count": 187,
     "metadata": {},
     "output_type": "execute_result"
    },
    {
     "data": {
      "image/png": "[encoded data removed]",
      "text/plain": [
       "<Figure size 432x288 with 2 Axes>"
      ]
     },
     "metadata": {},
     "output_type": "display_data"
    }
   ],
   "source": [
    "Test_CM= confusion_matrix(Y_test, Set2_Tst_Pred , labels=None, sample_weight=None) \n",
    "print(\"Test Confusion Matrix::\\n\\n        Predicted\\n\",\"True  \",Test_CM[0])\n",
    "print(\"      \",Test_CM[1],\"\\n\",)\n",
    "sns.heatmap(Test_CM, cmap=\"YlGnBu\"  ,annot=True,annot_kws={\"size\": 17})\n",
    "plt.xlabel('Predicted label')\n",
    "plt.ylabel('True label')"
   ]
  },
  {
   "cell_type": "markdown",
   "metadata": {},
   "source": [
    "\n",
    "By definition a confusion matrix C is such that C-ij is equal to the number of observations known to be in group i  but predicted to be in group j .\n",
    "\n",
    "Horizantal Lines are Predictions and the Verticals are Acutuals\n",
    "\n",
    "Thus in binary classification, the count of true \n",
    "\n",
    "negatives is 0 at C(0,0) , \n",
    "\n",
    "false negatives is 0 C(1,0),\n",
    "\n",
    "true positives is 91987 at C(1,1),\n",
    "\n",
    "false positives is 17265 at C(0,1).\n"
   ]
  },
  {
   "cell_type": "code",
   "execution_count": 188,
   "metadata": {},
   "outputs": [],
   "source": [
    "_, coef_ = clf.feature_log_prob_"
   ]
  },
  {
   "cell_type": "code",
   "execution_count": 189,
   "metadata": {},
   "outputs": [],
   "source": [
    "#CO-Efficeints\n",
    "Co_Eff = coef_.tolist()"
   ]
  },
  {
   "cell_type": "code",
   "execution_count": 190,
   "metadata": {},
   "outputs": [],
   "source": [
    "#https://medium.com/@aneesha/visualising-top-features-in-linear-svm-with-scikit-learn-and-matplotlib-3454ab18a14d\n",
    "Set2_Feat_per_change = dict(zip(Bow_Feature, Co_Eff))\n",
    "#Feat_per_change = dict(enumerate(Perc))\n",
    "#Feat_per_change = dict(zip(key, values))"
   ]
  },
  {
   "cell_type": "code",
   "execution_count": 191,
   "metadata": {},
   "outputs": [],
   "source": [
    "#https://www.saltycrane.com/blog/2007/09/how-to-sort-python-dictionary-by-keys/\n",
    "set2_Pstv_Co_Effs = {k:v for (k,v) in Set2_Feat_per_change.items() if v>0 }\n",
    "set2_Neg_Co_Effs  = {k:-1*v for (k,v) in Set2_Feat_per_change.items() if v<=0 }"
   ]
  },
  {
   "cell_type": "markdown",
   "metadata": {
    "colab_type": "text",
    "id": "Dtpj7iMSJkln"
   },
   "source": [
    "### [5.2.1] Top 10 important features of positive class from<font color='red'> SET 2</font>"
   ]
  },
  {
   "cell_type": "code",
   "execution_count": 192,
   "metadata": {
    "colab": {},
    "colab_type": "code",
    "id": "g3flcTmmJklo"
   },
   "outputs": [],
   "source": [
    "# Please write all the code with proper documentation"
   ]
  },
  {
   "cell_type": "code",
   "execution_count": 193,
   "metadata": {},
   "outputs": [
    {
     "data": {
      "text/plain": [
       "Text(0,0.5,'Collinearity')"
      ]
     },
     "execution_count": 193,
     "metadata": {},
     "output_type": "execute_result"
    },
    {
     "data": {
      "image/png": "[encoded data removed]",
      "text/plain": [
       "<Figure size 432x288 with 1 Axes>"
      ]
     },
     "metadata": {},
     "output_type": "display_data"
    }
   ],
   "source": [
    "y = list(set2_Pstv_Co_Effs.values())\n",
    "x = np.arange(0,len(set2_Pstv_Co_Effs))\n",
    "Set2_pos_w_sort = sorted(y)[::-1]\n",
    "plt.grid()\n",
    "plt.plot(x, Set2_pos_w_sort,linewidth=5)\n",
    "plt.title(\"Positive Features Vs Importance\")\n",
    "plt.xlabel(\"Features\")\n",
    "plt.ylabel(\"Collinearity\")"
   ]
  },
  {
   "cell_type": "markdown",
   "metadata": {},
   "source": [
    "There are no Positive Co-Efficients in the exists"
   ]
  },
  {
   "cell_type": "code",
   "execution_count": 194,
   "metadata": {},
   "outputs": [
    {
     "name": "stdout",
     "output_type": "stream",
     "text": [
      "Top 10 Negative Colineal Features :: \n",
      "==============================\n",
      "\n",
      "\t*****\tNo Features are Positively Impacting\t*****\n"
     ]
    }
   ],
   "source": [
    "Set2_Sorted_Pos_Co_Effs = sorted(set2_Pstv_Co_Effs.items(), key=lambda x: x[1])[::-1]  # 1>x[1] value, x[0] key\n",
    "print(\"Top 10 Negative Colineal Features :: \")\n",
    "print(\"=\"*30)\n",
    "\n",
    "if len(Set2_Sorted_Pos_Co_Effs) > 0:\n",
    "    for i in range(len(Set2_Sorted_Pos_Co_Effs)):  \n",
    "        if(i<10):\n",
    "            print(\"\\t\\tFeature :\",Set2_Sorted_Pos_Co_Effs[i][0])\n",
    "else:\n",
    "    print(\"\\n\\t*****\\tNo Features are Positively Impacting\\t*****\")"
   ]
  },
  {
   "cell_type": "markdown",
   "metadata": {
    "colab_type": "text",
    "id": "mquFtwF5Jklj"
   },
   "source": [
    "### [5.2.2] Top 10 important features of negative class from<font color='red'> SET 2</font>"
   ]
  },
  {
   "cell_type": "code",
   "execution_count": 195,
   "metadata": {
    "colab": {},
    "colab_type": "code",
    "id": "_RacUnTrJklj"
   },
   "outputs": [],
   "source": [
    "# Please write all the code with proper documentation"
   ]
  },
  {
   "cell_type": "code",
   "execution_count": 196,
   "metadata": {},
   "outputs": [
    {
     "data": {
      "text/plain": [
       "Text(0,0.5,'Collinearity')"
      ]
     },
     "execution_count": 196,
     "metadata": {},
     "output_type": "execute_result"
    },
    {
     "data": {
      "image/png": "[encoded data removed]",
      "text/plain": [
       "<Figure size 432x288 with 1 Axes>"
      ]
     },
     "metadata": {},
     "output_type": "display_data"
    }
   ],
   "source": [
    "y = list(set2_Neg_Co_Effs.values())\n",
    "Set2_Neg_w_sort = sorted(y)[::-1]\n",
    "x = np.arange(0,len(set2_Neg_Co_Effs))\n",
    "plt.grid()\n",
    "plt.plot(x, Set2_Neg_w_sort,linewidth=5)\n",
    "plt.title(\"Feature Importance\")\n",
    "plt.xlabel(\"Feature\")\n",
    "plt.ylabel(\"Collinearity\")"
   ]
  },
  {
   "cell_type": "markdown",
   "metadata": {},
   "source": [
    "Above are the Top 10 Highly Important Features wih Negative C0-Effecients"
   ]
  },
  {
   "cell_type": "code",
   "execution_count": 197,
   "metadata": {},
   "outputs": [
    {
     "name": "stdout",
     "output_type": "stream",
     "text": [
      "Top 10 Negative Colineal Features :: \n",
      "==============================\n",
      "\t\tFeature : better\n",
      "\t\tFeature : even\n",
      "\t\tFeature : great\n",
      "\t\tFeature : find\n",
      "\t\tFeature : found\n",
      "\t\tFeature : like\n",
      "\t\tFeature : also\n",
      "\t\tFeature : buy\n",
      "\t\tFeature : good\n",
      "\t\tFeature : amazon\n"
     ]
    }
   ],
   "source": [
    "Set2_Sorted_Neg_Co_Effs = sorted(set2_Neg_Co_Effs.items(), key=lambda x: x[1])[::-1]  # 1>x[1] value, x[0] key\n",
    "print(\"Top 10 Negative Colineal Features :: \")\n",
    "print(\"=\"*30)\n",
    "\n",
    "if len(Set2_Sorted_Neg_Co_Effs) > 0:\n",
    "    for i in range(len(Set2_Sorted_Neg_Co_Effs)):  \n",
    "        if(i<10):\n",
    "            print(\"\\t\\tFeature :\",Set2_Sorted_Neg_Co_Effs[i][0])\n",
    "else:\n",
    "    print(\"\\n\\t\\tNo Features are Positively Impacting\")"
   ]
  },
  {
   "cell_type": "markdown",
   "metadata": {},
   "source": [
    "### [5.3]Fueature Engineering : Adding length of each review as its new  feature<font color='red'> Updated DataSet</font>"
   ]
  },
  {
   "cell_type": "code",
   "execution_count": 198,
   "metadata": {
    "colab": {},
    "colab_type": "code",
    "id": "i3i3cShuJklr"
   },
   "outputs": [],
   "source": [
    "# Please write all the code with proper documentation"
   ]
  },
  {
   "cell_type": "code",
   "execution_count": 199,
   "metadata": {},
   "outputs": [],
   "source": [
    "len_Tr = []\n",
    "for i in X_tr:\n",
    "    len_Tr.append(len(i))\n",
    "len_Cv = []\n",
    "for i in X_cv:\n",
    "    len_Cv.append(len(i))\n",
    "len_Tst = []\n",
    "for i in X_test:\n",
    "    len_Tst.append(len(i))"
   ]
  },
  {
   "cell_type": "code",
   "execution_count": 200,
   "metadata": {},
   "outputs": [],
   "source": [
    "#a = np.array([[1, 1], [2, 2], [3, 3]])\n",
    "#print(np.insert(a[0], 2, 5))\n",
    "#np.insert(dup[0],int,777)"
   ]
  },
  {
   "cell_type": "markdown",
   "metadata": {},
   "source": [
    "lets us Recreate the Dataset with the Feature Egineering.\n",
    "\n",
    "I have addded a new feature that is the length of a review.\n",
    "\n",
    "We just have to to understand if this new feature will helps us in impacting the label or not."
   ]
  },
  {
   "cell_type": "code",
   "execution_count": 201,
   "metadata": {
    "scrolled": true
   },
   "outputs": [],
   "source": [
    "def getNewFutre(old,typ):\n",
    "    new = []\n",
    "    for i in range(len(old)):\n",
    "        if(typ==\"tr\"):\n",
    "            e= len_Tr[i]\n",
    "        if(typ==\"cv\"):\n",
    "            e= len_Cv[i]\n",
    "        if(typ==\"tst\"):\n",
    "            e= len_Tst[i]             \n",
    "        l= list(old[i])\n",
    "        l.append(e)\n",
    "        new.append(l)\n",
    "    return(new)"
   ]
  },
  {
   "cell_type": "code",
   "execution_count": 202,
   "metadata": {},
   "outputs": [],
   "source": [
    "X_Bow_Tr_new     = []\n",
    "X_Bow_Cv_new     = []\n",
    "X_Bow_Test_new   = []\n",
    "X_Tfidf_Tr_new   = []\n",
    "X_Tfidf_Test_new = []\n",
    "X_Tfidf_Cv_new   = []\n",
    "\n",
    "X_Bow_Tr_new     = getNewFutre(X_Bow_Tr,\"tr\")\n",
    "X_Bow_Cv_new     = getNewFutre(X_Bow_Cv,\"cv\")\n",
    "X_Bow_Test_new   = getNewFutre(X_Bow_Test,\"tst\")\n",
    "\n",
    "X_Tfidf_Tr_new   = getNewFutre(X_Tfidf_Tr,\"tr\")\n",
    "X_Tfidf_Test_new = getNewFutre(X_Tfidf_Test,\"tst\")\n",
    "X_Tfidf_Cv_new   = getNewFutre(X_Tfidf_Cv,\"cv\")"
   ]
  },
  {
   "cell_type": "code",
   "execution_count": 203,
   "metadata": {},
   "outputs": [
    {
     "name": "stdout",
     "output_type": "stream",
     "text": [
      "214\n",
      "[1, 0, 1, 0, 0, 0, 0, 0, 0, 0, 0, 0, 0, 0, 0, 0, 0, 0, 0, 0, 0, 0, 0, 0, 0, 0, 0, 0, 0, 0, 0, 0, 0, 0, 0, 0, 1, 0, 0, 0, 161]\n"
     ]
    }
   ],
   "source": [
    "print(len(X_tr[4]))\n",
    "print(X_Bow_Test_new[4])"
   ]
  },
  {
   "cell_type": "code",
   "execution_count": 204,
   "metadata": {},
   "outputs": [
    {
     "name": "stdout",
     "output_type": "stream",
     "text": [
      "AUC for Train Data for the Optimal Alpha            :  0.7753408020121033    at Alpha 1e-05\n",
      "AUC for CrossValidation Data for the Optimal Alpha  :  0.7720940114550905    at Alpha 1e-05\n",
      "AUC for Train Data for the Optimal Alpha            :  0.7753408003496194    at Alpha 0.0001\n",
      "AUC for CrossValidation Data for the Optimal Alpha  :  0.7720940153697724    at Alpha 0.0001\n",
      "AUC for Train Data for the Optimal Alpha            :  0.7753408119870067    at Alpha 0.001\n",
      "AUC for CrossValidation Data for the Optimal Alpha  :  0.7720939997110443    at Alpha 0.001\n",
      "AUC for Train Data for the Optimal Alpha            :  0.7753408720739241    at Alpha 0.01\n",
      "AUC for CrossValidation Data for the Optimal Alpha  :  0.772094044077441    at Alpha 0.01\n",
      "AUC for Train Data for the Optimal Alpha            :  0.7753413328194579    at Alpha 0.1\n",
      "AUC for CrossValidation Data for the Optimal Alpha  :  0.7720942019696175    at Alpha 0.1\n",
      "AUC for Train Data for the Optimal Alpha            :  0.7753444288394471    at Alpha 1.0\n",
      "AUC for CrossValidation Data for the Optimal Alpha  :  0.7720976286213158    at Alpha 1.0\n",
      "AUC for Train Data for the Optimal Alpha            :  0.775379350738436    at Alpha 10.0\n",
      "AUC for CrossValidation Data for the Optimal Alpha  :  0.7721289095407795    at Alpha 10.0\n",
      "AUC for Train Data for the Optimal Alpha            :  0.7755484785490168    at Alpha 100.0\n",
      "AUC for CrossValidation Data for the Optimal Alpha  :  0.7722799953900705    at Alpha 100.0\n",
      "AUC for Train Data for the Optimal Alpha            :  0.7590224159423388    at Alpha 1000.0\n",
      "AUC for CrossValidation Data for the Optimal Alpha  :  0.7561055247438179    at Alpha 1000.0\n",
      "AUC for Train Data for the Optimal Alpha            :  0.485041401061809    at Alpha 10000.0\n",
      "AUC for CrossValidation Data for the Optimal Alpha  :  0.49287490153269725    at Alpha 10000.0\n",
      "AUC for Train Data for the Optimal Alpha            :  0.46124298153631393    at Alpha 100000.0\n",
      "AUC for CrossValidation Data for the Optimal Alpha  :  0.4676257124460375    at Alpha 100000.0\n",
      "AUC for Train Data for the Optimal Alpha            :  0.49938861086392405    at Alpha 1000000.0\n",
      "AUC for CrossValidation Data for the Optimal Alpha  :  0.49972154605513835    at Alpha 1000000.0\n",
      "AUC for Train Data for the Optimal Alpha            :  0.49940749941208035    at Alpha 10000000.0\n",
      "AUC for CrossValidation Data for the Optimal Alpha  :  0.49968566473180465    at Alpha 10000000.0\n",
      "AUC for Train Data for the Optimal Alpha            :  0.46084283365884726    at Alpha 100000000.0\n",
      "AUC for CrossValidation Data for the Optimal Alpha  :  0.4663311831985604    at Alpha 100000000.0\n",
      "AUC for Train Data for the Optimal Alpha            :  0.44562088444840925    at Alpha 1000000000.0\n",
      "AUC for CrossValidation Data for the Optimal Alpha  :  0.4539982259443831    at Alpha 1000000000.0\n"
     ]
    }
   ],
   "source": [
    "Set1_Acc_Tr_ln    = []\n",
    "Set1_Acc_Cv_ln    = []\n",
    "Set1_Train_Auc_ln = []\n",
    "Set1_Cv_Auc_ln    = []\n",
    "\n",
    "for i in Alpha:\n",
    "    clf = MultinomialNB(alpha=i, class_prior=None, fit_prior=True)\n",
    "    clf.fit(X_Bow_Tr_new, Y_tr)    \n",
    "    \n",
    "    #CO-Efficeints\n",
    "    Co_Eff = clf.coef_[0].tolist()\n",
    "    Co_Eff_Sorted = sorted(Co_Eff)  \n",
    "    Co_Eff_Sorted.reverse()    \n",
    "\n",
    "    pred_tr =  clf.predict(X_Bow_Tr_new) # Class-Predictions of TRAIN-Validation\n",
    "    pred_cv =  clf.predict(X_Bow_Cv_new) # Class-Predictions of Cross-Validation\n",
    "\n",
    "    train_acc  = accuracy_score(Y_tr,pred_tr,normalize=True)    # Accuracy of TRAIN-Validation\n",
    "    cv_acc  = accuracy_score(Y_cv,pred_cv,normalize=True)     # Accuracy of TRAIN-Validation\n",
    "             \n",
    "    Train_pred_prob =  clf.predict_proba(X_Bow_Tr_new)[:,1]    # Probablity of TRAIN-Validation\n",
    "    Cv_pred_prob    =  clf.predict_proba(X_Bow_Cv_new)[:,1]    # Probablity of Cross-Validation         \n",
    "    cv_auc          = roc_auc_score(Y_cv, Cv_pred_prob)\n",
    "    train_auc       = roc_auc_score(Y_tr, Train_pred_prob)\n",
    "    \n",
    "    Set1_Acc_Tr_ln.append(train_acc)                #Accuracy                \n",
    "    Set1_Acc_Cv_ln.append(cv_acc)                   #Accuracy   \n",
    "    Set1_Train_Auc_ln.append(train_auc)             #AUc\n",
    "    Set1_Cv_Auc_ln.append(cv_auc)                   #AUc\n",
    "    #Imp_Features.append(local_Imp_Features)  #AUc\n",
    "\n",
    "    print(\"AUC for Train Data for the Optimal Alpha            : \",train_auc, \"   at Alpha\", i)\n",
    "    print(\"AUC for CrossValidation Data for the Optimal Alpha  : \",cv_auc   , \"   at Alpha\", i)"
   ]
  },
  {
   "cell_type": "code",
   "execution_count": 205,
   "metadata": {},
   "outputs": [
    {
     "data": {
      "image/png": "[encoded data removed]",
      "text/plain": [
       "<Figure size 432x288 with 1 Axes>"
      ]
     },
     "metadata": {},
     "output_type": "display_data"
    }
   ],
   "source": [
    "plt.grid()\n",
    "plt.scatter(np.log(Alpha), Set1_Train_Auc_ln, label='Train AUC',s=10)\n",
    "plt.plot(np.log(Alpha), Set1_Train_Auc_ln, label='Train AUC')\n",
    "plt.scatter(np.log(Alpha), Set1_Cv_Auc_ln, label='CV AUC',s=10)\n",
    "plt.plot(np.log(Alpha), Set1_Cv_Auc_ln, label='CV AUC')\n",
    "plt.legend()\n",
    "plt.xlabel(\"Alpha : hyperparameter\")\n",
    "plt.ylabel(\"AUC\")\n",
    "plt.title(\"PLOT:: Alpha  Vs AUC  \")\n",
    "plt.show()"
   ]
  },
  {
   "cell_type": "code",
   "execution_count": 206,
   "metadata": {},
   "outputs": [
    {
     "name": "stdout",
     "output_type": "stream",
     "text": [
      "Highest AUC is at Alpha:  100.0\n",
      "[0.7720940114550905, 0.7720940153697724, 0.7720939997110443, 0.772094044077441, 0.7720942019696175, 0.7720976286213158, 0.7721289095407795, 0.7722799953900705, 0.7561055247438179, 0.49287490153269725, 0.4676257124460375, 0.49972154605513835, 0.49968566473180465, 0.4663311831985604, 0.4539982259443831]\n",
      "0.7722799953900705\n"
     ]
    }
   ],
   "source": [
    "Optimal_Alpha = Alpha[Set1_Cv_Auc_ln.index(max(Set1_Cv_Auc_ln))]\n",
    "print(\"Highest AUC is at Alpha: \", Optimal_Alpha )\n",
    "print(Set1_Cv_Auc_ln)\n",
    "print(max(Set1_Cv_Auc_ln))\n",
    "\n",
    "Optimal_Alpha3 = Optimal_Alpha"
   ]
  },
  {
   "cell_type": "markdown",
   "metadata": {},
   "source": [
    "Our Optimal Alpha (Addtive smoothing value) for BagOfWords Dataset is 100.\n",
    "\n",
    "Lets try out to train the Model with Optimal Alpha and Evalute the model with our testin Data.\n",
    "\n",
    "As AUC is One of the best Metrics to weigh a model we are focusing much on it.\n"
   ]
  },
  {
   "cell_type": "code",
   "execution_count": 207,
   "metadata": {},
   "outputs": [
    {
     "name": "stdout",
     "output_type": "stream",
     "text": [
      " Accuracy,AUC,  for New Test  Data for the Optimal Alpha  :  0.8400120821586791    0.7738939901891412\n",
      " Accuracy,AUC,  for New Train Data for the Optimal Alpha  :  0.841730972915721    0.7755484785490168\n"
     ]
    }
   ],
   "source": [
    "clf = MultinomialNB(alpha=Optimal_Alpha, class_prior=None, fit_prior=True)\n",
    "clf.fit(X_Bow_Tr_new, Y_tr)  \n",
    "\n",
    "Set1_Tr_Pred_ln     =  clf.predict(X_Bow_Tr_new)\n",
    "Set1_Tr_pred_prob_ln =  clf.predict_proba(X_Bow_Tr_new)[:,1]\n",
    "Set1_Tr_Acc_ln  =  accuracy_score(Y_tr,Set1_Tr_Pred_ln,normalize=True)\n",
    "Set1_Tr_Auc_ln  =  roc_auc_score(Y_tr,Set1_Tr_pred_prob_ln)\n",
    "\n",
    "\n",
    "Set1_Tst_Pred_ln     =  clf.predict(X_Bow_Test_new)\n",
    "Set1_Tst_pred_prob_ln =  clf.predict_proba(X_Bow_Test_new)[:,1]\n",
    "Set1_Tst_Acc_ln  =  accuracy_score(Y_test,Set1_Tst_Pred,normalize=True)\n",
    "Set1_Tst_Auc_ln  =  roc_auc_score(Y_test,Set1_Tst_pred_prob)\n",
    "\n",
    "print(\" Accuracy,AUC,  for New Test  Data for the Optimal Alpha  : \", Set1_Tst_Acc_ln,\"  \",Set1_Tst_Auc_ln)\n",
    "print(\" Accuracy,AUC,  for New Train Data for the Optimal Alpha  : \", Set1_Tr_Acc_ln,\"  \",Set1_Tr_Auc_ln)"
   ]
  },
  {
   "cell_type": "code",
   "execution_count": 208,
   "metadata": {},
   "outputs": [
    {
     "data": {
      "image/png": "[encoded data removed]",
      "text/plain": [
       "<Figure size 432x288 with 1 Axes>"
      ]
     },
     "metadata": {},
     "output_type": "display_data"
    }
   ],
   "source": [
    "set1_tst_fpr_ln, set1_tst_tpr_ln, thresholds = roc_curve(Y_test,Set1_Tst_pred_prob_ln)\n",
    "set1_tst_roc_auc_ln = auc(set1_tst_fpr_ln, set1_tst_tpr_ln)\n",
    "\n",
    "\n",
    "set1_train_fpr_ln, set1_train_tpr_ln, thresholds = roc_curve(Y_tr,Set1_Tr_pred_prob)\n",
    "set1_train_roc_auc_ln = auc(set1_train_fpr_ln, set1_train_tpr_ln)\n",
    "\n",
    "lw=1\n",
    "plt.figure()\n",
    "plt.plot(set1_tst_fpr_ln, set1_tst_tpr_ln, color='darkorange', lw=1, label='Test ROC curve (area = %0.2f)' % set1_tst_roc_auc_ln)\n",
    "plt.plot(set1_train_fpr_ln, set1_train_tpr_ln, color='navy', lw=1, label='Train ROC curve (area = %0.2f)' % set1_train_roc_auc_ln)\n",
    "plt.plot([0, 1], [0,1], color='red', lw=lw, linestyle='--')\n",
    "plt.xlim([0.0, 1.0])\n",
    "plt.ylim([0.0, 1.04])\n",
    "plt.xlabel('False Positive Rate')\n",
    "plt.ylabel('True Positive Rate')\n",
    "plt.title('ROC - Receiver operating characteristic')\n",
    "plt.legend(loc=\"lower right\")\n",
    "plt.show()"
   ]
  },
  {
   "cell_type": "markdown",
   "metadata": {},
   "source": [
    "We have a Reasonable Aure under the Curve.\n",
    "\n",
    "We have to notice that AUC for our Train Data is almost equalent to he Test Data.\n"
   ]
  },
  {
   "cell_type": "markdown",
   "metadata": {},
   "source": [
    "###### Confusion Matrix for Train Data"
   ]
  },
  {
   "cell_type": "code",
   "execution_count": 209,
   "metadata": {},
   "outputs": [
    {
     "name": "stdout",
     "output_type": "stream",
     "text": [
      "Train Confusion Matrix::\n",
      "\n",
      "        Predicted\n",
      " True   [ 4910 23075]\n",
      "       [  5167 145291] \n",
      "\n"
     ]
    },
    {
     "data": {
      "text/plain": [
       "Text(33,0.5,'True label')"
      ]
     },
     "execution_count": 209,
     "metadata": {},
     "output_type": "execute_result"
    },
    {
     "data": {
      "image/png": "[encoded data removed]",
      "text/plain": [
       "<Figure size 432x288 with 2 Axes>"
      ]
     },
     "metadata": {},
     "output_type": "display_data"
    }
   ],
   "source": [
    "Train_CM= confusion_matrix(Y_tr, Set1_Tr_Pred_ln, labels=None, sample_weight=None) \n",
    "print(\"Train Confusion Matrix::\\n\\n        Predicted\\n\",\"True  \",Train_CM[0])\n",
    "print(\"      \",Train_CM[1],\"\\n\",)\n",
    "sns.heatmap(Train_CM, cmap=\"YlGnBu\"  ,annot=True,annot_kws={\"size\": 17})\n",
    "plt.xlabel('Predicted label')\n",
    "plt.ylabel('True label')"
   ]
  },
  {
   "cell_type": "markdown",
   "metadata": {},
   "source": [
    "#### Confusion Matrix for Test Data"
   ]
  },
  {
   "cell_type": "code",
   "execution_count": 210,
   "metadata": {},
   "outputs": [
    {
     "name": "stdout",
     "output_type": "stream",
     "text": [
      "Test Confusion Matrix::\n",
      "\n",
      "        Predicted\n",
      " True   [ 3078 14187]\n",
      "       [ 3315 88672] \n",
      "\n"
     ]
    },
    {
     "data": {
      "text/plain": [
       "Text(33,0.5,'True label')"
      ]
     },
     "execution_count": 210,
     "metadata": {},
     "output_type": "execute_result"
    },
    {
     "data": {
      "image/png": "[encoded data removed]",
      "text/plain": [
       "<Figure size 432x288 with 2 Axes>"
      ]
     },
     "metadata": {},
     "output_type": "display_data"
    }
   ],
   "source": [
    "Test_CM= confusion_matrix(Y_test, Set1_Tst_Pred_ln , labels=None, sample_weight=None) \n",
    "print(\"Test Confusion Matrix::\\n\\n        Predicted\\n\",\"True  \",Test_CM[0])\n",
    "print(\"      \",Test_CM[1],\"\\n\",)\n",
    "sns.heatmap(Test_CM, cmap=\"YlGnBu\"  ,annot=True,annot_kws={\"size\": 17})\n",
    "plt.xlabel('Predicted label')\n",
    "plt.ylabel('True label')"
   ]
  },
  {
   "cell_type": "markdown",
   "metadata": {},
   "source": [
    "\n",
    "By definition a confusion matrix C is such that C-ij is equal to the number of observations known to be in group i  but predicted to be in group j .\n",
    "\n",
    "Horizantal Lines are Predictions and the Verticals are Acutuals\n",
    "\n",
    "Thus in binary classification, the count of true \n",
    "\n",
    "negatives is 3078  at C(0,0) , \n",
    "\n",
    "false negatives is 3315  C(1,0),\n",
    "\n",
    "true positives is 88672 at C(1,1),\n",
    "\n",
    "false positives is 14187 at C(0,1).\n"
   ]
  },
  {
   "cell_type": "code",
   "execution_count": 211,
   "metadata": {},
   "outputs": [],
   "source": [
    "_, coef_ = clf.feature_log_prob_"
   ]
  },
  {
   "cell_type": "code",
   "execution_count": 212,
   "metadata": {},
   "outputs": [],
   "source": [
    "Co_Eff = coef_.tolist()"
   ]
  },
  {
   "cell_type": "code",
   "execution_count": 213,
   "metadata": {},
   "outputs": [],
   "source": [
    "#https://medium.com/@aneesha/visualising-top-features-in-linear-svm-with-scikit-learn-and-matplotlib-3454ab18a14d\n",
    "Set1_ln_Feat_per_change = dict(zip(Bow_Feature, Co_Eff))\n",
    "#Feat_per_change = dict(enumerate(Perc))\n",
    "#Feat_per_change = dict(zip(key, values))"
   ]
  },
  {
   "cell_type": "code",
   "execution_count": 214,
   "metadata": {},
   "outputs": [],
   "source": [
    "#https://www.saltycrane.com/blog/2007/09/how-to-sort-python-dictionary-by-keys/\n",
    "set1_ln_Pstv_Co_Effs = {k:v for (k,v) in Set1_ln_Feat_per_change.items() if v>0 }\n",
    "set1_ln_Negv_Co_Effs  = {k:-1*v for (k,v) in Set1_ln_Feat_per_change.items() if v<=0 }"
   ]
  },
  {
   "cell_type": "markdown",
   "metadata": {},
   "source": [
    "### [5.3.1] Top 10 important features of positive class from<font color='red'> New Data Set</font>"
   ]
  },
  {
   "cell_type": "code",
   "execution_count": 215,
   "metadata": {},
   "outputs": [
    {
     "name": "stdout",
     "output_type": "stream",
     "text": [
      "****    No features are Positively Impacting    *****\n"
     ]
    }
   ],
   "source": [
    "if len(set1_ln_Pstv_Co_Effs):\n",
    "    y = list(set1_ln_Pstv_Co_Effs.values())\n",
    "    x = np.arange(0,len(y))\n",
    "    Set1_ln_pos_w_sort = sorted(y)[::-1]\n",
    "    plt.grid()\n",
    "    plt.plot(x, Set1_ln_pos_w_sort,linewidth=5)\n",
    "    plt.title(\"Positive Features Vs Importance\")\n",
    "    plt.xlabel(\"Features\")\n",
    "    plt.ylabel(\"Collinearity\")\n",
    "else:\n",
    "    print(\"****    No features are Positively Impacting    *****\")"
   ]
  },
  {
   "cell_type": "code",
   "execution_count": 216,
   "metadata": {},
   "outputs": [
    {
     "name": "stdout",
     "output_type": "stream",
     "text": [
      "Top 10 Negative Colineal Features :: \n",
      "========================================\n",
      "\n",
      "\t*****\tNo Features are Positively Impacting\t*****\n"
     ]
    }
   ],
   "source": [
    "Set1_ln_Sorted_Pos_Co_Effs = sorted(set1_ln_Pstv_Co_Effs.items(), key=lambda x: x[1])[::-1]  # 1>x[1] value, x[0] key\n",
    "print(\"Top 10 Negative Colineal Features :: \")\n",
    "print(\"=\"*40)\n",
    "\n",
    "if len(Set1_Sorted_Pos_Co_Effs) > 0:\n",
    "    for i in range(len(Set1_ln_Sorted_Pos_Co_Effs)):  \n",
    "        if(i<10):\n",
    "            print(\"\\t\\tFeature :\",Set1_ln_Sorted_Pos_Co_Effs[i][0])\n",
    "else:\n",
    "    print(\"\\n\\t*****\\tNo Features are Positively Impacting\\t*****\")"
   ]
  },
  {
   "cell_type": "markdown",
   "metadata": {},
   "source": [
    "### [5.3.2] Top 10 important features of Negative class from<font color='red'> New Data Set</font>"
   ]
  },
  {
   "cell_type": "code",
   "execution_count": 217,
   "metadata": {},
   "outputs": [
    {
     "data": {
      "image/png": "[encoded data removed]",
      "text/plain": [
       "<Figure size 432x288 with 1 Axes>"
      ]
     },
     "metadata": {},
     "output_type": "display_data"
    }
   ],
   "source": [
    "if len(set1_ln_Negv_Co_Effs):\n",
    "    y = list(set1_ln_Negv_Co_Effs.values())\n",
    "    x = np.arange(0,len(y))\n",
    "    Set1_ln_pos_w_sort = sorted(y)[::-1]\n",
    "    plt.grid()\n",
    "    plt.plot(x, Set1_ln_pos_w_sort,linewidth=5)\n",
    "    plt.title(\"Positive Features Vs Importance\")\n",
    "    plt.xlabel(\"Features\")\n",
    "    plt.ylabel(\"Collinearity\")\n",
    "else:\n",
    "    print(\" No features are Positie Impacting \")"
   ]
  },
  {
   "cell_type": "code",
   "execution_count": 218,
   "metadata": {},
   "outputs": [
    {
     "name": "stdout",
     "output_type": "stream",
     "text": [
      "Top 10 Negative Colineal Features :: \n",
      "========================================\n",
      "\t\tFeature : could\n",
      "\t\tFeature : first\n",
      "\t\tFeature : water\n",
      "\t\tFeature : found\n",
      "\t\tFeature : used\n",
      "\t\tFeature : sugar\n",
      "\t\tFeature : eat\n",
      "\t\tFeature : chocolate\n",
      "\t\tFeature : better\n",
      "\t\tFeature : even\n"
     ]
    }
   ],
   "source": [
    "Set1_ln_Sorted_Neg_Co_Effs = sorted(set1_ln_Negv_Co_Effs.items(), key=lambda x: x[1])[::-1]  # 1>x[1] value, x[0] key\n",
    "print(\"Top 10 Negative Colineal Features :: \")\n",
    "print(\"=\"*40)\n",
    "\n",
    "if len(Set1_ln_Sorted_Neg_Co_Effs) > 0:\n",
    "    for i in range(len(Set1_ln_Sorted_Neg_Co_Effs)):  \n",
    "        if(i<10):\n",
    "            print(\"\\t\\tFeature :\",Set1_ln_Sorted_Neg_Co_Effs[i][0])\n",
    "else:\n",
    "    print(\"\\n\\t*****\\tNo Features are Negative Impacting\\t*****\")"
   ]
  },
  {
   "cell_type": "markdown",
   "metadata": {},
   "source": [
    "All the above Negatively Impacting feature are same as we have seen in the BagOfWords Negatively Impacting features. \n",
    "\n",
    "Here we should understand that the length of the review is no more impacting the result.\n",
    "\n",
    "Hence we can try out other feature engineering Techniques to find make the difference."
   ]
  },
  {
   "cell_type": "markdown",
   "metadata": {},
   "source": [
    "### Conclusion"
   ]
  },
  {
   "cell_type": "code",
   "execution_count": 219,
   "metadata": {},
   "outputs": [
    {
     "name": "stdout",
     "output_type": "stream",
     "text": [
      "+---------------------+----------------------+--------------------+---------------------+\n",
      "|         SET         | Best Hyper parameter |      Test AUC      |      Train AUC      |\n",
      "+---------------------+----------------------+--------------------+---------------------+\n",
      "|         BOW         |        0.0001        | 0.7738939901891412 | 0.37802209912753487 |\n",
      "|        Tf-Idf       |        100.0         | 0.7406419640675563 | 0.48457142232998907 |\n",
      "| FeatureEngg Dataset |        100.0         | 0.7738939901891412 |  0.7755484785490168 |\n",
      "+---------------------+----------------------+--------------------+---------------------+\n"
     ]
    }
   ],
   "source": [
    "#http://zetcode.com/python/prettytable/\n",
    "from prettytable import PrettyTable\n",
    "x = PrettyTable()\n",
    "x.field_names = [\"SET\", \"Best Hyper parameter\", \"Test AUC\",\"Train AUC\"]\n",
    "x.add_row([\"BOW\",Optimal_Alpha1, Set1_Tst_Auc, Set1_Tr_Auc])\n",
    "x.add_row([\"Tf-Idf\",Optimal_Alpha2, Set2_Tst_Auc, Set2_Tr_Auc])\n",
    "x.add_row([\"FeatureEngg Dataset\",Optimal_Alpha3, Set1_Tst_Auc_ln, Set1_Tr_Auc_ln])\n",
    "print(x)"
   ]
  },
  {
   "cell_type": "markdown",
   "metadata": {},
   "source": [
    "TF-Idf is performing reasonbly good.\n",
    "\n",
    "We are getting Area under the roc curve, more than 0.878.\n",
    "\n",
    "And have to notice that, Though our Hyper Param is cahnge between Bow with feature Engineering and with out Features Engineering But AUc and the The Top Featre are same. \n",
    "\n"
   ]
  }
 ],
 "metadata": {
  "colab": {
   "name": "04 Amazon Fine Food Reviews Analysis_NaiveBayes.ipynb",
   "provenance": [],
   "version": "0.3.2"
  },
  "kernelspec": {
   "display_name": "Python 3",
   "language": "python",
   "name": "python3"
  },
  "language_info": {
   "codemirror_mode": {
    "name": "ipython",
    "version": 3
   },
   "file_extension": ".py",
   "mimetype": "text/x-python",
   "name": "python",
   "nbconvert_exporter": "python",
   "pygments_lexer": "ipython3",
   "version": "3.6.5"
  }
 },
 "nbformat": 4,
 "nbformat_minor": 1
}
