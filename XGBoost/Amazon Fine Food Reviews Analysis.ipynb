{
 "cells": [
  {
   "cell_type": "markdown",
   "metadata": {
    "colab_type": "text",
    "id": "pI2r_SRyLs2H"
   },
   "source": [
    "# Amazon Fine Food Reviews Analysis\n",
    "\n",
    "\n",
    "Data Source: https://www.kaggle.com/snap/amazon-fine-food-reviews <br>\n",
    "\n",
    "EDA: https://nycdatascience.com/blog/student-works/amazon-fine-foods-visualization/\n",
    "\n",
    "\n",
    "The Amazon Fine Food Reviews dataset consists of reviews of fine foods from Amazon.<br>\n",
    "\n",
    "Number of reviews: 568,454<br>\n",
    "Number of users: 256,059<br>\n",
    "Number of products: 74,258<br>\n",
    "Timespan: Oct 1999 - Oct 2012<br>\n",
    "Number of Attributes/Columns in data: 10 \n",
    "\n",
    "Attribute Information:\n",
    "\n",
    "1. Id\n",
    "2. ProductId - unique identifier for the product\n",
    "3. UserId - unqiue identifier for the user\n",
    "4. ProfileName\n",
    "5. HelpfulnessNumerator - number of users who found the review helpful\n",
    "6. HelpfulnessDenominator - number of users who indicated whether they found the review helpful or not\n",
    "7. Score - rating between 1 and 5\n",
    "8. Time - timestamp for the review\n",
    "9. Summary - brief summary of the review\n",
    "10. Text - text of the review\n",
    "\n",
    "\n",
    "#### Objective:\n",
    "Given a review, determine whether the review is positive (rating of 4 or 5) or negative (rating of 1 or 2).\n",
    "\n",
    "<br>\n",
    "[Q] How to determine if a review is positive or negative?<br>\n",
    "<br> \n",
    "[Ans] We could use Score/Rating. A rating of 4 or 5 can be cosnidered as a positive review. A rating of 1 or 2 can be considered as negative one. A review of rating 3 is considered nuetral and such reviews are ignored from our analysis. This is an approximate and proxy way of determining the polarity (positivity/negativity) of a review.\n",
    "\n",
    "\n"
   ]
  },
  {
   "cell_type": "markdown",
   "metadata": {
    "colab_type": "text",
    "id": "_qeGSFEELs2L"
   },
   "source": [
    "# [1]. Reading Data"
   ]
  },
  {
   "cell_type": "markdown",
   "metadata": {
    "colab_type": "text",
    "id": "B54glUYgLs2N"
   },
   "source": [
    "## [1.1] Loading the data\n",
    "\n",
    "The dataset is available in two forms\n",
    "1. .csv file\n",
    "2. SQLite Database\n",
    "\n",
    "In order to load the data, We have used the SQLITE dataset as it is easier to query the data and visualise the data efficiently.\n",
    "<br> \n",
    "\n",
    "Here as we only want to get the global sentiment of the recommendations (positive or negative), we will purposefully ignore all Scores equal to 3. If the score is above 3, then the recommendation wil be set to \"positive\". Otherwise, it will be set to \"negative\"."
   ]
  },
  {
   "cell_type": "code",
   "execution_count": 247,
   "metadata": {
    "colab": {},
    "colab_type": "code",
    "id": "TKX2L4tCLs2Q"
   },
   "outputs": [],
   "source": [
    "%matplotlib inline\n",
    "import warnings\n",
    "warnings.filterwarnings(\"ignore\")\n",
    "\n",
    "\n",
    "import sqlite3\n",
    "import pandas as pd\n",
    "import numpy as np\n",
    "import nltk\n",
    "import string\n",
    "import matplotlib.pyplot as plt\n",
    "import seaborn as sns\n",
    "from sklearn.feature_extraction.text import TfidfTransformer\n",
    "from sklearn.feature_extraction.text import TfidfVectorizer\n",
    "\n",
    "from sklearn.feature_extraction.text import CountVectorizer\n",
    "from sklearn.metrics import confusion_matrix\n",
    "from sklearn import metrics\n",
    "from sklearn.metrics import roc_curve, auc\n",
    "from nltk.stem.porter import PorterStemmer\n",
    "\n",
    "import re\n",
    "# Tutorial about Python regular expressions: https://pymotw.com/2/re/\n",
    "import string\n",
    "from nltk.corpus import stopwords\n",
    "from nltk.stem import PorterStemmer\n",
    "from nltk.stem.wordnet import WordNetLemmatizer\n",
    "\n",
    "from gensim.models import Word2Vec\n",
    "from gensim.models import KeyedVectors\n",
    "import pickle\n",
    "\n",
    "from tqdm import tqdm\n",
    "import os"
   ]
  },
  {
   "cell_type": "code",
   "execution_count": 248,
   "metadata": {
    "colab": {},
    "colab_type": "code",
    "id": "MvHf1f__Ls2Y",
    "outputId": "1408ff98-6d6b-4d96-9364-8c7ab720112f"
   },
   "outputs": [
    {
     "name": "stdout",
     "output_type": "stream",
     "text": [
      "Number of data points in our data (20000, 10)\n"
     ]
    },
    {
     "data": {
      "text/html": [
       "<div>\n",
       "<style scoped>\n",
       "    .dataframe tbody tr th:only-of-type {\n",
       "        vertical-align: middle;\n",
       "    }\n",
       "\n",
       "    .dataframe tbody tr th {\n",
       "        vertical-align: top;\n",
       "    }\n",
       "\n",
       "    .dataframe thead th {\n",
       "        text-align: right;\n",
       "    }\n",
       "</style>\n",
       "<table border=\"1\" class=\"dataframe\">\n",
       "  <thead>\n",
       "    <tr style=\"text-align: right;\">\n",
       "      <th></th>\n",
       "      <th>Id</th>\n",
       "      <th>ProductId</th>\n",
       "      <th>UserId</th>\n",
       "      <th>ProfileName</th>\n",
       "      <th>HelpfulnessNumerator</th>\n",
       "      <th>HelpfulnessDenominator</th>\n",
       "      <th>Score</th>\n",
       "      <th>Time</th>\n",
       "      <th>Summary</th>\n",
       "      <th>Text</th>\n",
       "    </tr>\n",
       "  </thead>\n",
       "  <tbody>\n",
       "    <tr>\n",
       "      <th>0</th>\n",
       "      <td>1</td>\n",
       "      <td>B001E4KFG0</td>\n",
       "      <td>A3SGXH7AUHU8GW</td>\n",
       "      <td>delmartian</td>\n",
       "      <td>1</td>\n",
       "      <td>1</td>\n",
       "      <td>1</td>\n",
       "      <td>1303862400</td>\n",
       "      <td>Good Quality Dog Food</td>\n",
       "      <td>I have bought several of the Vitality canned d...</td>\n",
       "    </tr>\n",
       "    <tr>\n",
       "      <th>1</th>\n",
       "      <td>2</td>\n",
       "      <td>B00813GRG4</td>\n",
       "      <td>A1D87F6ZCVE5NK</td>\n",
       "      <td>dll pa</td>\n",
       "      <td>0</td>\n",
       "      <td>0</td>\n",
       "      <td>0</td>\n",
       "      <td>1346976000</td>\n",
       "      <td>Not as Advertised</td>\n",
       "      <td>Product arrived labeled as Jumbo Salted Peanut...</td>\n",
       "    </tr>\n",
       "    <tr>\n",
       "      <th>2</th>\n",
       "      <td>3</td>\n",
       "      <td>B000LQOCH0</td>\n",
       "      <td>ABXLMWJIXXAIN</td>\n",
       "      <td>Natalia Corres \"Natalia Corres\"</td>\n",
       "      <td>1</td>\n",
       "      <td>1</td>\n",
       "      <td>1</td>\n",
       "      <td>1219017600</td>\n",
       "      <td>\"Delight\" says it all</td>\n",
       "      <td>This is a confection that has been around a fe...</td>\n",
       "    </tr>\n",
       "  </tbody>\n",
       "</table>\n",
       "</div>"
      ],
      "text/plain": [
       "   Id   ProductId          UserId                      ProfileName  \\\n",
       "0   1  B001E4KFG0  A3SGXH7AUHU8GW                       delmartian   \n",
       "1   2  B00813GRG4  A1D87F6ZCVE5NK                           dll pa   \n",
       "2   3  B000LQOCH0   ABXLMWJIXXAIN  Natalia Corres \"Natalia Corres\"   \n",
       "\n",
       "   HelpfulnessNumerator  HelpfulnessDenominator  Score        Time  \\\n",
       "0                     1                       1      1  1303862400   \n",
       "1                     0                       0      0  1346976000   \n",
       "2                     1                       1      1  1219017600   \n",
       "\n",
       "                 Summary                                               Text  \n",
       "0  Good Quality Dog Food  I have bought several of the Vitality canned d...  \n",
       "1      Not as Advertised  Product arrived labeled as Jumbo Salted Peanut...  \n",
       "2  \"Delight\" says it all  This is a confection that has been around a fe...  "
      ]
     },
     "execution_count": 248,
     "metadata": {},
     "output_type": "execute_result"
    }
   ],
   "source": [
    "# using SQLite Table to read data.\n",
    "con = sqlite3.connect('database.sqlite') \n",
    "\n",
    "# filtering only positive and negative reviews i.e. \n",
    "# not taking into consideration those reviews with Score=3\n",
    "# SELECT * FROM Reviews WHERE Score != 3 LIMIT 500000, will give top 500000 data points\n",
    "# you can change the number to any other number based on your computing power\n",
    "\n",
    "# filtered_data = pd.read_sql_query(\"\"\" SELECT * FROM Reviews WHERE Score != 3 LIMIT 500000\"\"\", con) \n",
    "# for tsne assignment you can take 5k data points\n",
    "\n",
    "filtered_data = pd.read_sql_query(\"\"\" SELECT * FROM Reviews WHERE Score != 3 LIMIT 20000\"\"\", con) \n",
    "\n",
    "# Give reviews with Score>3 a positive rating(1), and reviews with a score<3 a negative rating(0).\n",
    "def partition(x):\n",
    "    if x < 3:\n",
    "        return 0\n",
    "    return 1\n",
    "\n",
    "#changing reviews with score less than 3 to be positive and vice-versa\n",
    "actualScore = filtered_data['Score']\n",
    "positiveNegative = actualScore.map(partition) \n",
    "filtered_data['Score'] = positiveNegative\n",
    "print(\"Number of data points in our data\", filtered_data.shape)\n",
    "filtered_data.head(3)"
   ]
  },
  {
   "cell_type": "code",
   "execution_count": 249,
   "metadata": {
    "colab": {},
    "colab_type": "code",
    "id": "f34vIYWxLs2h"
   },
   "outputs": [],
   "source": [
    "display = pd.read_sql_query(\"\"\"\n",
    "SELECT UserId, ProductId, ProfileName, Time, Score, Text, COUNT(*)\n",
    "FROM Reviews\n",
    "GROUP BY UserId\n",
    "HAVING COUNT(*)>1\n",
    "\"\"\", con)"
   ]
  },
  {
   "cell_type": "code",
   "execution_count": 250,
   "metadata": {
    "colab": {},
    "colab_type": "code",
    "id": "sooYlfVTLs2l",
    "outputId": "bf01c0e6-128a-44e9-b3c1-4a1acd04ebac",
    "scrolled": true
   },
   "outputs": [
    {
     "name": "stdout",
     "output_type": "stream",
     "text": [
      "(80668, 7)\n"
     ]
    },
    {
     "data": {
      "text/html": [
       "<div>\n",
       "<style scoped>\n",
       "    .dataframe tbody tr th:only-of-type {\n",
       "        vertical-align: middle;\n",
       "    }\n",
       "\n",
       "    .dataframe tbody tr th {\n",
       "        vertical-align: top;\n",
       "    }\n",
       "\n",
       "    .dataframe thead th {\n",
       "        text-align: right;\n",
       "    }\n",
       "</style>\n",
       "<table border=\"1\" class=\"dataframe\">\n",
       "  <thead>\n",
       "    <tr style=\"text-align: right;\">\n",
       "      <th></th>\n",
       "      <th>UserId</th>\n",
       "      <th>ProductId</th>\n",
       "      <th>ProfileName</th>\n",
       "      <th>Time</th>\n",
       "      <th>Score</th>\n",
       "      <th>Text</th>\n",
       "      <th>COUNT(*)</th>\n",
       "    </tr>\n",
       "  </thead>\n",
       "  <tbody>\n",
       "    <tr>\n",
       "      <th>0</th>\n",
       "      <td>#oc-R115TNMSPFT9I7</td>\n",
       "      <td>B007Y59HVM</td>\n",
       "      <td>Breyton</td>\n",
       "      <td>1331510400</td>\n",
       "      <td>2</td>\n",
       "      <td>Overall its just OK when considering the price...</td>\n",
       "      <td>2</td>\n",
       "    </tr>\n",
       "    <tr>\n",
       "      <th>1</th>\n",
       "      <td>#oc-R11D9D7SHXIJB9</td>\n",
       "      <td>B005HG9ET0</td>\n",
       "      <td>Louis E. Emory \"hoppy\"</td>\n",
       "      <td>1342396800</td>\n",
       "      <td>5</td>\n",
       "      <td>My wife has recurring extreme muscle spasms, u...</td>\n",
       "      <td>3</td>\n",
       "    </tr>\n",
       "    <tr>\n",
       "      <th>2</th>\n",
       "      <td>#oc-R11DNU2NBKQ23Z</td>\n",
       "      <td>B007Y59HVM</td>\n",
       "      <td>Kim Cieszykowski</td>\n",
       "      <td>1348531200</td>\n",
       "      <td>1</td>\n",
       "      <td>This coffee is horrible and unfortunately not ...</td>\n",
       "      <td>2</td>\n",
       "    </tr>\n",
       "    <tr>\n",
       "      <th>3</th>\n",
       "      <td>#oc-R11O5J5ZVQE25C</td>\n",
       "      <td>B005HG9ET0</td>\n",
       "      <td>Penguin Chick</td>\n",
       "      <td>1346889600</td>\n",
       "      <td>5</td>\n",
       "      <td>This will be the bottle that you grab from the...</td>\n",
       "      <td>3</td>\n",
       "    </tr>\n",
       "    <tr>\n",
       "      <th>4</th>\n",
       "      <td>#oc-R12KPBODL2B5ZD</td>\n",
       "      <td>B007OSBE1U</td>\n",
       "      <td>Christopher P. Presta</td>\n",
       "      <td>1348617600</td>\n",
       "      <td>1</td>\n",
       "      <td>I didnt like this coffee. Instead of telling y...</td>\n",
       "      <td>2</td>\n",
       "    </tr>\n",
       "  </tbody>\n",
       "</table>\n",
       "</div>"
      ],
      "text/plain": [
       "               UserId   ProductId             ProfileName        Time  Score  \\\n",
       "0  #oc-R115TNMSPFT9I7  B007Y59HVM                 Breyton  1331510400      2   \n",
       "1  #oc-R11D9D7SHXIJB9  B005HG9ET0  Louis E. Emory \"hoppy\"  1342396800      5   \n",
       "2  #oc-R11DNU2NBKQ23Z  B007Y59HVM        Kim Cieszykowski  1348531200      1   \n",
       "3  #oc-R11O5J5ZVQE25C  B005HG9ET0           Penguin Chick  1346889600      5   \n",
       "4  #oc-R12KPBODL2B5ZD  B007OSBE1U   Christopher P. Presta  1348617600      1   \n",
       "\n",
       "                                                Text  COUNT(*)  \n",
       "0  Overall its just OK when considering the price...         2  \n",
       "1  My wife has recurring extreme muscle spasms, u...         3  \n",
       "2  This coffee is horrible and unfortunately not ...         2  \n",
       "3  This will be the bottle that you grab from the...         3  \n",
       "4  I didnt like this coffee. Instead of telling y...         2  "
      ]
     },
     "execution_count": 250,
     "metadata": {},
     "output_type": "execute_result"
    }
   ],
   "source": [
    "print(display.shape)\n",
    "display.head()"
   ]
  },
  {
   "cell_type": "code",
   "execution_count": 251,
   "metadata": {
    "colab": {},
    "colab_type": "code",
    "id": "OaLh-iUnLs2q",
    "outputId": "7dba2312-8194-4884-a61b-92025df3b696"
   },
   "outputs": [
    {
     "data": {
      "text/html": [
       "<div>\n",
       "<style scoped>\n",
       "    .dataframe tbody tr th:only-of-type {\n",
       "        vertical-align: middle;\n",
       "    }\n",
       "\n",
       "    .dataframe tbody tr th {\n",
       "        vertical-align: top;\n",
       "    }\n",
       "\n",
       "    .dataframe thead th {\n",
       "        text-align: right;\n",
       "    }\n",
       "</style>\n",
       "<table border=\"1\" class=\"dataframe\">\n",
       "  <thead>\n",
       "    <tr style=\"text-align: right;\">\n",
       "      <th></th>\n",
       "      <th>UserId</th>\n",
       "      <th>ProductId</th>\n",
       "      <th>ProfileName</th>\n",
       "      <th>Time</th>\n",
       "      <th>Score</th>\n",
       "      <th>Text</th>\n",
       "      <th>COUNT(*)</th>\n",
       "    </tr>\n",
       "  </thead>\n",
       "  <tbody>\n",
       "    <tr>\n",
       "      <th>80638</th>\n",
       "      <td>AZY10LLTJ71NX</td>\n",
       "      <td>B006P7E5ZI</td>\n",
       "      <td>undertheshrine \"undertheshrine\"</td>\n",
       "      <td>1334707200</td>\n",
       "      <td>5</td>\n",
       "      <td>I was recommended to try green tea extract to ...</td>\n",
       "      <td>5</td>\n",
       "    </tr>\n",
       "  </tbody>\n",
       "</table>\n",
       "</div>"
      ],
      "text/plain": [
       "              UserId   ProductId                      ProfileName        Time  \\\n",
       "80638  AZY10LLTJ71NX  B006P7E5ZI  undertheshrine \"undertheshrine\"  1334707200   \n",
       "\n",
       "       Score                                               Text  COUNT(*)  \n",
       "80638      5  I was recommended to try green tea extract to ...         5  "
      ]
     },
     "execution_count": 251,
     "metadata": {},
     "output_type": "execute_result"
    }
   ],
   "source": [
    "display[display['UserId']=='AZY10LLTJ71NX']"
   ]
  },
  {
   "cell_type": "code",
   "execution_count": 252,
   "metadata": {
    "colab": {},
    "colab_type": "code",
    "id": "fLyKXfnVLs2v",
    "outputId": "267883ea-20ad-4e6b-e8a9-25102920edf8"
   },
   "outputs": [
    {
     "data": {
      "text/plain": [
       "393063"
      ]
     },
     "execution_count": 252,
     "metadata": {},
     "output_type": "execute_result"
    }
   ],
   "source": [
    "display['COUNT(*)'].sum()"
   ]
  },
  {
   "cell_type": "markdown",
   "metadata": {
    "colab_type": "text",
    "id": "BjI7UhwyLs2z"
   },
   "source": [
    "#  [2] Exploratory Data Analysis"
   ]
  },
  {
   "cell_type": "markdown",
   "metadata": {
    "colab_type": "text",
    "id": "QlozktDwLs2z"
   },
   "source": [
    "## [2.1] Data Cleaning: Deduplication\n",
    "\n",
    "It is observed (as shown in the table below) that the reviews data had many duplicate entries. Hence it was necessary to remove duplicates in order to get unbiased results for the analysis of the data.  Following is an example:"
   ]
  },
  {
   "cell_type": "code",
   "execution_count": 253,
   "metadata": {
    "colab": {},
    "colab_type": "code",
    "id": "dK8j675XLs20",
    "outputId": "a88e386d-8e31-4729-fe17-bab096bf7f25",
    "scrolled": false
   },
   "outputs": [
    {
     "data": {
      "text/html": [
       "<div>\n",
       "<style scoped>\n",
       "    .dataframe tbody tr th:only-of-type {\n",
       "        vertical-align: middle;\n",
       "    }\n",
       "\n",
       "    .dataframe tbody tr th {\n",
       "        vertical-align: top;\n",
       "    }\n",
       "\n",
       "    .dataframe thead th {\n",
       "        text-align: right;\n",
       "    }\n",
       "</style>\n",
       "<table border=\"1\" class=\"dataframe\">\n",
       "  <thead>\n",
       "    <tr style=\"text-align: right;\">\n",
       "      <th></th>\n",
       "      <th>Id</th>\n",
       "      <th>ProductId</th>\n",
       "      <th>UserId</th>\n",
       "      <th>ProfileName</th>\n",
       "      <th>HelpfulnessNumerator</th>\n",
       "      <th>HelpfulnessDenominator</th>\n",
       "      <th>Score</th>\n",
       "      <th>Time</th>\n",
       "      <th>Summary</th>\n",
       "      <th>Text</th>\n",
       "    </tr>\n",
       "  </thead>\n",
       "  <tbody>\n",
       "    <tr>\n",
       "      <th>0</th>\n",
       "      <td>78445</td>\n",
       "      <td>B000HDL1RQ</td>\n",
       "      <td>AR5J8UI46CURR</td>\n",
       "      <td>Geetha Krishnan</td>\n",
       "      <td>2</td>\n",
       "      <td>2</td>\n",
       "      <td>5</td>\n",
       "      <td>1199577600</td>\n",
       "      <td>LOACKER QUADRATINI VANILLA WAFERS</td>\n",
       "      <td>DELICIOUS WAFERS. I FIND THAT EUROPEAN WAFERS ...</td>\n",
       "    </tr>\n",
       "    <tr>\n",
       "      <th>1</th>\n",
       "      <td>138317</td>\n",
       "      <td>B000HDOPYC</td>\n",
       "      <td>AR5J8UI46CURR</td>\n",
       "      <td>Geetha Krishnan</td>\n",
       "      <td>2</td>\n",
       "      <td>2</td>\n",
       "      <td>5</td>\n",
       "      <td>1199577600</td>\n",
       "      <td>LOACKER QUADRATINI VANILLA WAFERS</td>\n",
       "      <td>DELICIOUS WAFERS. I FIND THAT EUROPEAN WAFERS ...</td>\n",
       "    </tr>\n",
       "    <tr>\n",
       "      <th>2</th>\n",
       "      <td>138277</td>\n",
       "      <td>B000HDOPYM</td>\n",
       "      <td>AR5J8UI46CURR</td>\n",
       "      <td>Geetha Krishnan</td>\n",
       "      <td>2</td>\n",
       "      <td>2</td>\n",
       "      <td>5</td>\n",
       "      <td>1199577600</td>\n",
       "      <td>LOACKER QUADRATINI VANILLA WAFERS</td>\n",
       "      <td>DELICIOUS WAFERS. I FIND THAT EUROPEAN WAFERS ...</td>\n",
       "    </tr>\n",
       "    <tr>\n",
       "      <th>3</th>\n",
       "      <td>73791</td>\n",
       "      <td>B000HDOPZG</td>\n",
       "      <td>AR5J8UI46CURR</td>\n",
       "      <td>Geetha Krishnan</td>\n",
       "      <td>2</td>\n",
       "      <td>2</td>\n",
       "      <td>5</td>\n",
       "      <td>1199577600</td>\n",
       "      <td>LOACKER QUADRATINI VANILLA WAFERS</td>\n",
       "      <td>DELICIOUS WAFERS. I FIND THAT EUROPEAN WAFERS ...</td>\n",
       "    </tr>\n",
       "    <tr>\n",
       "      <th>4</th>\n",
       "      <td>155049</td>\n",
       "      <td>B000PAQ75C</td>\n",
       "      <td>AR5J8UI46CURR</td>\n",
       "      <td>Geetha Krishnan</td>\n",
       "      <td>2</td>\n",
       "      <td>2</td>\n",
       "      <td>5</td>\n",
       "      <td>1199577600</td>\n",
       "      <td>LOACKER QUADRATINI VANILLA WAFERS</td>\n",
       "      <td>DELICIOUS WAFERS. I FIND THAT EUROPEAN WAFERS ...</td>\n",
       "    </tr>\n",
       "  </tbody>\n",
       "</table>\n",
       "</div>"
      ],
      "text/plain": [
       "       Id   ProductId         UserId      ProfileName  HelpfulnessNumerator  \\\n",
       "0   78445  B000HDL1RQ  AR5J8UI46CURR  Geetha Krishnan                     2   \n",
       "1  138317  B000HDOPYC  AR5J8UI46CURR  Geetha Krishnan                     2   \n",
       "2  138277  B000HDOPYM  AR5J8UI46CURR  Geetha Krishnan                     2   \n",
       "3   73791  B000HDOPZG  AR5J8UI46CURR  Geetha Krishnan                     2   \n",
       "4  155049  B000PAQ75C  AR5J8UI46CURR  Geetha Krishnan                     2   \n",
       "\n",
       "   HelpfulnessDenominator  Score        Time  \\\n",
       "0                       2      5  1199577600   \n",
       "1                       2      5  1199577600   \n",
       "2                       2      5  1199577600   \n",
       "3                       2      5  1199577600   \n",
       "4                       2      5  1199577600   \n",
       "\n",
       "                             Summary  \\\n",
       "0  LOACKER QUADRATINI VANILLA WAFERS   \n",
       "1  LOACKER QUADRATINI VANILLA WAFERS   \n",
       "2  LOACKER QUADRATINI VANILLA WAFERS   \n",
       "3  LOACKER QUADRATINI VANILLA WAFERS   \n",
       "4  LOACKER QUADRATINI VANILLA WAFERS   \n",
       "\n",
       "                                                Text  \n",
       "0  DELICIOUS WAFERS. I FIND THAT EUROPEAN WAFERS ...  \n",
       "1  DELICIOUS WAFERS. I FIND THAT EUROPEAN WAFERS ...  \n",
       "2  DELICIOUS WAFERS. I FIND THAT EUROPEAN WAFERS ...  \n",
       "3  DELICIOUS WAFERS. I FIND THAT EUROPEAN WAFERS ...  \n",
       "4  DELICIOUS WAFERS. I FIND THAT EUROPEAN WAFERS ...  "
      ]
     },
     "execution_count": 253,
     "metadata": {},
     "output_type": "execute_result"
    }
   ],
   "source": [
    "display= pd.read_sql_query(\"\"\"\n",
    "SELECT *\n",
    "FROM Reviews\n",
    "WHERE Score != 3 AND UserId=\"AR5J8UI46CURR\"\n",
    "ORDER BY ProductID\n",
    "\"\"\", con)\n",
    "display.head()"
   ]
  },
  {
   "cell_type": "markdown",
   "metadata": {
    "colab_type": "text",
    "id": "W6YkD2fDLs24"
   },
   "source": [
    "As it can be seen above that same user has multiple reviews with same values for HelpfulnessNumerator, HelpfulnessDenominator, Score, Time, Summary and Text and on doing analysis it was found that <br>\n",
    "<br> \n",
    "ProductId=B000HDOPZG was Loacker Quadratini Vanilla Wafer Cookies, 8.82-Ounce Packages (Pack of 8)<br>\n",
    "<br> \n",
    "ProductId=B000HDL1RQ was Loacker Quadratini Lemon Wafer Cookies, 8.82-Ounce Packages (Pack of 8) and so on<br>\n",
    "\n",
    "It was inferred after analysis that reviews with same parameters other than ProductId belonged to the same product just having different flavour or quantity. Hence in order to reduce redundancy it was decided to eliminate the rows having same parameters.<br>\n",
    "\n",
    "The method used for the same was that we first sort the data according to ProductId and then just keep the first similar product review and delelte the others. for eg. in the above just the review for ProductId=B000HDL1RQ remains. This method ensures that there is only one representative for each product and deduplication without sorting would lead to possibility of different representatives still existing for the same product."
   ]
  },
  {
   "cell_type": "code",
   "execution_count": 254,
   "metadata": {
    "colab": {},
    "colab_type": "code",
    "id": "8rpzjZrcLs25"
   },
   "outputs": [],
   "source": [
    "#Sorting data according to ProductId in ascending order\n",
    "sorted_data=filtered_data.sort_values('ProductId', axis=0, ascending=True, inplace=False, kind='quicksort', na_position='last')"
   ]
  },
  {
   "cell_type": "code",
   "execution_count": 255,
   "metadata": {
    "colab": {},
    "colab_type": "code",
    "id": "GG2mo2kJLs27",
    "outputId": "e4cb3a1b-843d-4410-9ae7-23750edc61c9"
   },
   "outputs": [
    {
     "data": {
      "text/plain": [
       "(19354, 10)"
      ]
     },
     "execution_count": 255,
     "metadata": {},
     "output_type": "execute_result"
    }
   ],
   "source": [
    "#Deduplication of entries\n",
    "final=sorted_data.drop_duplicates(subset={\"UserId\",\"ProfileName\",\"Time\",\"Text\"}, keep='first', inplace=False)\n",
    "final.shape"
   ]
  },
  {
   "cell_type": "code",
   "execution_count": 256,
   "metadata": {
    "colab": {},
    "colab_type": "code",
    "id": "uoQVhiaSLs2_",
    "outputId": "a63d3549-af4e-4f12-b109-a69cad6a3ae9"
   },
   "outputs": [
    {
     "data": {
      "text/plain": [
       "96.77"
      ]
     },
     "execution_count": 256,
     "metadata": {},
     "output_type": "execute_result"
    }
   ],
   "source": [
    "#Checking to see how much % of data still remains\n",
    "(final['Id'].size*1.0)/(filtered_data['Id'].size*1.0)*100"
   ]
  },
  {
   "cell_type": "markdown",
   "metadata": {
    "colab_type": "text",
    "id": "awi7B0KOLs3B"
   },
   "source": [
    "<b>Observation:-</b> It was also seen that in two rows given below the value of HelpfulnessNumerator is greater than HelpfulnessDenominator which is not practically possible hence these two rows too are removed from calcualtions"
   ]
  },
  {
   "cell_type": "code",
   "execution_count": 257,
   "metadata": {
    "colab": {},
    "colab_type": "code",
    "id": "8VYQqYWZLs3C",
    "outputId": "bc496fbb-8533-4fd2-d0c1-aaccf4786bed"
   },
   "outputs": [
    {
     "data": {
      "text/html": [
       "<div>\n",
       "<style scoped>\n",
       "    .dataframe tbody tr th:only-of-type {\n",
       "        vertical-align: middle;\n",
       "    }\n",
       "\n",
       "    .dataframe tbody tr th {\n",
       "        vertical-align: top;\n",
       "    }\n",
       "\n",
       "    .dataframe thead th {\n",
       "        text-align: right;\n",
       "    }\n",
       "</style>\n",
       "<table border=\"1\" class=\"dataframe\">\n",
       "  <thead>\n",
       "    <tr style=\"text-align: right;\">\n",
       "      <th></th>\n",
       "      <th>Id</th>\n",
       "      <th>ProductId</th>\n",
       "      <th>UserId</th>\n",
       "      <th>ProfileName</th>\n",
       "      <th>HelpfulnessNumerator</th>\n",
       "      <th>HelpfulnessDenominator</th>\n",
       "      <th>Score</th>\n",
       "      <th>Time</th>\n",
       "      <th>Summary</th>\n",
       "      <th>Text</th>\n",
       "    </tr>\n",
       "  </thead>\n",
       "  <tbody>\n",
       "    <tr>\n",
       "      <th>0</th>\n",
       "      <td>64422</td>\n",
       "      <td>B000MIDROQ</td>\n",
       "      <td>A161DK06JJMCYF</td>\n",
       "      <td>J. E. Stephens \"Jeanne\"</td>\n",
       "      <td>3</td>\n",
       "      <td>1</td>\n",
       "      <td>5</td>\n",
       "      <td>1224892800</td>\n",
       "      <td>Bought This for My Son at College</td>\n",
       "      <td>My son loves spaghetti so I didn't hesitate or...</td>\n",
       "    </tr>\n",
       "    <tr>\n",
       "      <th>1</th>\n",
       "      <td>44737</td>\n",
       "      <td>B001EQ55RW</td>\n",
       "      <td>A2V0I904FH7ABY</td>\n",
       "      <td>Ram</td>\n",
       "      <td>3</td>\n",
       "      <td>2</td>\n",
       "      <td>4</td>\n",
       "      <td>1212883200</td>\n",
       "      <td>Pure cocoa taste with crunchy almonds inside</td>\n",
       "      <td>It was almost a 'love at first bite' - the per...</td>\n",
       "    </tr>\n",
       "  </tbody>\n",
       "</table>\n",
       "</div>"
      ],
      "text/plain": [
       "      Id   ProductId          UserId              ProfileName  \\\n",
       "0  64422  B000MIDROQ  A161DK06JJMCYF  J. E. Stephens \"Jeanne\"   \n",
       "1  44737  B001EQ55RW  A2V0I904FH7ABY                      Ram   \n",
       "\n",
       "   HelpfulnessNumerator  HelpfulnessDenominator  Score        Time  \\\n",
       "0                     3                       1      5  1224892800   \n",
       "1                     3                       2      4  1212883200   \n",
       "\n",
       "                                        Summary  \\\n",
       "0             Bought This for My Son at College   \n",
       "1  Pure cocoa taste with crunchy almonds inside   \n",
       "\n",
       "                                                Text  \n",
       "0  My son loves spaghetti so I didn't hesitate or...  \n",
       "1  It was almost a 'love at first bite' - the per...  "
      ]
     },
     "execution_count": 257,
     "metadata": {},
     "output_type": "execute_result"
    }
   ],
   "source": [
    "display= pd.read_sql_query(\"\"\"\n",
    "SELECT *\n",
    "FROM Reviews\n",
    "WHERE Score != 3 AND Id=44737 OR Id=64422\n",
    "ORDER BY ProductID\n",
    "\"\"\", con)\n",
    "\n",
    "display.head()"
   ]
  },
  {
   "cell_type": "code",
   "execution_count": 258,
   "metadata": {
    "colab": {},
    "colab_type": "code",
    "id": "SJAmuBWvLs3F"
   },
   "outputs": [],
   "source": [
    "final=final[final.HelpfulnessNumerator<=final.HelpfulnessDenominator]"
   ]
  },
  {
   "cell_type": "code",
   "execution_count": 259,
   "metadata": {
    "colab": {},
    "colab_type": "code",
    "id": "VRMt0ylrLs3H",
    "outputId": "62a60299-d518-4fb8-a40f-08a164b56aff"
   },
   "outputs": [
    {
     "name": "stdout",
     "output_type": "stream",
     "text": [
      "(19354, 10)\n"
     ]
    },
    {
     "data": {
      "text/plain": [
       "1    16339\n",
       "0     3015\n",
       "Name: Score, dtype: int64"
      ]
     },
     "execution_count": 259,
     "metadata": {},
     "output_type": "execute_result"
    }
   ],
   "source": [
    "#Before starting the next phase of preprocessing lets see the number of entries left\n",
    "print(final.shape)\n",
    "\n",
    "#How many positive and negative reviews are present in our dataset?\n",
    "final['Score'].value_counts()"
   ]
  },
  {
   "cell_type": "markdown",
   "metadata": {
    "colab_type": "text",
    "id": "WNlQvs_7Ls3K"
   },
   "source": [
    "#  [3] Preprocessing"
   ]
  },
  {
   "cell_type": "markdown",
   "metadata": {
    "colab_type": "text",
    "id": "1zx3OJ8aLs3L"
   },
   "source": [
    "## [3.1].  Preprocessing Review Text\n",
    "\n",
    "Now that we have finished deduplication our data requires some preprocessing before we go on further with analysis and making the prediction model.\n",
    "\n",
    "Hence in the Preprocessing phase we do the following in the order below:-\n",
    "\n",
    "1. Begin by removing the html tags\n",
    "2. Remove any punctuations or limited set of special characters like , or . or # etc.\n",
    "3. Check if the word is made up of english letters and is not alpha-numeric\n",
    "4. Check to see if the length of the word is greater than 2 (as it was researched that there is no adjective in 2-letters)\n",
    "5. Convert the word to lowercase\n",
    "6. Remove Stopwords\n",
    "7. Finally Snowball Stemming the word (it was obsereved to be better than Porter Stemming)<br>\n",
    "\n",
    "After which we collect the words used to describe positive and negative reviews"
   ]
  },
  {
   "cell_type": "code",
   "execution_count": 260,
   "metadata": {
    "colab": {},
    "colab_type": "code",
    "id": "bBXkkhcmLs3L",
    "outputId": "724be0b8-80c3-46fc-8d9f-9fa8d6ee42a3"
   },
   "outputs": [
    {
     "name": "stdout",
     "output_type": "stream",
     "text": [
      "We have used the Victor fly bait for 3 seasons.  Can't beat it.  Great product!\n",
      "==================================================\n",
      "I received this box with great anticipation since they don't sell these on the west coast. I got the package, opened the box and was EXTREMELY disappointed. The cookies looked like a gorilla shook the box to death and left most of the box filled with crumbs. AND THERE WAS A RODENT SIZED HOLE ON THE SIDE OF THE BOX!!!!!!!! So, needless to say I will not NOT be reordering these again.\n",
      "==================================================\n",
      "I have two cats. My big boy has eaten these and never had a problem...as a matter of fact he has never vomited or had a hair ball since I adopted him at 2 months. My girl cat throws up every time she eats this particular flavor. Since I treat them equally these are no longer purchased. I hate to see my girl sick so I just recommend you watch your cats after you give them these treats. If not a problem...carry on.\n",
      "==================================================\n",
      "I was always a fan of Dave's, so I bought this at a local store to try Blair's and I'm glad I did.  The jalepeno sause is very mild (for me) but one of the most delicious condiments I've ever tasted.  The Afterdeath is a bit painful, but still very tasty on rice & beans, burritos, or any chicken dish I've tried it on.  The Sudden Death kicked my ass when I underestimated it, but now a few drops in a dish or pot are just right if I want heat without changing flavor much.\n",
      "==================================================\n"
     ]
    }
   ],
   "source": [
    "# printing some random reviews\n",
    "sent_0 = final['Text'].values[0]\n",
    "print(sent_0)\n",
    "print(\"=\"*50)\n",
    "\n",
    "sent_1000 = final['Text'].values[1000]\n",
    "print(sent_1000)\n",
    "print(\"=\"*50)\n",
    "\n",
    "sent_1500 = final['Text'].values[1500]\n",
    "print(sent_1500)\n",
    "print(\"=\"*50)\n",
    "\n",
    "sent_4900 = final['Text'].values[4900]\n",
    "print(sent_4900)\n",
    "print(\"=\"*50)"
   ]
  },
  {
   "cell_type": "code",
   "execution_count": 261,
   "metadata": {
    "colab": {},
    "colab_type": "code",
    "id": "EP3seCPkLs3O",
    "outputId": "e1eb577f-b580-423e-e199-e2d0a8bfb2a5"
   },
   "outputs": [
    {
     "name": "stdout",
     "output_type": "stream",
     "text": [
      "We have used the Victor fly bait for 3 seasons.  Can't beat it.  Great product!\n"
     ]
    }
   ],
   "source": [
    "# remove urls from text python: https://stackoverflow.com/a/40823105/4084039\n",
    "sent_0 = re.sub(r\"http\\S+\", \"\", sent_0)\n",
    "sent_1000 = re.sub(r\"http\\S+\", \"\", sent_1000)\n",
    "sent_150 = re.sub(r\"http\\S+\", \"\", sent_1500)\n",
    "sent_4900 = re.sub(r\"http\\S+\", \"\", sent_4900)\n",
    "\n",
    "print(sent_0)"
   ]
  },
  {
   "cell_type": "code",
   "execution_count": 262,
   "metadata": {
    "colab": {},
    "colab_type": "code",
    "id": "kd57esPGLs3R",
    "outputId": "5ec56b39-595b-4639-8b24-3f33d13ac01c"
   },
   "outputs": [
    {
     "name": "stdout",
     "output_type": "stream",
     "text": [
      "We have used the Victor fly bait for 3 seasons.  Can't beat it.  Great product!\n",
      "==================================================\n",
      "I received this box with great anticipation since they don't sell these on the west coast. I got the package, opened the box and was EXTREMELY disappointed. The cookies looked like a gorilla shook the box to death and left most of the box filled with crumbs. AND THERE WAS A RODENT SIZED HOLE ON THE SIDE OF THE BOX!!!!!!!! So, needless to say I will not NOT be reordering these again.\n",
      "==================================================\n",
      "I have two cats. My big boy has eaten these and never had a problem...as a matter of fact he has never vomited or had a hair ball since I adopted him at 2 months. My girl cat throws up every time she eats this particular flavor. Since I treat them equally these are no longer purchased. I hate to see my girl sick so I just recommend you watch your cats after you give them these treats. If not a problem...carry on.\n",
      "==================================================\n",
      "I was always a fan of Dave's, so I bought this at a local store to try Blair's and I'm glad I did.  The jalepeno sause is very mild (for me) but one of the most delicious condiments I've ever tasted.  The Afterdeath is a bit painful, but still very tasty on rice & beans, burritos, or any chicken dish I've tried it on.  The Sudden Death kicked my ass when I underestimated it, but now a few drops in a dish or pot are just right if I want heat without changing flavor much.\n"
     ]
    }
   ],
   "source": [
    "# https://stackoverflow.com/questions/16206380/python-beautifulsoup-how-to-remove-all-tags-from-an-element\n",
    "from bs4 import BeautifulSoup\n",
    "\n",
    "soup = BeautifulSoup(sent_0, 'lxml')\n",
    "text = soup.get_text()\n",
    "print(text)\n",
    "print(\"=\"*50)\n",
    "\n",
    "soup = BeautifulSoup(sent_1000, 'lxml')\n",
    "text = soup.get_text()\n",
    "print(text)\n",
    "print(\"=\"*50)\n",
    "\n",
    "soup = BeautifulSoup(sent_1500, 'lxml')\n",
    "text = soup.get_text()\n",
    "print(text)\n",
    "print(\"=\"*50)\n",
    "\n",
    "soup = BeautifulSoup(sent_4900, 'lxml')\n",
    "text = soup.get_text()\n",
    "print(text)"
   ]
  },
  {
   "cell_type": "code",
   "execution_count": 263,
   "metadata": {
    "colab": {},
    "colab_type": "code",
    "id": "nq-jyIK_Ls3U"
   },
   "outputs": [],
   "source": [
    "# https://stackoverflow.com/a/47091490/4084039\n",
    "import re\n",
    "\n",
    "def decontracted(phrase):\n",
    "    # specific\n",
    "    phrase = re.sub(r\"won't\", \"will not\", phrase)\n",
    "    phrase = re.sub(r\"can\\'t\", \"can not\", phrase)\n",
    "\n",
    "    # general\n",
    "    phrase = re.sub(r\"n\\'t\", \" not\", phrase)\n",
    "    phrase = re.sub(r\"\\'re\", \" are\", phrase)\n",
    "    phrase = re.sub(r\"\\'s\", \" is\", phrase)\n",
    "    phrase = re.sub(r\"\\'d\", \" would\", phrase)\n",
    "    phrase = re.sub(r\"\\'ll\", \" will\", phrase)\n",
    "    phrase = re.sub(r\"\\'t\", \" not\", phrase)\n",
    "    phrase = re.sub(r\"\\'ve\", \" have\", phrase)\n",
    "    phrase = re.sub(r\"\\'m\", \" am\", phrase)\n",
    "    return phrase"
   ]
  },
  {
   "cell_type": "code",
   "execution_count": 264,
   "metadata": {
    "colab": {},
    "colab_type": "code",
    "id": "1ksQ9iEhLs3W",
    "outputId": "a7f9dad5-dda6-40a5-cefc-95c8f060ff83"
   },
   "outputs": [
    {
     "name": "stdout",
     "output_type": "stream",
     "text": [
      "I have two cats. My big boy has eaten these and never had a problem...as a matter of fact he has never vomited or had a hair ball since I adopted him at 2 months. My girl cat throws up every time she eats this particular flavor. Since I treat them equally these are no longer purchased. I hate to see my girl sick so I just recommend you watch your cats after you give them these treats. If not a problem...carry on.\n",
      "==================================================\n"
     ]
    }
   ],
   "source": [
    "sent_1500 = decontracted(sent_1500)\n",
    "print(sent_1500)\n",
    "print(\"=\"*50)"
   ]
  },
  {
   "cell_type": "code",
   "execution_count": 265,
   "metadata": {
    "colab": {},
    "colab_type": "code",
    "id": "10xZf0J9Ls3Z",
    "outputId": "ff2cb31c-789d-434a-8633-7f6c527024af"
   },
   "outputs": [
    {
     "name": "stdout",
     "output_type": "stream",
     "text": [
      "We have used the Victor fly bait for  seasons.  Can't beat it.  Great product!\n"
     ]
    }
   ],
   "source": [
    "#remove words with numbers python: https://stackoverflow.com/a/18082370/4084039\n",
    "sent_0 = re.sub(\"\\S*\\d\\S*\", \"\", sent_0).strip()\n",
    "print(sent_0)"
   ]
  },
  {
   "cell_type": "code",
   "execution_count": 266,
   "metadata": {
    "colab": {},
    "colab_type": "code",
    "id": "YeJklswfLs3b",
    "outputId": "0f312be6-24c6-4087-bd9e-6043bbb4a202"
   },
   "outputs": [
    {
     "name": "stdout",
     "output_type": "stream",
     "text": [
      "I have two cats My big boy has eaten these and never had a problem as a matter of fact he has never vomited or had a hair ball since I adopted him at 2 months My girl cat throws up every time she eats this particular flavor Since I treat them equally these are no longer purchased I hate to see my girl sick so I just recommend you watch your cats after you give them these treats If not a problem carry on \n"
     ]
    }
   ],
   "source": [
    "#remove spacial character: https://stackoverflow.com/a/5843547/4084039\n",
    "sent_1500 = re.sub('[^A-Za-z0-9]+', ' ', sent_1500)\n",
    "print(sent_1500)"
   ]
  },
  {
   "cell_type": "code",
   "execution_count": 267,
   "metadata": {
    "colab": {},
    "colab_type": "code",
    "id": "wlrQNxciLs3e"
   },
   "outputs": [],
   "source": [
    "# https://gist.github.com/sebleier/554280\n",
    "# we are removing the words from the stop words list: 'no', 'nor', 'not'\n",
    "# <br /><br /> ==> after the above steps, we are getting \"br br\"\n",
    "# we are including them into stop words list\n",
    "# instead of <br /> if we have <br/> these tags would have revmoved in the 1st step\n",
    "\n",
    "stopwords= set(['br', 'the', 'i', 'me', 'my', 'myself', 'we', 'our', 'ours', 'ourselves', 'you', \"you're\", \"you've\",\\\n",
    "            \"you'll\", \"you'd\", 'your', 'yours', 'yourself', 'yourselves', 'he', 'him', 'his', 'himself', \\\n",
    "            'she', \"she's\", 'her', 'hers', 'herself', 'it', \"it's\", 'its', 'itself', 'they', 'them', 'their',\\\n",
    "            'theirs', 'themselves', 'what', 'which', 'who', 'whom', 'this', 'that', \"that'll\", 'these', 'those', \\\n",
    "            'am', 'is', 'are', 'was', 'were', 'be', 'been', 'being', 'have', 'has', 'had', 'having', 'do', 'does', \\\n",
    "            'did', 'doing', 'a', 'an', 'the', 'and', 'but', 'if', 'or', 'because', 'as', 'until', 'while', 'of', \\\n",
    "            'at', 'by', 'for', 'with', 'about', 'against', 'between', 'into', 'through', 'during', 'before', 'after',\\\n",
    "            'above', 'below', 'to', 'from', 'up', 'down', 'in', 'out', 'on', 'off', 'over', 'under', 'again', 'further',\\\n",
    "            'then', 'once', 'here', 'there', 'when', 'where', 'why', 'how', 'all', 'any', 'both', 'each', 'few', 'more',\\\n",
    "            'most', 'other', 'some', 'such', 'only', 'own', 'same', 'so', 'than', 'too', 'very', \\\n",
    "            's', 't', 'can', 'will', 'just', 'don', \"don't\", 'should', \"should've\", 'now', 'd', 'll', 'm', 'o', 're', \\\n",
    "            've', 'y', 'ain', 'aren', \"aren't\", 'couldn', \"couldn't\", 'didn', \"didn't\", 'doesn', \"doesn't\", 'hadn',\\\n",
    "            \"hadn't\", 'hasn', \"hasn't\", 'haven', \"haven't\", 'isn', \"isn't\", 'ma', 'mightn', \"mightn't\", 'mustn',\\\n",
    "            \"mustn't\", 'needn', \"needn't\", 'shan', \"shan't\", 'shouldn', \"shouldn't\", 'wasn', \"wasn't\", 'weren', \"weren't\", \\\n",
    "            'won', \"won't\", 'wouldn', \"wouldn't\"])"
   ]
  },
  {
   "cell_type": "code",
   "execution_count": 268,
   "metadata": {
    "colab": {},
    "colab_type": "code",
    "id": "s2mq5lM2Ls3g",
    "outputId": "e9781b52-42e7-460d-d747-b3a69a1ea435"
   },
   "outputs": [
    {
     "name": "stderr",
     "output_type": "stream",
     "text": [
      "100%|██████████████████████████████████████████████████████████████████████████| 19354/19354 [00:08<00:00, 2203.93it/s]\n"
     ]
    }
   ],
   "source": [
    "# Combining all the above stundents \n",
    "from tqdm import tqdm\n",
    "preprocessed_reviews = []\n",
    "# tqdm is for printing the status bar\n",
    "for sentance in tqdm(final['Text'].values):\n",
    "    sentance = re.sub(r\"http\\S+\", \"\", sentance)\n",
    "    sentance = BeautifulSoup(sentance, 'lxml').get_text()\n",
    "    sentance = decontracted(sentance)\n",
    "    sentance = re.sub(\"\\S*\\d\\S*\", \"\", sentance).strip()\n",
    "    sentance = re.sub('[^A-Za-z]+', ' ', sentance)\n",
    "    # https://gist.github.com/sebleier/554280\n",
    "    sentance = ' '.join(e.lower() for e in sentance.split() if e.lower() not in stopwords)\n",
    "    preprocessed_reviews.append(sentance.strip())"
   ]
  },
  {
   "cell_type": "code",
   "execution_count": 269,
   "metadata": {
    "colab": {},
    "colab_type": "code",
    "id": "sYIfYlniLs3i",
    "outputId": "95cc7d6c-e2c6-4e1e-b061-d4edab26ac11"
   },
   "outputs": [
    {
     "data": {
      "text/plain": [
       "'two cats big boy eaten never problem matter fact never vomited hair ball since adopted months girl cat throws every time eats particular flavor since treat equally no longer purchased hate see girl sick recommend watch cats give treats not problem carry'"
      ]
     },
     "execution_count": 269,
     "metadata": {},
     "output_type": "execute_result"
    }
   ],
   "source": [
    "preprocessed_reviews[1500]"
   ]
  },
  {
   "cell_type": "markdown",
   "metadata": {
    "colab_type": "text",
    "id": "QDle9PaqLs3l"
   },
   "source": [
    "<h2><font color='red'>[3.2] Preprocessing Review Summary</font></h2>"
   ]
  },
  {
   "cell_type": "code",
   "execution_count": 270,
   "metadata": {},
   "outputs": [],
   "source": [
    "X = preprocessed_reviews\n",
    "Y = final['Score']"
   ]
  },
  {
   "cell_type": "code",
   "execution_count": 271,
   "metadata": {},
   "outputs": [],
   "source": [
    "from sklearn.cross_validation import train_test_split\n",
    "X_1 , X_test , Y_1 , Y_test  = train_test_split(X,Y,test_size=0.3,random_state=0)\n",
    "X_tr , X_cv , Y_tr , Y_cv  = train_test_split(X_1,Y_1,test_size=0.3,random_state=0)"
   ]
  },
  {
   "cell_type": "code",
   "execution_count": 272,
   "metadata": {
    "colab": {},
    "colab_type": "code",
    "id": "Bf-B6cP7Ls3n"
   },
   "outputs": [],
   "source": [
    "## Similartly you can do preprocessing for review summary also."
   ]
  },
  {
   "cell_type": "markdown",
   "metadata": {
    "colab_type": "text",
    "id": "-FO3JMH0Ls3p"
   },
   "source": [
    "# [4] Featurization"
   ]
  },
  {
   "cell_type": "markdown",
   "metadata": {
    "colab_type": "text",
    "id": "cINi_W06Ls3q"
   },
   "source": [
    "## [4.1] BAG OF WORDS"
   ]
  },
  {
   "cell_type": "code",
   "execution_count": 273,
   "metadata": {
    "colab": {},
    "colab_type": "code",
    "id": "-BKOoPR8Ls3r",
    "outputId": "eeafa11c-f687-4755-88a9-c96a5d1a4354"
   },
   "outputs": [
    {
     "name": "stdout",
     "output_type": "stream",
     "text": [
      "some feature names  ['absolute', 'according', 'acidic', 'active', 'actual', 'addictive', 'additives', 'adult', 'adults', 'afford']\n",
      "==================================================\n",
      "the type of count vectorizer  <class 'scipy.sparse.csr.csr_matrix'>\n",
      "the shape of out text BOW vectorizer  (9482, 1119)\n",
      "the number of unique words  1119\n"
     ]
    }
   ],
   "source": [
    "##BoW\n",
    "count_vect = CountVectorizer( min_df=20, max_df=50) #in scikit-learn\n",
    "count_vect.fit(X_tr)\n",
    "print(\"some feature names \", count_vect.get_feature_names()[:10])\n",
    "print('='*50)\n",
    "\n",
    "\n",
    "X_Bow_Tr = count_vect.transform(X_tr)\n",
    "X_Bow_Cv = count_vect.transform(X_cv)\n",
    "X_Bow_Test = count_vect.transform(X_test)\n",
    "\n",
    "print(\"the type of count vectorizer \",type(X_Bow_Tr))\n",
    "print(\"the shape of out text BOW vectorizer \",X_Bow_Tr.get_shape())\n",
    "print(\"the number of unique words \", X_Bow_Tr.get_shape()[1])"
   ]
  },
  {
   "cell_type": "code",
   "execution_count": 274,
   "metadata": {},
   "outputs": [],
   "source": [
    "Bow_Feature = count_vect.get_feature_names()\n",
    "X_Bow_Tr = X_Bow_Tr.toarray()\n",
    "X_Bow_Cv = X_Bow_Cv.toarray()\n",
    "X_Bow_Test = X_Bow_Test.toarray()"
   ]
  },
  {
   "cell_type": "markdown",
   "metadata": {
    "colab_type": "text",
    "id": "qD7Bjt85Ls3w"
   },
   "source": [
    "## [4.3] TF-IDF"
   ]
  },
  {
   "cell_type": "code",
   "execution_count": 275,
   "metadata": {
    "colab": {},
    "colab_type": "code",
    "id": "ua1RYjCwLs3w",
    "outputId": "3ad454c0-f227-4932-90df-e4c67574bf77"
   },
   "outputs": [
    {
     "name": "stdout",
     "output_type": "stream",
     "text": [
      "some sample features(unique words in the corpus) ['able find', 'able get', 'absolute', 'absolutely delicious', 'absolutely loves', 'according', 'acidic', 'active', 'actual', 'add little']\n",
      "==================================================\n",
      "the type of count vectorizer  <class 'scipy.sparse.csr.csr_matrix'>\n",
      "the shape of out text TFIDF vectorizer  (9482, 1760)\n",
      "the number of unique words including both unigrams and bigrams  1760\n"
     ]
    }
   ],
   "source": [
    "tf_idf_vect = TfidfVectorizer(ngram_range=(1,2), min_df=20, max_df=50)\n",
    "tf_idf_vect.fit(X_tr)\n",
    "print(\"some sample features(unique words in the corpus)\",tf_idf_vect.get_feature_names()[0:10])\n",
    "print('='*50)\n",
    "\n",
    "\n",
    "X_Tfidf_Tr = tf_idf_vect.transform(X_tr)\n",
    "X_Tfidf_Cv = tf_idf_vect.transform(X_cv)\n",
    "X_Tfidf_Test = tf_idf_vect.transform(X_test)\n",
    "\n",
    "print(\"the type of count vectorizer \",type(X_Tfidf_Tr))\n",
    "print(\"the shape of out text TFIDF vectorizer \",X_Tfidf_Tr.get_shape())\n",
    "print(\"the number of unique words including both unigrams and bigrams \", X_Tfidf_Tr.get_shape()[1])"
   ]
  },
  {
   "cell_type": "code",
   "execution_count": 276,
   "metadata": {},
   "outputs": [],
   "source": [
    "X_Tfidf_Tr = X_Tfidf_Tr.toarray()\n",
    "X_Tfidf_Cv = X_Tfidf_Cv.toarray()\n",
    "X_Tfidf_Test = X_Tfidf_Test.toarray()\n",
    "tf_idf_feature = tf_idf_vect.get_feature_names()"
   ]
  },
  {
   "cell_type": "markdown",
   "metadata": {
    "colab_type": "text",
    "id": "QGccvBKTLs3y"
   },
   "source": [
    "## [4.4] Word2Vec"
   ]
  },
  {
   "cell_type": "code",
   "execution_count": 277,
   "metadata": {
    "colab": {},
    "colab_type": "code",
    "id": "CZm-XRouLs3z"
   },
   "outputs": [],
   "source": [
    "# Train your own Word2Vec model using your own text corpus\n",
    "i=0\n",
    "list_of_sentance=[]\n",
    "for sentance in preprocessed_reviews:\n",
    "    list_of_sentance.append(sentance.split())"
   ]
  },
  {
   "cell_type": "code",
   "execution_count": 278,
   "metadata": {
    "colab": {},
    "colab_type": "code",
    "id": "R_XpdySnLs30",
    "outputId": "117cabfb-cc7a-49c5-aabd-6ac8deb53cb0",
    "scrolled": true
   },
   "outputs": [
    {
     "name": "stdout",
     "output_type": "stream",
     "text": [
      "[('awesome', 0.8423455953598022), ('good', 0.8371583223342896), ('fantastic', 0.8326070308685303), ('excellent', 0.8148292303085327), ('wonderful', 0.8053280115127563), ('amazing', 0.7542715668678284), ('decent', 0.7345545887947083), ('delicious', 0.7005295753479004), ('perfect', 0.694447934627533), ('especially', 0.6708776950836182)]\n",
      "==================================================\n",
      "[('closest', 0.8194966316223145), ('personal', 0.8029736280441284), ('disappointing', 0.798120379447937), ('sf', 0.7805026173591614), ('greatest', 0.7757930159568787), ('surpasses', 0.7696995139122009), ('best', 0.7687111496925354), ('fav', 0.7664926052093506), ('bye', 0.7653446197509766), ('quenching', 0.7647767663002014)]\n"
     ]
    }
   ],
   "source": [
    "# Using Google News Word2Vectors\n",
    "\n",
    "# in this project we are using a pretrained model by google\n",
    "# its 3.3G file, once you load this into your memory \n",
    "# it occupies ~9Gb, so please do this step only if you have >12G of ram\n",
    "# we will provide a pickle file wich contains a dict , \n",
    "# and it contains all our courpus words as keys and  model[word] as values\n",
    "# To use this code-snippet, download \"GoogleNews-vectors-negative300.bin\" \n",
    "# from https://drive.google.com/file/d/0B7XkCwpI5KDYNlNUTTlSS21pQmM/edit\n",
    "# it's 1.9GB in size.\n",
    "\n",
    "\n",
    "# http://kavita-ganesan.com/gensim-word2vec-tutorial-starter-code/#.W17SRFAzZPY\n",
    "# you can comment this whole cell\n",
    "# or change these varible according to your need\n",
    "\n",
    "is_your_ram_gt_16g=False\n",
    "want_to_use_google_w2v = False\n",
    "want_to_train_w2v = True\n",
    "\n",
    "if want_to_train_w2v:\n",
    "    # min_count = 5 considers only words that occured atleast 5 times\n",
    "    w2v_model=Word2Vec(list_of_sentance,min_count=5,size=50, workers=4)\n",
    "    print(w2v_model.wv.most_similar('great'))\n",
    "    print('='*50)\n",
    "    print(w2v_model.wv.most_similar('worst'))\n",
    "    \n",
    "elif want_to_use_google_w2v and is_your_ram_gt_16g:\n",
    "    if os.path.isfile('GoogleNews-vectors-negative300.bin'):\n",
    "        w2v_model=KeyedVectors.load_word2vec_format('GoogleNews-vectors-negative300.bin', binary=True)\n",
    "        print(w2v_model.wv.most_similar('great'))\n",
    "        print(w2v_model.wv.most_similar('worst'))\n",
    "    else:\n",
    "        print(\"you don't have gogole's word2vec file, keep want_to_train_w2v = True, to train your own w2v \")"
   ]
  },
  {
   "cell_type": "code",
   "execution_count": 279,
   "metadata": {
    "colab": {},
    "colab_type": "code",
    "id": "yhpgA_hwLs32",
    "outputId": "e383bce6-2204-4617-88e7-02486fb7a9ba"
   },
   "outputs": [
    {
     "name": "stdout",
     "output_type": "stream",
     "text": [
      "number of words that occured minimum 5 times  8370\n",
      "sample words  ['used', 'fly', 'bait', 'seasons', 'ca', 'not', 'beat', 'great', 'product', 'available', 'traps', 'course', 'total', 'pretty', 'stinky', 'right', 'nearby', 'really', 'good', 'idea', 'final', 'outstanding', 'use', 'car', 'window', 'everybody', 'asks', 'bought', 'made', 'two', 'thumbs', 'received', 'shipment', 'could', 'hardly', 'wait', 'try', 'love', 'call', 'instead', 'stickers', 'removed', 'easily', 'daughter', 'designed', 'signs', 'printed', 'reverse', 'windows', 'beautifully']\n"
     ]
    }
   ],
   "source": [
    "w2v_words = list(w2v_model.wv.vocab)\n",
    "print(\"number of words that occured minimum 5 times \",len(w2v_words))\n",
    "print(\"sample words \", w2v_words[0:50])"
   ]
  },
  {
   "cell_type": "markdown",
   "metadata": {
    "colab_type": "text",
    "id": "-NM5E-glLs34"
   },
   "source": [
    "## [4.4.1] Converting text into vectors using Avg W2V, TFIDF-W2V"
   ]
  },
  {
   "cell_type": "markdown",
   "metadata": {
    "colab_type": "text",
    "id": "TZ7mLBDgLs35"
   },
   "source": [
    "#### [4.4.1.1] Avg W2v"
   ]
  },
  {
   "cell_type": "code",
   "execution_count": 353,
   "metadata": {},
   "outputs": [],
   "source": [
    "# average Word2Vec\n",
    "# compute average word2vec for each review.\n",
    "\n",
    "def getAvgWordToVector(list_of_sentance):\n",
    "    sent_vectors = []; # the avg-w2v for each sentence/review is stored in this list    \n",
    "    for sentence in list_of_sentance: # for each review/sentence\n",
    "        sent = sentence.split()\n",
    "        sent_vec = np.zeros(50) # as word vectors are of zero length 50, you might need to change this to 300 if you use google's w2v\n",
    "        cnt_words =0; # num of words with a valid vector in the sentence/review\n",
    "        for word in sent: # for each word in a review/sentence\n",
    "            if word in w2v_words:\n",
    "                vec = w2v_model.wv[word]                \n",
    "                sent_vec += vec\n",
    "                cnt_words += 1\n",
    "        if cnt_words != 0:\n",
    "            sent_vec /= cnt_words\n",
    "        sent_vectors.append(sent_vec)                   \n",
    "    return sent_vectors"
   ]
  },
  {
   "cell_type": "code",
   "execution_count": 354,
   "metadata": {},
   "outputs": [],
   "source": [
    "X_AvgW2V_Tr     = getAvgWordToVector(X_tr)\n",
    "X_AvgW2V_Cv     = getAvgWordToVector(X_cv)\n",
    "X_AvgW2V_Test   = getAvgWordToVector(X_test)"
   ]
  },
  {
   "cell_type": "code",
   "execution_count": 360,
   "metadata": {},
   "outputs": [],
   "source": [
    "X_AvgW2V_Tr     = np.array(X_AvgW2V_Tr)\n",
    "X_AvgW2V_Cv     = np.array(X_AvgW2V_Cv)\n",
    "X_AvgW2V_Test   = np.array(X_AvgW2V_Test)"
   ]
  },
  {
   "cell_type": "markdown",
   "metadata": {
    "colab_type": "text",
    "id": "tzS18bQ3Ls37"
   },
   "source": [
    "#### [4.4.1.2] TFIDF weighted W2v"
   ]
  },
  {
   "cell_type": "code",
   "execution_count": 282,
   "metadata": {
    "colab": {},
    "colab_type": "code",
    "id": "ic2bT_NoLs38"
   },
   "outputs": [],
   "source": [
    "# S = [\"abc def pqr\", \"def def def abc\", \"pqr pqr def\"]\n",
    "model = TfidfVectorizer()\n",
    "tf_idf_matrix = model.fit_transform(preprocessed_reviews)\n",
    "# we are converting a dictionary with word as a key, and the idf as a value\n",
    "dictionary = dict(zip(model.get_feature_names(), list(model.idf_)))"
   ]
  },
  {
   "cell_type": "code",
   "execution_count": 283,
   "metadata": {
    "colab": {},
    "colab_type": "code",
    "id": "u4YTuvggLs39",
    "outputId": "9bbcd023-92e9-4c2e-dee8-0da93fb6f20f",
    "scrolled": true
   },
   "outputs": [],
   "source": [
    "# TF-IDF weighted Word2Vec\n",
    "tfidf_feat = model.get_feature_names() # tfidf words/col-names\n",
    "# final_tf_idf is the sparse matrix with row= sentence, col=word and cell_val = tfidf\n",
    "\n",
    "def getAvgW2VtfIdfToVector(list_of_sentance):\n",
    "    tfidf_sent_vectors = []; # the tfidf-w2v for each sentence/review is stored in this list\n",
    "    row=0;\n",
    "    for sentence in list_of_sentance: # for each review/sentence \n",
    "        sent = []\n",
    "        sent_vec = np.zeros(50) # as word vectors are of zero length\n",
    "        weight_sum =0; # num of words with a valid vector in the sentence/review\n",
    "        sent = sentence.split()\n",
    "        for word in sent: # for each word in a review/sentence3        \n",
    "            if word in w2v_words and word in tfidf_feat:\n",
    "                vec = w2v_model.wv[word]\n",
    "                #tf_idf = tf_idf_matrix[row, tfidf_feat.index(word)]\n",
    "                # to reduce the computation we are \n",
    "                # dictionary[word] = idf value of word in whole courpus\n",
    "                # sent.count(word) = tf valeus of word in this review\n",
    "                tf_idf = dictionary[word]*(sent.count(word)/len(sent))\n",
    "                sent_vec += (vec * tf_idf)\n",
    "                weight_sum += tf_idf\n",
    "        if weight_sum != 0:\n",
    "            sent_vec /= weight_sum\n",
    "        tfidf_sent_vectors.append(sent_vec)\n",
    "        row += 1\n",
    "    return tfidf_sent_vectors"
   ]
  },
  {
   "cell_type": "code",
   "execution_count": 284,
   "metadata": {},
   "outputs": [],
   "source": [
    "X_AvgW2VtfIdf_Tr     = getAvgW2VtfIdfToVector(X_tr)\n",
    "X_AvgW2VtfIdf_Cv     = getAvgW2VtfIdfToVector(X_cv)\n",
    "X_AvgW2VtfIdf_Test   = getAvgW2VtfIdfToVector(X_test)"
   ]
  },
  {
   "cell_type": "code",
   "execution_count": 367,
   "metadata": {},
   "outputs": [],
   "source": [
    "X_AvgW2VtfIdf_Tr     = np.array(X_AvgW2VtfIdf_Tr)\n",
    "X_AvgW2VtfIdf_Cv     = np.array(X_AvgW2VtfIdf_Cv)\n",
    "X_AvgW2VtfIdf_Test   = np.array(X_AvgW2VtfIdf_Test)"
   ]
  },
  {
   "cell_type": "markdown",
   "metadata": {
    "colab_type": "text",
    "id": "SIn8pwLdLs4L"
   },
   "source": [
    "## [5.2] Applying GBDT using XGBOOST"
   ]
  },
  {
   "cell_type": "markdown",
   "metadata": {
    "colab_type": "text",
    "id": "8YoGGV7hLs4L"
   },
   "source": [
    "### [5.2.1] Applying XGBOOST on BOW,<font color='red'> SET 1</font>"
   ]
  },
  {
   "cell_type": "code",
   "execution_count": 319,
   "metadata": {},
   "outputs": [],
   "source": [
    "import xgboost as xgb\n",
    "xparams = { \n",
    "    'n_estimators':[50,100,200,300],\n",
    "    'max_depth' : [2,3,4,5],\n",
    "    'learning_rate' : [0.1,0.4,0.6, 0.8]\n",
    "}"
   ]
  },
  {
   "cell_type": "code",
   "execution_count": 320,
   "metadata": {},
   "outputs": [
    {
     "name": "stdout",
     "output_type": "stream",
     "text": [
      "Best Parameters using grid search: \n",
      " {'learning_rate': 0.4, 'max_depth': 4, 'n_estimators': 300} \n",
      "\n",
      "\n"
     ]
    },
    {
     "data": {
      "text/html": [
       "<div>\n",
       "<style scoped>\n",
       "    .dataframe tbody tr th:only-of-type {\n",
       "        vertical-align: middle;\n",
       "    }\n",
       "\n",
       "    .dataframe tbody tr th {\n",
       "        vertical-align: top;\n",
       "    }\n",
       "\n",
       "    .dataframe thead th {\n",
       "        text-align: right;\n",
       "    }\n",
       "</style>\n",
       "<table border=\"1\" class=\"dataframe\">\n",
       "  <thead>\n",
       "    <tr style=\"text-align: right;\">\n",
       "      <th></th>\n",
       "      <th>mean_test_score</th>\n",
       "      <th>std_test_score</th>\n",
       "      <th>params</th>\n",
       "    </tr>\n",
       "  </thead>\n",
       "  <tbody>\n",
       "    <tr>\n",
       "      <th>0</th>\n",
       "      <td>0.583971</td>\n",
       "      <td>0.026429</td>\n",
       "      <td>{'learning_rate': 0.1, 'max_depth': 2, 'n_esti...</td>\n",
       "    </tr>\n",
       "    <tr>\n",
       "      <th>1</th>\n",
       "      <td>0.609020</td>\n",
       "      <td>0.028693</td>\n",
       "      <td>{'learning_rate': 0.1, 'max_depth': 2, 'n_esti...</td>\n",
       "    </tr>\n",
       "    <tr>\n",
       "      <th>2</th>\n",
       "      <td>0.633208</td>\n",
       "      <td>0.038996</td>\n",
       "      <td>{'learning_rate': 0.1, 'max_depth': 2, 'n_esti...</td>\n",
       "    </tr>\n",
       "    <tr>\n",
       "      <th>3</th>\n",
       "      <td>0.652420</td>\n",
       "      <td>0.034827</td>\n",
       "      <td>{'learning_rate': 0.1, 'max_depth': 2, 'n_esti...</td>\n",
       "    </tr>\n",
       "    <tr>\n",
       "      <th>4</th>\n",
       "      <td>0.604085</td>\n",
       "      <td>0.024202</td>\n",
       "      <td>{'learning_rate': 0.1, 'max_depth': 3, 'n_esti...</td>\n",
       "    </tr>\n",
       "    <tr>\n",
       "      <th>5</th>\n",
       "      <td>0.634283</td>\n",
       "      <td>0.033067</td>\n",
       "      <td>{'learning_rate': 0.1, 'max_depth': 3, 'n_esti...</td>\n",
       "    </tr>\n",
       "    <tr>\n",
       "      <th>6</th>\n",
       "      <td>0.657051</td>\n",
       "      <td>0.028733</td>\n",
       "      <td>{'learning_rate': 0.1, 'max_depth': 3, 'n_esti...</td>\n",
       "    </tr>\n",
       "    <tr>\n",
       "      <th>7</th>\n",
       "      <td>0.674347</td>\n",
       "      <td>0.031462</td>\n",
       "      <td>{'learning_rate': 0.1, 'max_depth': 3, 'n_esti...</td>\n",
       "    </tr>\n",
       "    <tr>\n",
       "      <th>8</th>\n",
       "      <td>0.617843</td>\n",
       "      <td>0.021435</td>\n",
       "      <td>{'learning_rate': 0.1, 'max_depth': 4, 'n_esti...</td>\n",
       "    </tr>\n",
       "    <tr>\n",
       "      <th>9</th>\n",
       "      <td>0.644556</td>\n",
       "      <td>0.029205</td>\n",
       "      <td>{'learning_rate': 0.1, 'max_depth': 4, 'n_esti...</td>\n",
       "    </tr>\n",
       "    <tr>\n",
       "      <th>10</th>\n",
       "      <td>0.669215</td>\n",
       "      <td>0.034395</td>\n",
       "      <td>{'learning_rate': 0.1, 'max_depth': 4, 'n_esti...</td>\n",
       "    </tr>\n",
       "    <tr>\n",
       "      <th>11</th>\n",
       "      <td>0.684387</td>\n",
       "      <td>0.035682</td>\n",
       "      <td>{'learning_rate': 0.1, 'max_depth': 4, 'n_esti...</td>\n",
       "    </tr>\n",
       "    <tr>\n",
       "      <th>12</th>\n",
       "      <td>0.625361</td>\n",
       "      <td>0.029552</td>\n",
       "      <td>{'learning_rate': 0.1, 'max_depth': 5, 'n_esti...</td>\n",
       "    </tr>\n",
       "    <tr>\n",
       "      <th>13</th>\n",
       "      <td>0.650261</td>\n",
       "      <td>0.028007</td>\n",
       "      <td>{'learning_rate': 0.1, 'max_depth': 5, 'n_esti...</td>\n",
       "    </tr>\n",
       "    <tr>\n",
       "      <th>14</th>\n",
       "      <td>0.679360</td>\n",
       "      <td>0.035629</td>\n",
       "      <td>{'learning_rate': 0.1, 'max_depth': 5, 'n_esti...</td>\n",
       "    </tr>\n",
       "    <tr>\n",
       "      <th>15</th>\n",
       "      <td>0.697436</td>\n",
       "      <td>0.035589</td>\n",
       "      <td>{'learning_rate': 0.1, 'max_depth': 5, 'n_esti...</td>\n",
       "    </tr>\n",
       "    <tr>\n",
       "      <th>16</th>\n",
       "      <td>0.619927</td>\n",
       "      <td>0.034536</td>\n",
       "      <td>{'learning_rate': 0.4, 'max_depth': 2, 'n_esti...</td>\n",
       "    </tr>\n",
       "    <tr>\n",
       "      <th>17</th>\n",
       "      <td>0.657751</td>\n",
       "      <td>0.036476</td>\n",
       "      <td>{'learning_rate': 0.4, 'max_depth': 2, 'n_esti...</td>\n",
       "    </tr>\n",
       "    <tr>\n",
       "      <th>18</th>\n",
       "      <td>0.685290</td>\n",
       "      <td>0.035203</td>\n",
       "      <td>{'learning_rate': 0.4, 'max_depth': 2, 'n_esti...</td>\n",
       "    </tr>\n",
       "    <tr>\n",
       "      <th>19</th>\n",
       "      <td>0.693989</td>\n",
       "      <td>0.034728</td>\n",
       "      <td>{'learning_rate': 0.4, 'max_depth': 2, 'n_esti...</td>\n",
       "    </tr>\n",
       "    <tr>\n",
       "      <th>20</th>\n",
       "      <td>0.639608</td>\n",
       "      <td>0.037037</td>\n",
       "      <td>{'learning_rate': 0.4, 'max_depth': 3, 'n_esti...</td>\n",
       "    </tr>\n",
       "    <tr>\n",
       "      <th>21</th>\n",
       "      <td>0.676577</td>\n",
       "      <td>0.036874</td>\n",
       "      <td>{'learning_rate': 0.4, 'max_depth': 3, 'n_esti...</td>\n",
       "    </tr>\n",
       "    <tr>\n",
       "      <th>22</th>\n",
       "      <td>0.696528</td>\n",
       "      <td>0.039103</td>\n",
       "      <td>{'learning_rate': 0.4, 'max_depth': 3, 'n_esti...</td>\n",
       "    </tr>\n",
       "    <tr>\n",
       "      <th>23</th>\n",
       "      <td>0.699927</td>\n",
       "      <td>0.034365</td>\n",
       "      <td>{'learning_rate': 0.4, 'max_depth': 3, 'n_esti...</td>\n",
       "    </tr>\n",
       "    <tr>\n",
       "      <th>24</th>\n",
       "      <td>0.663280</td>\n",
       "      <td>0.027817</td>\n",
       "      <td>{'learning_rate': 0.4, 'max_depth': 4, 'n_esti...</td>\n",
       "    </tr>\n",
       "    <tr>\n",
       "      <th>25</th>\n",
       "      <td>0.689510</td>\n",
       "      <td>0.033657</td>\n",
       "      <td>{'learning_rate': 0.4, 'max_depth': 4, 'n_esti...</td>\n",
       "    </tr>\n",
       "    <tr>\n",
       "      <th>26</th>\n",
       "      <td>0.698470</td>\n",
       "      <td>0.033414</td>\n",
       "      <td>{'learning_rate': 0.4, 'max_depth': 4, 'n_esti...</td>\n",
       "    </tr>\n",
       "    <tr>\n",
       "      <th>27</th>\n",
       "      <td>0.702461</td>\n",
       "      <td>0.028946</td>\n",
       "      <td>{'learning_rate': 0.4, 'max_depth': 4, 'n_esti...</td>\n",
       "    </tr>\n",
       "    <tr>\n",
       "      <th>28</th>\n",
       "      <td>0.669204</td>\n",
       "      <td>0.036936</td>\n",
       "      <td>{'learning_rate': 0.4, 'max_depth': 5, 'n_esti...</td>\n",
       "    </tr>\n",
       "    <tr>\n",
       "      <th>29</th>\n",
       "      <td>0.697238</td>\n",
       "      <td>0.037623</td>\n",
       "      <td>{'learning_rate': 0.4, 'max_depth': 5, 'n_esti...</td>\n",
       "    </tr>\n",
       "    <tr>\n",
       "      <th>...</th>\n",
       "      <td>...</td>\n",
       "      <td>...</td>\n",
       "      <td>...</td>\n",
       "    </tr>\n",
       "    <tr>\n",
       "      <th>34</th>\n",
       "      <td>0.690894</td>\n",
       "      <td>0.037496</td>\n",
       "      <td>{'learning_rate': 0.6, 'max_depth': 2, 'n_esti...</td>\n",
       "    </tr>\n",
       "    <tr>\n",
       "      <th>35</th>\n",
       "      <td>0.691352</td>\n",
       "      <td>0.036077</td>\n",
       "      <td>{'learning_rate': 0.6, 'max_depth': 2, 'n_esti...</td>\n",
       "    </tr>\n",
       "    <tr>\n",
       "      <th>36</th>\n",
       "      <td>0.659032</td>\n",
       "      <td>0.031190</td>\n",
       "      <td>{'learning_rate': 0.6, 'max_depth': 3, 'n_esti...</td>\n",
       "    </tr>\n",
       "    <tr>\n",
       "      <th>37</th>\n",
       "      <td>0.689078</td>\n",
       "      <td>0.037161</td>\n",
       "      <td>{'learning_rate': 0.6, 'max_depth': 3, 'n_esti...</td>\n",
       "    </tr>\n",
       "    <tr>\n",
       "      <th>38</th>\n",
       "      <td>0.699466</td>\n",
       "      <td>0.032137</td>\n",
       "      <td>{'learning_rate': 0.6, 'max_depth': 3, 'n_esti...</td>\n",
       "    </tr>\n",
       "    <tr>\n",
       "      <th>39</th>\n",
       "      <td>0.697268</td>\n",
       "      <td>0.036065</td>\n",
       "      <td>{'learning_rate': 0.6, 'max_depth': 3, 'n_esti...</td>\n",
       "    </tr>\n",
       "    <tr>\n",
       "      <th>40</th>\n",
       "      <td>0.671512</td>\n",
       "      <td>0.034909</td>\n",
       "      <td>{'learning_rate': 0.6, 'max_depth': 4, 'n_esti...</td>\n",
       "    </tr>\n",
       "    <tr>\n",
       "      <th>41</th>\n",
       "      <td>0.696258</td>\n",
       "      <td>0.034776</td>\n",
       "      <td>{'learning_rate': 0.6, 'max_depth': 4, 'n_esti...</td>\n",
       "    </tr>\n",
       "    <tr>\n",
       "      <th>42</th>\n",
       "      <td>0.702415</td>\n",
       "      <td>0.028803</td>\n",
       "      <td>{'learning_rate': 0.6, 'max_depth': 4, 'n_esti...</td>\n",
       "    </tr>\n",
       "    <tr>\n",
       "      <th>43</th>\n",
       "      <td>0.700257</td>\n",
       "      <td>0.029229</td>\n",
       "      <td>{'learning_rate': 0.6, 'max_depth': 4, 'n_esti...</td>\n",
       "    </tr>\n",
       "    <tr>\n",
       "      <th>44</th>\n",
       "      <td>0.681398</td>\n",
       "      <td>0.034956</td>\n",
       "      <td>{'learning_rate': 0.6, 'max_depth': 5, 'n_esti...</td>\n",
       "    </tr>\n",
       "    <tr>\n",
       "      <th>45</th>\n",
       "      <td>0.696395</td>\n",
       "      <td>0.036716</td>\n",
       "      <td>{'learning_rate': 0.6, 'max_depth': 5, 'n_esti...</td>\n",
       "    </tr>\n",
       "    <tr>\n",
       "      <th>46</th>\n",
       "      <td>0.699823</td>\n",
       "      <td>0.029173</td>\n",
       "      <td>{'learning_rate': 0.6, 'max_depth': 5, 'n_esti...</td>\n",
       "    </tr>\n",
       "    <tr>\n",
       "      <th>47</th>\n",
       "      <td>0.693498</td>\n",
       "      <td>0.027611</td>\n",
       "      <td>{'learning_rate': 0.6, 'max_depth': 5, 'n_esti...</td>\n",
       "    </tr>\n",
       "    <tr>\n",
       "      <th>48</th>\n",
       "      <td>0.637718</td>\n",
       "      <td>0.026545</td>\n",
       "      <td>{'learning_rate': 0.8, 'max_depth': 2, 'n_esti...</td>\n",
       "    </tr>\n",
       "    <tr>\n",
       "      <th>49</th>\n",
       "      <td>0.676247</td>\n",
       "      <td>0.034632</td>\n",
       "      <td>{'learning_rate': 0.8, 'max_depth': 2, 'n_esti...</td>\n",
       "    </tr>\n",
       "    <tr>\n",
       "      <th>50</th>\n",
       "      <td>0.697015</td>\n",
       "      <td>0.030658</td>\n",
       "      <td>{'learning_rate': 0.8, 'max_depth': 2, 'n_esti...</td>\n",
       "    </tr>\n",
       "    <tr>\n",
       "      <th>51</th>\n",
       "      <td>0.692315</td>\n",
       "      <td>0.032344</td>\n",
       "      <td>{'learning_rate': 0.8, 'max_depth': 2, 'n_esti...</td>\n",
       "    </tr>\n",
       "    <tr>\n",
       "      <th>52</th>\n",
       "      <td>0.657222</td>\n",
       "      <td>0.032067</td>\n",
       "      <td>{'learning_rate': 0.8, 'max_depth': 3, 'n_esti...</td>\n",
       "    </tr>\n",
       "    <tr>\n",
       "      <th>53</th>\n",
       "      <td>0.686679</td>\n",
       "      <td>0.036482</td>\n",
       "      <td>{'learning_rate': 0.8, 'max_depth': 3, 'n_esti...</td>\n",
       "    </tr>\n",
       "    <tr>\n",
       "      <th>54</th>\n",
       "      <td>0.693412</td>\n",
       "      <td>0.030571</td>\n",
       "      <td>{'learning_rate': 0.8, 'max_depth': 3, 'n_esti...</td>\n",
       "    </tr>\n",
       "    <tr>\n",
       "      <th>55</th>\n",
       "      <td>0.690845</td>\n",
       "      <td>0.031547</td>\n",
       "      <td>{'learning_rate': 0.8, 'max_depth': 3, 'n_esti...</td>\n",
       "    </tr>\n",
       "    <tr>\n",
       "      <th>56</th>\n",
       "      <td>0.671943</td>\n",
       "      <td>0.036163</td>\n",
       "      <td>{'learning_rate': 0.8, 'max_depth': 4, 'n_esti...</td>\n",
       "    </tr>\n",
       "    <tr>\n",
       "      <th>57</th>\n",
       "      <td>0.690916</td>\n",
       "      <td>0.034331</td>\n",
       "      <td>{'learning_rate': 0.8, 'max_depth': 4, 'n_esti...</td>\n",
       "    </tr>\n",
       "    <tr>\n",
       "      <th>58</th>\n",
       "      <td>0.692511</td>\n",
       "      <td>0.031471</td>\n",
       "      <td>{'learning_rate': 0.8, 'max_depth': 4, 'n_esti...</td>\n",
       "    </tr>\n",
       "    <tr>\n",
       "      <th>59</th>\n",
       "      <td>0.690443</td>\n",
       "      <td>0.031461</td>\n",
       "      <td>{'learning_rate': 0.8, 'max_depth': 4, 'n_esti...</td>\n",
       "    </tr>\n",
       "    <tr>\n",
       "      <th>60</th>\n",
       "      <td>0.689520</td>\n",
       "      <td>0.036702</td>\n",
       "      <td>{'learning_rate': 0.8, 'max_depth': 5, 'n_esti...</td>\n",
       "    </tr>\n",
       "    <tr>\n",
       "      <th>61</th>\n",
       "      <td>0.695055</td>\n",
       "      <td>0.033474</td>\n",
       "      <td>{'learning_rate': 0.8, 'max_depth': 5, 'n_esti...</td>\n",
       "    </tr>\n",
       "    <tr>\n",
       "      <th>62</th>\n",
       "      <td>0.693104</td>\n",
       "      <td>0.031170</td>\n",
       "      <td>{'learning_rate': 0.8, 'max_depth': 5, 'n_esti...</td>\n",
       "    </tr>\n",
       "    <tr>\n",
       "      <th>63</th>\n",
       "      <td>0.692711</td>\n",
       "      <td>0.027210</td>\n",
       "      <td>{'learning_rate': 0.8, 'max_depth': 5, 'n_esti...</td>\n",
       "    </tr>\n",
       "  </tbody>\n",
       "</table>\n",
       "<p>64 rows × 3 columns</p>\n",
       "</div>"
      ],
      "text/plain": [
       "    mean_test_score  std_test_score  \\\n",
       "0          0.583971        0.026429   \n",
       "1          0.609020        0.028693   \n",
       "2          0.633208        0.038996   \n",
       "3          0.652420        0.034827   \n",
       "4          0.604085        0.024202   \n",
       "5          0.634283        0.033067   \n",
       "6          0.657051        0.028733   \n",
       "7          0.674347        0.031462   \n",
       "8          0.617843        0.021435   \n",
       "9          0.644556        0.029205   \n",
       "10         0.669215        0.034395   \n",
       "11         0.684387        0.035682   \n",
       "12         0.625361        0.029552   \n",
       "13         0.650261        0.028007   \n",
       "14         0.679360        0.035629   \n",
       "15         0.697436        0.035589   \n",
       "16         0.619927        0.034536   \n",
       "17         0.657751        0.036476   \n",
       "18         0.685290        0.035203   \n",
       "19         0.693989        0.034728   \n",
       "20         0.639608        0.037037   \n",
       "21         0.676577        0.036874   \n",
       "22         0.696528        0.039103   \n",
       "23         0.699927        0.034365   \n",
       "24         0.663280        0.027817   \n",
       "25         0.689510        0.033657   \n",
       "26         0.698470        0.033414   \n",
       "27         0.702461        0.028946   \n",
       "28         0.669204        0.036936   \n",
       "29         0.697238        0.037623   \n",
       "..              ...             ...   \n",
       "34         0.690894        0.037496   \n",
       "35         0.691352        0.036077   \n",
       "36         0.659032        0.031190   \n",
       "37         0.689078        0.037161   \n",
       "38         0.699466        0.032137   \n",
       "39         0.697268        0.036065   \n",
       "40         0.671512        0.034909   \n",
       "41         0.696258        0.034776   \n",
       "42         0.702415        0.028803   \n",
       "43         0.700257        0.029229   \n",
       "44         0.681398        0.034956   \n",
       "45         0.696395        0.036716   \n",
       "46         0.699823        0.029173   \n",
       "47         0.693498        0.027611   \n",
       "48         0.637718        0.026545   \n",
       "49         0.676247        0.034632   \n",
       "50         0.697015        0.030658   \n",
       "51         0.692315        0.032344   \n",
       "52         0.657222        0.032067   \n",
       "53         0.686679        0.036482   \n",
       "54         0.693412        0.030571   \n",
       "55         0.690845        0.031547   \n",
       "56         0.671943        0.036163   \n",
       "57         0.690916        0.034331   \n",
       "58         0.692511        0.031471   \n",
       "59         0.690443        0.031461   \n",
       "60         0.689520        0.036702   \n",
       "61         0.695055        0.033474   \n",
       "62         0.693104        0.031170   \n",
       "63         0.692711        0.027210   \n",
       "\n",
       "                                               params  \n",
       "0   {'learning_rate': 0.1, 'max_depth': 2, 'n_esti...  \n",
       "1   {'learning_rate': 0.1, 'max_depth': 2, 'n_esti...  \n",
       "2   {'learning_rate': 0.1, 'max_depth': 2, 'n_esti...  \n",
       "3   {'learning_rate': 0.1, 'max_depth': 2, 'n_esti...  \n",
       "4   {'learning_rate': 0.1, 'max_depth': 3, 'n_esti...  \n",
       "5   {'learning_rate': 0.1, 'max_depth': 3, 'n_esti...  \n",
       "6   {'learning_rate': 0.1, 'max_depth': 3, 'n_esti...  \n",
       "7   {'learning_rate': 0.1, 'max_depth': 3, 'n_esti...  \n",
       "8   {'learning_rate': 0.1, 'max_depth': 4, 'n_esti...  \n",
       "9   {'learning_rate': 0.1, 'max_depth': 4, 'n_esti...  \n",
       "10  {'learning_rate': 0.1, 'max_depth': 4, 'n_esti...  \n",
       "11  {'learning_rate': 0.1, 'max_depth': 4, 'n_esti...  \n",
       "12  {'learning_rate': 0.1, 'max_depth': 5, 'n_esti...  \n",
       "13  {'learning_rate': 0.1, 'max_depth': 5, 'n_esti...  \n",
       "14  {'learning_rate': 0.1, 'max_depth': 5, 'n_esti...  \n",
       "15  {'learning_rate': 0.1, 'max_depth': 5, 'n_esti...  \n",
       "16  {'learning_rate': 0.4, 'max_depth': 2, 'n_esti...  \n",
       "17  {'learning_rate': 0.4, 'max_depth': 2, 'n_esti...  \n",
       "18  {'learning_rate': 0.4, 'max_depth': 2, 'n_esti...  \n",
       "19  {'learning_rate': 0.4, 'max_depth': 2, 'n_esti...  \n",
       "20  {'learning_rate': 0.4, 'max_depth': 3, 'n_esti...  \n",
       "21  {'learning_rate': 0.4, 'max_depth': 3, 'n_esti...  \n",
       "22  {'learning_rate': 0.4, 'max_depth': 3, 'n_esti...  \n",
       "23  {'learning_rate': 0.4, 'max_depth': 3, 'n_esti...  \n",
       "24  {'learning_rate': 0.4, 'max_depth': 4, 'n_esti...  \n",
       "25  {'learning_rate': 0.4, 'max_depth': 4, 'n_esti...  \n",
       "26  {'learning_rate': 0.4, 'max_depth': 4, 'n_esti...  \n",
       "27  {'learning_rate': 0.4, 'max_depth': 4, 'n_esti...  \n",
       "28  {'learning_rate': 0.4, 'max_depth': 5, 'n_esti...  \n",
       "29  {'learning_rate': 0.4, 'max_depth': 5, 'n_esti...  \n",
       "..                                                ...  \n",
       "34  {'learning_rate': 0.6, 'max_depth': 2, 'n_esti...  \n",
       "35  {'learning_rate': 0.6, 'max_depth': 2, 'n_esti...  \n",
       "36  {'learning_rate': 0.6, 'max_depth': 3, 'n_esti...  \n",
       "37  {'learning_rate': 0.6, 'max_depth': 3, 'n_esti...  \n",
       "38  {'learning_rate': 0.6, 'max_depth': 3, 'n_esti...  \n",
       "39  {'learning_rate': 0.6, 'max_depth': 3, 'n_esti...  \n",
       "40  {'learning_rate': 0.6, 'max_depth': 4, 'n_esti...  \n",
       "41  {'learning_rate': 0.6, 'max_depth': 4, 'n_esti...  \n",
       "42  {'learning_rate': 0.6, 'max_depth': 4, 'n_esti...  \n",
       "43  {'learning_rate': 0.6, 'max_depth': 4, 'n_esti...  \n",
       "44  {'learning_rate': 0.6, 'max_depth': 5, 'n_esti...  \n",
       "45  {'learning_rate': 0.6, 'max_depth': 5, 'n_esti...  \n",
       "46  {'learning_rate': 0.6, 'max_depth': 5, 'n_esti...  \n",
       "47  {'learning_rate': 0.6, 'max_depth': 5, 'n_esti...  \n",
       "48  {'learning_rate': 0.8, 'max_depth': 2, 'n_esti...  \n",
       "49  {'learning_rate': 0.8, 'max_depth': 2, 'n_esti...  \n",
       "50  {'learning_rate': 0.8, 'max_depth': 2, 'n_esti...  \n",
       "51  {'learning_rate': 0.8, 'max_depth': 2, 'n_esti...  \n",
       "52  {'learning_rate': 0.8, 'max_depth': 3, 'n_esti...  \n",
       "53  {'learning_rate': 0.8, 'max_depth': 3, 'n_esti...  \n",
       "54  {'learning_rate': 0.8, 'max_depth': 3, 'n_esti...  \n",
       "55  {'learning_rate': 0.8, 'max_depth': 3, 'n_esti...  \n",
       "56  {'learning_rate': 0.8, 'max_depth': 4, 'n_esti...  \n",
       "57  {'learning_rate': 0.8, 'max_depth': 4, 'n_esti...  \n",
       "58  {'learning_rate': 0.8, 'max_depth': 4, 'n_esti...  \n",
       "59  {'learning_rate': 0.8, 'max_depth': 4, 'n_esti...  \n",
       "60  {'learning_rate': 0.8, 'max_depth': 5, 'n_esti...  \n",
       "61  {'learning_rate': 0.8, 'max_depth': 5, 'n_esti...  \n",
       "62  {'learning_rate': 0.8, 'max_depth': 5, 'n_esti...  \n",
       "63  {'learning_rate': 0.8, 'max_depth': 5, 'n_esti...  \n",
       "\n",
       "[64 rows x 3 columns]"
      ]
     },
     "execution_count": 320,
     "metadata": {},
     "output_type": "execute_result"
    }
   ],
   "source": [
    "#https://www.kaggle.com/phunter/xgboost-with-gridsearchcv\n",
    "Xboost  = xgb.XGBClassifier( objective='binary:logistic', booster='gbtree', n_jobs=-1)\n",
    "cv_xgb = GridSearchCV(Xboost, xparams, cv=5,scoring='roc_auc')\n",
    "\n",
    "cv_xgb.fit(X_Bow_Cv, Y_cv)\n",
    "\n",
    "print('Best Parameters using grid search: \\n',cv_xgb.best_params_,\"\\n\\n\")\n",
    "Set5_Cv_Results = pd.DataFrame(cv_xgb.cv_results_)[['mean_test_score', 'std_test_score', 'params']]\n",
    "Set5_Cv_Results"
   ]
  },
  {
   "cell_type": "code",
   "execution_count": 324,
   "metadata": {},
   "outputs": [
    {
     "name": "stdout",
     "output_type": "stream",
     "text": [
      "\t best_score_     : 0.7024611414356837\n",
      "\t best_params_    : {'learning_rate': 0.4, 'max_depth': 4, 'n_estimators': 300}\n"
     ]
    }
   ],
   "source": [
    "#examine the best model\n",
    "print(\"\\t best_score_     :\",cv_xgb.best_score_)\n",
    "print(\"\\t best_params_    :\",cv_xgb.best_params_)\n",
    "#print(\" best_estimator_ :\",cv_xgb.best_estimator_)\n",
    "Set5_best             = cv_xgb.best_params_\n",
    "Set5_best_max_depth   =  cv_xgb.best_params_['max_depth']\n",
    "Set5_best_estimator   =  cv_xgb.best_params_['n_estimators']\n",
    "Set5_best_V           =  cv_xgb.best_params_['learning_rate']\n",
    "Set5_Cv_AUC           =  cv_xgb.best_score_"
   ]
  },
  {
   "cell_type": "code",
   "execution_count": 325,
   "metadata": {},
   "outputs": [],
   "source": [
    "Set5_Weights = []\n",
    "Xboost = xgb.XGBClassifier(n_estimator=Set5_best_estimator,max_depth=Set5_best_max_depth,learning_rate=Set5_best_V,objective='binary:logistic', booster='gbtree', n_jobs=-1)\n",
    "Xboost.fit(X_Bow_Tr,Y_tr)\n",
    "Set5_Weights = rf.feature_importances_.tolist()"
   ]
  },
  {
   "cell_type": "code",
   "execution_count": 326,
   "metadata": {},
   "outputs": [
    {
     "name": "stdout",
     "output_type": "stream",
     "text": [
      " Train Data      AUC for the Best Lamda  is  0.8216849910086517\n",
      " Test Validaton  AUC for the BEst Lamda  is  0.7251634751281193\n"
     ]
    },
    {
     "data": {
      "image/png": "[encoded data removed]",
      "text/plain": [
       "<Figure size 432x288 with 1 Axes>"
      ]
     },
     "metadata": {},
     "output_type": "display_data"
    }
   ],
   "source": [
    "#https://qiita.com/bmj0114/items/460424c110a8ce22d945\n",
    "Set5_Tr_prob    =  Xboost.predict_proba(X_Bow_Tr)    # Probablity of TRAIN-Validation\n",
    "Set5_Tst_prob   =  Xboost.predict_proba(X_Bow_Test)    # Probablity of Cross-Validation\n",
    "\n",
    "Set5_tst_fpr, Set5_tst_tpr, thresholds = roc_curve(Y_test,Set5_Tst_prob[:,1])\n",
    "Set5_tst_roc_auc = auc(Set5_tst_fpr, Set5_tst_tpr)\n",
    "\n",
    "Set5_train_fpr, Set5_train_tpr, thresholds = roc_curve(Y_tr,Set5_Tr_prob[:,1])\n",
    "Set5_train_roc_auc = auc(Set5_train_fpr, Set5_train_tpr)\n",
    "\n",
    "\n",
    "print(\" Train Data      AUC for the Best Lamda  is \", Set5_train_roc_auc)\n",
    "print(\" Test Validaton  AUC for the BEst Lamda  is \", Set5_tst_roc_auc)\n",
    "\n",
    "lw=1\n",
    "plt.figure()\n",
    "plt.plot(Set5_tst_fpr, Set5_tst_tpr, color='darkorange', lw=3, label='Test ROC curve (area = %0.2f)' % Set5_tst_roc_auc)\n",
    "plt.plot(Set5_train_fpr, Set5_train_tpr, color='navy', lw=1, label='Train ROC curve (area = %0.2f)' % Set5_train_roc_auc)\n",
    "plt.plot([0, 1], [0,1], color='red', lw=lw, linestyle='--')\n",
    "plt.xlim([0.0, 1.0])\n",
    "plt.ylim([0.0, 1.04])\n",
    "plt.xlabel('False Positive Rate')\n",
    "plt.ylabel('True Positive Rate')\n",
    "plt.title('ROC - Receiver operating characteristic')\n",
    "plt.legend(loc=\"lower right\")\n",
    "plt.show()"
   ]
  },
  {
   "cell_type": "markdown",
   "metadata": {},
   "source": [
    "### [5.1.2] Wordcloud of top 20 important features from<font color='red'> SET 1</font>"
   ]
  },
  {
   "cell_type": "code",
   "execution_count": 327,
   "metadata": {},
   "outputs": [],
   "source": [
    "# Top Important features\n",
    "Set5_Imp_Features=pd.DataFrame([Bow_Feature,Set5_Weights],index=['feature','Decision_Imp']).T\n",
    "#Set5_Imp_Features= Set5_Imp_Features[(Set5_Imp_Features['Decision_Imp']>0)]\n",
    "Set5_Imp_Features_sortd = Set5_Imp_Features.sort_values(by='Decision_Imp')[-20:][::-1]"
   ]
  },
  {
   "cell_type": "markdown",
   "metadata": {
    "colab_type": "text",
    "id": "u5_lHeZuLs4N"
   },
   "source": [
    "### [5.2.2] Applying XGBOOST on TFIDF,<font color='red'> SET 2</font>"
   ]
  },
  {
   "cell_type": "code",
   "execution_count": 331,
   "metadata": {
    "colab": {},
    "colab_type": "code",
    "id": "94IpgcgPLs4N"
   },
   "outputs": [],
   "source": [
    "# Please write all the code with proper documentation"
   ]
  },
  {
   "cell_type": "code",
   "execution_count": 334,
   "metadata": {
    "collapsed": true
   },
   "outputs": [
    {
     "name": "stdout",
     "output_type": "stream",
     "text": [
      "Best Parameters using grid search: \n",
      " {'learning_rate': 0.4, 'max_depth': 4, 'n_estimators': 200} \n",
      "\n",
      "\n"
     ]
    },
    {
     "data": {
      "text/html": [
       "<div>\n",
       "<style scoped>\n",
       "    .dataframe tbody tr th:only-of-type {\n",
       "        vertical-align: middle;\n",
       "    }\n",
       "\n",
       "    .dataframe tbody tr th {\n",
       "        vertical-align: top;\n",
       "    }\n",
       "\n",
       "    .dataframe thead th {\n",
       "        text-align: right;\n",
       "    }\n",
       "</style>\n",
       "<table border=\"1\" class=\"dataframe\">\n",
       "  <thead>\n",
       "    <tr style=\"text-align: right;\">\n",
       "      <th></th>\n",
       "      <th>mean_test_score</th>\n",
       "      <th>std_test_score</th>\n",
       "      <th>params</th>\n",
       "    </tr>\n",
       "  </thead>\n",
       "  <tbody>\n",
       "    <tr>\n",
       "      <th>0</th>\n",
       "      <td>0.601812</td>\n",
       "      <td>0.033014</td>\n",
       "      <td>{'learning_rate': 0.1, 'max_depth': 2, 'n_esti...</td>\n",
       "    </tr>\n",
       "    <tr>\n",
       "      <th>1</th>\n",
       "      <td>0.647497</td>\n",
       "      <td>0.026667</td>\n",
       "      <td>{'learning_rate': 0.1, 'max_depth': 2, 'n_esti...</td>\n",
       "    </tr>\n",
       "    <tr>\n",
       "      <th>2</th>\n",
       "      <td>0.668549</td>\n",
       "      <td>0.022956</td>\n",
       "      <td>{'learning_rate': 0.1, 'max_depth': 2, 'n_esti...</td>\n",
       "    </tr>\n",
       "    <tr>\n",
       "      <th>3</th>\n",
       "      <td>0.683672</td>\n",
       "      <td>0.032498</td>\n",
       "      <td>{'learning_rate': 0.1, 'max_depth': 2, 'n_esti...</td>\n",
       "    </tr>\n",
       "    <tr>\n",
       "      <th>4</th>\n",
       "      <td>0.631325</td>\n",
       "      <td>0.025754</td>\n",
       "      <td>{'learning_rate': 0.1, 'max_depth': 3, 'n_esti...</td>\n",
       "    </tr>\n",
       "    <tr>\n",
       "      <th>5</th>\n",
       "      <td>0.658002</td>\n",
       "      <td>0.024343</td>\n",
       "      <td>{'learning_rate': 0.1, 'max_depth': 3, 'n_esti...</td>\n",
       "    </tr>\n",
       "    <tr>\n",
       "      <th>6</th>\n",
       "      <td>0.683384</td>\n",
       "      <td>0.032863</td>\n",
       "      <td>{'learning_rate': 0.1, 'max_depth': 3, 'n_esti...</td>\n",
       "    </tr>\n",
       "    <tr>\n",
       "      <th>7</th>\n",
       "      <td>0.695878</td>\n",
       "      <td>0.033638</td>\n",
       "      <td>{'learning_rate': 0.1, 'max_depth': 3, 'n_esti...</td>\n",
       "    </tr>\n",
       "    <tr>\n",
       "      <th>8</th>\n",
       "      <td>0.646317</td>\n",
       "      <td>0.025751</td>\n",
       "      <td>{'learning_rate': 0.1, 'max_depth': 4, 'n_esti...</td>\n",
       "    </tr>\n",
       "    <tr>\n",
       "      <th>9</th>\n",
       "      <td>0.670791</td>\n",
       "      <td>0.022324</td>\n",
       "      <td>{'learning_rate': 0.1, 'max_depth': 4, 'n_esti...</td>\n",
       "    </tr>\n",
       "    <tr>\n",
       "      <th>10</th>\n",
       "      <td>0.690539</td>\n",
       "      <td>0.033680</td>\n",
       "      <td>{'learning_rate': 0.1, 'max_depth': 4, 'n_esti...</td>\n",
       "    </tr>\n",
       "    <tr>\n",
       "      <th>11</th>\n",
       "      <td>0.714863</td>\n",
       "      <td>0.032638</td>\n",
       "      <td>{'learning_rate': 0.1, 'max_depth': 4, 'n_esti...</td>\n",
       "    </tr>\n",
       "    <tr>\n",
       "      <th>12</th>\n",
       "      <td>0.656378</td>\n",
       "      <td>0.027601</td>\n",
       "      <td>{'learning_rate': 0.1, 'max_depth': 5, 'n_esti...</td>\n",
       "    </tr>\n",
       "    <tr>\n",
       "      <th>13</th>\n",
       "      <td>0.682170</td>\n",
       "      <td>0.028758</td>\n",
       "      <td>{'learning_rate': 0.1, 'max_depth': 5, 'n_esti...</td>\n",
       "    </tr>\n",
       "    <tr>\n",
       "      <th>14</th>\n",
       "      <td>0.701979</td>\n",
       "      <td>0.031363</td>\n",
       "      <td>{'learning_rate': 0.1, 'max_depth': 5, 'n_esti...</td>\n",
       "    </tr>\n",
       "    <tr>\n",
       "      <th>15</th>\n",
       "      <td>0.726119</td>\n",
       "      <td>0.033905</td>\n",
       "      <td>{'learning_rate': 0.1, 'max_depth': 5, 'n_esti...</td>\n",
       "    </tr>\n",
       "    <tr>\n",
       "      <th>16</th>\n",
       "      <td>0.658990</td>\n",
       "      <td>0.027926</td>\n",
       "      <td>{'learning_rate': 0.4, 'max_depth': 2, 'n_esti...</td>\n",
       "    </tr>\n",
       "    <tr>\n",
       "      <th>17</th>\n",
       "      <td>0.686225</td>\n",
       "      <td>0.029712</td>\n",
       "      <td>{'learning_rate': 0.4, 'max_depth': 2, 'n_esti...</td>\n",
       "    </tr>\n",
       "    <tr>\n",
       "      <th>18</th>\n",
       "      <td>0.713972</td>\n",
       "      <td>0.024642</td>\n",
       "      <td>{'learning_rate': 0.4, 'max_depth': 2, 'n_esti...</td>\n",
       "    </tr>\n",
       "    <tr>\n",
       "      <th>19</th>\n",
       "      <td>0.729468</td>\n",
       "      <td>0.026219</td>\n",
       "      <td>{'learning_rate': 0.4, 'max_depth': 2, 'n_esti...</td>\n",
       "    </tr>\n",
       "    <tr>\n",
       "      <th>20</th>\n",
       "      <td>0.673339</td>\n",
       "      <td>0.026496</td>\n",
       "      <td>{'learning_rate': 0.4, 'max_depth': 3, 'n_esti...</td>\n",
       "    </tr>\n",
       "    <tr>\n",
       "      <th>21</th>\n",
       "      <td>0.703059</td>\n",
       "      <td>0.028684</td>\n",
       "      <td>{'learning_rate': 0.4, 'max_depth': 3, 'n_esti...</td>\n",
       "    </tr>\n",
       "    <tr>\n",
       "      <th>22</th>\n",
       "      <td>0.731326</td>\n",
       "      <td>0.026063</td>\n",
       "      <td>{'learning_rate': 0.4, 'max_depth': 3, 'n_esti...</td>\n",
       "    </tr>\n",
       "    <tr>\n",
       "      <th>23</th>\n",
       "      <td>0.736274</td>\n",
       "      <td>0.025041</td>\n",
       "      <td>{'learning_rate': 0.4, 'max_depth': 3, 'n_esti...</td>\n",
       "    </tr>\n",
       "    <tr>\n",
       "      <th>24</th>\n",
       "      <td>0.682003</td>\n",
       "      <td>0.030747</td>\n",
       "      <td>{'learning_rate': 0.4, 'max_depth': 4, 'n_esti...</td>\n",
       "    </tr>\n",
       "    <tr>\n",
       "      <th>25</th>\n",
       "      <td>0.708176</td>\n",
       "      <td>0.027283</td>\n",
       "      <td>{'learning_rate': 0.4, 'max_depth': 4, 'n_esti...</td>\n",
       "    </tr>\n",
       "    <tr>\n",
       "      <th>26</th>\n",
       "      <td>0.738503</td>\n",
       "      <td>0.025983</td>\n",
       "      <td>{'learning_rate': 0.4, 'max_depth': 4, 'n_esti...</td>\n",
       "    </tr>\n",
       "    <tr>\n",
       "      <th>27</th>\n",
       "      <td>0.732386</td>\n",
       "      <td>0.026076</td>\n",
       "      <td>{'learning_rate': 0.4, 'max_depth': 4, 'n_esti...</td>\n",
       "    </tr>\n",
       "    <tr>\n",
       "      <th>28</th>\n",
       "      <td>0.690550</td>\n",
       "      <td>0.030969</td>\n",
       "      <td>{'learning_rate': 0.4, 'max_depth': 5, 'n_esti...</td>\n",
       "    </tr>\n",
       "    <tr>\n",
       "      <th>29</th>\n",
       "      <td>0.721236</td>\n",
       "      <td>0.032885</td>\n",
       "      <td>{'learning_rate': 0.4, 'max_depth': 5, 'n_esti...</td>\n",
       "    </tr>\n",
       "    <tr>\n",
       "      <th>...</th>\n",
       "      <td>...</td>\n",
       "      <td>...</td>\n",
       "      <td>...</td>\n",
       "    </tr>\n",
       "    <tr>\n",
       "      <th>34</th>\n",
       "      <td>0.727108</td>\n",
       "      <td>0.025322</td>\n",
       "      <td>{'learning_rate': 0.6, 'max_depth': 2, 'n_esti...</td>\n",
       "    </tr>\n",
       "    <tr>\n",
       "      <th>35</th>\n",
       "      <td>0.732361</td>\n",
       "      <td>0.023221</td>\n",
       "      <td>{'learning_rate': 0.6, 'max_depth': 2, 'n_esti...</td>\n",
       "    </tr>\n",
       "    <tr>\n",
       "      <th>36</th>\n",
       "      <td>0.681084</td>\n",
       "      <td>0.028286</td>\n",
       "      <td>{'learning_rate': 0.6, 'max_depth': 3, 'n_esti...</td>\n",
       "    </tr>\n",
       "    <tr>\n",
       "      <th>37</th>\n",
       "      <td>0.712443</td>\n",
       "      <td>0.027818</td>\n",
       "      <td>{'learning_rate': 0.6, 'max_depth': 3, 'n_esti...</td>\n",
       "    </tr>\n",
       "    <tr>\n",
       "      <th>38</th>\n",
       "      <td>0.734947</td>\n",
       "      <td>0.026983</td>\n",
       "      <td>{'learning_rate': 0.6, 'max_depth': 3, 'n_esti...</td>\n",
       "    </tr>\n",
       "    <tr>\n",
       "      <th>39</th>\n",
       "      <td>0.727396</td>\n",
       "      <td>0.031400</td>\n",
       "      <td>{'learning_rate': 0.6, 'max_depth': 3, 'n_esti...</td>\n",
       "    </tr>\n",
       "    <tr>\n",
       "      <th>40</th>\n",
       "      <td>0.690885</td>\n",
       "      <td>0.029268</td>\n",
       "      <td>{'learning_rate': 0.6, 'max_depth': 4, 'n_esti...</td>\n",
       "    </tr>\n",
       "    <tr>\n",
       "      <th>41</th>\n",
       "      <td>0.725520</td>\n",
       "      <td>0.028182</td>\n",
       "      <td>{'learning_rate': 0.6, 'max_depth': 4, 'n_esti...</td>\n",
       "    </tr>\n",
       "    <tr>\n",
       "      <th>42</th>\n",
       "      <td>0.726132</td>\n",
       "      <td>0.030011</td>\n",
       "      <td>{'learning_rate': 0.6, 'max_depth': 4, 'n_esti...</td>\n",
       "    </tr>\n",
       "    <tr>\n",
       "      <th>43</th>\n",
       "      <td>0.721802</td>\n",
       "      <td>0.034804</td>\n",
       "      <td>{'learning_rate': 0.6, 'max_depth': 4, 'n_esti...</td>\n",
       "    </tr>\n",
       "    <tr>\n",
       "      <th>44</th>\n",
       "      <td>0.705327</td>\n",
       "      <td>0.028219</td>\n",
       "      <td>{'learning_rate': 0.6, 'max_depth': 5, 'n_esti...</td>\n",
       "    </tr>\n",
       "    <tr>\n",
       "      <th>45</th>\n",
       "      <td>0.729621</td>\n",
       "      <td>0.029266</td>\n",
       "      <td>{'learning_rate': 0.6, 'max_depth': 5, 'n_esti...</td>\n",
       "    </tr>\n",
       "    <tr>\n",
       "      <th>46</th>\n",
       "      <td>0.726115</td>\n",
       "      <td>0.032536</td>\n",
       "      <td>{'learning_rate': 0.6, 'max_depth': 5, 'n_esti...</td>\n",
       "    </tr>\n",
       "    <tr>\n",
       "      <th>47</th>\n",
       "      <td>0.726901</td>\n",
       "      <td>0.031591</td>\n",
       "      <td>{'learning_rate': 0.6, 'max_depth': 5, 'n_esti...</td>\n",
       "    </tr>\n",
       "    <tr>\n",
       "      <th>48</th>\n",
       "      <td>0.661522</td>\n",
       "      <td>0.025841</td>\n",
       "      <td>{'learning_rate': 0.8, 'max_depth': 2, 'n_esti...</td>\n",
       "    </tr>\n",
       "    <tr>\n",
       "      <th>49</th>\n",
       "      <td>0.692524</td>\n",
       "      <td>0.026114</td>\n",
       "      <td>{'learning_rate': 0.8, 'max_depth': 2, 'n_esti...</td>\n",
       "    </tr>\n",
       "    <tr>\n",
       "      <th>50</th>\n",
       "      <td>0.725626</td>\n",
       "      <td>0.027001</td>\n",
       "      <td>{'learning_rate': 0.8, 'max_depth': 2, 'n_esti...</td>\n",
       "    </tr>\n",
       "    <tr>\n",
       "      <th>51</th>\n",
       "      <td>0.726972</td>\n",
       "      <td>0.026992</td>\n",
       "      <td>{'learning_rate': 0.8, 'max_depth': 2, 'n_esti...</td>\n",
       "    </tr>\n",
       "    <tr>\n",
       "      <th>52</th>\n",
       "      <td>0.679279</td>\n",
       "      <td>0.029141</td>\n",
       "      <td>{'learning_rate': 0.8, 'max_depth': 3, 'n_esti...</td>\n",
       "    </tr>\n",
       "    <tr>\n",
       "      <th>53</th>\n",
       "      <td>0.720609</td>\n",
       "      <td>0.029936</td>\n",
       "      <td>{'learning_rate': 0.8, 'max_depth': 3, 'n_esti...</td>\n",
       "    </tr>\n",
       "    <tr>\n",
       "      <th>54</th>\n",
       "      <td>0.732263</td>\n",
       "      <td>0.028490</td>\n",
       "      <td>{'learning_rate': 0.8, 'max_depth': 3, 'n_esti...</td>\n",
       "    </tr>\n",
       "    <tr>\n",
       "      <th>55</th>\n",
       "      <td>0.722547</td>\n",
       "      <td>0.029692</td>\n",
       "      <td>{'learning_rate': 0.8, 'max_depth': 3, 'n_esti...</td>\n",
       "    </tr>\n",
       "    <tr>\n",
       "      <th>56</th>\n",
       "      <td>0.695236</td>\n",
       "      <td>0.032403</td>\n",
       "      <td>{'learning_rate': 0.8, 'max_depth': 4, 'n_esti...</td>\n",
       "    </tr>\n",
       "    <tr>\n",
       "      <th>57</th>\n",
       "      <td>0.720013</td>\n",
       "      <td>0.033644</td>\n",
       "      <td>{'learning_rate': 0.8, 'max_depth': 4, 'n_esti...</td>\n",
       "    </tr>\n",
       "    <tr>\n",
       "      <th>58</th>\n",
       "      <td>0.718242</td>\n",
       "      <td>0.032670</td>\n",
       "      <td>{'learning_rate': 0.8, 'max_depth': 4, 'n_esti...</td>\n",
       "    </tr>\n",
       "    <tr>\n",
       "      <th>59</th>\n",
       "      <td>0.715089</td>\n",
       "      <td>0.034665</td>\n",
       "      <td>{'learning_rate': 0.8, 'max_depth': 4, 'n_esti...</td>\n",
       "    </tr>\n",
       "    <tr>\n",
       "      <th>60</th>\n",
       "      <td>0.706360</td>\n",
       "      <td>0.029449</td>\n",
       "      <td>{'learning_rate': 0.8, 'max_depth': 5, 'n_esti...</td>\n",
       "    </tr>\n",
       "    <tr>\n",
       "      <th>61</th>\n",
       "      <td>0.733083</td>\n",
       "      <td>0.026249</td>\n",
       "      <td>{'learning_rate': 0.8, 'max_depth': 5, 'n_esti...</td>\n",
       "    </tr>\n",
       "    <tr>\n",
       "      <th>62</th>\n",
       "      <td>0.723691</td>\n",
       "      <td>0.025978</td>\n",
       "      <td>{'learning_rate': 0.8, 'max_depth': 5, 'n_esti...</td>\n",
       "    </tr>\n",
       "    <tr>\n",
       "      <th>63</th>\n",
       "      <td>0.719649</td>\n",
       "      <td>0.027222</td>\n",
       "      <td>{'learning_rate': 0.8, 'max_depth': 5, 'n_esti...</td>\n",
       "    </tr>\n",
       "  </tbody>\n",
       "</table>\n",
       "<p>64 rows × 3 columns</p>\n",
       "</div>"
      ],
      "text/plain": [
       "    mean_test_score  std_test_score  \\\n",
       "0          0.601812        0.033014   \n",
       "1          0.647497        0.026667   \n",
       "2          0.668549        0.022956   \n",
       "3          0.683672        0.032498   \n",
       "4          0.631325        0.025754   \n",
       "5          0.658002        0.024343   \n",
       "6          0.683384        0.032863   \n",
       "7          0.695878        0.033638   \n",
       "8          0.646317        0.025751   \n",
       "9          0.670791        0.022324   \n",
       "10         0.690539        0.033680   \n",
       "11         0.714863        0.032638   \n",
       "12         0.656378        0.027601   \n",
       "13         0.682170        0.028758   \n",
       "14         0.701979        0.031363   \n",
       "15         0.726119        0.033905   \n",
       "16         0.658990        0.027926   \n",
       "17         0.686225        0.029712   \n",
       "18         0.713972        0.024642   \n",
       "19         0.729468        0.026219   \n",
       "20         0.673339        0.026496   \n",
       "21         0.703059        0.028684   \n",
       "22         0.731326        0.026063   \n",
       "23         0.736274        0.025041   \n",
       "24         0.682003        0.030747   \n",
       "25         0.708176        0.027283   \n",
       "26         0.738503        0.025983   \n",
       "27         0.732386        0.026076   \n",
       "28         0.690550        0.030969   \n",
       "29         0.721236        0.032885   \n",
       "..              ...             ...   \n",
       "34         0.727108        0.025322   \n",
       "35         0.732361        0.023221   \n",
       "36         0.681084        0.028286   \n",
       "37         0.712443        0.027818   \n",
       "38         0.734947        0.026983   \n",
       "39         0.727396        0.031400   \n",
       "40         0.690885        0.029268   \n",
       "41         0.725520        0.028182   \n",
       "42         0.726132        0.030011   \n",
       "43         0.721802        0.034804   \n",
       "44         0.705327        0.028219   \n",
       "45         0.729621        0.029266   \n",
       "46         0.726115        0.032536   \n",
       "47         0.726901        0.031591   \n",
       "48         0.661522        0.025841   \n",
       "49         0.692524        0.026114   \n",
       "50         0.725626        0.027001   \n",
       "51         0.726972        0.026992   \n",
       "52         0.679279        0.029141   \n",
       "53         0.720609        0.029936   \n",
       "54         0.732263        0.028490   \n",
       "55         0.722547        0.029692   \n",
       "56         0.695236        0.032403   \n",
       "57         0.720013        0.033644   \n",
       "58         0.718242        0.032670   \n",
       "59         0.715089        0.034665   \n",
       "60         0.706360        0.029449   \n",
       "61         0.733083        0.026249   \n",
       "62         0.723691        0.025978   \n",
       "63         0.719649        0.027222   \n",
       "\n",
       "                                               params  \n",
       "0   {'learning_rate': 0.1, 'max_depth': 2, 'n_esti...  \n",
       "1   {'learning_rate': 0.1, 'max_depth': 2, 'n_esti...  \n",
       "2   {'learning_rate': 0.1, 'max_depth': 2, 'n_esti...  \n",
       "3   {'learning_rate': 0.1, 'max_depth': 2, 'n_esti...  \n",
       "4   {'learning_rate': 0.1, 'max_depth': 3, 'n_esti...  \n",
       "5   {'learning_rate': 0.1, 'max_depth': 3, 'n_esti...  \n",
       "6   {'learning_rate': 0.1, 'max_depth': 3, 'n_esti...  \n",
       "7   {'learning_rate': 0.1, 'max_depth': 3, 'n_esti...  \n",
       "8   {'learning_rate': 0.1, 'max_depth': 4, 'n_esti...  \n",
       "9   {'learning_rate': 0.1, 'max_depth': 4, 'n_esti...  \n",
       "10  {'learning_rate': 0.1, 'max_depth': 4, 'n_esti...  \n",
       "11  {'learning_rate': 0.1, 'max_depth': 4, 'n_esti...  \n",
       "12  {'learning_rate': 0.1, 'max_depth': 5, 'n_esti...  \n",
       "13  {'learning_rate': 0.1, 'max_depth': 5, 'n_esti...  \n",
       "14  {'learning_rate': 0.1, 'max_depth': 5, 'n_esti...  \n",
       "15  {'learning_rate': 0.1, 'max_depth': 5, 'n_esti...  \n",
       "16  {'learning_rate': 0.4, 'max_depth': 2, 'n_esti...  \n",
       "17  {'learning_rate': 0.4, 'max_depth': 2, 'n_esti...  \n",
       "18  {'learning_rate': 0.4, 'max_depth': 2, 'n_esti...  \n",
       "19  {'learning_rate': 0.4, 'max_depth': 2, 'n_esti...  \n",
       "20  {'learning_rate': 0.4, 'max_depth': 3, 'n_esti...  \n",
       "21  {'learning_rate': 0.4, 'max_depth': 3, 'n_esti...  \n",
       "22  {'learning_rate': 0.4, 'max_depth': 3, 'n_esti...  \n",
       "23  {'learning_rate': 0.4, 'max_depth': 3, 'n_esti...  \n",
       "24  {'learning_rate': 0.4, 'max_depth': 4, 'n_esti...  \n",
       "25  {'learning_rate': 0.4, 'max_depth': 4, 'n_esti...  \n",
       "26  {'learning_rate': 0.4, 'max_depth': 4, 'n_esti...  \n",
       "27  {'learning_rate': 0.4, 'max_depth': 4, 'n_esti...  \n",
       "28  {'learning_rate': 0.4, 'max_depth': 5, 'n_esti...  \n",
       "29  {'learning_rate': 0.4, 'max_depth': 5, 'n_esti...  \n",
       "..                                                ...  \n",
       "34  {'learning_rate': 0.6, 'max_depth': 2, 'n_esti...  \n",
       "35  {'learning_rate': 0.6, 'max_depth': 2, 'n_esti...  \n",
       "36  {'learning_rate': 0.6, 'max_depth': 3, 'n_esti...  \n",
       "37  {'learning_rate': 0.6, 'max_depth': 3, 'n_esti...  \n",
       "38  {'learning_rate': 0.6, 'max_depth': 3, 'n_esti...  \n",
       "39  {'learning_rate': 0.6, 'max_depth': 3, 'n_esti...  \n",
       "40  {'learning_rate': 0.6, 'max_depth': 4, 'n_esti...  \n",
       "41  {'learning_rate': 0.6, 'max_depth': 4, 'n_esti...  \n",
       "42  {'learning_rate': 0.6, 'max_depth': 4, 'n_esti...  \n",
       "43  {'learning_rate': 0.6, 'max_depth': 4, 'n_esti...  \n",
       "44  {'learning_rate': 0.6, 'max_depth': 5, 'n_esti...  \n",
       "45  {'learning_rate': 0.6, 'max_depth': 5, 'n_esti...  \n",
       "46  {'learning_rate': 0.6, 'max_depth': 5, 'n_esti...  \n",
       "47  {'learning_rate': 0.6, 'max_depth': 5, 'n_esti...  \n",
       "48  {'learning_rate': 0.8, 'max_depth': 2, 'n_esti...  \n",
       "49  {'learning_rate': 0.8, 'max_depth': 2, 'n_esti...  \n",
       "50  {'learning_rate': 0.8, 'max_depth': 2, 'n_esti...  \n",
       "51  {'learning_rate': 0.8, 'max_depth': 2, 'n_esti...  \n",
       "52  {'learning_rate': 0.8, 'max_depth': 3, 'n_esti...  \n",
       "53  {'learning_rate': 0.8, 'max_depth': 3, 'n_esti...  \n",
       "54  {'learning_rate': 0.8, 'max_depth': 3, 'n_esti...  \n",
       "55  {'learning_rate': 0.8, 'max_depth': 3, 'n_esti...  \n",
       "56  {'learning_rate': 0.8, 'max_depth': 4, 'n_esti...  \n",
       "57  {'learning_rate': 0.8, 'max_depth': 4, 'n_esti...  \n",
       "58  {'learning_rate': 0.8, 'max_depth': 4, 'n_esti...  \n",
       "59  {'learning_rate': 0.8, 'max_depth': 4, 'n_esti...  \n",
       "60  {'learning_rate': 0.8, 'max_depth': 5, 'n_esti...  \n",
       "61  {'learning_rate': 0.8, 'max_depth': 5, 'n_esti...  \n",
       "62  {'learning_rate': 0.8, 'max_depth': 5, 'n_esti...  \n",
       "63  {'learning_rate': 0.8, 'max_depth': 5, 'n_esti...  \n",
       "\n",
       "[64 rows x 3 columns]"
      ]
     },
     "execution_count": 334,
     "metadata": {},
     "output_type": "execute_result"
    }
   ],
   "source": [
    "Xboost  = xgb.XGBClassifier( objective='binary:logistic', booster='gbtree', n_jobs=-1)\n",
    "cv_xgb = GridSearchCV(Xboost, xparams, cv=5,scoring='roc_auc')\n",
    "cv_xgb.fit(X_Tfidf_Cv, Y_cv)\n",
    "\n",
    "\n",
    "print('Best Parameters using grid search: \\n',cv_xgb.best_params_,\"\\n\\n\")\n",
    "Set6_Cv_Results = pd.DataFrame(cv_xgb.cv_results_)[['mean_test_score', 'std_test_score', 'params']]\n",
    "Set6_Cv_Results"
   ]
  },
  {
   "cell_type": "code",
   "execution_count": 335,
   "metadata": {},
   "outputs": [
    {
     "name": "stdout",
     "output_type": "stream",
     "text": [
      "\t best_score_     : 0.7385034177363529\n",
      "\t best_params_    : {'learning_rate': 0.4, 'max_depth': 4, 'n_estimators': 200}\n"
     ]
    }
   ],
   "source": [
    "#examine the best model\n",
    "print(\"\\t best_score_     :\",cv_xgb.best_score_)\n",
    "print(\"\\t best_params_    :\",cv_xgb.best_params_)\n",
    "#print(\" best_estimator_ :\",cv_xgb.best_estimator_)\n",
    "Set6_best             = cv_xgb.best_params_\n",
    "Set6_best_max_depth   =  cv_xgb.best_params_['max_depth']\n",
    "Set6_best_estimator   =  cv_xgb.best_params_['n_estimators']\n",
    "Set6_best_V           =  cv_xgb.best_params_['learning_rate']\n",
    "Set6_Cv_AUC           =  cv_xgb.best_score_"
   ]
  },
  {
   "cell_type": "code",
   "execution_count": 336,
   "metadata": {},
   "outputs": [],
   "source": [
    "Set6_Weights = []\n",
    "Xboost = xgb.XGBClassifier(n_estimator=Set5_best_estimator,max_depth=Set5_best_max_depth,learning_rate=Set5_best_V,objective='binary:logistic', booster='gbtree', n_jobs=-1)\n",
    "Xboost.fit(X_Tfidf_Tr,Y_tr)\n",
    "Set6_Weights = Xboost.feature_importances_.tolist()"
   ]
  },
  {
   "cell_type": "code",
   "execution_count": 337,
   "metadata": {},
   "outputs": [
    {
     "name": "stdout",
     "output_type": "stream",
     "text": [
      " Train Data      AUC for the Best Lamda  is  0.8745829517596073\n",
      " Test Validaton  AUC for the BEst Lamda  is  0.7575635293403067\n"
     ]
    },
    {
     "data": {
      "image/png": "[encoded data removed]",
      "text/plain": [
       "<Figure size 432x288 with 1 Axes>"
      ]
     },
     "metadata": {},
     "output_type": "display_data"
    }
   ],
   "source": [
    "\n",
    "#https://qiita.com/bmj0114/items/460424c110a8ce22d945\n",
    "Set6_Tr_prob    =  Xboost.predict_proba(X_Tfidf_Tr)    # Probablity of TRAIN-Validation\n",
    "Set6_Tst_prob   =  Xboost.predict_proba(X_Tfidf_Test)    # Probablity of Cross-Validation\n",
    "\n",
    "Set6_tst_fpr, Set6_tst_tpr, thresholds = roc_curve(Y_test,Set6_Tst_prob[:,1])\n",
    "Set6_tst_roc_auc = auc(Set6_tst_fpr, Set6_tst_tpr)\n",
    "\n",
    "Set6_train_fpr, Set6_train_tpr, thresholds = roc_curve(Y_tr,Set6_Tr_prob[:,1])\n",
    "Set6_train_roc_auc = auc(Set6_train_fpr, Set6_train_tpr)\n",
    "\n",
    "\n",
    "print(\" Train Data      AUC for the Best Lamda  is \", Set6_train_roc_auc)\n",
    "print(\" Test Validaton  AUC for the BEst Lamda  is \", Set6_tst_roc_auc)\n",
    "\n",
    "lw=1\n",
    "plt.figure()\n",
    "plt.plot(Set6_tst_fpr, Set6_tst_tpr, color='darkorange', lw=3, label='Test ROC curve (area = %0.2f)' % Set6_tst_roc_auc)\n",
    "plt.plot(Set6_train_fpr, Set6_train_tpr, color='navy', lw=1, label='Train ROC curve (area = %0.2f)' % Set6_train_roc_auc)\n",
    "plt.plot([0, 1], [0,1], color='red', lw=lw, linestyle='--')\n",
    "plt.xlim([0.0, 1.0])\n",
    "plt.ylim([0.0, 1.04])\n",
    "plt.xlabel('False Positive Rate')\n",
    "plt.ylabel('True Positive Rate')\n",
    "plt.title('ROC - Receiver operating characteristic')\n",
    "plt.legend(loc=\"lower right\")\n",
    "plt.show()"
   ]
  },
  {
   "cell_type": "markdown",
   "metadata": {},
   "source": [
    "### [5.2.2] Wordcloud of top 20 important features from<font color='red'> SET 2</font>"
   ]
  },
  {
   "cell_type": "code",
   "execution_count": 339,
   "metadata": {},
   "outputs": [],
   "source": [
    "# Top Important features\n",
    "Set6_Imp_Features=pd.DataFrame([tf_idf_feature,Set6_Weights],index=['feature','Decision_Imp']).T\n",
    "#Set6_Imp_Features= Set6_Imp_Features[(Set6_Imp_Features['Decision_Imp']>0)]\n",
    "Set6_Imp_Features_sortd = Set6_Imp_Features.sort_values(by='Decision_Imp')[-20:][::-1]"
   ]
  },
  {
   "cell_type": "markdown",
   "metadata": {
    "colab_type": "text",
    "id": "3b6-rEyILs4O"
   },
   "source": [
    "### [5.2.3] Applying XGBOOST on AVG W2V,<font color='red'> SET 3</font>"
   ]
  },
  {
   "cell_type": "code",
   "execution_count": 361,
   "metadata": {},
   "outputs": [
    {
     "data": {
      "text/plain": [
       "GridSearchCV(cv=5, error_score='raise',\n",
       "       estimator=XGBClassifier(base_score=0.5, booster='gbtree', colsample_bylevel=1,\n",
       "       colsample_bytree=1, gamma=0, learning_rate=0.1, max_delta_step=0,\n",
       "       max_depth=3, min_child_weight=1, missing=None, n_estimators=100,\n",
       "       n_jobs=-1, nthread=None, objective='binary:logistic',\n",
       "       random_state=0, reg_alpha=0, reg_lambda=1, scale_pos_weight=1,\n",
       "       seed=None, silent=True, subsample=1),\n",
       "       fit_params=None, iid=True, n_jobs=1,\n",
       "       param_grid={'n_estimators': [50, 100, 200, 300], 'max_depth': [2, 3, 4, 5], 'learning_rate': [0.1, 0.4, 0.6, 0.8]},\n",
       "       pre_dispatch='2*n_jobs', refit=True, return_train_score='warn',\n",
       "       scoring='roc_auc', verbose=0)"
      ]
     },
     "execution_count": 361,
     "metadata": {},
     "output_type": "execute_result"
    }
   ],
   "source": [
    "Xboost = xgb.XGBClassifier(objective='binary:logistic', booster='gbtree', n_jobs=-1)\n",
    "cv_xgb = GridSearchCV(Xboost,xparams, cv=5,scoring='roc_auc')\n",
    "cv_xgb.fit(X_AvgW2V_Cv,Y_cv)"
   ]
  },
  {
   "cell_type": "code",
   "execution_count": 362,
   "metadata": {},
   "outputs": [
    {
     "name": "stdout",
     "output_type": "stream",
     "text": [
      "\t best_score_     : 0.8730882223343447\n",
      "\t best_params_    : {'learning_rate': 0.1, 'max_depth': 2, 'n_estimators': 300}\n"
     ]
    }
   ],
   "source": [
    "#examine the best model\n",
    "print(\"\\t best_score_     :\",cv_xgb.best_score_)\n",
    "print(\"\\t best_params_    :\",cv_xgb.best_params_)\n",
    "#print(\" best_estimator_ :\",cv_xgb.best_estimator_)\n",
    "Set7_best             = cv_xgb.best_params_\n",
    "Set7_best_max_depth   =  cv_xgb.best_params_['max_depth']\n",
    "Set7_best_estimator   =  cv_xgb.best_params_['n_estimators']\n",
    "Set7_best_V           =  cv_xgb.best_params_['learning_rate']\n",
    "Set7_Cv_AUC           =  cv_xgb.best_score_"
   ]
  },
  {
   "cell_type": "code",
   "execution_count": 363,
   "metadata": {},
   "outputs": [],
   "source": [
    "Set7_Weights = []\n",
    "Xboost = xgb.XGBClassifier(n_estimator=Set5_best_estimator,max_depth=Set5_best_max_depth,learning_rate=Set5_best_V,objective='binary:logistic', booster='gbtree', n_jobs=-1)\n",
    "Xboost.fit(X_AvgW2V_Tr,Y_tr)\n",
    "Set7_Weights = Xboost.feature_importances_.tolist()"
   ]
  },
  {
   "cell_type": "code",
   "execution_count": 364,
   "metadata": {},
   "outputs": [
    {
     "name": "stdout",
     "output_type": "stream",
     "text": [
      " Train Data      AUC for the Best Lamda  is  0.997370169985069\n",
      " Test Validaton  AUC for the BEst Lamda  is  0.8581519536784963\n"
     ]
    },
    {
     "data": {
      "image/png": "[encoded data removed]",
      "text/plain": [
       "<Figure size 432x288 with 1 Axes>"
      ]
     },
     "metadata": {},
     "output_type": "display_data"
    }
   ],
   "source": [
    "\n",
    "#https://qiita.com/bmj0114/items/460424c110a8ce22d945\n",
    "Set7_Tr_prob    =  Xboost.predict_proba(X_AvgW2V_Tr)    # Probablity of TRAIN-Validation\n",
    "Set7_Tst_prob   =  Xboost.predict_proba(X_AvgW2V_Test)    # Probablity of Cross-Validation\n",
    "\n",
    "Set7_tst_fpr, Set7_tst_tpr, thresholds = roc_curve(Y_test,Set7_Tst_prob[:,1])\n",
    "Set7_tst_roc_auc = auc(Set7_tst_fpr, Set7_tst_tpr)\n",
    "\n",
    "Set7_train_fpr, Set7_train_tpr, thresholds = roc_curve(Y_tr,Set7_Tr_prob[:,1])\n",
    "Set7_train_roc_auc = auc(Set7_train_fpr, Set7_train_tpr)\n",
    "\n",
    "\n",
    "print(\" Train Data      AUC for the Best Lamda  is \", Set7_train_roc_auc)\n",
    "print(\" Test Validaton  AUC for the BEst Lamda  is \", Set7_tst_roc_auc)\n",
    "\n",
    "lw=1\n",
    "plt.figure()\n",
    "plt.plot(Set7_tst_fpr, Set7_tst_tpr, color='darkorange', lw=3, label='Test ROC curve (area = %0.2f)' % Set7_tst_roc_auc)\n",
    "plt.plot(Set7_train_fpr, Set7_train_tpr, color='navy', lw=1, label='Train ROC curve (area = %0.2f)' % Set7_train_roc_auc)\n",
    "plt.plot([0, 1], [0,1], color='red', lw=lw, linestyle='--')\n",
    "plt.xlim([0.0, 1.0])\n",
    "plt.ylim([0.0, 1.04])\n",
    "plt.xlabel('False Positive Rate')\n",
    "plt.ylabel('True Positive Rate')\n",
    "plt.title('ROC - Receiver operating characteristic')\n",
    "plt.legend(loc=\"lower right\")\n",
    "plt.show()"
   ]
  },
  {
   "cell_type": "markdown",
   "metadata": {
    "colab_type": "text",
    "id": "XchPt9RDLs4R"
   },
   "source": [
    "### [5.2.4] Applying XGBOOST on TFIDF W2V,<font color='red'> SET 4</font>"
   ]
  },
  {
   "cell_type": "code",
   "execution_count": 368,
   "metadata": {
    "colab": {},
    "colab_type": "code",
    "id": "r6Rjjal3Ls4R"
   },
   "outputs": [],
   "source": [
    "# Please write all the code with proper documentation"
   ]
  },
  {
   "cell_type": "code",
   "execution_count": 369,
   "metadata": {},
   "outputs": [
    {
     "name": "stdout",
     "output_type": "stream",
     "text": [
      "Best Parameters using grid search: \n",
      " {'learning_rate': 0.1, 'max_depth': 5, 'n_estimators': 200} \n",
      "\n",
      "\n",
      "    mean_test_score  std_test_score  \\\n",
      "0          0.828282        0.017567   \n",
      "1          0.839048        0.016775   \n",
      "2          0.842876        0.016905   \n",
      "3          0.843751        0.016564   \n",
      "4          0.840412        0.017385   \n",
      "5          0.846495        0.017426   \n",
      "6          0.847176        0.016653   \n",
      "7          0.843781        0.016244   \n",
      "8          0.842397        0.016796   \n",
      "9          0.846831        0.019428   \n",
      "10         0.846836        0.019304   \n",
      "11         0.844597        0.017499   \n",
      "12         0.847722        0.016116   \n",
      "13         0.848176        0.015834   \n",
      "14         0.848187        0.016856   \n",
      "15         0.846773        0.017653   \n",
      "16         0.839076        0.017794   \n",
      "17         0.831676        0.017332   \n",
      "18         0.828553        0.017614   \n",
      "19         0.828169        0.016058   \n",
      "20         0.833663        0.016972   \n",
      "21         0.830750        0.013346   \n",
      "22         0.833126        0.017757   \n",
      "23         0.834390        0.019324   \n",
      "24         0.835823        0.016395   \n",
      "25         0.835961        0.016700   \n",
      "26         0.836308        0.017331   \n",
      "27         0.836129        0.018073   \n",
      "28         0.833281        0.019340   \n",
      "29         0.840115        0.020984   \n",
      "..              ...             ...   \n",
      "34         0.819793        0.017427   \n",
      "35         0.820882        0.016599   \n",
      "36         0.823951        0.015812   \n",
      "37         0.821880        0.014493   \n",
      "38         0.826998        0.019770   \n",
      "39         0.830564        0.019179   \n",
      "40         0.820189        0.026402   \n",
      "41         0.826051        0.027062   \n",
      "42         0.833922        0.025552   \n",
      "43         0.834364        0.026137   \n",
      "44         0.824223        0.022380   \n",
      "45         0.829724        0.022515   \n",
      "46         0.831826        0.021356   \n",
      "47         0.832516        0.021424   \n",
      "48         0.823499        0.021857   \n",
      "49         0.822333        0.016801   \n",
      "50         0.826131        0.020640   \n",
      "51         0.827254        0.023415   \n",
      "52         0.800462        0.022405   \n",
      "53         0.810331        0.020967   \n",
      "54         0.816951        0.022368   \n",
      "55         0.821882        0.022697   \n",
      "56         0.815787        0.017316   \n",
      "57         0.823961        0.019809   \n",
      "58         0.826988        0.018105   \n",
      "59         0.828133        0.017275   \n",
      "60         0.822433        0.019055   \n",
      "61         0.828791        0.018835   \n",
      "62         0.831317        0.020901   \n",
      "63         0.832270        0.021382   \n",
      "\n",
      "                                               params  \n",
      "0   {'learning_rate': 0.1, 'max_depth': 2, 'n_esti...  \n",
      "1   {'learning_rate': 0.1, 'max_depth': 2, 'n_esti...  \n",
      "2   {'learning_rate': 0.1, 'max_depth': 2, 'n_esti...  \n",
      "3   {'learning_rate': 0.1, 'max_depth': 2, 'n_esti...  \n",
      "4   {'learning_rate': 0.1, 'max_depth': 3, 'n_esti...  \n",
      "5   {'learning_rate': 0.1, 'max_depth': 3, 'n_esti...  \n",
      "6   {'learning_rate': 0.1, 'max_depth': 3, 'n_esti...  \n",
      "7   {'learning_rate': 0.1, 'max_depth': 3, 'n_esti...  \n",
      "8   {'learning_rate': 0.1, 'max_depth': 4, 'n_esti...  \n",
      "9   {'learning_rate': 0.1, 'max_depth': 4, 'n_esti...  \n",
      "10  {'learning_rate': 0.1, 'max_depth': 4, 'n_esti...  \n",
      "11  {'learning_rate': 0.1, 'max_depth': 4, 'n_esti...  \n",
      "12  {'learning_rate': 0.1, 'max_depth': 5, 'n_esti...  \n",
      "13  {'learning_rate': 0.1, 'max_depth': 5, 'n_esti...  \n",
      "14  {'learning_rate': 0.1, 'max_depth': 5, 'n_esti...  \n",
      "15  {'learning_rate': 0.1, 'max_depth': 5, 'n_esti...  \n",
      "16  {'learning_rate': 0.4, 'max_depth': 2, 'n_esti...  \n",
      "17  {'learning_rate': 0.4, 'max_depth': 2, 'n_esti...  \n",
      "18  {'learning_rate': 0.4, 'max_depth': 2, 'n_esti...  \n",
      "19  {'learning_rate': 0.4, 'max_depth': 2, 'n_esti...  \n",
      "20  {'learning_rate': 0.4, 'max_depth': 3, 'n_esti...  \n",
      "21  {'learning_rate': 0.4, 'max_depth': 3, 'n_esti...  \n",
      "22  {'learning_rate': 0.4, 'max_depth': 3, 'n_esti...  \n",
      "23  {'learning_rate': 0.4, 'max_depth': 3, 'n_esti...  \n",
      "24  {'learning_rate': 0.4, 'max_depth': 4, 'n_esti...  \n",
      "25  {'learning_rate': 0.4, 'max_depth': 4, 'n_esti...  \n",
      "26  {'learning_rate': 0.4, 'max_depth': 4, 'n_esti...  \n",
      "27  {'learning_rate': 0.4, 'max_depth': 4, 'n_esti...  \n",
      "28  {'learning_rate': 0.4, 'max_depth': 5, 'n_esti...  \n",
      "29  {'learning_rate': 0.4, 'max_depth': 5, 'n_esti...  \n",
      "..                                                ...  \n",
      "34  {'learning_rate': 0.6, 'max_depth': 2, 'n_esti...  \n",
      "35  {'learning_rate': 0.6, 'max_depth': 2, 'n_esti...  \n",
      "36  {'learning_rate': 0.6, 'max_depth': 3, 'n_esti...  \n",
      "37  {'learning_rate': 0.6, 'max_depth': 3, 'n_esti...  \n",
      "38  {'learning_rate': 0.6, 'max_depth': 3, 'n_esti...  \n",
      "39  {'learning_rate': 0.6, 'max_depth': 3, 'n_esti...  \n",
      "40  {'learning_rate': 0.6, 'max_depth': 4, 'n_esti...  \n",
      "41  {'learning_rate': 0.6, 'max_depth': 4, 'n_esti...  \n",
      "42  {'learning_rate': 0.6, 'max_depth': 4, 'n_esti...  \n",
      "43  {'learning_rate': 0.6, 'max_depth': 4, 'n_esti...  \n",
      "44  {'learning_rate': 0.6, 'max_depth': 5, 'n_esti...  \n",
      "45  {'learning_rate': 0.6, 'max_depth': 5, 'n_esti...  \n",
      "46  {'learning_rate': 0.6, 'max_depth': 5, 'n_esti...  \n",
      "47  {'learning_rate': 0.6, 'max_depth': 5, 'n_esti...  \n",
      "48  {'learning_rate': 0.8, 'max_depth': 2, 'n_esti...  \n",
      "49  {'learning_rate': 0.8, 'max_depth': 2, 'n_esti...  \n",
      "50  {'learning_rate': 0.8, 'max_depth': 2, 'n_esti...  \n",
      "51  {'learning_rate': 0.8, 'max_depth': 2, 'n_esti...  \n",
      "52  {'learning_rate': 0.8, 'max_depth': 3, 'n_esti...  \n",
      "53  {'learning_rate': 0.8, 'max_depth': 3, 'n_esti...  \n",
      "54  {'learning_rate': 0.8, 'max_depth': 3, 'n_esti...  \n",
      "55  {'learning_rate': 0.8, 'max_depth': 3, 'n_esti...  \n",
      "56  {'learning_rate': 0.8, 'max_depth': 4, 'n_esti...  \n",
      "57  {'learning_rate': 0.8, 'max_depth': 4, 'n_esti...  \n",
      "58  {'learning_rate': 0.8, 'max_depth': 4, 'n_esti...  \n",
      "59  {'learning_rate': 0.8, 'max_depth': 4, 'n_esti...  \n",
      "60  {'learning_rate': 0.8, 'max_depth': 5, 'n_esti...  \n",
      "61  {'learning_rate': 0.8, 'max_depth': 5, 'n_esti...  \n",
      "62  {'learning_rate': 0.8, 'max_depth': 5, 'n_esti...  \n",
      "63  {'learning_rate': 0.8, 'max_depth': 5, 'n_esti...  \n",
      "\n",
      "[64 rows x 3 columns]\n"
     ]
    }
   ],
   "source": [
    "Xboost  = xgb.XGBClassifier( objective='binary:logistic', booster='gbtree', n_jobs=-1)\n",
    "cv_xgb = GridSearchCV(Xboost, xparams, cv=5,scoring='roc_auc')\n",
    "cv_xgb.fit(X_AvgW2VtfIdf_Cv, Y_cv)\n",
    "\n",
    "print('Best Parameters using grid search: \\n',cv_xgb.best_params_,\"\\n\\n\")\n",
    "Set8_Cv_Results = pd.DataFrame(cv_xgb.cv_results_)[['mean_test_score', 'std_test_score', 'params']]\n",
    "print(Set8_Cv_Results)"
   ]
  },
  {
   "cell_type": "code",
   "execution_count": 370,
   "metadata": {},
   "outputs": [
    {
     "name": "stdout",
     "output_type": "stream",
     "text": [
      "\t best_score_     : 0.8481869756997356\n",
      "\t best_params_    : {'learning_rate': 0.1, 'max_depth': 5, 'n_estimators': 200}\n"
     ]
    }
   ],
   "source": [
    "#examine the best model\n",
    "print(\"\\t best_score_     :\",cv_xgb.best_score_)\n",
    "print(\"\\t best_params_    :\",cv_xgb.best_params_)\n",
    "#print(\" best_estimator_ :\",cv_xgb.best_estimator_)\n",
    "Set8_best             = cv_xgb.best_params_\n",
    "Set8_best_max_depth   =  cv_xgb.best_params_['max_depth']\n",
    "Set8_best_estimator   =  cv_xgb.best_params_['n_estimators']\n",
    "Set8_best_V           =  cv_xgb.best_params_['learning_rate']\n",
    "Set8_Cv_AUC           =  cv_xgb.best_score_"
   ]
  },
  {
   "cell_type": "code",
   "execution_count": 371,
   "metadata": {},
   "outputs": [],
   "source": [
    "Set8_Weights = []\n",
    "Xboost = xgb.XGBClassifier(n_estimator=Set5_best_estimator,max_depth=Set5_best_max_depth,learning_rate=Set5_best_V,objective='binary:logistic', booster='gbtree', n_jobs=-1)\n",
    "Xboost.fit(X_AvgW2VtfIdf_Tr,Y_tr)\n",
    "Set8_Weights = Xboost.feature_importances_.tolist()"
   ]
  },
  {
   "cell_type": "code",
   "execution_count": 372,
   "metadata": {},
   "outputs": [
    {
     "name": "stdout",
     "output_type": "stream",
     "text": [
      " Train Data      AUC for the Best Lamda  is  0.9947453703296152\n",
      " Test Validaton  AUC for the BEst Lamda  is  0.8340686654464392\n"
     ]
    },
    {
     "data": {
      "image/png": "[encoded data removed]",
      "text/plain": [
       "<Figure size 432x288 with 1 Axes>"
      ]
     },
     "metadata": {},
     "output_type": "display_data"
    }
   ],
   "source": [
    "#https://qiita.com/bmj0114/items/460424c110a8ce22d945\n",
    "Set8_Tr_prob    =  Xboost.predict_proba(X_AvgW2VtfIdf_Tr)    # Probablity of TRAIN-Validation\n",
    "Set8_Tst_prob   =  Xboost.predict_proba(X_AvgW2VtfIdf_Test)    # Probablity of Cross-Validation\n",
    "\n",
    "Set8_tst_fpr, Set8_tst_tpr, thresholds = roc_curve(Y_test,Set8_Tst_prob[:,1])\n",
    "Set8_tst_roc_auc = auc(Set8_tst_fpr, Set8_tst_tpr)\n",
    "\n",
    "Set8_train_fpr, Set8_train_tpr, thresholds = roc_curve(Y_tr,Set8_Tr_prob[:,1])\n",
    "Set8_train_roc_auc = auc(Set8_train_fpr, Set8_train_tpr)\n",
    "\n",
    "\n",
    "print(\" Train Data      AUC for the Best Lamda  is \", Set8_train_roc_auc)\n",
    "print(\" Test Validaton  AUC for the BEst Lamda  is \", Set8_tst_roc_auc)\n",
    "\n",
    "lw=1\n",
    "plt.figure()\n",
    "plt.plot(Set8_tst_fpr, Set8_tst_tpr, color='darkorange', lw=3, label='Test ROC curve (area = %0.2f)' % Set8_tst_roc_auc)\n",
    "plt.plot(Set8_train_fpr, Set8_train_tpr, color='navy', lw=1, label='Train ROC curve (area = %0.2f)' % Set8_train_roc_auc)\n",
    "plt.plot([0, 1], [0,1], color='red', lw=lw, linestyle='--')\n",
    "plt.xlim([0.0, 1.0])\n",
    "plt.ylim([0.0, 1.04])\n",
    "plt.xlabel('False Positive Rate')\n",
    "plt.ylabel('True Positive Rate')\n",
    "plt.title('ROC - Receiver operating characteristic')\n",
    "plt.legend(loc=\"lower right\")\n",
    "plt.show()"
   ]
  },
  {
   "cell_type": "code",
   "execution_count": null,
   "metadata": {},
   "outputs": [],
   "source": []
  },
  {
   "cell_type": "markdown",
   "metadata": {
    "colab_type": "text",
    "id": "AMpRCS_sLs4T"
   },
   "source": [
    "# [6] Conclusions"
   ]
  },
  {
   "cell_type": "code",
   "execution_count": 373,
   "metadata": {
    "colab": {},
    "colab_type": "code",
    "id": "kMBho-LiLs4T"
   },
   "outputs": [],
   "source": [
    "# Please compare all your models using Prettytable library"
   ]
  }
 ],
 "metadata": {
  "colab": {
   "collapsed_sections": [
    "1zx3OJ8aLs3L",
    "cINi_W06Ls3q",
    "l3EIrSjsLs3t",
    "qD7Bjt85Ls3w",
    "QGccvBKTLs3y",
    "-NM5E-glLs34",
    "TZ7mLBDgLs35",
    "tzS18bQ3Ls37",
    "aPYIWlGxLs4A",
    "wiXbhUV9Ls4B",
    "bwf2SbLSLs4D",
    "o0qHcTh5Ls4E",
    "HjwJEpiBLs4G",
    "L0c7yH-fLs4H",
    "SHr5r9HzLs4J",
    "SIn8pwLdLs4L",
    "8YoGGV7hLs4L",
    "u5_lHeZuLs4N",
    "3b6-rEyILs4O",
    "XchPt9RDLs4R"
   ],
   "name": "09 Amazon Fine Food Reviews Analysis_RF.ipynb",
   "provenance": [],
   "version": "0.3.2"
  },
  "kernelspec": {
   "display_name": "Python 3",
   "language": "python",
   "name": "python3"
  },
  "language_info": {
   "codemirror_mode": {
    "name": "ipython",
    "version": 3
   },
   "file_extension": ".py",
   "mimetype": "text/x-python",
   "name": "python",
   "nbconvert_exporter": "python",
   "pygments_lexer": "ipython3",
   "version": "3.6.5"
  }
 },
 "nbformat": 4,
 "nbformat_minor": 1
}
