{
  "nbformat": 4,
  "nbformat_minor": 0,
  "metadata": {
    "colab": {
      "name": "ANN_Softmax Classifier by Keras.ipynb",
      "version": "0.3.2",
      "provenance": [],
      "collapsed_sections": [],
      "include_colab_link": true
    },
    "kernelspec": {
      "name": "python3",
      "display_name": "Python 3"
    }
  },
  "cells": [
    {
      "cell_type": "markdown",
      "metadata": {
        "id": "view-in-github",
        "colab_type": "text"
      },
      "source": [
        "<a href=\"https://colab.research.google.com/github/Praveen-Progs-Hub-2018/Artificial-Intellegence/blob/master/ANN_Softmax_Classifier_by_Keras.ipynb\" target=\"_parent\"><img src=\"https://colab.research.google.com/assets/colab-badge.svg\" alt=\"Open In Colab\"/></a>"
      ]
    },
    {
      "metadata": {
        "id": "lMm8RDf93kwW",
        "colab_type": "text"
      },
      "cell_type": "markdown",
      "source": [
        "## **Code for Artificial Nueral Network  using Tensorflow and Keras**\n",
        "\n",
        "\n",
        "*   Developer  : PraveenAI \n",
        "\n",
        "*   Program    : Softmax Classification Nueral Network\n",
        "\n",
        "*   Objective   : Classify the Mulitclass Image data, which consits of Numbers in it.\n",
        "\n",
        "*   DataSet      : Mnist Dataset\n"
      ]
    },
    {
      "metadata": {
        "id": "99fNM_zvlk6L",
        "colab_type": "code",
        "colab": {}
      },
      "cell_type": "code",
      "source": [
        "from keras.utils import np_utils\n",
        "from keras.datasets import mnist\n",
        "from keras.initializers import RandomNormal\n",
        "import seaborn as sns"
      ],
      "execution_count": 0,
      "outputs": []
    },
    {
      "metadata": {
        "id": "LaFq70icmvx5",
        "colab_type": "code",
        "colab": {}
      },
      "cell_type": "code",
      "source": [
        "(X_train, y_train), (X_test, y_test) = mnist.load_data()"
      ],
      "execution_count": 0,
      "outputs": []
    },
    {
      "metadata": {
        "id": "Z7yBqm43vt5Z",
        "colab_type": "code",
        "colab": {
          "base_uri": "https://localhost:8080/",
          "height": 85
        },
        "outputId": "43d2e8b3-00a9-4e25-a6af-3813d02202db"
      },
      "cell_type": "code",
      "source": [
        "print(\"Type of training Data :\", type(X_train))\n",
        "print(\"Shape of training Data :\", X_train.shape)\n",
        "print(\"Number of training examples :\", X_train.shape[0], \"and each image is of shape (%d)\"%(X_train.shape[1]))\n",
        "print(\"Number of training examples :\", X_test.shape[0], \"and each image is of shape (%d)\"%(X_test.shape[1]))"
      ],
      "execution_count": 18,
      "outputs": [
        {
          "output_type": "stream",
          "text": [
            "Type of training Data : <class 'numpy.ndarray'>\n",
            "Shape of training Data : (60000, 28, 28)\n",
            "Number of training examples : 60000 and each image is of shape (28)\n",
            "Number of training examples : 10000 and each image is of shape (28)\n"
          ],
          "name": "stdout"
        }
      ]
    },
    {
      "metadata": {
        "id": "2YM4VG57Aghk",
        "colab_type": "text"
      },
      "cell_type": "markdown",
      "source": [
        "***Reshape the Dependent features from 3Dimensinal to 2Dimentional Data***\n"
      ]
    },
    {
      "metadata": {
        "id": "UbUkCKhDAPxO",
        "colab_type": "code",
        "colab": {}
      },
      "cell_type": "code",
      "source": [
        "X_train = X_train.reshape(X_train.shape[0],(X_train.shape[1]*X_train.shape[2]))\n",
        "X_test = X_test.reshape(X_test.shape[0],(X_test.shape[1]*X_test.shape[2]))"
      ],
      "execution_count": 0,
      "outputs": []
    },
    {
      "metadata": {
        "id": "MuxZKp6B9K1R",
        "colab_type": "code",
        "colab": {
          "base_uri": "https://localhost:8080/",
          "height": 85
        },
        "outputId": "1eb57695-0421-4a95-ce0b-a39430bda6c3"
      },
      "cell_type": "code",
      "source": [
        "print(\"Type of training Data :\", type(X_train))\n",
        "print(\"Shape of training Data :\", X_train.shape)\n",
        "print(\"Number of training examples :\", X_train.shape[0], \"and each image is of shape (%d)\"%(X_train.shape[1]))\n",
        "print(\"Number of training examples :\", X_test.shape[0], \"and each image is of shape (%d)\"%(X_test.shape[1]))"
      ],
      "execution_count": 20,
      "outputs": [
        {
          "output_type": "stream",
          "text": [
            "Type of training Data : <class 'numpy.ndarray'>\n",
            "Shape of training Data : (60000, 784)\n",
            "Number of training examples : 60000 and each image is of shape (784)\n",
            "Number of training examples : 10000 and each image is of shape (784)\n"
          ],
          "name": "stdout"
        }
      ]
    },
    {
      "metadata": {
        "id": "HQiM-wTl7bhP",
        "colab_type": "text"
      },
      "cell_type": "markdown",
      "source": [
        "**Normalize the Dataset**"
      ]
    },
    {
      "metadata": {
        "id": "brfireUpv3il",
        "colab_type": "code",
        "colab": {}
      },
      "cell_type": "code",
      "source": [
        "# if we observe the above matrix each cell is having a value between 0-255\n",
        "# before we move to apply machine learning algorithms lets try to normalize the data\n",
        "# X => (X - Xmin)/(Xmax-Xmin) = X/255\n",
        "\n",
        "X_train = X_train/255\n",
        "X_test = X_test/255"
      ],
      "execution_count": 0,
      "outputs": []
    },
    {
      "metadata": {
        "id": "M4EQB8X7Bbhf",
        "colab_type": "text"
      },
      "cell_type": "markdown",
      "source": [
        "**Convert Categorical Labels to One-Hot Coded**"
      ]
    },
    {
      "metadata": {
        "id": "9w6buP-_BKMy",
        "colab_type": "code",
        "colab": {
          "base_uri": "https://localhost:8080/",
          "height": 51
        },
        "outputId": "05b431e6-9c03-41bf-8859-16db23628a0b"
      },
      "cell_type": "code",
      "source": [
        "# here we are having a class number for each image\n",
        "print(\"Class label of first image :\", y_train[0])\n",
        "\n",
        "# lets convert this into a 10 dimensional vector\n",
        "# ex: consider an image is 5 convert it into 5 => [0, 0, 0, 0, 0, 1, 0, 0, 0, 0]\n",
        "# this conversion needed for MLPs \n",
        "\n",
        "Y_train = np_utils.to_categorical(y_train, 10) \n",
        "Y_test = np_utils.to_categorical(y_test, 10)\n",
        "\n",
        "print(\"After converting the output into a vector : \",Y_train[0])"
      ],
      "execution_count": 22,
      "outputs": [
        {
          "output_type": "stream",
          "text": [
            "Class label of first image : 5\n",
            "After converting the output into a vector :  [0. 0. 0. 0. 0. 1. 0. 0. 0. 0.]\n"
          ],
          "name": "stdout"
        }
      ]
    },
    {
      "metadata": {
        "id": "4an9TpusBqH8",
        "colab_type": "text"
      },
      "cell_type": "markdown",
      "source": [
        "## **SoftMax Classiffier**"
      ]
    },
    {
      "metadata": {
        "id": "f7lx15UUBKfa",
        "colab_type": "code",
        "colab": {}
      },
      "cell_type": "code",
      "source": [
        "# there are many activation functions ar available ex: tanh, relu, softmax\n",
        "from keras.models import Sequential \n",
        "from keras.layers import Dense, Activation "
      ],
      "execution_count": 0,
      "outputs": []
    },
    {
      "metadata": {
        "id": "CUAzmn0mCQja",
        "colab_type": "code",
        "colab": {}
      },
      "cell_type": "code",
      "source": [
        "some model parameters"
      ],
      "execution_count": 0,
      "outputs": []
    },
    {
      "metadata": {
        "id": "o6GWr63WCtk5",
        "colab_type": "text"
      },
      "cell_type": "markdown",
      "source": [
        "### some model paramters"
      ]
    },
    {
      "metadata": {
        "id": "2-WvZCtJCQXk",
        "colab_type": "code",
        "colab": {}
      },
      "cell_type": "code",
      "source": [
        "output_dim = 10\n",
        "input_dim = X_train.shape[1]\n",
        "\n",
        "batch_size = 128 \n",
        "nb_epoch = 20"
      ],
      "execution_count": 0,
      "outputs": []
    },
    {
      "metadata": {
        "id": "ffG4MxQ4DlIv",
        "colab_type": "text"
      },
      "cell_type": "markdown",
      "source": [
        "### Model Defind"
      ]
    },
    {
      "metadata": {
        "id": "MpYUyaJmCQls",
        "colab_type": "code",
        "colab": {
          "base_uri": "https://localhost:8080/",
          "height": 88
        },
        "outputId": "327cd237-55c9-42b2-fe3c-b38436ab78cd"
      },
      "cell_type": "code",
      "source": [
        "# start building a model\n",
        "model = Sequential()\n",
        "\n",
        "model.add(Dense(output_dim, input_dim=input_dim, activation='softmax'))"
      ],
      "execution_count": 28,
      "outputs": [
        {
          "output_type": "stream",
          "text": [
            "WARNING:tensorflow:From /usr/local/lib/python3.6/dist-packages/tensorflow/python/framework/op_def_library.py:263: colocate_with (from tensorflow.python.framework.ops) is deprecated and will be removed in a future version.\n",
            "Instructions for updating:\n",
            "Colocations handled automatically by placer.\n"
          ],
          "name": "stdout"
        }
      ]
    },
    {
      "metadata": {
        "id": "bcjxNGZ6EDUR",
        "colab_type": "text"
      },
      "cell_type": "markdown",
      "source": [
        "### Compile and Fit"
      ]
    },
    {
      "metadata": {
        "id": "fvs0WCbgD1lV",
        "colab_type": "code",
        "colab": {
          "base_uri": "https://localhost:8080/",
          "height": 785
        },
        "outputId": "2bd77a3b-defc-4e10-cd79-9dafa8af6bc6"
      },
      "cell_type": "code",
      "source": [
        "\n",
        "model.compile(optimizer='sgd', loss='categorical_crossentropy', metrics=['accuracy'])\n",
        "\n",
        "history = model.fit(X_train, Y_train, batch_size=batch_size, epochs=nb_epoch, verbose=1, validation_data=(X_test, Y_test))"
      ],
      "execution_count": 30,
      "outputs": [
        {
          "output_type": "stream",
          "text": [
            "WARNING:tensorflow:From /usr/local/lib/python3.6/dist-packages/tensorflow/python/ops/math_ops.py:3066: to_int32 (from tensorflow.python.ops.math_ops) is deprecated and will be removed in a future version.\n",
            "Instructions for updating:\n",
            "Use tf.cast instead.\n",
            "Train on 60000 samples, validate on 10000 samples\n",
            "Epoch 1/20\n",
            "60000/60000 [==============================] - 2s 31us/step - loss: 1.2744 - acc: 0.6992 - val_loss: 0.8125 - val_acc: 0.8312\n",
            "Epoch 2/20\n",
            "60000/60000 [==============================] - 1s 22us/step - loss: 0.7157 - acc: 0.8403 - val_loss: 0.6084 - val_acc: 0.8616\n",
            "Epoch 3/20\n",
            "60000/60000 [==============================] - 1s 21us/step - loss: 0.5869 - acc: 0.8602 - val_loss: 0.5269 - val_acc: 0.8740\n",
            "Epoch 4/20\n",
            "60000/60000 [==============================] - 1s 20us/step - loss: 0.5251 - acc: 0.8694 - val_loss: 0.4806 - val_acc: 0.8806\n",
            "Epoch 5/20\n",
            "60000/60000 [==============================] - 1s 20us/step - loss: 0.4875 - acc: 0.8757 - val_loss: 0.4503 - val_acc: 0.8853\n",
            "Epoch 6/20\n",
            "60000/60000 [==============================] - 1s 21us/step - loss: 0.4616 - acc: 0.8800 - val_loss: 0.4291 - val_acc: 0.8895\n",
            "Epoch 7/20\n",
            "60000/60000 [==============================] - 1s 20us/step - loss: 0.4425 - acc: 0.8835 - val_loss: 0.4128 - val_acc: 0.8925\n",
            "Epoch 8/20\n",
            "60000/60000 [==============================] - 1s 20us/step - loss: 0.4276 - acc: 0.8865 - val_loss: 0.4001 - val_acc: 0.8937\n",
            "Epoch 9/20\n",
            "60000/60000 [==============================] - 1s 20us/step - loss: 0.4155 - acc: 0.8892 - val_loss: 0.3899 - val_acc: 0.8950\n",
            "Epoch 10/20\n",
            "60000/60000 [==============================] - 1s 21us/step - loss: 0.4056 - acc: 0.8910 - val_loss: 0.3809 - val_acc: 0.8982\n",
            "Epoch 11/20\n",
            "60000/60000 [==============================] - 1s 21us/step - loss: 0.3971 - acc: 0.8929 - val_loss: 0.3735 - val_acc: 0.8998\n",
            "Epoch 12/20\n",
            "60000/60000 [==============================] - 1s 21us/step - loss: 0.3898 - acc: 0.8947 - val_loss: 0.3669 - val_acc: 0.9011\n",
            "Epoch 13/20\n",
            "60000/60000 [==============================] - 1s 21us/step - loss: 0.3834 - acc: 0.8960 - val_loss: 0.3616 - val_acc: 0.9034\n",
            "Epoch 14/20\n",
            "60000/60000 [==============================] - 1s 21us/step - loss: 0.3778 - acc: 0.8972 - val_loss: 0.3568 - val_acc: 0.9045\n",
            "Epoch 15/20\n",
            "60000/60000 [==============================] - 1s 23us/step - loss: 0.3728 - acc: 0.8984 - val_loss: 0.3521 - val_acc: 0.9047\n",
            "Epoch 16/20\n",
            "60000/60000 [==============================] - 1s 23us/step - loss: 0.3683 - acc: 0.8993 - val_loss: 0.3483 - val_acc: 0.9065\n",
            "Epoch 17/20\n",
            "60000/60000 [==============================] - 1s 24us/step - loss: 0.3642 - acc: 0.9003 - val_loss: 0.3446 - val_acc: 0.9068\n",
            "Epoch 18/20\n",
            "60000/60000 [==============================] - 1s 23us/step - loss: 0.3604 - acc: 0.9012 - val_loss: 0.3411 - val_acc: 0.9071\n",
            "Epoch 19/20\n",
            "60000/60000 [==============================] - 1s 21us/step - loss: 0.3570 - acc: 0.9014 - val_loss: 0.3384 - val_acc: 0.9083\n",
            "Epoch 20/20\n",
            "60000/60000 [==============================] - 1s 21us/step - loss: 0.3538 - acc: 0.9025 - val_loss: 0.3358 - val_acc: 0.9078\n"
          ],
          "name": "stdout"
        }
      ]
    },
    {
      "metadata": {
        "id": "uzoroQLwEcbr",
        "colab_type": "text"
      },
      "cell_type": "markdown",
      "source": [
        "### Plot"
      ]
    },
    {
      "metadata": {
        "id": "yMqmU6oaEwCE",
        "colab_type": "code",
        "colab": {}
      },
      "cell_type": "code",
      "source": [
        "%matplotlib inline\n",
        "import matplotlib.pyplot as plt\n",
        "import numpy as np\n",
        "import time\n",
        "# https://gist.github.com/greydanus/f6eee59eaf1d90fcb3b534a25362cea4\n",
        "# https://stackoverflow.com/a/14434334\n",
        "# this function is used to update the plots for each epoch and error"
      ],
      "execution_count": 0,
      "outputs": []
    },
    {
      "metadata": {
        "id": "X7SuGnUjI7Ot",
        "colab_type": "code",
        "colab": {}
      },
      "cell_type": "code",
      "source": [
        "# https://gist.github.com/greydanus/f6eee59eaf1d90fcb3b534a25362cea4\n",
        "# https://stackoverflow.com/a/14434334\n",
        "# this function is used to update the plots for each epoch and error\n",
        "def plt_dynamic(x, vy, ty, ax, colors=['b']):\n",
        "    ax.plot(x, vy, 'b', label=\"Validation Loss\")\n",
        "    ax.plot(x, ty, 'r', label=\"Train Loss\")\n",
        "    plt.legend()\n",
        "    plt.grid()\n",
        "    fig.canvas.draw()\n",
        "    "
      ],
      "execution_count": 0,
      "outputs": []
    },
    {
      "metadata": {
        "id": "3PNESxxHEfig",
        "colab_type": "code",
        "colab": {
          "base_uri": "https://localhost:8080/",
          "height": 313
        },
        "outputId": "5c34bbe7-1a30-40ff-b7a0-766a4168175c"
      },
      "cell_type": "code",
      "source": [
        "score = model.evaluate(X_test, Y_test, verbose=0) \n",
        "print('Test score:', score[0]) \n",
        "print('Test accuracy:', score[1])\n",
        "\n",
        "fig,ax = plt.subplots(1,1)\n",
        "ax.set_xlabel('epoch') ; ax.set_ylabel('Categorical Crossentropy Loss')\n",
        "\n",
        "# list of epoch numbers\n",
        "x = list(range(1,nb_epoch+1))\n",
        "\n",
        "\n",
        "\n",
        "vy = history.history['val_loss']\n",
        "ty = history.history['loss']\n",
        "plt_dynamic(x, vy, ty, ax)"
      ],
      "execution_count": 73,
      "outputs": [
        {
          "output_type": "stream",
          "text": [
            "Test score: 0.3357747725188732\n",
            "Test accuracy: 0.9078\n"
          ],
          "name": "stdout"
        },
        {
          "output_type": "display_data",
          "data": {
            "image/png": "[encoded data removed]",
            "text/plain": [
              "<Figure size 432x288 with 1 Axes>"
            ]
          },
          "metadata": {
            "tags": []
          }
        }
      ]
    }
  ]
}