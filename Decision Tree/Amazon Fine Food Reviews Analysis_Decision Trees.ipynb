{
 "cells": [
  {
   "cell_type": "markdown",
   "metadata": {
    "colab_type": "text",
    "id": "AM7jsfwALPlp"
   },
   "source": [
    "# Amazon Fine Food Reviews Analysis\n",
    "\n",
    "\n",
    "Data Source: https://www.kaggle.com/snap/amazon-fine-food-reviews <br>\n",
    "\n",
    "EDA: https://nycdatascience.com/blog/student-works/amazon-fine-foods-visualization/\n",
    "\n",
    "\n",
    "Developer : PraveenAI\n",
    "\n",
    ".\n",
    "The Amazon Fine Food Reviews dataset consists of reviews of fine foods from Amazon.<br>\n",
    "\n",
    "Number of reviews: 568,454<br>\n",
    "Number of users: 256,059<br>\n",
    "Number of products: 74,258<br>\n",
    "Timespan: Oct 1999 - Oct 2012<br>\n",
    "Number of Attributes/Columns in data: 10 \n",
    "\n",
    "Attribute Information:\n",
    "\n",
    "1. Id\n",
    "2. ProductId - unique identifier for the product\n",
    "3. UserId - unqiue identifier for the user\n",
    "4. ProfileName\n",
    "5. HelpfulnessNumerator - number of users who found the review helpful\n",
    "6. HelpfulnessDenominator - number of users who indicated whether they found the review helpful or not\n",
    "7. Score - rating between 1 and 5\n",
    "8. Time - timestamp for the review\n",
    "9. Summary - brief summary of the review\n",
    "10. Text - text of the review\n",
    "\n",
    "\n",
    "#### Objective:\n",
    "Given a review, determine whether the review is positive (rating of 4 or 5) or negative (rating of 1 or 2).\n",
    "\n",
    "<br>\n",
    "[Q] How to determine if a review is positive or negative?<br>\n",
    "<br> \n",
    "[Ans] We could use Score/Rating. A rating of 4 or 5 can be cosnidered as a positive review. A rating of 1 or 2 can be considered as negative one. A review of rating 3 is considered nuetral and such reviews are ignored from our analysis. This is an approximate and proxy way of determining the polarity (positivity/negativity) of a review.\n",
    "\n",
    "\n"
   ]
  },
  {
   "cell_type": "markdown",
   "metadata": {
    "colab_type": "text",
    "id": "CaQ7XJ4OLPls"
   },
   "source": [
    "# [1]. Reading Data"
   ]
  },
  {
   "cell_type": "markdown",
   "metadata": {
    "colab_type": "text",
    "id": "5VnEBjKRLPlu"
   },
   "source": [
    "## [1.1] Loading the data\n",
    "\n",
    "The dataset is available in two forms\n",
    "1. .csv file\n",
    "2. SQLite Database\n",
    "\n",
    "In order to load the data, We have used the SQLITE dataset as it is easier to query the data and visualise the data efficiently.\n",
    "<br> \n",
    "\n",
    "Here as we only want to get the global sentiment of the recommendations (positive or negative), we will purposefully ignore all Scores equal to 3. If the score is above 3, then the recommendation wil be set to \"positive\". Otherwise, it will be set to \"negative\"."
   ]
  },
  {
   "cell_type": "code",
   "execution_count": 1,
   "metadata": {
    "colab": {},
    "colab_type": "code",
    "id": "x6YclOzXLPlv"
   },
   "outputs": [],
   "source": [
    "%matplotlib inline\n",
    "import warnings\n",
    "warnings.filterwarnings(\"ignore\")\n",
    "\n",
    "\n",
    "import sqlite3\n",
    "import pandas as pd\n",
    "import numpy as np\n",
    "import nltk\n",
    "import string\n",
    "import matplotlib.pyplot as plt\n",
    "import seaborn as sns\n",
    "from sklearn.feature_extraction.text import TfidfTransformer\n",
    "from sklearn.feature_extraction.text import TfidfVectorizer\n",
    "\n",
    "from sklearn.feature_extraction.text import CountVectorizer\n",
    "from sklearn.metrics import confusion_matrix\n",
    "from sklearn import metrics\n",
    "from sklearn.metrics import roc_curve, auc\n",
    "from nltk.stem.porter import PorterStemmer\n",
    "\n",
    "import re\n",
    "# Tutorial about Python regular expressions: https://pymotw.com/2/re/\n",
    "import string\n",
    "from nltk.corpus import stopwords\n",
    "from nltk.stem import PorterStemmer\n",
    "from nltk.stem.wordnet import WordNetLemmatizer\n",
    "\n",
    "from gensim.models import Word2Vec\n",
    "from gensim.models import KeyedVectors\n",
    "import pickle\n",
    "\n",
    "from tqdm import tqdm\n",
    "import os"
   ]
  },
  {
   "cell_type": "code",
   "execution_count": 2,
   "metadata": {
    "colab": {},
    "colab_type": "code",
    "id": "NZ4OSpSiLPl0",
    "outputId": "241c4c64-6186-4351-e38f-fcd06c6896dd"
   },
   "outputs": [
    {
     "name": "stdout",
     "output_type": "stream",
     "text": [
      "Number of data points in our data (70000, 10)\n"
     ]
    },
    {
     "data": {
      "text/html": [
       "<div>\n",
       "<style scoped>\n",
       "    .dataframe tbody tr th:only-of-type {\n",
       "        vertical-align: middle;\n",
       "    }\n",
       "\n",
       "    .dataframe tbody tr th {\n",
       "        vertical-align: top;\n",
       "    }\n",
       "\n",
       "    .dataframe thead th {\n",
       "        text-align: right;\n",
       "    }\n",
       "</style>\n",
       "<table border=\"1\" class=\"dataframe\">\n",
       "  <thead>\n",
       "    <tr style=\"text-align: right;\">\n",
       "      <th></th>\n",
       "      <th>Id</th>\n",
       "      <th>ProductId</th>\n",
       "      <th>UserId</th>\n",
       "      <th>ProfileName</th>\n",
       "      <th>HelpfulnessNumerator</th>\n",
       "      <th>HelpfulnessDenominator</th>\n",
       "      <th>Score</th>\n",
       "      <th>Time</th>\n",
       "      <th>Summary</th>\n",
       "      <th>Text</th>\n",
       "    </tr>\n",
       "  </thead>\n",
       "  <tbody>\n",
       "    <tr>\n",
       "      <th>0</th>\n",
       "      <td>1</td>\n",
       "      <td>B001E4KFG0</td>\n",
       "      <td>A3SGXH7AUHU8GW</td>\n",
       "      <td>delmartian</td>\n",
       "      <td>1</td>\n",
       "      <td>1</td>\n",
       "      <td>1</td>\n",
       "      <td>1303862400</td>\n",
       "      <td>Good Quality Dog Food</td>\n",
       "      <td>I have bought several of the Vitality canned d...</td>\n",
       "    </tr>\n",
       "    <tr>\n",
       "      <th>1</th>\n",
       "      <td>2</td>\n",
       "      <td>B00813GRG4</td>\n",
       "      <td>A1D87F6ZCVE5NK</td>\n",
       "      <td>dll pa</td>\n",
       "      <td>0</td>\n",
       "      <td>0</td>\n",
       "      <td>0</td>\n",
       "      <td>1346976000</td>\n",
       "      <td>Not as Advertised</td>\n",
       "      <td>Product arrived labeled as Jumbo Salted Peanut...</td>\n",
       "    </tr>\n",
       "    <tr>\n",
       "      <th>2</th>\n",
       "      <td>3</td>\n",
       "      <td>B000LQOCH0</td>\n",
       "      <td>ABXLMWJIXXAIN</td>\n",
       "      <td>Natalia Corres \"Natalia Corres\"</td>\n",
       "      <td>1</td>\n",
       "      <td>1</td>\n",
       "      <td>1</td>\n",
       "      <td>1219017600</td>\n",
       "      <td>\"Delight\" says it all</td>\n",
       "      <td>This is a confection that has been around a fe...</td>\n",
       "    </tr>\n",
       "  </tbody>\n",
       "</table>\n",
       "</div>"
      ],
      "text/plain": [
       "   Id   ProductId          UserId                      ProfileName  \\\n",
       "0   1  B001E4KFG0  A3SGXH7AUHU8GW                       delmartian   \n",
       "1   2  B00813GRG4  A1D87F6ZCVE5NK                           dll pa   \n",
       "2   3  B000LQOCH0   ABXLMWJIXXAIN  Natalia Corres \"Natalia Corres\"   \n",
       "\n",
       "   HelpfulnessNumerator  HelpfulnessDenominator  Score        Time  \\\n",
       "0                     1                       1      1  1303862400   \n",
       "1                     0                       0      0  1346976000   \n",
       "2                     1                       1      1  1219017600   \n",
       "\n",
       "                 Summary                                               Text  \n",
       "0  Good Quality Dog Food  I have bought several of the Vitality canned d...  \n",
       "1      Not as Advertised  Product arrived labeled as Jumbo Salted Peanut...  \n",
       "2  \"Delight\" says it all  This is a confection that has been around a fe...  "
      ]
     },
     "execution_count": 2,
     "metadata": {},
     "output_type": "execute_result"
    }
   ],
   "source": [
    "# using SQLite Table to read data.\n",
    "con = sqlite3.connect('database.sqlite') \n",
    "\n",
    "# filtering only positive and negative reviews i.e. \n",
    "# not taking into consideration those reviews with Score=3\n",
    "# SELECT * FROM Reviews WHERE Score != 3 LIMIT 500000, will give top 500000 data points\n",
    "# you can change the number to any other number based on your computing power\n",
    "\n",
    "# filtered_data = pd.read_sql_query(\"\"\" SELECT * FROM Reviews WHERE Score != 3 LIMIT 500000\"\"\", con) \n",
    "# for tsne assignment you can take 5k data points\n",
    "\n",
    "filtered_data = pd.read_sql_query(\"\"\" SELECT * FROM Reviews WHERE Score != 3 LIMIT 70000\"\"\", con) \n",
    "\n",
    "# Give reviews with Score>3 a positive rating(1), and reviews with a score<3 a negative rating(0).\n",
    "def partition(x):\n",
    "    if x < 3:\n",
    "        return 0\n",
    "    return 1\n",
    "\n",
    "#changing reviews with score less than 3 to be positive and vice-versa\n",
    "actualScore = filtered_data['Score']\n",
    "positiveNegative = actualScore.map(partition) \n",
    "filtered_data['Score'] = positiveNegative\n",
    "print(\"Number of data points in our data\", filtered_data.shape)\n",
    "filtered_data.head(3)"
   ]
  },
  {
   "cell_type": "code",
   "execution_count": 3,
   "metadata": {
    "colab": {},
    "colab_type": "code",
    "id": "r44Y4VDjLPl7"
   },
   "outputs": [],
   "source": [
    "display = pd.read_sql_query(\"\"\"\n",
    "SELECT UserId, ProductId, ProfileName, Time, Score, Text, COUNT(*)\n",
    "FROM Reviews\n",
    "GROUP BY UserId\n",
    "HAVING COUNT(*)>1\n",
    "\"\"\", con)"
   ]
  },
  {
   "cell_type": "code",
   "execution_count": 4,
   "metadata": {
    "colab": {},
    "colab_type": "code",
    "id": "tTwINQv1LPl_",
    "outputId": "0385b9ca-0a35-4c2b-b656-8e8494414e6f",
    "scrolled": true
   },
   "outputs": [
    {
     "name": "stdout",
     "output_type": "stream",
     "text": [
      "(80668, 7)\n"
     ]
    },
    {
     "data": {
      "text/html": [
       "<div>\n",
       "<style scoped>\n",
       "    .dataframe tbody tr th:only-of-type {\n",
       "        vertical-align: middle;\n",
       "    }\n",
       "\n",
       "    .dataframe tbody tr th {\n",
       "        vertical-align: top;\n",
       "    }\n",
       "\n",
       "    .dataframe thead th {\n",
       "        text-align: right;\n",
       "    }\n",
       "</style>\n",
       "<table border=\"1\" class=\"dataframe\">\n",
       "  <thead>\n",
       "    <tr style=\"text-align: right;\">\n",
       "      <th></th>\n",
       "      <th>UserId</th>\n",
       "      <th>ProductId</th>\n",
       "      <th>ProfileName</th>\n",
       "      <th>Time</th>\n",
       "      <th>Score</th>\n",
       "      <th>Text</th>\n",
       "      <th>COUNT(*)</th>\n",
       "    </tr>\n",
       "  </thead>\n",
       "  <tbody>\n",
       "    <tr>\n",
       "      <th>0</th>\n",
       "      <td>#oc-R115TNMSPFT9I7</td>\n",
       "      <td>B007Y59HVM</td>\n",
       "      <td>Breyton</td>\n",
       "      <td>1331510400</td>\n",
       "      <td>2</td>\n",
       "      <td>Overall its just OK when considering the price...</td>\n",
       "      <td>2</td>\n",
       "    </tr>\n",
       "    <tr>\n",
       "      <th>1</th>\n",
       "      <td>#oc-R11D9D7SHXIJB9</td>\n",
       "      <td>B005HG9ET0</td>\n",
       "      <td>Louis E. Emory \"hoppy\"</td>\n",
       "      <td>1342396800</td>\n",
       "      <td>5</td>\n",
       "      <td>My wife has recurring extreme muscle spasms, u...</td>\n",
       "      <td>3</td>\n",
       "    </tr>\n",
       "    <tr>\n",
       "      <th>2</th>\n",
       "      <td>#oc-R11DNU2NBKQ23Z</td>\n",
       "      <td>B007Y59HVM</td>\n",
       "      <td>Kim Cieszykowski</td>\n",
       "      <td>1348531200</td>\n",
       "      <td>1</td>\n",
       "      <td>This coffee is horrible and unfortunately not ...</td>\n",
       "      <td>2</td>\n",
       "    </tr>\n",
       "    <tr>\n",
       "      <th>3</th>\n",
       "      <td>#oc-R11O5J5ZVQE25C</td>\n",
       "      <td>B005HG9ET0</td>\n",
       "      <td>Penguin Chick</td>\n",
       "      <td>1346889600</td>\n",
       "      <td>5</td>\n",
       "      <td>This will be the bottle that you grab from the...</td>\n",
       "      <td>3</td>\n",
       "    </tr>\n",
       "    <tr>\n",
       "      <th>4</th>\n",
       "      <td>#oc-R12KPBODL2B5ZD</td>\n",
       "      <td>B007OSBE1U</td>\n",
       "      <td>Christopher P. Presta</td>\n",
       "      <td>1348617600</td>\n",
       "      <td>1</td>\n",
       "      <td>I didnt like this coffee. Instead of telling y...</td>\n",
       "      <td>2</td>\n",
       "    </tr>\n",
       "  </tbody>\n",
       "</table>\n",
       "</div>"
      ],
      "text/plain": [
       "               UserId   ProductId             ProfileName        Time  Score  \\\n",
       "0  #oc-R115TNMSPFT9I7  B007Y59HVM                 Breyton  1331510400      2   \n",
       "1  #oc-R11D9D7SHXIJB9  B005HG9ET0  Louis E. Emory \"hoppy\"  1342396800      5   \n",
       "2  #oc-R11DNU2NBKQ23Z  B007Y59HVM        Kim Cieszykowski  1348531200      1   \n",
       "3  #oc-R11O5J5ZVQE25C  B005HG9ET0           Penguin Chick  1346889600      5   \n",
       "4  #oc-R12KPBODL2B5ZD  B007OSBE1U   Christopher P. Presta  1348617600      1   \n",
       "\n",
       "                                                Text  COUNT(*)  \n",
       "0  Overall its just OK when considering the price...         2  \n",
       "1  My wife has recurring extreme muscle spasms, u...         3  \n",
       "2  This coffee is horrible and unfortunately not ...         2  \n",
       "3  This will be the bottle that you grab from the...         3  \n",
       "4  I didnt like this coffee. Instead of telling y...         2  "
      ]
     },
     "execution_count": 4,
     "metadata": {},
     "output_type": "execute_result"
    }
   ],
   "source": [
    "print(display.shape)\n",
    "display.head()"
   ]
  },
  {
   "cell_type": "code",
   "execution_count": 5,
   "metadata": {
    "colab": {},
    "colab_type": "code",
    "id": "EOslHQgnLPmF",
    "outputId": "cb28598d-470a-42bb-e742-4763f953c8cb"
   },
   "outputs": [
    {
     "data": {
      "text/html": [
       "<div>\n",
       "<style scoped>\n",
       "    .dataframe tbody tr th:only-of-type {\n",
       "        vertical-align: middle;\n",
       "    }\n",
       "\n",
       "    .dataframe tbody tr th {\n",
       "        vertical-align: top;\n",
       "    }\n",
       "\n",
       "    .dataframe thead th {\n",
       "        text-align: right;\n",
       "    }\n",
       "</style>\n",
       "<table border=\"1\" class=\"dataframe\">\n",
       "  <thead>\n",
       "    <tr style=\"text-align: right;\">\n",
       "      <th></th>\n",
       "      <th>UserId</th>\n",
       "      <th>ProductId</th>\n",
       "      <th>ProfileName</th>\n",
       "      <th>Time</th>\n",
       "      <th>Score</th>\n",
       "      <th>Text</th>\n",
       "      <th>COUNT(*)</th>\n",
       "    </tr>\n",
       "  </thead>\n",
       "  <tbody>\n",
       "    <tr>\n",
       "      <th>80638</th>\n",
       "      <td>AZY10LLTJ71NX</td>\n",
       "      <td>B006P7E5ZI</td>\n",
       "      <td>undertheshrine \"undertheshrine\"</td>\n",
       "      <td>1334707200</td>\n",
       "      <td>5</td>\n",
       "      <td>I was recommended to try green tea extract to ...</td>\n",
       "      <td>5</td>\n",
       "    </tr>\n",
       "  </tbody>\n",
       "</table>\n",
       "</div>"
      ],
      "text/plain": [
       "              UserId   ProductId                      ProfileName        Time  \\\n",
       "80638  AZY10LLTJ71NX  B006P7E5ZI  undertheshrine \"undertheshrine\"  1334707200   \n",
       "\n",
       "       Score                                               Text  COUNT(*)  \n",
       "80638      5  I was recommended to try green tea extract to ...         5  "
      ]
     },
     "execution_count": 5,
     "metadata": {},
     "output_type": "execute_result"
    }
   ],
   "source": [
    "display[display['UserId']=='AZY10LLTJ71NX']"
   ]
  },
  {
   "cell_type": "code",
   "execution_count": 6,
   "metadata": {
    "colab": {},
    "colab_type": "code",
    "id": "pSwF4sdoLPmM",
    "outputId": "2f3bd7f2-0eea-45f7-eab6-bf08c630d9a3"
   },
   "outputs": [
    {
     "data": {
      "text/plain": [
       "393063"
      ]
     },
     "execution_count": 6,
     "metadata": {},
     "output_type": "execute_result"
    }
   ],
   "source": [
    "display['COUNT(*)'].sum()"
   ]
  },
  {
   "cell_type": "markdown",
   "metadata": {
    "colab_type": "text",
    "id": "PuNkhjz0LPmQ"
   },
   "source": [
    "#  [2] Exploratory Data Analysis"
   ]
  },
  {
   "cell_type": "markdown",
   "metadata": {
    "colab_type": "text",
    "id": "oCJaTWrTLPmS"
   },
   "source": [
    "## [2.1] Data Cleaning: Deduplication\n",
    "\n",
    "It is observed (as shown in the table below) that the reviews data had many duplicate entries. Hence it was necessary to remove duplicates in order to get unbiased results for the analysis of the data.  Following is an example:"
   ]
  },
  {
   "cell_type": "code",
   "execution_count": 7,
   "metadata": {
    "colab": {},
    "colab_type": "code",
    "id": "3lvzRwWVLPmT",
    "outputId": "96ba6f90-6c40-4972-ecd2-d2d208e48877",
    "scrolled": false
   },
   "outputs": [
    {
     "data": {
      "text/html": [
       "<div>\n",
       "<style scoped>\n",
       "    .dataframe tbody tr th:only-of-type {\n",
       "        vertical-align: middle;\n",
       "    }\n",
       "\n",
       "    .dataframe tbody tr th {\n",
       "        vertical-align: top;\n",
       "    }\n",
       "\n",
       "    .dataframe thead th {\n",
       "        text-align: right;\n",
       "    }\n",
       "</style>\n",
       "<table border=\"1\" class=\"dataframe\">\n",
       "  <thead>\n",
       "    <tr style=\"text-align: right;\">\n",
       "      <th></th>\n",
       "      <th>Id</th>\n",
       "      <th>ProductId</th>\n",
       "      <th>UserId</th>\n",
       "      <th>ProfileName</th>\n",
       "      <th>HelpfulnessNumerator</th>\n",
       "      <th>HelpfulnessDenominator</th>\n",
       "      <th>Score</th>\n",
       "      <th>Time</th>\n",
       "      <th>Summary</th>\n",
       "      <th>Text</th>\n",
       "    </tr>\n",
       "  </thead>\n",
       "  <tbody>\n",
       "    <tr>\n",
       "      <th>0</th>\n",
       "      <td>78445</td>\n",
       "      <td>B000HDL1RQ</td>\n",
       "      <td>AR5J8UI46CURR</td>\n",
       "      <td>Geetha Krishnan</td>\n",
       "      <td>2</td>\n",
       "      <td>2</td>\n",
       "      <td>5</td>\n",
       "      <td>1199577600</td>\n",
       "      <td>LOACKER QUADRATINI VANILLA WAFERS</td>\n",
       "      <td>DELICIOUS WAFERS. I FIND THAT EUROPEAN WAFERS ...</td>\n",
       "    </tr>\n",
       "    <tr>\n",
       "      <th>1</th>\n",
       "      <td>138317</td>\n",
       "      <td>B000HDOPYC</td>\n",
       "      <td>AR5J8UI46CURR</td>\n",
       "      <td>Geetha Krishnan</td>\n",
       "      <td>2</td>\n",
       "      <td>2</td>\n",
       "      <td>5</td>\n",
       "      <td>1199577600</td>\n",
       "      <td>LOACKER QUADRATINI VANILLA WAFERS</td>\n",
       "      <td>DELICIOUS WAFERS. I FIND THAT EUROPEAN WAFERS ...</td>\n",
       "    </tr>\n",
       "    <tr>\n",
       "      <th>2</th>\n",
       "      <td>138277</td>\n",
       "      <td>B000HDOPYM</td>\n",
       "      <td>AR5J8UI46CURR</td>\n",
       "      <td>Geetha Krishnan</td>\n",
       "      <td>2</td>\n",
       "      <td>2</td>\n",
       "      <td>5</td>\n",
       "      <td>1199577600</td>\n",
       "      <td>LOACKER QUADRATINI VANILLA WAFERS</td>\n",
       "      <td>DELICIOUS WAFERS. I FIND THAT EUROPEAN WAFERS ...</td>\n",
       "    </tr>\n",
       "    <tr>\n",
       "      <th>3</th>\n",
       "      <td>73791</td>\n",
       "      <td>B000HDOPZG</td>\n",
       "      <td>AR5J8UI46CURR</td>\n",
       "      <td>Geetha Krishnan</td>\n",
       "      <td>2</td>\n",
       "      <td>2</td>\n",
       "      <td>5</td>\n",
       "      <td>1199577600</td>\n",
       "      <td>LOACKER QUADRATINI VANILLA WAFERS</td>\n",
       "      <td>DELICIOUS WAFERS. I FIND THAT EUROPEAN WAFERS ...</td>\n",
       "    </tr>\n",
       "    <tr>\n",
       "      <th>4</th>\n",
       "      <td>155049</td>\n",
       "      <td>B000PAQ75C</td>\n",
       "      <td>AR5J8UI46CURR</td>\n",
       "      <td>Geetha Krishnan</td>\n",
       "      <td>2</td>\n",
       "      <td>2</td>\n",
       "      <td>5</td>\n",
       "      <td>1199577600</td>\n",
       "      <td>LOACKER QUADRATINI VANILLA WAFERS</td>\n",
       "      <td>DELICIOUS WAFERS. I FIND THAT EUROPEAN WAFERS ...</td>\n",
       "    </tr>\n",
       "  </tbody>\n",
       "</table>\n",
       "</div>"
      ],
      "text/plain": [
       "       Id   ProductId         UserId      ProfileName  HelpfulnessNumerator  \\\n",
       "0   78445  B000HDL1RQ  AR5J8UI46CURR  Geetha Krishnan                     2   \n",
       "1  138317  B000HDOPYC  AR5J8UI46CURR  Geetha Krishnan                     2   \n",
       "2  138277  B000HDOPYM  AR5J8UI46CURR  Geetha Krishnan                     2   \n",
       "3   73791  B000HDOPZG  AR5J8UI46CURR  Geetha Krishnan                     2   \n",
       "4  155049  B000PAQ75C  AR5J8UI46CURR  Geetha Krishnan                     2   \n",
       "\n",
       "   HelpfulnessDenominator  Score        Time  \\\n",
       "0                       2      5  1199577600   \n",
       "1                       2      5  1199577600   \n",
       "2                       2      5  1199577600   \n",
       "3                       2      5  1199577600   \n",
       "4                       2      5  1199577600   \n",
       "\n",
       "                             Summary  \\\n",
       "0  LOACKER QUADRATINI VANILLA WAFERS   \n",
       "1  LOACKER QUADRATINI VANILLA WAFERS   \n",
       "2  LOACKER QUADRATINI VANILLA WAFERS   \n",
       "3  LOACKER QUADRATINI VANILLA WAFERS   \n",
       "4  LOACKER QUADRATINI VANILLA WAFERS   \n",
       "\n",
       "                                                Text  \n",
       "0  DELICIOUS WAFERS. I FIND THAT EUROPEAN WAFERS ...  \n",
       "1  DELICIOUS WAFERS. I FIND THAT EUROPEAN WAFERS ...  \n",
       "2  DELICIOUS WAFERS. I FIND THAT EUROPEAN WAFERS ...  \n",
       "3  DELICIOUS WAFERS. I FIND THAT EUROPEAN WAFERS ...  \n",
       "4  DELICIOUS WAFERS. I FIND THAT EUROPEAN WAFERS ...  "
      ]
     },
     "execution_count": 7,
     "metadata": {},
     "output_type": "execute_result"
    }
   ],
   "source": [
    "display= pd.read_sql_query(\"\"\"\n",
    "SELECT *\n",
    "FROM Reviews\n",
    "WHERE Score != 3 AND UserId=\"AR5J8UI46CURR\"\n",
    "ORDER BY ProductID\n",
    "\"\"\", con)\n",
    "display.head()"
   ]
  },
  {
   "cell_type": "markdown",
   "metadata": {
    "colab_type": "text",
    "id": "uT7p9_deLPmb"
   },
   "source": [
    "As it can be seen above that same user has multiple reviews with same values for HelpfulnessNumerator, HelpfulnessDenominator, Score, Time, Summary and Text and on doing analysis it was found that <br>\n",
    "<br> \n",
    "ProductId=B000HDOPZG was Loacker Quadratini Vanilla Wafer Cookies, 8.82-Ounce Packages (Pack of 8)<br>\n",
    "<br> \n",
    "ProductId=B000HDL1RQ was Loacker Quadratini Lemon Wafer Cookies, 8.82-Ounce Packages (Pack of 8) and so on<br>\n",
    "\n",
    "It was inferred after analysis that reviews with same parameters other than ProductId belonged to the same product just having different flavour or quantity. Hence in order to reduce redundancy it was decided to eliminate the rows having same parameters.<br>\n",
    "\n",
    "The method used for the same was that we first sort the data according to ProductId and then just keep the first similar product review and delelte the others. for eg. in the above just the review for ProductId=B000HDL1RQ remains. This method ensures that there is only one representative for each product and deduplication without sorting would lead to possibility of different representatives still existing for the same product."
   ]
  },
  {
   "cell_type": "code",
   "execution_count": 8,
   "metadata": {
    "colab": {},
    "colab_type": "code",
    "id": "mdsKFc50LPme"
   },
   "outputs": [],
   "source": [
    "#Sorting data according to ProductId in ascending order\n",
    "sorted_data=filtered_data.sort_values('ProductId', axis=0, ascending=True, inplace=False, kind='quicksort', na_position='last')"
   ]
  },
  {
   "cell_type": "code",
   "execution_count": 9,
   "metadata": {
    "colab": {},
    "colab_type": "code",
    "id": "2itLgX-NLPmk",
    "outputId": "ac765625-dfdc-4e4e-f886-bd3b7ca3635a"
   },
   "outputs": [
    {
     "data": {
      "text/plain": [
       "(62864, 10)"
      ]
     },
     "execution_count": 9,
     "metadata": {},
     "output_type": "execute_result"
    }
   ],
   "source": [
    "#Deduplication of entries\n",
    "final=sorted_data.drop_duplicates(subset={\"UserId\",\"ProfileName\",\"Time\",\"Text\"}, keep='first', inplace=False)\n",
    "final.shape"
   ]
  },
  {
   "cell_type": "code",
   "execution_count": 10,
   "metadata": {
    "colab": {},
    "colab_type": "code",
    "id": "IBU4iZk4LPmt",
    "outputId": "ceeba223-fe3f-407a-b4e5-0d46c08f69dd"
   },
   "outputs": [
    {
     "data": {
      "text/plain": [
       "89.80571428571429"
      ]
     },
     "execution_count": 10,
     "metadata": {},
     "output_type": "execute_result"
    }
   ],
   "source": [
    "#Checking to see how much % of data still remains\n",
    "(final['Id'].size*1.0)/(filtered_data['Id'].size*1.0)*100"
   ]
  },
  {
   "cell_type": "markdown",
   "metadata": {
    "colab_type": "text",
    "id": "gFBOfSe4LPmy"
   },
   "source": [
    "<b>Observation:-</b> It was also seen that in two rows given below the value of HelpfulnessNumerator is greater than HelpfulnessDenominator which is not practically possible hence these two rows too are removed from calcualtions"
   ]
  },
  {
   "cell_type": "code",
   "execution_count": 11,
   "metadata": {
    "colab": {},
    "colab_type": "code",
    "id": "50flE40lLPmz",
    "outputId": "b6c7e38e-25c1-4a48-be1f-70fdf31aba13"
   },
   "outputs": [
    {
     "data": {
      "text/html": [
       "<div>\n",
       "<style scoped>\n",
       "    .dataframe tbody tr th:only-of-type {\n",
       "        vertical-align: middle;\n",
       "    }\n",
       "\n",
       "    .dataframe tbody tr th {\n",
       "        vertical-align: top;\n",
       "    }\n",
       "\n",
       "    .dataframe thead th {\n",
       "        text-align: right;\n",
       "    }\n",
       "</style>\n",
       "<table border=\"1\" class=\"dataframe\">\n",
       "  <thead>\n",
       "    <tr style=\"text-align: right;\">\n",
       "      <th></th>\n",
       "      <th>Id</th>\n",
       "      <th>ProductId</th>\n",
       "      <th>UserId</th>\n",
       "      <th>ProfileName</th>\n",
       "      <th>HelpfulnessNumerator</th>\n",
       "      <th>HelpfulnessDenominator</th>\n",
       "      <th>Score</th>\n",
       "      <th>Time</th>\n",
       "      <th>Summary</th>\n",
       "      <th>Text</th>\n",
       "    </tr>\n",
       "  </thead>\n",
       "  <tbody>\n",
       "    <tr>\n",
       "      <th>0</th>\n",
       "      <td>64422</td>\n",
       "      <td>B000MIDROQ</td>\n",
       "      <td>A161DK06JJMCYF</td>\n",
       "      <td>J. E. Stephens \"Jeanne\"</td>\n",
       "      <td>3</td>\n",
       "      <td>1</td>\n",
       "      <td>5</td>\n",
       "      <td>1224892800</td>\n",
       "      <td>Bought This for My Son at College</td>\n",
       "      <td>My son loves spaghetti so I didn't hesitate or...</td>\n",
       "    </tr>\n",
       "    <tr>\n",
       "      <th>1</th>\n",
       "      <td>44737</td>\n",
       "      <td>B001EQ55RW</td>\n",
       "      <td>A2V0I904FH7ABY</td>\n",
       "      <td>Ram</td>\n",
       "      <td>3</td>\n",
       "      <td>2</td>\n",
       "      <td>4</td>\n",
       "      <td>1212883200</td>\n",
       "      <td>Pure cocoa taste with crunchy almonds inside</td>\n",
       "      <td>It was almost a 'love at first bite' - the per...</td>\n",
       "    </tr>\n",
       "  </tbody>\n",
       "</table>\n",
       "</div>"
      ],
      "text/plain": [
       "      Id   ProductId          UserId              ProfileName  \\\n",
       "0  64422  B000MIDROQ  A161DK06JJMCYF  J. E. Stephens \"Jeanne\"   \n",
       "1  44737  B001EQ55RW  A2V0I904FH7ABY                      Ram   \n",
       "\n",
       "   HelpfulnessNumerator  HelpfulnessDenominator  Score        Time  \\\n",
       "0                     3                       1      5  1224892800   \n",
       "1                     3                       2      4  1212883200   \n",
       "\n",
       "                                        Summary  \\\n",
       "0             Bought This for My Son at College   \n",
       "1  Pure cocoa taste with crunchy almonds inside   \n",
       "\n",
       "                                                Text  \n",
       "0  My son loves spaghetti so I didn't hesitate or...  \n",
       "1  It was almost a 'love at first bite' - the per...  "
      ]
     },
     "execution_count": 11,
     "metadata": {},
     "output_type": "execute_result"
    }
   ],
   "source": [
    "display= pd.read_sql_query(\"\"\"\n",
    "SELECT *\n",
    "FROM Reviews\n",
    "WHERE Score != 3 AND Id=44737 OR Id=64422\n",
    "ORDER BY ProductID\n",
    "\"\"\", con)\n",
    "\n",
    "display.head()"
   ]
  },
  {
   "cell_type": "code",
   "execution_count": 12,
   "metadata": {
    "colab": {},
    "colab_type": "code",
    "id": "0YTPJMLTLPm7"
   },
   "outputs": [],
   "source": [
    "final=final[final.HelpfulnessNumerator<=final.HelpfulnessDenominator]"
   ]
  },
  {
   "cell_type": "code",
   "execution_count": 13,
   "metadata": {
    "colab": {},
    "colab_type": "code",
    "id": "LVJ_l-x2LPnC",
    "outputId": "d4a19c7a-16fe-4b5b-c3d1-aa1ef0f948a0"
   },
   "outputs": [
    {
     "name": "stdout",
     "output_type": "stream",
     "text": [
      "(62862, 10)\n"
     ]
    },
    {
     "data": {
      "text/plain": [
       "1    52600\n",
       "0    10262\n",
       "Name: Score, dtype: int64"
      ]
     },
     "execution_count": 13,
     "metadata": {},
     "output_type": "execute_result"
    }
   ],
   "source": [
    "#Before starting the next phase of preprocessing lets see the number of entries left\n",
    "print(final.shape)\n",
    "\n",
    "#How many positive and negative reviews are present in our dataset?\n",
    "final['Score'].value_counts()"
   ]
  },
  {
   "cell_type": "markdown",
   "metadata": {
    "colab_type": "text",
    "id": "GrTYWzYrLPnH"
   },
   "source": [
    "#  [3] Preprocessing"
   ]
  },
  {
   "cell_type": "markdown",
   "metadata": {
    "colab_type": "text",
    "id": "zbvLitZeLPnI"
   },
   "source": [
    "## [3.1].  Preprocessing Review Text\n",
    "\n",
    "Now that we have finished deduplication our data requires some preprocessing before we go on further with analysis and making the prediction model.\n",
    "\n",
    "Hence in the Preprocessing phase we do the following in the order below:-\n",
    "\n",
    "1. Begin by removing the html tags\n",
    "2. Remove any punctuations or limited set of special characters like , or . or # etc.\n",
    "3. Check if the word is made up of english letters and is not alpha-numeric\n",
    "4. Check to see if the length of the word is greater than 2 (as it was researched that there is no adjective in 2-letters)\n",
    "5. Convert the word to lowercase\n",
    "6. Remove Stopwords\n",
    "7. Finally Snowball Stemming the word (it was obsereved to be better than Porter Stemming)<br>\n",
    "\n",
    "After which we collect the words used to describe positive and negative reviews"
   ]
  },
  {
   "cell_type": "code",
   "execution_count": 14,
   "metadata": {
    "colab": {},
    "colab_type": "code",
    "id": "yYDc0ZXALPnK",
    "outputId": "5403fab9-796a-493d-f9d3-2a410d004f64"
   },
   "outputs": [
    {
     "name": "stdout",
     "output_type": "stream",
     "text": [
      "Our dogs just love them.  I saw them in a pet store and a tag was attached regarding them being made in China and it satisfied me that they were safe.\n",
      "==================================================\n",
      "Although I have not bought canidae through Amazon (there is a local store near me that carries the life all stages 40LB bag for $35) I just wanted to write in and remark how impressed I am with this food.  I have an almost 2 year old chocalate lab.  When i got him from the breeder at 9 weeks he was on Eukanuba, which he stayed on with me at 1st.  After talking to a friend who breeds world class vizlas, she told me how she feeds them Canidae and how wonderful it is.  I switched over to Canidae then thank god and ever since.  My chocalate lab people actually think is a black lab.  He is the darkest chocolate lab u have ever seen, his coat is so beautiful and glossy, when he was on the eukanuba it was light brown and discolored.  Coats can be a huge problem with choc labs, but canidae has solved that problem.  With all the problems with menu foods that include so called good foods like eukanuba, science diet, iams, etc, it is a relief i can trust canidae and not be worried about all that.  Very impressed overall.....\n",
      "==================================================\n",
      "I've been feeding my two labradors this food for about 3 yrs now and they are both doing well.<br />My older lab (13yrs.) seems to thrive on it and despite some level of arthritis in her hips, she still is very active. I don't mean to ascribe this to Canidae soley, but it certainly helps.\n",
      "==================================================\n",
      "I came across Canidae when we adopted a 3 week puppy whose mother had transitioned.  We didn't know how to care for him properly so we went to the local pet store and they said Canidae was the food to use and to use it throughout his life.  We simply wet the food for the first few weeks before going completely dry and he has loved it throughout.  We also feed it to our 65 pound Goldendoodle and he loves it as well.  Definitely a great find.\n",
      "==================================================\n"
     ]
    }
   ],
   "source": [
    "# printing some random reviews\n",
    "sent_0 = final['Text'].values[0]\n",
    "print(sent_0)\n",
    "print(\"=\"*50)\n",
    "\n",
    "sent_1000 = final['Text'].values[100]\n",
    "print(sent_1000)\n",
    "print(\"=\"*50)\n",
    "\n",
    "sent_1500 = final['Text'].values[150]\n",
    "print(sent_1500)\n",
    "print(\"=\"*50)\n",
    "\n",
    "sent_4900 = final['Text'].values[49]\n",
    "print(sent_4900)\n",
    "print(\"=\"*50)"
   ]
  },
  {
   "cell_type": "code",
   "execution_count": 15,
   "metadata": {
    "colab": {},
    "colab_type": "code",
    "id": "AxYh-wPiLPnS",
    "outputId": "31bddcb2-6c52-4b16-f9fb-c03d5b3bb7c8"
   },
   "outputs": [
    {
     "name": "stdout",
     "output_type": "stream",
     "text": [
      "Our dogs just love them.  I saw them in a pet store and a tag was attached regarding them being made in China and it satisfied me that they were safe.\n"
     ]
    }
   ],
   "source": [
    "# remove urls from text python: https://stackoverflow.com/a/40823105/4084039\n",
    "sent_0 = re.sub(r\"http\\S+\", \"\", sent_0)\n",
    "sent_1000 = re.sub(r\"http\\S+\", \"\", sent_1000)\n",
    "sent_150 = re.sub(r\"http\\S+\", \"\", sent_1500)\n",
    "sent_4900 = re.sub(r\"http\\S+\", \"\", sent_4900)\n",
    "\n",
    "print(sent_0)"
   ]
  },
  {
   "cell_type": "code",
   "execution_count": 16,
   "metadata": {},
   "outputs": [],
   "source": [
    "from bs4 import BeautifulSoup\n"
   ]
  },
  {
   "cell_type": "code",
   "execution_count": 17,
   "metadata": {
    "colab": {},
    "colab_type": "code",
    "id": "JMSSWjZqLPne",
    "outputId": "eb1bae4e-6f37-45ee-84a3-ef3bebf4e30a"
   },
   "outputs": [
    {
     "name": "stdout",
     "output_type": "stream",
     "text": [
      "Our dogs just love them.  I saw them in a pet store and a tag was attached regarding them being made in China and it satisfied me that they were safe.\n",
      "==================================================\n",
      "Although I have not bought canidae through Amazon (there is a local store near me that carries the life all stages 40LB bag for $35) I just wanted to write in and remark how impressed I am with this food.  I have an almost 2 year old chocalate lab.  When i got him from the breeder at 9 weeks he was on Eukanuba, which he stayed on with me at 1st.  After talking to a friend who breeds world class vizlas, she told me how she feeds them Canidae and how wonderful it is.  I switched over to Canidae then thank god and ever since.  My chocalate lab people actually think is a black lab.  He is the darkest chocolate lab u have ever seen, his coat is so beautiful and glossy, when he was on the eukanuba it was light brown and discolored.  Coats can be a huge problem with choc labs, but canidae has solved that problem.  With all the problems with menu foods that include so called good foods like eukanuba, science diet, iams, etc, it is a relief i can trust canidae and not be worried about all that.  Very impressed overall.....\n",
      "==================================================\n",
      "I've been feeding my two labradors this food for about 3 yrs now and they are both doing well.My older lab (13yrs.) seems to thrive on it and despite some level of arthritis in her hips, she still is very active. I don't mean to ascribe this to Canidae soley, but it certainly helps.\n",
      "==================================================\n",
      "I came across Canidae when we adopted a 3 week puppy whose mother had transitioned.  We didn't know how to care for him properly so we went to the local pet store and they said Canidae was the food to use and to use it throughout his life.  We simply wet the food for the first few weeks before going completely dry and he has loved it throughout.  We also feed it to our 65 pound Goldendoodle and he loves it as well.  Definitely a great find.\n"
     ]
    }
   ],
   "source": [
    "# https://stackoverflow.com/questions/16206380/python-beautifulsoup-how-to-remove-all-tags-from-an-element\n",
    "\n",
    "soup = BeautifulSoup(sent_0, 'lxml')\n",
    "text = soup.get_text()\n",
    "print(text)\n",
    "print(\"=\"*50)\n",
    "\n",
    "soup = BeautifulSoup(sent_1000, 'lxml')\n",
    "text = soup.get_text()\n",
    "print(text)\n",
    "print(\"=\"*50)\n",
    "\n",
    "soup = BeautifulSoup(sent_1500, 'lxml')\n",
    "text = soup.get_text()\n",
    "print(text)\n",
    "print(\"=\"*50)\n",
    "\n",
    "soup = BeautifulSoup(sent_4900, 'lxml')\n",
    "text = soup.get_text()\n",
    "print(text)"
   ]
  },
  {
   "cell_type": "code",
   "execution_count": 18,
   "metadata": {
    "colab": {},
    "colab_type": "code",
    "id": "BEtpMkhULPnt"
   },
   "outputs": [],
   "source": [
    "# https://stackoverflow.com/a/47091490/4084039\n",
    "import re\n",
    "\n",
    "def decontracted(phrase):\n",
    "    # specific\n",
    "    phrase = re.sub(r\"won't\", \"will not\", phrase)\n",
    "    phrase = re.sub(r\"can\\'t\", \"can not\", phrase)\n",
    "\n",
    "    # general\n",
    "    phrase = re.sub(r\"n\\'t\", \" not\", phrase)\n",
    "    phrase = re.sub(r\"\\'re\", \" are\", phrase)\n",
    "    phrase = re.sub(r\"\\'s\", \" is\", phrase)\n",
    "    phrase = re.sub(r\"\\'d\", \" would\", phrase)\n",
    "    phrase = re.sub(r\"\\'ll\", \" will\", phrase)\n",
    "    phrase = re.sub(r\"\\'t\", \" not\", phrase)\n",
    "    phrase = re.sub(r\"\\'ve\", \" have\", phrase)\n",
    "    phrase = re.sub(r\"\\'m\", \" am\", phrase)\n",
    "    return phrase"
   ]
  },
  {
   "cell_type": "code",
   "execution_count": 19,
   "metadata": {
    "colab": {},
    "colab_type": "code",
    "id": "GavAnzNjLPnx",
    "outputId": "517fca9a-b1b6-4c6c-ab33-4c5ac4a5bd62"
   },
   "outputs": [
    {
     "name": "stdout",
     "output_type": "stream",
     "text": [
      "I have been feeding my two labradors this food for about 3 yrs now and they are both doing well.<br />My older lab (13yrs.) seems to thrive on it and despite some level of arthritis in her hips, she still is very active. I do not mean to ascribe this to Canidae soley, but it certainly helps.\n",
      "==================================================\n"
     ]
    }
   ],
   "source": [
    "sent_1500 = decontracted(sent_1500)\n",
    "print(sent_1500)\n",
    "print(\"=\"*50)"
   ]
  },
  {
   "cell_type": "code",
   "execution_count": 20,
   "metadata": {
    "colab": {},
    "colab_type": "code",
    "id": "Kl8nOoL-LPn3",
    "outputId": "16742d57-2529-4fc0-9d28-e9332dbbca97"
   },
   "outputs": [
    {
     "name": "stdout",
     "output_type": "stream",
     "text": [
      "Our dogs just love them.  I saw them in a pet store and a tag was attached regarding them being made in China and it satisfied me that they were safe.\n"
     ]
    }
   ],
   "source": [
    "#remove words with numbers python: https://stackoverflow.com/a/18082370/4084039\n",
    "sent_0 = re.sub(\"\\S*\\d\\S*\", \"\", sent_0).strip()\n",
    "print(sent_0)"
   ]
  },
  {
   "cell_type": "code",
   "execution_count": 21,
   "metadata": {
    "colab": {},
    "colab_type": "code",
    "id": "EGB6X2uxLPn7",
    "outputId": "dbd754e5-eb73-4b3a-f3c3-7b1b40952851"
   },
   "outputs": [
    {
     "name": "stdout",
     "output_type": "stream",
     "text": [
      "I have been feeding my two labradors this food for about 3 yrs now and they are both doing well br My older lab 13yrs seems to thrive on it and despite some level of arthritis in her hips she still is very active I do not mean to ascribe this to Canidae soley but it certainly helps \n"
     ]
    }
   ],
   "source": [
    "#remove spacial character: https://stackoverflow.com/a/5843547/4084039\n",
    "sent_1500 = re.sub('[^A-Za-z0-9]+', ' ', sent_1500)\n",
    "print(sent_1500)"
   ]
  },
  {
   "cell_type": "code",
   "execution_count": 22,
   "metadata": {
    "colab": {},
    "colab_type": "code",
    "id": "CCurSJJ2LPn_"
   },
   "outputs": [],
   "source": [
    "# https://gist.github.com/sebleier/554280\n",
    "# we are removing the words from the stop words list: 'no', 'nor', 'not'\n",
    "# <br /><br /> ==> after the above steps, we are getting \"br br\"\n",
    "# we are including them into stop words list\n",
    "# instead of <br /> if we have <br/> these tags would have revmoved in the 1st step\n",
    "\n",
    "stopwords= set(['br', 'the', 'i', 'me', 'my', 'myself', 'we', 'our', 'ours', 'ourselves', 'you', \"you're\", \"you've\",\\\n",
    "            \"you'll\", \"you'd\", 'your', 'yours', 'yourself', 'yourselves', 'he', 'him', 'his', 'himself', \\\n",
    "            'she', \"she's\", 'her', 'hers', 'herself', 'it', \"it's\", 'its', 'itself', 'they', 'them', 'their',\\\n",
    "            'theirs', 'themselves', 'what', 'which', 'who', 'whom', 'this', 'that', \"that'll\", 'these', 'those', \\\n",
    "            'am', 'is', 'are', 'was', 'were', 'be', 'been', 'being', 'have', 'has', 'had', 'having', 'do', 'does', \\\n",
    "            'did', 'doing', 'a', 'an', 'the', 'and', 'but', 'if', 'or', 'because', 'as', 'until', 'while', 'of', \\\n",
    "            'at', 'by', 'for', 'with', 'about', 'against', 'between', 'into', 'through', 'during', 'before', 'after',\\\n",
    "            'above', 'below', 'to', 'from', 'up', 'down', 'in', 'out', 'on', 'off', 'over', 'under', 'again', 'further',\\\n",
    "            'then', 'once', 'here', 'there', 'when', 'where', 'why', 'how', 'all', 'any', 'both', 'each', 'few', 'more',\\\n",
    "            'most', 'other', 'some', 'such', 'only', 'own', 'same', 'so', 'than', 'too', 'very', \\\n",
    "            's', 't', 'can', 'will', 'just', 'don', \"don't\", 'should', \"should've\", 'now', 'd', 'll', 'm', 'o', 're', \\\n",
    "            've', 'y', 'ain', 'aren', \"aren't\", 'couldn', \"couldn't\", 'didn', \"didn't\", 'doesn', \"doesn't\", 'hadn',\\\n",
    "            \"hadn't\", 'hasn', \"hasn't\", 'haven', \"haven't\", 'isn', \"isn't\", 'ma', 'mightn', \"mightn't\", 'mustn',\\\n",
    "            \"mustn't\", 'needn', \"needn't\", 'shan', \"shan't\", 'shouldn', \"shouldn't\", 'wasn', \"wasn't\", 'weren', \"weren't\", \\\n",
    "            'won', \"won't\", 'wouldn', \"wouldn't\"])"
   ]
  },
  {
   "cell_type": "code",
   "execution_count": 23,
   "metadata": {
    "colab": {},
    "colab_type": "code",
    "id": "mFHQEvfnLPoF",
    "outputId": "5cd6bcc3-54fe-4a8e-a39d-d6dabf3f37f9"
   },
   "outputs": [
    {
     "name": "stderr",
     "output_type": "stream",
     "text": [
      "100%|██████████████████████████████████████████████████████████████████████████| 62862/62862 [00:32<00:00, 1918.33it/s]\n"
     ]
    }
   ],
   "source": [
    "# Combining all the above stundents \n",
    "from tqdm import tqdm\n",
    "preprocessed_reviews = []\n",
    "# tqdm is for printing the status bar\n",
    "for sentance in tqdm(final['Text'].values):\n",
    "    sentance = re.sub(r\"http\\S+\", \"\", sentance)\n",
    "    sentance = BeautifulSoup(sentance, 'lxml').get_text()\n",
    "    sentance = decontracted(sentance)\n",
    "    sentance = re.sub(\"\\S*\\d\\S*\", \"\", sentance).strip()\n",
    "    sentance = re.sub('[^A-Za-z]+', ' ', sentance)\n",
    "    # https://gist.github.com/sebleier/554280\n",
    "    sentance = ' '.join(e.lower() for e in sentance.split() if e.lower() not in stopwords)\n",
    "    preprocessed_reviews.append(sentance.strip())"
   ]
  },
  {
   "cell_type": "code",
   "execution_count": 24,
   "metadata": {
    "colab": {},
    "colab_type": "code",
    "id": "Tqx8QUeRLPoH",
    "outputId": "0182081c-6282-4113-b186-5b5bac596388"
   },
   "outputs": [
    {
     "data": {
      "text/plain": [
       "'dogs loves chicken product china wont buying anymore hard find chicken products made usa one isnt bad good product wont take chances till know going china imports'"
      ]
     },
     "execution_count": 24,
     "metadata": {},
     "output_type": "execute_result"
    }
   ],
   "source": [
    "preprocessed_reviews[1]"
   ]
  },
  {
   "cell_type": "markdown",
   "metadata": {
    "colab_type": "text",
    "id": "9IuKp2HULPoL"
   },
   "source": [
    "<h2><font color='red'>[3.2] Preprocessing Review Summary</font></h2>"
   ]
  },
  {
   "cell_type": "code",
   "execution_count": 25,
   "metadata": {},
   "outputs": [],
   "source": [
    "X = preprocessed_reviews\n",
    "Y = final['Score']"
   ]
  },
  {
   "cell_type": "code",
   "execution_count": 26,
   "metadata": {},
   "outputs": [
    {
     "name": "stderr",
     "output_type": "stream",
     "text": [
      "C:\\Users\\RajMahendra\\Anaconda3\\lib\\site-packages\\sklearn\\cross_validation.py:41: DeprecationWarning: This module was deprecated in version 0.18 in favor of the model_selection module into which all the refactored classes and functions are moved. Also note that the interface of the new CV iterators are different from that of this module. This module will be removed in 0.20.\n",
      "  \"This module will be removed in 0.20.\", DeprecationWarning)\n"
     ]
    }
   ],
   "source": [
    "from sklearn.cross_validation import train_test_split\n",
    "X_1 , X_test , Y_1 , Y_test  = train_test_split(X,Y,test_size=0.3,random_state=0)\n",
    "X_tr , X_cv , Y_tr , Y_cv  = train_test_split(X_1,Y_1,test_size=0.3,random_state=0)"
   ]
  },
  {
   "cell_type": "code",
   "execution_count": 27,
   "metadata": {
    "colab": {},
    "colab_type": "code",
    "id": "Qk7gYOmKLPoM"
   },
   "outputs": [],
   "source": [
    "## Similartly you can do preprocessing for review summary also."
   ]
  },
  {
   "cell_type": "markdown",
   "metadata": {
    "colab_type": "text",
    "id": "B93jqKuhLPoQ"
   },
   "source": [
    "# [4] Featurization"
   ]
  },
  {
   "cell_type": "markdown",
   "metadata": {
    "colab_type": "text",
    "id": "Mr4j2QhgLPoQ"
   },
   "source": [
    "## [4.1] BAG OF WORDS"
   ]
  },
  {
   "cell_type": "code",
   "execution_count": 153,
   "metadata": {
    "colab": {},
    "colab_type": "code",
    "id": "dZVHt3mtLPoR",
    "outputId": "ea1629cd-7c92-400e-9acd-f7caeef0f389"
   },
   "outputs": [
    {
     "name": "stdout",
     "output_type": "stream",
     "text": [
      "some feature names  ['ability', 'absorb', 'absorbed', 'acai', 'accept', 'acceptable', 'accepted', 'access', 'accident', 'accidentally']\n",
      "==================================================\n",
      "the type of count vectorizer  <class 'scipy.sparse.csr.csr_matrix'>\n",
      "the shape of out text BOW vectorizer  (30802, 3056)\n",
      "the number of unique words  3056\n"
     ]
    }
   ],
   "source": [
    "#BoW\n",
    "count_vect = CountVectorizer( min_df=20, max_df=100) #in scikit-learn\n",
    "count_vect.fit(X_tr)\n",
    "print(\"some feature names \", count_vect.get_feature_names()[:10])\n",
    "print('='*50)\n",
    "\n",
    "\n",
    "X_Bow_Tr = count_vect.transform(X_tr)\n",
    "X_Bow_Cv = count_vect.transform(X_cv)\n",
    "X_Bow_Test = count_vect.transform(X_test)\n",
    "\n",
    "print(\"the type of count vectorizer \",type(X_Bow_Tr))\n",
    "print(\"the shape of out text BOW vectorizer \",X_Bow_Tr.get_shape())\n",
    "print(\"the number of unique words \", X_Bow_Tr.get_shape()[1])"
   ]
  },
  {
   "cell_type": "code",
   "execution_count": 154,
   "metadata": {},
   "outputs": [],
   "source": [
    "Bow_Feature = count_vect.get_feature_names()"
   ]
  },
  {
   "cell_type": "code",
   "execution_count": 155,
   "metadata": {},
   "outputs": [],
   "source": [
    "X_Bow_Tr   = X_Bow_Tr.toarray()"
   ]
  },
  {
   "cell_type": "code",
   "execution_count": 156,
   "metadata": {},
   "outputs": [],
   "source": [
    "X_Bow_Cv   = X_Bow_Cv.toarray()"
   ]
  },
  {
   "cell_type": "code",
   "execution_count": 157,
   "metadata": {},
   "outputs": [],
   "source": [
    "X_Bow_Test = X_Bow_Test.toarray()"
   ]
  },
  {
   "cell_type": "code",
   "execution_count": 158,
   "metadata": {},
   "outputs": [
    {
     "data": {
      "text/plain": [
       "array([0, 0, 0, ..., 0, 0, 0], dtype=int64)"
      ]
     },
     "execution_count": 158,
     "metadata": {},
     "output_type": "execute_result"
    }
   ],
   "source": [
    "X_Bow_Tr[1]"
   ]
  },
  {
   "cell_type": "markdown",
   "metadata": {
    "colab_type": "text",
    "id": "-cEEpDx0LPoZ"
   },
   "source": [
    "## [4.3] TF-IDF"
   ]
  },
  {
   "cell_type": "code",
   "execution_count": 160,
   "metadata": {
    "colab": {},
    "colab_type": "code",
    "id": "TgP61HqBLPoa",
    "outputId": "15f1c123-d93b-414d-914b-d4e3f32a6ac1"
   },
   "outputs": [
    {
     "name": "stdout",
     "output_type": "stream",
     "text": [
      "some sample features(unique words in the corpus) ['ability', 'able buy', 'able drink', 'able eat', 'able get', 'able make', 'able order', 'able purchase', 'able use', 'absolute best']\n",
      "==================================================\n",
      "the type of count vectorizer  <class 'scipy.sparse.csr.csr_matrix'>\n",
      "the shape of out text TFIDF vectorizer  (30802, 7134)\n",
      "the number of unique words including both unigrams and bigrams  7134\n"
     ]
    }
   ],
   "source": [
    "tf_idf_vect = TfidfVectorizer(ngram_range=(1,2), min_df=20, max_df=100)\n",
    "tf_idf_vect.fit(X_tr)\n",
    "print(\"some sample features(unique words in the corpus)\",tf_idf_vect.get_feature_names()[0:10])\n",
    "print('='*50)\n",
    "\n",
    "\n",
    "X_Tfidf_Tr = tf_idf_vect.transform(X_tr)\n",
    "X_Tfidf_Cv = tf_idf_vect.transform(X_cv)\n",
    "X_Tfidf_Test = tf_idf_vect.transform(X_test)\n",
    "\n",
    "print(\"the type of count vectorizer \",type(X_Tfidf_Tr))\n",
    "print(\"the shape of out text TFIDF vectorizer \",X_Tfidf_Tr.get_shape())\n",
    "print(\"the number of unique words including both unigrams and bigrams \", X_Tfidf_Tr.get_shape()[1])"
   ]
  },
  {
   "cell_type": "code",
   "execution_count": 161,
   "metadata": {},
   "outputs": [],
   "source": [
    "X_Tfidf_Tr = X_Tfidf_Tr.toarray()"
   ]
  },
  {
   "cell_type": "code",
   "execution_count": 162,
   "metadata": {},
   "outputs": [],
   "source": [
    "X_Tfidf_Cv = X_Tfidf_Cv.toarray()"
   ]
  },
  {
   "cell_type": "code",
   "execution_count": 163,
   "metadata": {},
   "outputs": [],
   "source": [
    "X_Tfidf_Test = X_Tfidf_Test.toarray()"
   ]
  },
  {
   "cell_type": "code",
   "execution_count": 164,
   "metadata": {},
   "outputs": [],
   "source": [
    "tf_idf_feature = tf_idf_vect.get_feature_names()"
   ]
  },
  {
   "cell_type": "markdown",
   "metadata": {},
   "source": [
    "from sklearn.preprocessing import StandardScaler\n",
    "scalar = StandardScaler(with_mean=False)\n",
    "scalar.fit(X_Tfidf_Tr)\n",
    "X_Tfidf_Tr = scalar.transform(X_Tfidf_Tr)\n",
    "X_Tfidf_Cv = scalar.transform(X_Tfidf_Cv)\n",
    "X_Tfidf_Test = scalar.transform(X_Tfidf_Test)"
   ]
  },
  {
   "cell_type": "code",
   "execution_count": 39,
   "metadata": {},
   "outputs": [
    {
     "data": {
      "text/plain": [
       "array([0., 0., 0., ..., 0., 0., 0.])"
      ]
     },
     "execution_count": 39,
     "metadata": {},
     "output_type": "execute_result"
    }
   ],
   "source": [
    "X_Tfidf_Tr[100]"
   ]
  },
  {
   "cell_type": "markdown",
   "metadata": {
    "colab_type": "text",
    "id": "m3YEHTLPLPod"
   },
   "source": [
    "## [4.4] Word2Vec"
   ]
  },
  {
   "cell_type": "code",
   "execution_count": 40,
   "metadata": {
    "colab": {},
    "colab_type": "code",
    "id": "zwPZCf8cLPoe"
   },
   "outputs": [],
   "source": [
    "# Train your own Word2Vec model using your own text corpus\n",
    "i=0\n",
    "list_of_sentance=[]\n",
    "for sentance in X_tr:\n",
    "    list_of_sentance.append(sentance.split())"
   ]
  },
  {
   "cell_type": "code",
   "execution_count": 41,
   "metadata": {
    "colab": {},
    "colab_type": "code",
    "id": "8ddGZNUfLPog",
    "outputId": "390d4ccb-cda2-4391-83e9-0e502b578171",
    "scrolled": true
   },
   "outputs": [
    {
     "name": "stdout",
     "output_type": "stream",
     "text": [
      "==================================================\n"
     ]
    }
   ],
   "source": [
    "# Using Google News Word2Vectors\n",
    "\n",
    "# in this project we are using a pretrained model by google\n",
    "# its 3.3G file, once you load this into your memory \n",
    "# it occupies ~9Gb, so please do this step only if you have >12G of ram\n",
    "# we will provide a pickle file wich contains a dict , \n",
    "# and it contains all our courpus words as keys and  model[word] as values\n",
    "# To use this code-snippet, download \"GoogleNews-vectors-negative300.bin\" \n",
    "# from https://drive.google.com/file/d/0B7XkCwpI5KDYNlNUTTlSS21pQmM/edit\n",
    "# it's 1.9GB in size.\n",
    "\n",
    "\n",
    "# http://kavita-ganesan.com/gensim-word2vec-tutorial-starter-code/#.W17SRFAzZPY\n",
    "# you can comment this whole cell\n",
    "# or change these varible according to your need\n",
    "\n",
    "is_your_ram_gt_16g=False\n",
    "want_to_use_google_w2v = False\n",
    "want_to_train_w2v = True\n",
    "\n",
    "if want_to_train_w2v:\n",
    "    # min_count = 5 considers only words that occured atleast 5 times\n",
    "    w2v_model=Word2Vec(list_of_sentance,min_count=20,size=100, workers=4)\n",
    "    #print(w2v_model.wv.most_similar('great'))\n",
    "    print('='*50)\n",
    "    #print(w2v_model.wv.most_similar('worst'))\n",
    "    \n",
    "elif want_to_use_google_w2v and is_your_ram_gt_16g:\n",
    "    if os.path.isfile('GoogleNews-vectors-negative300.bin'):\n",
    "        w2v_model=KeyedVectors.load_word2vec_format('GoogleNews-vectors-negative300.bin', binary=True)\n",
    "        #print(w2v_model.wv.most_similar('great'))\n",
    "        #print(w2v_model.wv.most_similar('worst'))\n",
    "    else:\n",
    "        print(\"you don't have gogole's word2vec file, keep want_to_train_w2v = True, to train your own w2v \")"
   ]
  },
  {
   "cell_type": "code",
   "execution_count": 42,
   "metadata": {
    "colab": {},
    "colab_type": "code",
    "id": "bRWXmmnWLPoo",
    "outputId": "1cc345e7-d991-49b8-f1b7-a0d81f0b97e6"
   },
   "outputs": [
    {
     "name": "stdout",
     "output_type": "stream",
     "text": [
      "number of words that occured minimum 5 times  4937\n",
      "sample words  4937\n"
     ]
    }
   ],
   "source": [
    "w2v_words = list(w2v_model.wv.vocab)\n",
    "print(\"number of words that occured minimum 5 times \",len(w2v_words))\n",
    "print(\"sample words \", len(w2v_words))"
   ]
  },
  {
   "cell_type": "markdown",
   "metadata": {
    "colab_type": "text",
    "id": "TtWqibqfLPos"
   },
   "source": [
    "## [4.4.1] Converting text into vectors using Avg W2V, TFIDF-W2V"
   ]
  },
  {
   "cell_type": "code",
   "execution_count": 43,
   "metadata": {},
   "outputs": [],
   "source": [
    "# average Word2Vec\n",
    "# compute average word2vec for each review.\n",
    "\n",
    "def getAvgWordToVector(list_of_sentance):\n",
    "    sent_vectors = []; # the avg-w2v for each sentence/review is stored in this list    \n",
    "    for sentence in list_of_sentance: # for each review/sentence\n",
    "        sent = sentence.split()\n",
    "        sent_vec = np.zeros(100) # as word vectors are of zero length 50, you might need to change this to 300 if you use google's w2v\n",
    "        cnt_words =0; # num of words with a valid vector in the sentence/review\n",
    "        for word in sent: # for each word in a review/sentence\n",
    "            if word in w2v_words:\n",
    "                vec = w2v_model.wv[word]                \n",
    "                sent_vec += vec\n",
    "                cnt_words += 1\n",
    "        if cnt_words != 0:\n",
    "            sent_vec /= cnt_words\n",
    "        sent_vectors.append(sent_vec)                   \n",
    "    return sent_vectors"
   ]
  },
  {
   "cell_type": "markdown",
   "metadata": {
    "colab_type": "text",
    "id": "JriP5nZCLPot"
   },
   "source": [
    "#### [4.4.1.1] Avg W2v"
   ]
  },
  {
   "cell_type": "code",
   "execution_count": 44,
   "metadata": {},
   "outputs": [],
   "source": [
    "X_AvgW2V_Tr     = getAvgWordToVector(X_tr)"
   ]
  },
  {
   "cell_type": "code",
   "execution_count": 45,
   "metadata": {},
   "outputs": [],
   "source": [
    "X_AvgW2V_Cv     = getAvgWordToVector(X_cv)"
   ]
  },
  {
   "cell_type": "code",
   "execution_count": 46,
   "metadata": {},
   "outputs": [],
   "source": [
    "X_AvgW2V_Test   = getAvgWordToVector(X_test)"
   ]
  },
  {
   "cell_type": "markdown",
   "metadata": {
    "colab_type": "text",
    "id": "2sHfb529LPow"
   },
   "source": [
    "#### [4.4.1.2] TFIDF weighted W2v"
   ]
  },
  {
   "cell_type": "code",
   "execution_count": 47,
   "metadata": {},
   "outputs": [],
   "source": [
    "# S = [\"abc def pqr\", \"def def def abc\", \"pqr pqr def\"]\n",
    "model = TfidfVectorizer(min_df=20, max_features=100) \n",
    "tf_idf_matrix = model.fit(X_tr)\n",
    "# we are converting a dictionary with word as a key, and the idf as a value\n",
    "dictionary = dict(zip(model.get_feature_names(), list(model.idf_)))"
   ]
  },
  {
   "cell_type": "code",
   "execution_count": 53,
   "metadata": {},
   "outputs": [],
   "source": [
    "# TF-IDF weighted Word2Vec\n",
    "tfidf_feat = model.get_feature_names() # tfidf words/col-names\n",
    "# final_tf_idf is the sparse matrix with row= sentence, col=word and cell_val = tfidf\n",
    "\n",
    "def getAvgW2VtfIdfToVector(list_of_sentance):\n",
    "    tfidf_sent_vectors = []; # the tfidf-w2v for each sentence/review is stored in this list\n",
    "    row=0;\n",
    "    for sentence in list_of_sentance: # for each review/sentence \n",
    "        sent = []        \n",
    "        sent_vec = np.zeros(100) # as word vectors are of zero length\n",
    "        weight_sum =0; # num of words with a valid vector in the sentence/review\n",
    "        sent = sentence.split()\n",
    "        for word in sent: # for each word in a review/sentence3     \n",
    "            #print(\"word>>\",word)\n",
    "            if word in w2v_words and word in tfidf_feat:\n",
    "                vec = w2v_model.wv[word]\n",
    "                #tf_idf = tf_idf_matrix[row, tfidf_feat.index(word)]\n",
    "                # to reduce the computation we are \n",
    "                # dictionary[word] = idf value of word in whole courpus\n",
    "                # sent.count(word) = tf valeus of word in this review\n",
    "                tf_idf = dictionary[word]*(sent.count(word)/len(sent))\n",
    "                sent_vec += (vec * tf_idf)\n",
    "                weight_sum += tf_idf\n",
    "        if weight_sum != 0:\n",
    "            sent_vec /= weight_sum\n",
    "        tfidf_sent_vectors.append(sent_vec)\n",
    "        row += 1\n",
    "    return tfidf_sent_vectors"
   ]
  },
  {
   "cell_type": "code",
   "execution_count": 54,
   "metadata": {},
   "outputs": [],
   "source": [
    "X_AvgW2VtfIdf_Tr     = getAvgW2VtfIdfToVector(X_tr)\n",
    "X_AvgW2VtfIdf_Cv     = getAvgW2VtfIdfToVector(X_cv)\n",
    "X_AvgW2VtfIdf_Test   = getAvgW2VtfIdfToVector(X_test)"
   ]
  },
  {
   "cell_type": "markdown",
   "metadata": {
    "colab_type": "text",
    "id": "IwObBT2UiWOr"
   },
   "source": [
    "# [5] Assignment 8: Decision Trees"
   ]
  },
  {
   "cell_type": "markdown",
   "metadata": {
    "colab_type": "text",
    "id": "k_mwmumRiWOr"
   },
   "source": [
    "<ol>\n",
    "    <li><strong>Apply Decision Trees on these feature sets</strong>\n",
    "        <ul>\n",
    "            <li><font color='red'>SET 1:</font>Review text, preprocessed one converted into vectors using (BOW)</li>\n",
    "            <li><font color='red'>SET 2:</font>Review text, preprocessed one converted into vectors using (TFIDF)</li>\n",
    "            <li><font color='red'>SET 3:</font>Review text, preprocessed one converted into vectors using (AVG W2v)</li>\n",
    "            <li><font color='red'>SET 4:</font>Review text, preprocessed one converted into vectors using (TFIDF W2v)</li>\n",
    "        </ul>\n",
    "    </li>\n",
    "    <br>\n",
    "    <li><strong>The hyper paramter tuning (best `depth` in range [1, 5, 10, 50, 100, 500, 100], and the best `min_samples_split` in range [5, 10, 100, 500])</strong>\n",
    "        <ul>\n",
    "    <li>Find the best hyper parameter which will give the maximum <a href='https://www.appliedaicourse.com/course/applied-ai-course-online/lessons/receiver-operating-characteristic-curve-roc-curve-and-auc-1/'>AUC</a> value</li>\n",
    "    <li>Find the best hyper paramter using k-fold cross validation or simple cross validation data</li>\n",
    "    <li>Use gridsearch cv or randomsearch cv or you can also write your own for loops to do this task of hyperparameter tuning</li>          \n",
    "        </ul>\n",
    "    </li>\n",
    "    <br>\n",
    "    <li><strong>Graphviz</strong>\n",
    "        <ul>\n",
    "    <li>Visualize your decision tree with Graphviz. It helps you to understand how a decision is being made, given a new vector.</li>\n",
    "    <li>Since feature names are not obtained from word2vec related models, visualize only BOW & TFIDF decision trees using Graphviz</li>\n",
    "    <li>Make sure to print the words in each node of the decision tree instead of printing its index.</li>\n",
    "    <li>Just for visualization purpose, limit max_depth to 2 or 3 and either embed the generated images of graphviz in your notebook, or directly upload them as .png files.</li>                \n",
    "        </ul>\n",
    "    </li>\n",
    "    <br>\n",
    "    <li><strong>Feature importance</strong>\n",
    "        <ul>\n",
    "    <li>Find the top 20 important features from both feature sets <font color='red'>Set 1</font> and <font color='red'>Set 2</font> using `feature_importances_` method of <a href='https://scikit-learn.org/stable/modules/generated/sklearn.tree.DecisionTreeClassifier.html'>Decision Tree Classifier</a> and print their corresponding feature names</li>\n",
    "        </ul>\n",
    "    </li>\n",
    "    <br>\n",
    "    <li><strong>Feature engineering</strong>\n",
    "        <ul>\n",
    "    <li>To increase the performance of your model, you can also experiment with with feature engineering like :</li>\n",
    "            <ul>\n",
    "            <li>Taking length of reviews as another feature.</li>\n",
    "            <li>Considering some features from review summary as well.</li>\n",
    "        </ul>\n",
    "        </ul>\n",
    "    </li>\n",
    "    <br>\n",
    "    <li><strong>Representation of results</strong>\n",
    "        <ul>\n",
    "    <li>You need to plot the performance of model both on train data and cross validation data for each hyper parameter, like shown in the figure.\n",
    "    <img src='train_cv_auc.JPG' width=300px></li>\n",
    "    <li>Once after you found the best hyper parameter, you need to train your model with it, and find the AUC on test data and plot the ROC curve on both train and test.\n",
    "    <img src='train_test_auc.JPG' width=300px></li>\n",
    "    <li>Along with plotting ROC curve, you need to print the <a href='https://www.appliedaicourse.com/course/applied-ai-course-online/lessons/confusion-matrix-tpr-fpr-fnr-tnr-1/'>confusion matrix</a> with predicted and original labels of test data points. Please visualize your confusion matrices using <a href='https://seaborn.pydata.org/generated/seaborn.heatmap.html'>seaborn heatmaps.\n",
    "    <img src='confusion_matrix.png' width=300px></li>\n",
    "        </ul>\n",
    "    </li>\n",
    "    <br>\n",
    "    <li><strong>Conclusion</strong>\n",
    "        <ul>\n",
    "    <li>You need to summarize the results at the end of the notebook, summarize it in the table format. To print out a table please refer to this prettytable library<a href='http://zetcode.com/python/prettytable/'>  link</a> \n",
    "        <img src='summary.JPG' width=400px>\n",
    "    </li>\n",
    "        </ul>\n",
    "</ol>"
   ]
  },
  {
   "cell_type": "markdown",
   "metadata": {
    "colab_type": "text",
    "id": "uqhvv_IiiWOs"
   },
   "source": [
    "<h4><font color='red'>Note: Data Leakage</font></h4>\n",
    "\n",
    "1. There will be an issue of data-leakage if you vectorize the entire data and then split it into train/cv/test.\n",
    "2. To avoid the issue of data-leakag, make sure to split your data first and then vectorize it. \n",
    "3. While vectorizing your data, apply the method fit_transform() on you train data, and apply the method transform() on cv/test data.\n",
    "4. For more details please go through this <a href='https://soundcloud.com/applied-ai-course/leakage-bow-and-tfidf'>link.</a>"
   ]
  },
  {
   "cell_type": "markdown",
   "metadata": {
    "colab_type": "text",
    "id": "ayLYlocviWOs"
   },
   "source": [
    "# Applying Decision Trees"
   ]
  },
  {
   "cell_type": "markdown",
   "metadata": {
    "colab_type": "text",
    "id": "fvKQwJMWiWOt"
   },
   "source": [
    "## [5.1] Applying Decision Trees on BOW,<font color='red'> SET 1</font>"
   ]
  },
  {
   "cell_type": "code",
   "execution_count": 64,
   "metadata": {},
   "outputs": [],
   "source": [
    "from sklearn.tree import DecisionTreeClassifier,export_graphviz\n",
    "from sklearn.model_selection import GridSearchCV\n",
    "from sklearn.metrics import roc_curve, auc, roc_auc_score ,accuracy_score\n",
    "from sklearn import tree"
   ]
  },
  {
   "cell_type": "markdown",
   "metadata": {},
   "source": [
    "### Algorithm Paramtres and their Funcioning"
   ]
  },
  {
   "cell_type": "markdown",
   "metadata": {},
   "source": [
    "\n",
    "<b>criterion            : </b> Which technique to be followed in creating the nodes.(GiniImpurity,Entropy)\n",
    "\n",
    "<b>max_depth            : </b> It defines the Maximum No of Level Model go to construct a Tree\n",
    "\n",
    "<b>min_samples_split    : </b> Minimum No of Samples to split a node.\n",
    "\n",
    "<b>min_samples_leaf     : </b> Minimum No of Samples to consider it as a Pure node.\n",
    "\n",
    "<b>max_features         : </b> No of Features to Consider while splitting/Creating for a New Node.\n",
    "\n",
    "<b>max_leaf_nodes</b>  Maximum No of Pure Nodes that a can build with."
   ]
  },
  {
   "cell_type": "code",
   "execution_count": 141,
   "metadata": {},
   "outputs": [],
   "source": [
    "#https://github.com/cyanamous/Amazon-Food-Reviews-Analysis-and-Modelling/blob/master/5%20Amazon%20Food%20Reviews%20-%20SVM.ipynb\n",
    "#https://github.com/cyanamous/Amazon-Food-Reviews-Analysis-and-Modelling/blob/master/6%20Amazon%20Food%20Reviews%20-%20Decision%20Trees.ipynb\n",
    "#https://github.com/justmarkham/scikit-learn-videos/blob/master/08_grid_search.ipynb\n",
    "Total_AUC= {}\n",
    "params = {\n",
    "    'max_depth' :[1, 5, 10, 50, 100, 500, 100],\n",
    "    'min_samples_split' : [5, 10, 100, 500]\n",
    "}"
   ]
  },
  {
   "cell_type": "markdown",
   "metadata": {},
   "source": [
    "We are considered MaxDepth , Minimum Sapmles split as our Hypearameters.\n",
    "\n",
    "We will Tune the for the Best AUC using Cross Validaion.\n",
    "\n",
    "Will Train the Final Model with the Optimal Values returned by GridSearch.\n",
    "\n",
    "Finall Will Evalute the Model, Checking its AUC and Accuracy"
   ]
  },
  {
   "cell_type": "markdown",
   "metadata": {},
   "source": [
    "##### HyperParameters tunning by the CrossValidation for Best AUC"
   ]
  },
  {
   "cell_type": "code",
   "execution_count": 142,
   "metadata": {},
   "outputs": [
    {
     "name": "stdout",
     "output_type": "stream",
     "text": [
      "    mean_test_score  std_test_score  \\\n",
      "0          0.508274        0.002533   \n",
      "1          0.508274        0.002533   \n",
      "2          0.508274        0.002533   \n",
      "3          0.508274        0.002533   \n",
      "4          0.517711        0.003638   \n",
      "5          0.517799        0.003334   \n",
      "6          0.518161        0.003483   \n",
      "7          0.518161        0.003483   \n",
      "8          0.533494        0.008443   \n",
      "9          0.534284        0.008666   \n",
      "10         0.534170        0.007453   \n",
      "11         0.534170        0.007453   \n",
      "12         0.601007        0.011644   \n",
      "13         0.601403        0.012075   \n",
      "14         0.606906        0.011216   \n",
      "15         0.607261        0.011589   \n",
      "16         0.622704        0.011051   \n",
      "17         0.627425        0.006912   \n",
      "18         0.636511        0.008994   \n",
      "19         0.633937        0.008543   \n",
      "20         0.648225        0.007466   \n",
      "21         0.667094        0.010498   \n",
      "22         0.685108        0.010308   \n",
      "23         0.683246        0.010441   \n",
      "24         0.622078        0.011132   \n",
      "25         0.625794        0.009525   \n",
      "26         0.636340        0.009605   \n",
      "27         0.635699        0.009438   \n",
      "\n",
      "                                          params  \n",
      "0       {'max_depth': 1, 'min_samples_split': 5}  \n",
      "1      {'max_depth': 1, 'min_samples_split': 10}  \n",
      "2     {'max_depth': 1, 'min_samples_split': 100}  \n",
      "3     {'max_depth': 1, 'min_samples_split': 500}  \n",
      "4       {'max_depth': 5, 'min_samples_split': 5}  \n",
      "5      {'max_depth': 5, 'min_samples_split': 10}  \n",
      "6     {'max_depth': 5, 'min_samples_split': 100}  \n",
      "7     {'max_depth': 5, 'min_samples_split': 500}  \n",
      "8      {'max_depth': 10, 'min_samples_split': 5}  \n",
      "9     {'max_depth': 10, 'min_samples_split': 10}  \n",
      "10   {'max_depth': 10, 'min_samples_split': 100}  \n",
      "11   {'max_depth': 10, 'min_samples_split': 500}  \n",
      "12     {'max_depth': 50, 'min_samples_split': 5}  \n",
      "13    {'max_depth': 50, 'min_samples_split': 10}  \n",
      "14   {'max_depth': 50, 'min_samples_split': 100}  \n",
      "15   {'max_depth': 50, 'min_samples_split': 500}  \n",
      "16    {'max_depth': 100, 'min_samples_split': 5}  \n",
      "17   {'max_depth': 100, 'min_samples_split': 10}  \n",
      "18  {'max_depth': 100, 'min_samples_split': 100}  \n",
      "19  {'max_depth': 100, 'min_samples_split': 500}  \n",
      "20    {'max_depth': 500, 'min_samples_split': 5}  \n",
      "21   {'max_depth': 500, 'min_samples_split': 10}  \n",
      "22  {'max_depth': 500, 'min_samples_split': 100}  \n",
      "23  {'max_depth': 500, 'min_samples_split': 500}  \n",
      "24    {'max_depth': 100, 'min_samples_split': 5}  \n",
      "25   {'max_depth': 100, 'min_samples_split': 10}  \n",
      "26  {'max_depth': 100, 'min_samples_split': 100}  \n",
      "27  {'max_depth': 100, 'min_samples_split': 500}  \n"
     ]
    }
   ],
   "source": [
    "dt = DecisionTreeClassifier(criterion='gini', splitter='best', class_weight = \"balanced\")\n",
    "gs = GridSearchCV(dt, param_grid=params, cv=5,scoring='roc_auc',n_jobs=-1)\n",
    "gs.fit(X_Bow_Cv,Y_cv)\n",
    "Set1_Cv_Results = pd.DataFrame(gs.cv_results_)[['mean_test_score', 'std_test_score', 'params']]\n",
    "print(Set1_Cv_Results)"
   ]
  },
  {
   "cell_type": "code",
   "execution_count": 143,
   "metadata": {},
   "outputs": [
    {
     "name": "stdout",
     "output_type": "stream",
     "text": [
      "\t best_score_     : 0.6851076230897575\n",
      "\t best_params_    : {'max_depth': 500, 'min_samples_split': 100}\n"
     ]
    }
   ],
   "source": [
    "# examine the best model\n",
    "print(\"\\t best_score_     :\",gs.best_score_)\n",
    "print(\"\\t best_params_    :\",gs.best_params_)\n",
    "#print(\" best_estimator_ :\",gs.best_estimator_)\n",
    "Set1_best = gs.best_params_\n",
    "Set1_best_max_depth         = gs.best_params_['max_depth']\n",
    "Set1_best_min_samples_split = gs.best_params_['min_samples_split']\n",
    "Set1_Cv_AUC = gs.best_score_"
   ]
  },
  {
   "cell_type": "markdown",
   "metadata": {},
   "source": [
    "We captured the Best Parametres that we want.\n",
    "\n",
    "Let Train our Model with theese best Params and Draw AUC for bot Train and Test Data.\n",
    "\n",
    "We also Evaluate the Model for its Train and Test Accuracy."
   ]
  },
  {
   "cell_type": "code",
   "execution_count": 144,
   "metadata": {},
   "outputs": [],
   "source": [
    "Set1_Weights = []\n",
    "dt = DecisionTreeClassifier(criterion='gini',max_depth = Set1_best_max_depth,min_samples_split = Set1_best_min_samples_split , splitter='best', class_weight = \"balanced\")\n",
    "dt.fit(X_Bow_Tr,Y_tr)\n",
    "Set1_Weights = dt.feature_importances_.tolist()"
   ]
  },
  {
   "cell_type": "code",
   "execution_count": 145,
   "metadata": {
    "scrolled": true
   },
   "outputs": [
    {
     "name": "stdout",
     "output_type": "stream",
     "text": [
      " Train Data      AUC for the Best Lamda  is  0.8015679824558842\n",
      " Test Validaton  AUC for the BEst Lamda  is  0.711534011607579\n"
     ]
    },
    {
     "data": {
      "image/png": "[encoded data removed]",
      "text/plain": [
       "<Figure size 432x288 with 1 Axes>"
      ]
     },
     "metadata": {},
     "output_type": "display_data"
    }
   ],
   "source": [
    "#https://qiita.com/bmj0114/items/460424c110a8ce22d945\n",
    "Set1_Tr_prob    =  dt.predict_proba(X_Bow_Tr)    # Probablity of TRAIN-Validation\n",
    "Set1_Tst_prob   =  dt.predict_proba(X_Bow_Test)    # Probablity of Cross-Validation\n",
    "\n",
    "set1_tst_fpr, set1_tst_tpr, thresholds = roc_curve(Y_test,Set1_Tst_prob[:,1])\n",
    "set1_tst_roc_auc = auc(set1_tst_fpr, set1_tst_tpr)\n",
    "\n",
    "set1_train_fpr, set1_train_tpr, thresholds = roc_curve(Y_tr,Set1_Tr_prob[:,1])\n",
    "set1_train_roc_auc = auc(set1_train_fpr, set1_train_tpr)\n",
    "\n",
    "\n",
    "print(\" Train Data      AUC for the Best Lamda  is \", set1_train_roc_auc)\n",
    "print(\" Test Validaton  AUC for the BEst Lamda  is \", set1_tst_roc_auc)\n",
    "\n",
    "lw=1\n",
    "plt.figure()\n",
    "plt.plot(set1_tst_fpr, set1_tst_tpr, color='darkorange', lw=3, label='Test ROC curve (area = %0.2f)' % set1_tst_roc_auc)\n",
    "plt.plot(set1_train_fpr, set1_train_tpr, color='navy', lw=1, label='Train ROC curve (area = %0.2f)' % set1_train_roc_auc)\n",
    "plt.plot([0, 1], [0,1], color='red', lw=lw, linestyle='--')\n",
    "plt.xlim([0.0, 1.0])\n",
    "plt.ylim([0.0, 1.04])\n",
    "plt.xlabel('False Positive Rate')\n",
    "plt.ylabel('True Positive Rate')\n",
    "plt.title('ROC - Receiver operating characteristic')\n",
    "plt.legend(loc=\"lower right\")\n",
    "plt.show()"
   ]
  },
  {
   "cell_type": "markdown",
   "metadata": {},
   "source": [
    "#### Accuracy"
   ]
  },
  {
   "cell_type": "code",
   "execution_count": 146,
   "metadata": {},
   "outputs": [
    {
     "name": "stdout",
     "output_type": "stream",
     "text": [
      "\n",
      "\tAccuracy for Train Data :  0.7673852347250179\n",
      "\tAccuracy for Test Data :  0.7328066175300917\n"
     ]
    }
   ],
   "source": [
    "Set1_Tr_Pred  =  dt.predict(X_Bow_Tr)\n",
    "Set1_Tst_Pred =  dt.predict(X_Bow_Test)\n",
    "\n",
    "Set1_Tr_Acc =  accuracy_score(Y_tr,Set1_Tr_Pred,normalize=True)\n",
    "Set1_Tst_Acc =  accuracy_score(Y_test,Set1_Tst_Pred,normalize=True)\n",
    "\n",
    "print(\"\\n\\tAccuracy for Train Data : \",Set1_Tr_Acc)\n",
    "print(\"\\tAccuracy for Test Data : \",Set1_Tst_Acc)"
   ]
  },
  {
   "cell_type": "markdown",
   "metadata": {},
   "source": [
    "### Train Confusion Matrix"
   ]
  },
  {
   "cell_type": "code",
   "execution_count": 147,
   "metadata": {},
   "outputs": [
    {
     "name": "stdout",
     "output_type": "stream",
     "text": [
      "\n",
      "Train Accuracy :: 0.7673852347250179\n",
      "Confusion Matrix::\n",
      " [[ 3556  1415]\n",
      " [ 5750 20081]] \n",
      "\n"
     ]
    },
    {
     "data": {
      "text/plain": [
       "Text(83.4,0.5,'True label')"
      ]
     },
     "execution_count": 147,
     "metadata": {},
     "output_type": "execute_result"
    },
    {
     "data": {
      "image/png": "[encoded data removed]",
      "text/plain": [
       "<Figure size 432x288 with 2 Axes>"
      ]
     },
     "metadata": {},
     "output_type": "display_data"
    }
   ],
   "source": [
    "print(\"\\nTrain Accuracy ::\",Set1_Tr_Acc)\n",
    "Train_CM= confusion_matrix(Y_tr, Set1_Tr_Pred, labels=None, sample_weight=None) \n",
    "print(\"Confusion Matrix::\\n\",Train_CM,\"\\n\")\n",
    "plt.imshow(Train_CM, cmap='binary')\n",
    "sns.heatmap(Train_CM, cmap=\"YlGnBu\", fmt=\"d\"  ,annot=True,annot_kws={\"size\": 17})\n",
    "plt.xlabel('Predicted label')\n",
    "plt.ylabel('True label')  "
   ]
  },
  {
   "cell_type": "markdown",
   "metadata": {},
   "source": [
    "### Test Confusion Matrix"
   ]
  },
  {
   "cell_type": "code",
   "execution_count": 148,
   "metadata": {},
   "outputs": [
    {
     "name": "stdout",
     "output_type": "stream",
     "text": [
      "\n",
      "Test Accuracy :: 0.7328066175300917\n",
      "\n",
      "\n",
      "Confusion Matrix::\n",
      " [[ 1766  1291]\n",
      " [ 3748 12054]] \n",
      "\n"
     ]
    },
    {
     "data": {
      "text/plain": [
       "Text(33,0.5,'True label')"
      ]
     },
     "execution_count": 148,
     "metadata": {},
     "output_type": "execute_result"
    },
    {
     "data": {
      "image/png": "[encoded data removed]",
      "text/plain": [
       "<Figure size 432x288 with 2 Axes>"
      ]
     },
     "metadata": {},
     "output_type": "display_data"
    }
   ],
   "source": [
    "print(\"\\nTest Accuracy ::\",Set1_Tst_Acc)\n",
    "Test_CM= confusion_matrix(Y_test, Set1_Tst_Pred, labels=None, sample_weight=None) \n",
    "print(\"\\n\\nConfusion Matrix::\\n\",Test_CM,\"\\n\")\n",
    "sns.heatmap(Test_CM, cmap=\"YlGnBu\", fmt=\"d\"  ,annot=True,annot_kws={\"size\": 17})\n",
    "plt.xlabel('Predicted label')\n",
    "plt.ylabel('True label') "
   ]
  },
  {
   "cell_type": "code",
   "execution_count": 149,
   "metadata": {},
   "outputs": [],
   "source": [
    "Total_AUC['set1']=[Set1_best , set1_tst_roc_auc , Set1_Tst_Acc]"
   ]
  },
  {
   "cell_type": "markdown",
   "metadata": {
    "colab_type": "text",
    "id": "jm4vkPwMiWOu"
   },
   "source": [
    "### [5.1.1] Top 20 important features from<font color='red'> SET 1</font>"
   ]
  },
  {
   "cell_type": "code",
   "execution_count": 150,
   "metadata": {},
   "outputs": [
    {
     "data": {
      "text/html": [
       "<div>\n",
       "<style scoped>\n",
       "    .dataframe tbody tr th:only-of-type {\n",
       "        vertical-align: middle;\n",
       "    }\n",
       "\n",
       "    .dataframe tbody tr th {\n",
       "        vertical-align: top;\n",
       "    }\n",
       "\n",
       "    .dataframe thead th {\n",
       "        text-align: right;\n",
       "    }\n",
       "</style>\n",
       "<table border=\"1\" class=\"dataframe\">\n",
       "  <thead>\n",
       "    <tr style=\"text-align: right;\">\n",
       "      <th></th>\n",
       "      <th>feature</th>\n",
       "      <th>Decision_Imp</th>\n",
       "    </tr>\n",
       "  </thead>\n",
       "  <tbody>\n",
       "    <tr>\n",
       "      <th>3057</th>\n",
       "      <td>Lenght of Review</td>\n",
       "      <td>None</td>\n",
       "    </tr>\n",
       "    <tr>\n",
       "      <th>3056</th>\n",
       "      <td>No of Words</td>\n",
       "      <td>None</td>\n",
       "    </tr>\n",
       "    <tr>\n",
       "      <th>3044</th>\n",
       "      <td>yuck</td>\n",
       "      <td>0.0162269</td>\n",
       "    </tr>\n",
       "    <tr>\n",
       "      <th>2819</th>\n",
       "      <td>trash</td>\n",
       "      <td>0.0152514</td>\n",
       "    </tr>\n",
       "    <tr>\n",
       "      <th>2369</th>\n",
       "      <td>shame</td>\n",
       "      <td>0.0124486</td>\n",
       "    </tr>\n",
       "    <tr>\n",
       "      <th>1083</th>\n",
       "      <td>garbage</td>\n",
       "      <td>0.0116185</td>\n",
       "    </tr>\n",
       "    <tr>\n",
       "      <th>2206</th>\n",
       "      <td>returned</td>\n",
       "      <td>0.0112083</td>\n",
       "    </tr>\n",
       "    <tr>\n",
       "      <th>565</th>\n",
       "      <td>contacted</td>\n",
       "      <td>0.011208</td>\n",
       "    </tr>\n",
       "    <tr>\n",
       "      <th>918</th>\n",
       "      <td>expired</td>\n",
       "      <td>0.0103003</td>\n",
       "    </tr>\n",
       "    <tr>\n",
       "      <th>1274</th>\n",
       "      <td>hopes</td>\n",
       "      <td>0.0101598</td>\n",
       "    </tr>\n",
       "    <tr>\n",
       "      <th>2088</th>\n",
       "      <td>rancid</td>\n",
       "      <td>0.00942054</td>\n",
       "    </tr>\n",
       "    <tr>\n",
       "      <th>1680</th>\n",
       "      <td>misleading</td>\n",
       "      <td>0.00929826</td>\n",
       "    </tr>\n",
       "    <tr>\n",
       "      <th>2207</th>\n",
       "      <td>returning</td>\n",
       "      <td>0.00922488</td>\n",
       "    </tr>\n",
       "    <tr>\n",
       "      <th>328</th>\n",
       "      <td>buyer</td>\n",
       "      <td>0.00859021</td>\n",
       "    </tr>\n",
       "    <tr>\n",
       "      <th>2230</th>\n",
       "      <td>risk</td>\n",
       "      <td>0.00783394</td>\n",
       "    </tr>\n",
       "    <tr>\n",
       "      <th>670</th>\n",
       "      <td>dead</td>\n",
       "      <td>0.00774783</td>\n",
       "    </tr>\n",
       "    <tr>\n",
       "      <th>2256</th>\n",
       "      <td>rubber</td>\n",
       "      <td>0.00718445</td>\n",
       "    </tr>\n",
       "    <tr>\n",
       "      <th>350</th>\n",
       "      <td>cancelled</td>\n",
       "      <td>0.0071538</td>\n",
       "    </tr>\n",
       "    <tr>\n",
       "      <th>2225</th>\n",
       "      <td>rip</td>\n",
       "      <td>0.00712922</td>\n",
       "    </tr>\n",
       "    <tr>\n",
       "      <th>2421</th>\n",
       "      <td>sips</td>\n",
       "      <td>0.0070024</td>\n",
       "    </tr>\n",
       "  </tbody>\n",
       "</table>\n",
       "</div>"
      ],
      "text/plain": [
       "                feature Decision_Imp\n",
       "3057   Lenght of Review         None\n",
       "3056        No of Words         None\n",
       "3044               yuck    0.0162269\n",
       "2819              trash    0.0152514\n",
       "2369              shame    0.0124486\n",
       "1083            garbage    0.0116185\n",
       "2206           returned    0.0112083\n",
       "565           contacted     0.011208\n",
       "918             expired    0.0103003\n",
       "1274              hopes    0.0101598\n",
       "2088             rancid   0.00942054\n",
       "1680         misleading   0.00929826\n",
       "2207          returning   0.00922488\n",
       "328               buyer   0.00859021\n",
       "2230               risk   0.00783394\n",
       "670                dead   0.00774783\n",
       "2256             rubber   0.00718445\n",
       "350           cancelled    0.0071538\n",
       "2225                rip   0.00712922\n",
       "2421               sips    0.0070024"
      ]
     },
     "execution_count": 150,
     "metadata": {},
     "output_type": "execute_result"
    }
   ],
   "source": [
    "# Top Important features\n",
    "set1_Imp_Features=pd.DataFrame([Bow_Feature,Set1_Weights],index=['feature','Decision_Imp']).T\n",
    "#set1_Imp_Features= set1_Imp_Features[(set1_Imp_Features['Decision_Imp']>0)]\n",
    "set1_Imp_Features_sortd = set1_Imp_Features.sort_values(by='Decision_Imp')[-20:][::-1]\n",
    "set1_Imp_Features_sortd"
   ]
  },
  {
   "cell_type": "markdown",
   "metadata": {
    "colab_type": "text",
    "id": "7JyitDTTiWOx"
   },
   "source": [
    "### [5.1.2] Graphviz visualization of Decision Tree on BOW,<font color='red'> SET 1</font>"
   ]
  },
  {
   "cell_type": "markdown",
   "metadata": {},
   "source": [
    "Graphiviz is and extrordinar Package, which helps to vizualize our Trees and Node Split Information.\n",
    "\n",
    "For Better Vizualization We are building the Tree with MaxDepth 2 and Best Minimum Sapmles split, to Visualize the trees through Graphiviz."
   ]
  },
  {
   "cell_type": "code",
   "execution_count": 151,
   "metadata": {},
   "outputs": [
    {
     "data": {
      "text/plain": [
       "DecisionTreeClassifier(class_weight='balanced', criterion='gini', max_depth=2,\n",
       "            max_features=None, max_leaf_nodes=None,\n",
       "            min_impurity_decrease=0.0, min_impurity_split=None,\n",
       "            min_samples_leaf=1, min_samples_split=100,\n",
       "            min_weight_fraction_leaf=0.0, presort=False, random_state=None,\n",
       "            splitter='best')"
      ]
     },
     "execution_count": 151,
     "metadata": {},
     "output_type": "execute_result"
    }
   ],
   "source": [
    "Set1_Weights = []\n",
    "dt = DecisionTreeClassifier(criterion='gini',max_depth = 2,min_samples_split = Set1_best_min_samples_split , splitter='best', class_weight = \"balanced\")\n",
    "dt.fit(X_Bow_Tr,Y_tr)"
   ]
  },
  {
   "cell_type": "code",
   "execution_count": 159,
   "metadata": {},
   "outputs": [],
   "source": [
    "#http://webgraphviz.com/\n",
    "export_graphviz(dt, out_file='./output/Set1.dot', \n",
    "                feature_names=Bow_Feature)"
   ]
  },
  {
   "cell_type": "markdown",
   "metadata": {},
   "source": [
    "<img src=\".\\output\\Set1.png\">"
   ]
  },
  {
   "cell_type": "markdown",
   "metadata": {
    "colab_type": "text",
    "id": "5przjMTbiWOz"
   },
   "source": [
    "## [5.2] Applying Decision Trees on TFIDF,<font color='red'> SET 2</font>"
   ]
  },
  {
   "cell_type": "markdown",
   "metadata": {},
   "source": [
    "We are considered MaxDepth , Minimum Sapmles split as our Hypearameters.\n",
    "\n",
    "We will Tune the for the Best AUC using Cross Validaion.\n",
    "\n",
    "Will Train the Final Model with the Optimal Values returned by GridSearch.\n",
    "\n",
    "Finall Will Evalute the Model, Checking its AUC and Accuracy"
   ]
  },
  {
   "cell_type": "markdown",
   "metadata": {
    "colab": {},
    "colab_type": "code",
    "id": "Bm3mfI7miWOz"
   },
   "source": [
    "##### HyperParameters tunning by the CrossValidation for Best AUC"
   ]
  },
  {
   "cell_type": "code",
   "execution_count": 166,
   "metadata": {},
   "outputs": [
    {
     "name": "stdout",
     "output_type": "stream",
     "text": [
      "    mean_test_score  std_test_score  \\\n",
      "0          0.506888        0.001227   \n",
      "1          0.506888        0.001227   \n",
      "2          0.506888        0.001227   \n",
      "3          0.506888        0.001227   \n",
      "4          0.529788        0.002861   \n",
      "5          0.529788        0.002861   \n",
      "6          0.529800        0.002868   \n",
      "7          0.529800        0.002868   \n",
      "8          0.548143        0.005565   \n",
      "9          0.547340        0.005477   \n",
      "10         0.548333        0.005620   \n",
      "11         0.548164        0.005569   \n",
      "12         0.611975        0.009778   \n",
      "13         0.607991        0.009284   \n",
      "14         0.616581        0.008136   \n",
      "15         0.616599        0.008140   \n",
      "16         0.641308        0.006113   \n",
      "17         0.649840        0.008440   \n",
      "18         0.662701        0.007991   \n",
      "19         0.662088        0.007992   \n",
      "20         0.662748        0.012398   \n",
      "21         0.689089        0.006255   \n",
      "22         0.702723        0.011632   \n",
      "23         0.705368        0.009606   \n",
      "24         0.641380        0.006570   \n",
      "25         0.651926        0.007739   \n",
      "26         0.662105        0.008184   \n",
      "27         0.662444        0.007959   \n",
      "\n",
      "                                          params  \n",
      "0       {'max_depth': 1, 'min_samples_split': 5}  \n",
      "1      {'max_depth': 1, 'min_samples_split': 10}  \n",
      "2     {'max_depth': 1, 'min_samples_split': 100}  \n",
      "3     {'max_depth': 1, 'min_samples_split': 500}  \n",
      "4       {'max_depth': 5, 'min_samples_split': 5}  \n",
      "5      {'max_depth': 5, 'min_samples_split': 10}  \n",
      "6     {'max_depth': 5, 'min_samples_split': 100}  \n",
      "7     {'max_depth': 5, 'min_samples_split': 500}  \n",
      "8      {'max_depth': 10, 'min_samples_split': 5}  \n",
      "9     {'max_depth': 10, 'min_samples_split': 10}  \n",
      "10   {'max_depth': 10, 'min_samples_split': 100}  \n",
      "11   {'max_depth': 10, 'min_samples_split': 500}  \n",
      "12     {'max_depth': 50, 'min_samples_split': 5}  \n",
      "13    {'max_depth': 50, 'min_samples_split': 10}  \n",
      "14   {'max_depth': 50, 'min_samples_split': 100}  \n",
      "15   {'max_depth': 50, 'min_samples_split': 500}  \n",
      "16    {'max_depth': 100, 'min_samples_split': 5}  \n",
      "17   {'max_depth': 100, 'min_samples_split': 10}  \n",
      "18  {'max_depth': 100, 'min_samples_split': 100}  \n",
      "19  {'max_depth': 100, 'min_samples_split': 500}  \n",
      "20    {'max_depth': 500, 'min_samples_split': 5}  \n",
      "21   {'max_depth': 500, 'min_samples_split': 10}  \n",
      "22  {'max_depth': 500, 'min_samples_split': 100}  \n",
      "23  {'max_depth': 500, 'min_samples_split': 500}  \n",
      "24    {'max_depth': 100, 'min_samples_split': 5}  \n",
      "25   {'max_depth': 100, 'min_samples_split': 10}  \n",
      "26  {'max_depth': 100, 'min_samples_split': 100}  \n",
      "27  {'max_depth': 100, 'min_samples_split': 500}  \n"
     ]
    }
   ],
   "source": [
    "dt = DecisionTreeClassifier(criterion='gini', splitter='best', class_weight = \"balanced\")\n",
    "gs = GridSearchCV(dt, param_grid=params, cv=5,scoring='roc_auc',n_jobs=-1)\n",
    "gs.fit(X_Tfidf_Cv,Y_cv)\n",
    "Set2_Cv_Results = pd.DataFrame(gs.cv_results_)[['mean_test_score', 'std_test_score', 'params']]\n",
    "print(Set2_Cv_Results)"
   ]
  },
  {
   "cell_type": "code",
   "execution_count": 167,
   "metadata": {},
   "outputs": [
    {
     "name": "stdout",
     "output_type": "stream",
     "text": [
      "\t best_score_     : 0.7053676978214866\n",
      "\t best_params_    : {'max_depth': 500, 'min_samples_split': 500}\n"
     ]
    }
   ],
   "source": [
    "# examine the best model\n",
    "print(\"\\t best_score_     :\",gs.best_score_)\n",
    "print(\"\\t best_params_    :\",gs.best_params_)\n",
    "#print(\" best_estimator_ :\",gs.best_estimator_)\n",
    "Set2_best = gs.best_params_\n",
    "Set2_best_max_depth         = gs.best_params_['max_depth']\n",
    "Set2_best_min_samples_split = gs.best_params_['min_samples_split']\n",
    "Set2_Cv_AUC = gs.best_score_"
   ]
  },
  {
   "cell_type": "markdown",
   "metadata": {},
   "source": [
    "We captured the Best Parametres that we want.\n",
    "\n",
    "Let Train our Model with theese best Params and Draw AUC for bot Train and Test Data.\n",
    "\n",
    "We also Evaluate the Model for its Train and Test Accuracy."
   ]
  },
  {
   "cell_type": "code",
   "execution_count": 168,
   "metadata": {},
   "outputs": [],
   "source": [
    "Set2_Weights = []\n",
    "dt = DecisionTreeClassifier(criterion='gini',max_depth = Set2_best_max_depth,min_samples_split = Set2_best_min_samples_split,splitter='best', class_weight = \"balanced\")\n",
    "dt.fit(X_Tfidf_Tr,Y_tr)\n",
    "Set2_Weights = dt.feature_importances_.tolist()"
   ]
  },
  {
   "cell_type": "code",
   "execution_count": 169,
   "metadata": {
    "scrolled": true
   },
   "outputs": [
    {
     "name": "stdout",
     "output_type": "stream",
     "text": [
      " Train Data      AUC for the Best Lamda  is  0.8774725976183912\n",
      " Test Validaton  AUC for the BEst Lamda  is  0.739723602396139\n"
     ]
    },
    {
     "data": {
      "image/png": "[encoded data removed]",
      "text/plain": [
       "<Figure size 432x288 with 1 Axes>"
      ]
     },
     "metadata": {},
     "output_type": "display_data"
    }
   ],
   "source": [
    "#https://qiita.com/bmj0114/items/460424c110a8ce22d945\n",
    "Set2_Tr_prob    =  dt.predict_proba(X_Tfidf_Tr)    # Probablity of TRAIN-Validation\n",
    "Set2_Tst_prob   =  dt.predict_proba(X_Tfidf_Test)    # Probablity of Cross-Validation\n",
    "\n",
    "set2_tst_fpr, set2_tst_tpr, thresholds = roc_curve(Y_test,Set2_Tst_prob[:,1])\n",
    "set2_tst_roc_auc = auc(set2_tst_fpr, set2_tst_tpr)\n",
    "\n",
    "set2_train_fpr, set2_train_tpr, thresholds = roc_curve(Y_tr,Set2_Tr_prob[:,1])\n",
    "set2_train_roc_auc = auc(set2_train_fpr, set2_train_tpr)\n",
    "\n",
    "print(\" Train Data      AUC for the Best Lamda  is \", set2_train_roc_auc)\n",
    "print(\" Test Validaton  AUC for the BEst Lamda  is \", set2_tst_roc_auc)\n",
    "\n",
    "lw=1\n",
    "plt.figure()\n",
    "plt.plot(set2_tst_fpr, set2_tst_tpr, color='darkorange', lw=3, label='Test ROC curve (area = %0.2f)' % set2_tst_roc_auc)\n",
    "plt.plot(set2_train_fpr, set2_train_tpr, color='navy', lw=1, label='Train ROC curve (area = %0.2f)' % set2_train_roc_auc)\n",
    "plt.plot([0, 1], [0,1], color='red', lw=lw, linestyle='--')\n",
    "plt.xlim([0.0, 1.0])\n",
    "plt.ylim([0.0, 1.04])\n",
    "plt.xlabel('False Positive Rate')\n",
    "plt.ylabel('True Positive Rate')\n",
    "plt.title('ROC - Receiver operating characteristic')\n",
    "plt.legend(loc=\"lower right\")\n",
    "plt.show()"
   ]
  },
  {
   "cell_type": "markdown",
   "metadata": {},
   "source": [
    "#### Accuracy"
   ]
  },
  {
   "cell_type": "code",
   "execution_count": 170,
   "metadata": {},
   "outputs": [
    {
     "name": "stdout",
     "output_type": "stream",
     "text": [
      "\n",
      "\tAccuracy for Train Data :  0.8250438283228362\n",
      "\tAccuracy for Test Data :  0.7618113367622885\n"
     ]
    }
   ],
   "source": [
    "Set2_Tr_Pred  =  dt.predict(X_Tfidf_Tr)\n",
    "Set2_Tst_Pred =  dt.predict(X_Tfidf_Test)\n",
    "\n",
    "Set2_Tr_Acc =  accuracy_score(Y_tr,Set2_Tr_Pred,normalize=True)\n",
    "Set2_Tst_Acc =  accuracy_score(Y_test,Set2_Tst_Pred,normalize=True)\n",
    "\n",
    "print(\"\\n\\tAccuracy for Train Data : \",Set2_Tr_Acc)\n",
    "print(\"\\tAccuracy for Test Data : \",Set2_Tst_Acc)"
   ]
  },
  {
   "cell_type": "markdown",
   "metadata": {},
   "source": [
    "### Train Confusion Matrix"
   ]
  },
  {
   "cell_type": "code",
   "execution_count": 171,
   "metadata": {},
   "outputs": [
    {
     "name": "stdout",
     "output_type": "stream",
     "text": [
      "\n",
      "Train Accuracy :: 0.8250438283228362\n",
      "Confusion Matrix::\n",
      " [[ 4307   664]\n",
      " [ 4725 21106]] \n",
      "\n"
     ]
    },
    {
     "data": {
      "text/plain": [
       "Text(83.4,0.5,'True label')"
      ]
     },
     "execution_count": 171,
     "metadata": {},
     "output_type": "execute_result"
    },
    {
     "data": {
      "image/png": "[encoded data removed]",
      "text/plain": [
       "<Figure size 432x288 with 2 Axes>"
      ]
     },
     "metadata": {},
     "output_type": "display_data"
    }
   ],
   "source": [
    "print(\"\\nTrain Accuracy ::\",Set2_Tr_Acc)\n",
    "Train_CM= confusion_matrix(Y_tr, Set2_Tr_Pred, labels=None, sample_weight=None) \n",
    "print(\"Confusion Matrix::\\n\",Train_CM,\"\\n\")\n",
    "plt.imshow(Train_CM, cmap='binary')\n",
    "sns.heatmap(Train_CM, cmap=\"YlGnBu\", fmt=\"d\"  ,annot=True,annot_kws={\"size\": 17})\n",
    "plt.xlabel('Predicted label')\n",
    "plt.ylabel('True label')"
   ]
  },
  {
   "cell_type": "markdown",
   "metadata": {},
   "source": [
    "### Test Confusion Matrix"
   ]
  },
  {
   "cell_type": "code",
   "execution_count": 172,
   "metadata": {},
   "outputs": [
    {
     "name": "stdout",
     "output_type": "stream",
     "text": [
      "\n",
      "Test Accuracy :: 0.7618113367622885\n",
      "\n",
      "\n",
      "Confusion Matrix::\n",
      " [[ 1947  1110]\n",
      " [ 3382 12420]] \n",
      "\n"
     ]
    },
    {
     "data": {
      "text/plain": [
       "Text(33,0.5,'True label')"
      ]
     },
     "execution_count": 172,
     "metadata": {},
     "output_type": "execute_result"
    },
    {
     "data": {
      "image/png": "[encoded data removed]",
      "text/plain": [
       "<Figure size 432x288 with 2 Axes>"
      ]
     },
     "metadata": {},
     "output_type": "display_data"
    }
   ],
   "source": [
    "print(\"\\nTest Accuracy ::\",Set2_Tst_Acc)\n",
    "Test_CM= confusion_matrix(Y_test, Set2_Tst_Pred, labels=None, sample_weight=None) \n",
    "print(\"\\n\\nConfusion Matrix::\\n\",Test_CM,\"\\n\")\n",
    "sns.heatmap(Test_CM, cmap=\"YlGnBu\", fmt=\"d\"  ,annot=True,annot_kws={\"size\": 17})\n",
    "plt.xlabel('Predicted label')\n",
    "plt.ylabel('True label') "
   ]
  },
  {
   "cell_type": "code",
   "execution_count": 173,
   "metadata": {},
   "outputs": [],
   "source": [
    "Total_AUC['set2']=[Set2_best , set2_tst_roc_auc , Set2_Tst_Acc]"
   ]
  },
  {
   "cell_type": "markdown",
   "metadata": {
    "colab_type": "text",
    "id": "PIKUCldjiWO0"
   },
   "source": [
    "### [5.2.1] Top 20 important features from<font color='red'> SET 2</font>"
   ]
  },
  {
   "cell_type": "code",
   "execution_count": 174,
   "metadata": {},
   "outputs": [
    {
     "data": {
      "text/html": [
       "<div>\n",
       "<style scoped>\n",
       "    .dataframe tbody tr th:only-of-type {\n",
       "        vertical-align: middle;\n",
       "    }\n",
       "\n",
       "    .dataframe tbody tr th {\n",
       "        vertical-align: top;\n",
       "    }\n",
       "\n",
       "    .dataframe thead th {\n",
       "        text-align: right;\n",
       "    }\n",
       "</style>\n",
       "<table border=\"1\" class=\"dataframe\">\n",
       "  <thead>\n",
       "    <tr style=\"text-align: right;\">\n",
       "      <th></th>\n",
       "      <th>feature</th>\n",
       "      <th>Decision_Imp</th>\n",
       "    </tr>\n",
       "  </thead>\n",
       "  <tbody>\n",
       "    <tr>\n",
       "      <th>4028</th>\n",
       "      <td>never buy</td>\n",
       "      <td>0.0108999</td>\n",
       "    </tr>\n",
       "    <tr>\n",
       "      <th>4275</th>\n",
       "      <td>not purchase</td>\n",
       "      <td>0.010769</td>\n",
       "    </tr>\n",
       "    <tr>\n",
       "      <th>4162</th>\n",
       "      <td>not buying</td>\n",
       "      <td>0.0107302</td>\n",
       "    </tr>\n",
       "    <tr>\n",
       "      <th>7119</th>\n",
       "      <td>yuck</td>\n",
       "      <td>0.0102222</td>\n",
       "    </tr>\n",
       "    <tr>\n",
       "      <th>3642</th>\n",
       "      <td>made china</td>\n",
       "      <td>0.0101806</td>\n",
       "    </tr>\n",
       "    <tr>\n",
       "      <th>4324</th>\n",
       "      <td>not waste</td>\n",
       "      <td>0.00978263</td>\n",
       "    </tr>\n",
       "    <tr>\n",
       "      <th>6516</th>\n",
       "      <td>trash</td>\n",
       "      <td>0.00897477</td>\n",
       "    </tr>\n",
       "    <tr>\n",
       "      <th>363</th>\n",
       "      <td>bad batch</td>\n",
       "      <td>0.00870845</td>\n",
       "    </tr>\n",
       "    <tr>\n",
       "      <th>6631</th>\n",
       "      <td>two stars</td>\n",
       "      <td>0.0076635</td>\n",
       "    </tr>\n",
       "    <tr>\n",
       "      <th>5538</th>\n",
       "      <td>shame</td>\n",
       "      <td>0.00756586</td>\n",
       "    </tr>\n",
       "    <tr>\n",
       "      <th>1218</th>\n",
       "      <td>contacted</td>\n",
       "      <td>0.00703134</td>\n",
       "    </tr>\n",
       "    <tr>\n",
       "      <th>2397</th>\n",
       "      <td>garbage</td>\n",
       "      <td>0.00697585</td>\n",
       "    </tr>\n",
       "    <tr>\n",
       "      <th>5275</th>\n",
       "      <td>returned</td>\n",
       "      <td>0.00670165</td>\n",
       "    </tr>\n",
       "    <tr>\n",
       "      <th>4218</th>\n",
       "      <td>not happy</td>\n",
       "      <td>0.00669055</td>\n",
       "    </tr>\n",
       "    <tr>\n",
       "      <th>5276</th>\n",
       "      <td>returning</td>\n",
       "      <td>0.00658343</td>\n",
       "    </tr>\n",
       "    <tr>\n",
       "      <th>6818</th>\n",
       "      <td>wanted like</td>\n",
       "      <td>0.00658122</td>\n",
       "    </tr>\n",
       "    <tr>\n",
       "      <th>1554</th>\n",
       "      <td>disappointed product</td>\n",
       "      <td>0.00626917</td>\n",
       "    </tr>\n",
       "    <tr>\n",
       "      <th>5051</th>\n",
       "      <td>rancid</td>\n",
       "      <td>0.00600367</td>\n",
       "    </tr>\n",
       "    <tr>\n",
       "      <th>2930</th>\n",
       "      <td>hopes</td>\n",
       "      <td>0.00597009</td>\n",
       "    </tr>\n",
       "    <tr>\n",
       "      <th>5880</th>\n",
       "      <td>stay away</td>\n",
       "      <td>0.0057709</td>\n",
       "    </tr>\n",
       "  </tbody>\n",
       "</table>\n",
       "</div>"
      ],
      "text/plain": [
       "                   feature Decision_Imp\n",
       "4028             never buy    0.0108999\n",
       "4275          not purchase     0.010769\n",
       "4162            not buying    0.0107302\n",
       "7119                  yuck    0.0102222\n",
       "3642            made china    0.0101806\n",
       "4324             not waste   0.00978263\n",
       "6516                 trash   0.00897477\n",
       "363              bad batch   0.00870845\n",
       "6631             two stars    0.0076635\n",
       "5538                 shame   0.00756586\n",
       "1218             contacted   0.00703134\n",
       "2397               garbage   0.00697585\n",
       "5275              returned   0.00670165\n",
       "4218             not happy   0.00669055\n",
       "5276             returning   0.00658343\n",
       "6818           wanted like   0.00658122\n",
       "1554  disappointed product   0.00626917\n",
       "5051                rancid   0.00600367\n",
       "2930                 hopes   0.00597009\n",
       "5880             stay away    0.0057709"
      ]
     },
     "execution_count": 174,
     "metadata": {},
     "output_type": "execute_result"
    }
   ],
   "source": [
    "# Top Important features\n",
    "set2_Imp_Features=pd.DataFrame([tf_idf_feature,Set2_Weights],index=['feature','Decision_Imp']).T\n",
    "#set2_Imp_Features= set2_Imp_Features[(set2_Imp_Features['Decision_Imp']>0)]\n",
    "set2_Imp_Features_sortd = set2_Imp_Features.sort_values(by='Decision_Imp')[-20:][::-1]\n",
    "set2_Imp_Features_sortd"
   ]
  },
  {
   "cell_type": "markdown",
   "metadata": {
    "colab_type": "text",
    "id": "RTZB9ipUiWO3"
   },
   "source": [
    "### [5.2.2] Graphviz visualization of Decision Tree on TFIDF,<font color='red'> SET 2</font>"
   ]
  },
  {
   "cell_type": "markdown",
   "metadata": {},
   "source": [
    "Graphiviz is Extrordinar technique, which helps to vizualize our Trees and Node Split Information.\n",
    "\n",
    "For Better Vizualization We are building the Tree with MaxDepth 2 and Best Minimum Sapmles split, to Visualize the trees through Graphiviz."
   ]
  },
  {
   "cell_type": "code",
   "execution_count": 175,
   "metadata": {},
   "outputs": [
    {
     "data": {
      "text/plain": [
       "DecisionTreeClassifier(class_weight='balanced', criterion='gini', max_depth=2,\n",
       "            max_features=None, max_leaf_nodes=None,\n",
       "            min_impurity_decrease=0.0, min_impurity_split=None,\n",
       "            min_samples_leaf=1, min_samples_split=500,\n",
       "            min_weight_fraction_leaf=0.0, presort=False, random_state=None,\n",
       "            splitter='best')"
      ]
     },
     "execution_count": 175,
     "metadata": {},
     "output_type": "execute_result"
    }
   ],
   "source": [
    "dt = DecisionTreeClassifier(criterion='gini',max_depth = 2,min_samples_split = Set2_best_min_samples_split , splitter='best', class_weight = \"balanced\")\n",
    "dt.fit(X_Tfidf_Tr,Y_tr)"
   ]
  },
  {
   "cell_type": "code",
   "execution_count": 176,
   "metadata": {},
   "outputs": [],
   "source": [
    "export_graphviz(dt, out_file='./output/Set2.dot', \n",
    "                feature_names=tf_idf_feature)"
   ]
  },
  {
   "cell_type": "markdown",
   "metadata": {},
   "source": [
    "<img src=\".\\output\\Set2.png\">"
   ]
  },
  {
   "cell_type": "markdown",
   "metadata": {
    "colab_type": "text",
    "id": "NVhl_V6MiWO5"
   },
   "source": [
    "## [5.3] Applying Decision Trees on AVG W2V,<font color='red'> SET 3</font>"
   ]
  },
  {
   "cell_type": "markdown",
   "metadata": {
    "colab": {},
    "colab_type": "code",
    "id": "uYDXnzMmiWO5"
   },
   "source": [
    "##### HyperParameters tunning by the CrossValidation for Best AUC"
   ]
  },
  {
   "cell_type": "code",
   "execution_count": 178,
   "metadata": {},
   "outputs": [
    {
     "name": "stdout",
     "output_type": "stream",
     "text": [
      "    mean_test_score  std_test_score  \\\n",
      "0          0.652240        0.012754   \n",
      "1          0.652240        0.012754   \n",
      "2          0.652240        0.012754   \n",
      "3          0.652240        0.012754   \n",
      "4          0.792895        0.012825   \n",
      "5          0.793441        0.013072   \n",
      "6          0.792237        0.013439   \n",
      "7          0.791794        0.013899   \n",
      "8          0.720129        0.011525   \n",
      "9          0.723323        0.009228   \n",
      "10         0.773056        0.001819   \n",
      "11         0.798455        0.009690   \n",
      "12         0.637680        0.005026   \n",
      "13         0.657654        0.004605   \n",
      "14         0.758535        0.003976   \n",
      "15         0.798492        0.009707   \n",
      "16         0.643417        0.005977   \n",
      "17         0.657320        0.006827   \n",
      "18         0.759202        0.004240   \n",
      "19         0.798259        0.009895   \n",
      "20         0.638952        0.001829   \n",
      "21         0.656907        0.004555   \n",
      "22         0.758206        0.004775   \n",
      "23         0.798259        0.009895   \n",
      "24         0.645343        0.006533   \n",
      "25         0.655628        0.005647   \n",
      "26         0.757066        0.002979   \n",
      "27         0.798259        0.009895   \n",
      "\n",
      "                                          params  \n",
      "0       {'max_depth': 1, 'min_samples_split': 5}  \n",
      "1      {'max_depth': 1, 'min_samples_split': 10}  \n",
      "2     {'max_depth': 1, 'min_samples_split': 100}  \n",
      "3     {'max_depth': 1, 'min_samples_split': 500}  \n",
      "4       {'max_depth': 5, 'min_samples_split': 5}  \n",
      "5      {'max_depth': 5, 'min_samples_split': 10}  \n",
      "6     {'max_depth': 5, 'min_samples_split': 100}  \n",
      "7     {'max_depth': 5, 'min_samples_split': 500}  \n",
      "8      {'max_depth': 10, 'min_samples_split': 5}  \n",
      "9     {'max_depth': 10, 'min_samples_split': 10}  \n",
      "10   {'max_depth': 10, 'min_samples_split': 100}  \n",
      "11   {'max_depth': 10, 'min_samples_split': 500}  \n",
      "12     {'max_depth': 50, 'min_samples_split': 5}  \n",
      "13    {'max_depth': 50, 'min_samples_split': 10}  \n",
      "14   {'max_depth': 50, 'min_samples_split': 100}  \n",
      "15   {'max_depth': 50, 'min_samples_split': 500}  \n",
      "16    {'max_depth': 100, 'min_samples_split': 5}  \n",
      "17   {'max_depth': 100, 'min_samples_split': 10}  \n",
      "18  {'max_depth': 100, 'min_samples_split': 100}  \n",
      "19  {'max_depth': 100, 'min_samples_split': 500}  \n",
      "20    {'max_depth': 500, 'min_samples_split': 5}  \n",
      "21   {'max_depth': 500, 'min_samples_split': 10}  \n",
      "22  {'max_depth': 500, 'min_samples_split': 100}  \n",
      "23  {'max_depth': 500, 'min_samples_split': 500}  \n",
      "24    {'max_depth': 100, 'min_samples_split': 5}  \n",
      "25   {'max_depth': 100, 'min_samples_split': 10}  \n",
      "26  {'max_depth': 100, 'min_samples_split': 100}  \n",
      "27  {'max_depth': 100, 'min_samples_split': 500}  \n"
     ]
    }
   ],
   "source": [
    "dt = DecisionTreeClassifier(criterion='gini', splitter='best', class_weight = \"balanced\")\n",
    "gs = GridSearchCV(dt, param_grid=params, cv=5,scoring='roc_auc',n_jobs=-1)\n",
    "gs.fit(X_AvgW2V_Cv,Y_cv)\n",
    "Set3_Cv_Results = pd.DataFrame(gs.cv_results_)[['mean_test_score', 'std_test_score', 'params']]\n",
    "print(Set3_Cv_Results)"
   ]
  },
  {
   "cell_type": "code",
   "execution_count": 179,
   "metadata": {},
   "outputs": [
    {
     "name": "stdout",
     "output_type": "stream",
     "text": [
      "\t best_score_     : 0.798491629939966\n",
      "\t best_params_    : {'max_depth': 50, 'min_samples_split': 500}\n"
     ]
    }
   ],
   "source": [
    "# examine the best model\n",
    "print(\"\\t best_score_     :\",gs.best_score_)\n",
    "print(\"\\t best_params_    :\",gs.best_params_)\n",
    "#print(\" best_estimator_ :\",gs.best_estimator_)\n",
    "Set3_best = gs.best_params_\n",
    "Set3_best_max_depth         = gs.best_params_['max_depth']\n",
    "Set3_best_min_samples_split = gs.best_params_['min_samples_split']\n",
    "Set3_Cv_AUC = gs.best_score_"
   ]
  },
  {
   "cell_type": "markdown",
   "metadata": {},
   "source": [
    "We captured the Best Parametres that we want.\n",
    "\n",
    "Let Train our Model with theese best Params and Draw AUC for bot Train and Test Data.\n",
    "\n",
    "We also Evaluate the Model for its Train and Test Accuracy."
   ]
  },
  {
   "cell_type": "code",
   "execution_count": 180,
   "metadata": {},
   "outputs": [],
   "source": [
    "Set3_Weights = []\n",
    "dt = DecisionTreeClassifier(criterion='gini',max_depth = Set3_best_max_depth,min_samples_split = Set3_best_min_samples_split , splitter='best', class_weight = \"balanced\")\n",
    "dt.fit(X_AvgW2V_Tr,Y_tr)\n",
    "Set3_Weights = dt.feature_importances_.tolist()"
   ]
  },
  {
   "cell_type": "code",
   "execution_count": 181,
   "metadata": {
    "scrolled": true
   },
   "outputs": [
    {
     "name": "stdout",
     "output_type": "stream",
     "text": [
      " Train Data      AUC for the Best Lamda  is  0.8701639303944451\n",
      " Test Validaton  AUC for the BEst Lamda  is  0.813462213554828\n"
     ]
    },
    {
     "data": {
      "image/png": "[encoded data removed]",
      "text/plain": [
       "<Figure size 432x288 with 1 Axes>"
      ]
     },
     "metadata": {},
     "output_type": "display_data"
    }
   ],
   "source": [
    "#https://qiita.com/bmj0114/items/460424c110a8ce22d945\n",
    "Set3_Tr_prob    =  dt.predict_proba(X_AvgW2V_Tr)    # Probablity of TRAIN-Validation\n",
    "Set3_Tst_prob   =  dt.predict_proba(X_AvgW2V_Test)    # Probablity of Cross-Validation\n",
    "\n",
    "set3_tst_fpr, set3_tst_tpr, thresholds = roc_curve(Y_test,Set3_Tst_prob[:,1])\n",
    "set3_tst_roc_auc = auc(set3_tst_fpr, set3_tst_tpr)\n",
    "\n",
    "set3_train_fpr, set3_train_tpr, thresholds = roc_curve(Y_tr,Set3_Tr_prob[:,1])\n",
    "set3_train_roc_auc = auc(set3_train_fpr, set3_train_tpr)\n",
    "\n",
    "\n",
    "print(\" Train Data      AUC for the Best Lamda  is \", set3_train_roc_auc)\n",
    "print(\" Test Validaton  AUC for the BEst Lamda  is \", set3_tst_roc_auc)\n",
    "\n",
    "lw=1\n",
    "plt.figure()\n",
    "plt.plot(set3_tst_fpr, set3_tst_tpr, color='darkorange', lw=3, label='Test ROC curve (area = %0.2f)' % set3_tst_roc_auc)\n",
    "plt.plot(set3_train_fpr,set3_train_tpr, color='navy', lw=1, label='Train ROC curve (area = %0.2f)' % set3_train_roc_auc)\n",
    "plt.plot([0, 1], [0,1], color='red', lw=lw, linestyle='--')\n",
    "plt.xlim([0.0, 1.0])\n",
    "plt.ylim([0.0, 1.04])\n",
    "plt.xlabel('False Positive Rate')\n",
    "plt.ylabel('True Positive Rate')\n",
    "plt.title('ROC - Receiver operating characteristic')\n",
    "plt.legend(loc=\"lower right\")\n",
    "plt.show()"
   ]
  },
  {
   "cell_type": "markdown",
   "metadata": {},
   "source": [
    "##### Accuracy"
   ]
  },
  {
   "cell_type": "code",
   "execution_count": 182,
   "metadata": {},
   "outputs": [
    {
     "name": "stdout",
     "output_type": "stream",
     "text": [
      "\n",
      "\tAccuracy for Train Data :  0.7469969482501136\n",
      "\tAccuracy for Test Data :  0.7206108489315446\n"
     ]
    }
   ],
   "source": [
    "Set3_Tr_Pred  =  dt.predict(X_AvgW2V_Tr)\n",
    "Set3_Tst_Pred =  dt.predict(X_AvgW2V_Test)\n",
    "\n",
    "Set3_Tr_Acc =  accuracy_score(Y_tr,Set3_Tr_Pred,normalize=True)\n",
    "Set3_Tst_Acc =  accuracy_score(Y_test,Set3_Tst_Pred,normalize=True)\n",
    "\n",
    "print(\"\\n\\tAccuracy for Train Data : \",Set3_Tr_Acc)\n",
    "print(\"\\tAccuracy for Test Data : \",Set3_Tst_Acc)"
   ]
  },
  {
   "cell_type": "markdown",
   "metadata": {},
   "source": [
    "### Train Confusion Matrix"
   ]
  },
  {
   "cell_type": "code",
   "execution_count": 183,
   "metadata": {},
   "outputs": [
    {
     "name": "stdout",
     "output_type": "stream",
     "text": [
      "\n",
      "Train Accuracy :: 0.7469969482501136\n",
      "Confusion Matrix::\n",
      " [[ 4158   813]\n",
      " [ 6980 18851]] \n",
      "\n"
     ]
    },
    {
     "data": {
      "text/plain": [
       "Text(83.4,0.5,'True label')"
      ]
     },
     "execution_count": 183,
     "metadata": {},
     "output_type": "execute_result"
    },
    {
     "data": {
      "image/png": "[encoded data removed]",
      "text/plain": [
       "<Figure size 432x288 with 2 Axes>"
      ]
     },
     "metadata": {},
     "output_type": "display_data"
    }
   ],
   "source": [
    "print(\"\\nTrain Accuracy ::\",Set3_Tr_Acc)\n",
    "Train_CM= confusion_matrix(Y_tr, Set3_Tr_Pred, labels=None, sample_weight=None) \n",
    "print(\"Confusion Matrix::\\n\",Train_CM,\"\\n\")\n",
    "plt.imshow(Train_CM, cmap='binary')\n",
    "sns.heatmap(Train_CM, cmap=\"YlGnBu\", fmt=\"d\"  ,annot=True,annot_kws={\"size\": 17})\n",
    "plt.xlabel('Predicted label')\n",
    "plt.ylabel('True label')  "
   ]
  },
  {
   "cell_type": "markdown",
   "metadata": {},
   "source": [
    "### Test Confusion Matrix"
   ]
  },
  {
   "cell_type": "code",
   "execution_count": 184,
   "metadata": {},
   "outputs": [
    {
     "name": "stdout",
     "output_type": "stream",
     "text": [
      "\n",
      "Test Accuracy :: 0.7206108489315446\n",
      "\n",
      "\n",
      "Confusion Matrix::\n",
      " [[ 2339   718]\n",
      " [ 4551 11251]] \n",
      "\n"
     ]
    },
    {
     "data": {
      "text/plain": [
       "Text(33,0.5,'True label')"
      ]
     },
     "execution_count": 184,
     "metadata": {},
     "output_type": "execute_result"
    },
    {
     "data": {
      "image/png": "[encoded data removed]",
      "text/plain": [
       "<Figure size 432x288 with 2 Axes>"
      ]
     },
     "metadata": {},
     "output_type": "display_data"
    }
   ],
   "source": [
    "print(\"\\nTest Accuracy ::\",Set3_Tst_Acc)\n",
    "Test_CM= confusion_matrix(Y_test, Set3_Tst_Pred, labels=None, sample_weight=None) \n",
    "print(\"\\n\\nConfusion Matrix::\\n\",Test_CM,\"\\n\")\n",
    "sns.heatmap(Test_CM, cmap=\"YlGnBu\", fmt=\"d\"  ,annot=True,annot_kws={\"size\": 17})\n",
    "plt.xlabel('Predicted label')\n",
    "plt.ylabel('True label') "
   ]
  },
  {
   "cell_type": "code",
   "execution_count": 185,
   "metadata": {},
   "outputs": [],
   "source": [
    "Total_AUC['set3']=[Set3_best , set3_tst_roc_auc , Set3_Tst_Acc]"
   ]
  },
  {
   "cell_type": "markdown",
   "metadata": {
    "colab_type": "text",
    "id": "PnwVzXytiWO7"
   },
   "source": [
    "## [5.4] Applying Decision Trees on TFIDF W2V,<font color='red'> SET 4</font>"
   ]
  },
  {
   "cell_type": "markdown",
   "metadata": {
    "colab": {},
    "colab_type": "code",
    "id": "YqODkVCgiWO7"
   },
   "source": [
    "#### HyperParameters tunning by the CrossValidation for Best AUC"
   ]
  },
  {
   "cell_type": "code",
   "execution_count": 187,
   "metadata": {},
   "outputs": [
    {
     "name": "stdout",
     "output_type": "stream",
     "text": [
      "    mean_test_score  std_test_score  \\\n",
      "0          0.616005        0.015808   \n",
      "1          0.616005        0.015808   \n",
      "2          0.616005        0.015808   \n",
      "3          0.616005        0.015808   \n",
      "4          0.725700        0.010668   \n",
      "5          0.725700        0.010668   \n",
      "6          0.726153        0.010716   \n",
      "7          0.725571        0.013714   \n",
      "8          0.631219        0.016196   \n",
      "9          0.633058        0.015774   \n",
      "10         0.699291        0.009152   \n",
      "11         0.727024        0.008918   \n",
      "12         0.586849        0.011336   \n",
      "13         0.594797        0.011680   \n",
      "14         0.688823        0.012761   \n",
      "15         0.726904        0.008095   \n",
      "16         0.591967        0.012746   \n",
      "17         0.603698        0.010943   \n",
      "18         0.688482        0.012064   \n",
      "19         0.726904        0.008095   \n",
      "20         0.587494        0.009540   \n",
      "21         0.598741        0.011944   \n",
      "22         0.687598        0.011021   \n",
      "23         0.726904        0.008095   \n",
      "24         0.592056        0.010657   \n",
      "25         0.598612        0.013697   \n",
      "26         0.688826        0.011570   \n",
      "27         0.726904        0.008095   \n",
      "\n",
      "                                          params  \n",
      "0       {'max_depth': 1, 'min_samples_split': 5}  \n",
      "1      {'max_depth': 1, 'min_samples_split': 10}  \n",
      "2     {'max_depth': 1, 'min_samples_split': 100}  \n",
      "3     {'max_depth': 1, 'min_samples_split': 500}  \n",
      "4       {'max_depth': 5, 'min_samples_split': 5}  \n",
      "5      {'max_depth': 5, 'min_samples_split': 10}  \n",
      "6     {'max_depth': 5, 'min_samples_split': 100}  \n",
      "7     {'max_depth': 5, 'min_samples_split': 500}  \n",
      "8      {'max_depth': 10, 'min_samples_split': 5}  \n",
      "9     {'max_depth': 10, 'min_samples_split': 10}  \n",
      "10   {'max_depth': 10, 'min_samples_split': 100}  \n",
      "11   {'max_depth': 10, 'min_samples_split': 500}  \n",
      "12     {'max_depth': 50, 'min_samples_split': 5}  \n",
      "13    {'max_depth': 50, 'min_samples_split': 10}  \n",
      "14   {'max_depth': 50, 'min_samples_split': 100}  \n",
      "15   {'max_depth': 50, 'min_samples_split': 500}  \n",
      "16    {'max_depth': 100, 'min_samples_split': 5}  \n",
      "17   {'max_depth': 100, 'min_samples_split': 10}  \n",
      "18  {'max_depth': 100, 'min_samples_split': 100}  \n",
      "19  {'max_depth': 100, 'min_samples_split': 500}  \n",
      "20    {'max_depth': 500, 'min_samples_split': 5}  \n",
      "21   {'max_depth': 500, 'min_samples_split': 10}  \n",
      "22  {'max_depth': 500, 'min_samples_split': 100}  \n",
      "23  {'max_depth': 500, 'min_samples_split': 500}  \n",
      "24    {'max_depth': 100, 'min_samples_split': 5}  \n",
      "25   {'max_depth': 100, 'min_samples_split': 10}  \n",
      "26  {'max_depth': 100, 'min_samples_split': 100}  \n",
      "27  {'max_depth': 100, 'min_samples_split': 500}  \n"
     ]
    }
   ],
   "source": [
    "dt = DecisionTreeClassifier(criterion='gini', splitter='best', class_weight = \"balanced\")\n",
    "gs = GridSearchCV(dt, param_grid=params, cv=5,scoring='roc_auc',n_jobs=-1)\n",
    "gs.fit(X_AvgW2VtfIdf_Cv,Y_cv)\n",
    "Set4_Cv_Results = pd.DataFrame(gs.cv_results_)[['mean_test_score', 'std_test_score', 'params']]\n",
    "print(Set4_Cv_Results)"
   ]
  },
  {
   "cell_type": "code",
   "execution_count": 188,
   "metadata": {},
   "outputs": [
    {
     "name": "stdout",
     "output_type": "stream",
     "text": [
      "\t best_score_     : 0.7270244512211854\n",
      "\t best_params_    : {'max_depth': 10, 'min_samples_split': 500}\n"
     ]
    }
   ],
   "source": [
    "# examine the best model\n",
    "print(\"\\t best_score_     :\",gs.best_score_)\n",
    "print(\"\\t best_params_    :\",gs.best_params_)\n",
    "#print(\" best_estimator_ :\",gs.best_estimator_)\n",
    "Set4_best = gs.best_params_\n",
    "Set4_best_max_depth         = gs.best_params_['max_depth']\n",
    "Set4_best_min_samples_split = gs.best_params_['min_samples_split']\n",
    "Set4_Cv_AUC = gs.best_score_"
   ]
  },
  {
   "cell_type": "markdown",
   "metadata": {},
   "source": [
    "We captured the Best Parametres that we want.\n",
    "\n",
    "Let Train our Model with theese best Params and Draw AUC for bot Train and Test Data.\n",
    "\n",
    "We also Evaluate the Model for its Train and Test Accuracy."
   ]
  },
  {
   "cell_type": "code",
   "execution_count": 189,
   "metadata": {},
   "outputs": [],
   "source": [
    "Set4_Weights = []\n",
    "dt = DecisionTreeClassifier(criterion='gini',max_depth = Set4_best_max_depth,min_samples_split = Set4_best_min_samples_split , splitter='best', class_weight = \"balanced\")\n",
    "dt.fit(X_AvgW2VtfIdf_Tr,Y_tr)\n",
    "Set4_Weights = dt.feature_importances_.tolist()"
   ]
  },
  {
   "cell_type": "code",
   "execution_count": 190,
   "metadata": {
    "scrolled": true
   },
   "outputs": [
    {
     "name": "stdout",
     "output_type": "stream",
     "text": [
      " Train Data      AUC for the Best Lamda  is  0.814931799746493\n",
      " Test Validaton  AUC for the BEst Lamda  is  0.7452701605826471\n"
     ]
    },
    {
     "data": {
      "image/png": "[encoded data removed]",
      "text/plain": [
       "<Figure size 432x288 with 1 Axes>"
      ]
     },
     "metadata": {},
     "output_type": "display_data"
    }
   ],
   "source": [
    "#https://qiita.com/bmj0114/items/460424c110a8ce22d945\n",
    "Set4_Tr_prob    =  dt.predict_proba(X_AvgW2VtfIdf_Tr)    # Probablity of TRAIN-Validation\n",
    "Set4_Tst_prob   =  dt.predict_proba(X_AvgW2VtfIdf_Test)    # Probablity of Cross-Validation\n",
    "\n",
    "set4_tst_fpr, set4_tst_tpr, thresholds = roc_curve(Y_test,Set4_Tst_prob[:,1])\n",
    "set4_tst_roc_auc = auc(set4_tst_fpr, set4_tst_tpr)\n",
    "\n",
    "set4_train_fpr, set4_train_tpr, thresholds = roc_curve(Y_tr,Set4_Tr_prob[:,1])\n",
    "set4_train_roc_auc = auc(set4_train_fpr, set4_train_tpr)\n",
    "\n",
    "\n",
    "print(\" Train Data      AUC for the Best Lamda  is \", set4_train_roc_auc)\n",
    "print(\" Test Validaton  AUC for the BEst Lamda  is \", set4_tst_roc_auc)\n",
    "\n",
    "lw=1\n",
    "plt.figure()\n",
    "plt.plot(set4_tst_fpr, set4_tst_tpr, color='darkorange', lw=3, label='Test ROC curve (area = %0.2f)' % set4_tst_roc_auc)\n",
    "plt.plot(set4_train_fpr,set4_train_tpr, color='navy', lw=1, label='Train ROC curve (area = %0.2f)' % set4_train_roc_auc)\n",
    "plt.plot([0, 1], [0,1], color='red', lw=lw, linestyle='--')\n",
    "plt.xlim([0.0, 1.0])\n",
    "plt.ylim([0.0, 1.04])\n",
    "plt.xlabel('False Positive Rate')\n",
    "plt.ylabel('True Positive Rate')\n",
    "plt.title('ROC - Receiver operating characteristic')\n",
    "plt.legend(loc=\"lower right\")\n",
    "plt.show()"
   ]
  },
  {
   "cell_type": "markdown",
   "metadata": {},
   "source": [
    "#### Accuracy"
   ]
  },
  {
   "cell_type": "code",
   "execution_count": 191,
   "metadata": {},
   "outputs": [
    {
     "name": "stdout",
     "output_type": "stream",
     "text": [
      "\n",
      "\tAccuracy for Train Data :  0.6915784689305889\n",
      "\tAccuracy for Test Data :  0.6603743570708945\n"
     ]
    }
   ],
   "source": [
    "Set4_Tr_Pred  =  dt.predict(X_AvgW2VtfIdf_Tr)\n",
    "Set4_Tst_Pred =  dt.predict(X_AvgW2VtfIdf_Test)\n",
    "\n",
    "Set4_Tr_Acc =  accuracy_score(Y_tr,Set4_Tr_Pred,normalize=True)\n",
    "Set4_Tst_Acc =  accuracy_score(Y_test,Set4_Tst_Pred,normalize=True)\n",
    "\n",
    "print(\"\\n\\tAccuracy for Train Data : \",Set4_Tr_Acc)\n",
    "print(\"\\tAccuracy for Test Data : \",Set4_Tst_Acc)"
   ]
  },
  {
   "cell_type": "markdown",
   "metadata": {},
   "source": [
    "### Train Confusion Matrix"
   ]
  },
  {
   "cell_type": "code",
   "execution_count": 192,
   "metadata": {},
   "outputs": [
    {
     "name": "stdout",
     "output_type": "stream",
     "text": [
      "\n",
      "Train Accuracy :: 0.6915784689305889\n",
      "Confusion Matrix::\n",
      " [[ 3982   989]\n",
      " [ 8511 17320]] \n",
      "\n"
     ]
    },
    {
     "data": {
      "text/plain": [
       "Text(83.4,0.5,'True label')"
      ]
     },
     "execution_count": 192,
     "metadata": {},
     "output_type": "execute_result"
    },
    {
     "data": {
      "image/png": "[encoded data removed]",
      "text/plain": [
       "<Figure size 432x288 with 2 Axes>"
      ]
     },
     "metadata": {},
     "output_type": "display_data"
    }
   ],
   "source": [
    "print(\"\\nTrain Accuracy ::\",Set4_Tr_Acc)\n",
    "Train_CM= confusion_matrix(Y_tr, Set4_Tr_Pred, labels=None, sample_weight=None) \n",
    "print(\"Confusion Matrix::\\n\",Train_CM,\"\\n\")\n",
    "plt.imshow(Train_CM, cmap='binary')\n",
    "sns.heatmap(Train_CM, cmap=\"YlGnBu\", fmt=\"d\"  ,annot=True,annot_kws={\"size\": 17})\n",
    "plt.xlabel('Predicted label')\n",
    "plt.ylabel('True label')  "
   ]
  },
  {
   "cell_type": "markdown",
   "metadata": {},
   "source": [
    "### Test Confusion Matrix"
   ]
  },
  {
   "cell_type": "code",
   "execution_count": 193,
   "metadata": {},
   "outputs": [
    {
     "name": "stdout",
     "output_type": "stream",
     "text": [
      "\n",
      "Test Accuracy :: 0.6603743570708945\n",
      "\n",
      "\n",
      "Confusion Matrix::\n",
      " [[ 2186   871]\n",
      " [ 5534 10268]] \n",
      "\n"
     ]
    },
    {
     "data": {
      "text/plain": [
       "Text(33,0.5,'True label')"
      ]
     },
     "execution_count": 193,
     "metadata": {},
     "output_type": "execute_result"
    },
    {
     "data": {
      "image/png": "[encoded data removed]",
      "text/plain": [
       "<Figure size 432x288 with 2 Axes>"
      ]
     },
     "metadata": {},
     "output_type": "display_data"
    }
   ],
   "source": [
    "print(\"\\nTest Accuracy ::\",Set4_Tst_Acc)\n",
    "Test_CM= confusion_matrix(Y_test, Set4_Tst_Pred, labels=None, sample_weight=None) \n",
    "print(\"\\n\\nConfusion Matrix::\\n\",Test_CM,\"\\n\")\n",
    "sns.heatmap(Test_CM, cmap=\"YlGnBu\", fmt=\"d\"  ,annot=True,annot_kws={\"size\": 17})\n",
    "plt.xlabel('Predicted label')\n",
    "plt.ylabel('True label') "
   ]
  },
  {
   "cell_type": "code",
   "execution_count": 194,
   "metadata": {},
   "outputs": [],
   "source": [
    "Total_AUC['set4']=[Set4_best , set4_tst_roc_auc , Set4_Tst_Acc]"
   ]
  },
  {
   "cell_type": "markdown",
   "metadata": {
    "colab_type": "text",
    "id": "Em-rF6u2iWO8"
   },
   "source": [
    "\n",
    "## FueatureEngineering :Adding length of each review, No of words as New Feature"
   ]
  },
  {
   "cell_type": "markdown",
   "metadata": {},
   "source": [
    "In the Way of imporving the Accuracy we can do some feature Engineerings.\n",
    "\n",
    "Here we are Adding up the Two New Feature to the Datasets.\n",
    "\n",
    "1. No of Words in Each Review\n",
    "\n",
    "2. The lenght of each Review"
   ]
  },
  {
   "cell_type": "code",
   "execution_count": 195,
   "metadata": {},
   "outputs": [],
   "source": [
    "def getNewFutre(old,org):\n",
    "    len_Tr     = []\n",
    "    Wrd_Cnt_Tr = []        \n",
    "    for i in org:\n",
    "        l = []\n",
    "        w = []\n",
    "        l.append(len(i))\n",
    "        len_Tr.append(l) \n",
    "        w.append(len(i.split(' ')))\n",
    "        Wrd_Cnt_Tr.append(w)        \n",
    "    old= np.hstack((old,Wrd_Cnt_Tr))    \n",
    "    old= np.hstack((old,len_Tr))\n",
    "    return(old)           "
   ]
  },
  {
   "cell_type": "code",
   "execution_count": 196,
   "metadata": {},
   "outputs": [],
   "source": [
    "X_Bow_Tr_new     = []\n",
    "X_Bow_Cv_new     = []\n",
    "X_Bow_Test_new   = []\n",
    "\n",
    "X_Tfidf_Tr_new   = []\n",
    "X_Tfidf_Test_new = []\n",
    "X_Tfidf_Cv_new   = []\n",
    "\n",
    "X_Bow_Test_new   = getNewFutre(X_Bow_Test,X_test)\n",
    "X_Bow_Tr_new     = getNewFutre(X_Bow_Tr,X_tr)\n",
    "X_Bow_Cv_new     = getNewFutre(X_Bow_Cv,X_cv)\n",
    "\n",
    "X_Tfidf_Tr_new   = getNewFutre(X_Tfidf_Tr,X_tr)\n",
    "X_Tfidf_Test_new = getNewFutre(X_Tfidf_Test,X_test)\n",
    "X_Tfidf_Cv_new   = getNewFutre(X_Tfidf_Cv,X_cv)"
   ]
  },
  {
   "cell_type": "code",
   "execution_count": 197,
   "metadata": {},
   "outputs": [],
   "source": [
    "Bow_Feature.extend([\"No of Words\",\" Lenght of Review\"])"
   ]
  },
  {
   "cell_type": "code",
   "execution_count": 198,
   "metadata": {},
   "outputs": [],
   "source": [
    "tf_idf_feature.extend([\"No of Words\",\" Lenght of Review\"])"
   ]
  },
  {
   "cell_type": "markdown",
   "metadata": {},
   "source": [
    "## [5.5] Applying Decision Trees on BagOfword New Dataset,<font color='red'> SET 5 </font>DataSet"
   ]
  },
  {
   "cell_type": "markdown",
   "metadata": {},
   "source": [
    "Let us see, if our Feature Engineering hacks will results in Good Model Perfomance or not.\n",
    "\n",
    "Firstly, will try with New Bag Of Words DataSet"
   ]
  },
  {
   "cell_type": "markdown",
   "metadata": {},
   "source": [
    "#### HyperParameters tunning by the CrossValidation for Best AUC"
   ]
  },
  {
   "cell_type": "code",
   "execution_count": 199,
   "metadata": {},
   "outputs": [
    {
     "name": "stdout",
     "output_type": "stream",
     "text": [
      "    mean_test_score  std_test_score  \\\n",
      "0          0.524836        0.018588   \n",
      "1          0.524836        0.018588   \n",
      "2          0.524836        0.018588   \n",
      "3          0.524836        0.018588   \n",
      "4          0.549076        0.017754   \n",
      "5          0.548960        0.016985   \n",
      "6          0.549402        0.017602   \n",
      "7          0.549402        0.017602   \n",
      "8          0.560245        0.016183   \n",
      "9          0.561566        0.013847   \n",
      "10         0.562312        0.015054   \n",
      "11         0.563493        0.016790   \n",
      "12         0.590377        0.010784   \n",
      "13         0.596039        0.016041   \n",
      "14         0.606277        0.020665   \n",
      "15         0.605149        0.018136   \n",
      "16         0.586044        0.021140   \n",
      "17         0.588973        0.019020   \n",
      "18         0.615873        0.015656   \n",
      "19         0.603883        0.019737   \n",
      "20         0.607151        0.019719   \n",
      "21         0.608462        0.018200   \n",
      "22         0.624717        0.013607   \n",
      "23         0.622232        0.018179   \n",
      "24         0.586717        0.020608   \n",
      "25         0.596405        0.011548   \n",
      "26         0.608629        0.020915   \n",
      "27         0.603817        0.016025   \n",
      "\n",
      "                                          params  \n",
      "0       {'max_depth': 1, 'min_samples_split': 5}  \n",
      "1      {'max_depth': 1, 'min_samples_split': 10}  \n",
      "2     {'max_depth': 1, 'min_samples_split': 100}  \n",
      "3     {'max_depth': 1, 'min_samples_split': 500}  \n",
      "4       {'max_depth': 5, 'min_samples_split': 5}  \n",
      "5      {'max_depth': 5, 'min_samples_split': 10}  \n",
      "6     {'max_depth': 5, 'min_samples_split': 100}  \n",
      "7     {'max_depth': 5, 'min_samples_split': 500}  \n",
      "8      {'max_depth': 10, 'min_samples_split': 5}  \n",
      "9     {'max_depth': 10, 'min_samples_split': 10}  \n",
      "10   {'max_depth': 10, 'min_samples_split': 100}  \n",
      "11   {'max_depth': 10, 'min_samples_split': 500}  \n",
      "12     {'max_depth': 50, 'min_samples_split': 5}  \n",
      "13    {'max_depth': 50, 'min_samples_split': 10}  \n",
      "14   {'max_depth': 50, 'min_samples_split': 100}  \n",
      "15   {'max_depth': 50, 'min_samples_split': 500}  \n",
      "16    {'max_depth': 100, 'min_samples_split': 5}  \n",
      "17   {'max_depth': 100, 'min_samples_split': 10}  \n",
      "18  {'max_depth': 100, 'min_samples_split': 100}  \n",
      "19  {'max_depth': 100, 'min_samples_split': 500}  \n",
      "20    {'max_depth': 500, 'min_samples_split': 5}  \n",
      "21   {'max_depth': 500, 'min_samples_split': 10}  \n",
      "22  {'max_depth': 500, 'min_samples_split': 100}  \n",
      "23  {'max_depth': 500, 'min_samples_split': 500}  \n",
      "24    {'max_depth': 100, 'min_samples_split': 5}  \n",
      "25   {'max_depth': 100, 'min_samples_split': 10}  \n",
      "26  {'max_depth': 100, 'min_samples_split': 100}  \n",
      "27  {'max_depth': 100, 'min_samples_split': 500}  \n"
     ]
    }
   ],
   "source": [
    "dt = DecisionTreeClassifier(criterion='gini', splitter='best', class_weight = \"balanced\")\n",
    "gs = GridSearchCV(dt, param_grid=params, cv=5,scoring='roc_auc',n_jobs=-1)\n",
    "gs.fit(X_Bow_Cv_new,Y_cv)\n",
    "Set5_Cv_Results = pd.DataFrame(gs.cv_results_)[['mean_test_score', 'std_test_score', 'params']]\n",
    "print(Set5_Cv_Results)"
   ]
  },
  {
   "cell_type": "code",
   "execution_count": 200,
   "metadata": {},
   "outputs": [
    {
     "name": "stdout",
     "output_type": "stream",
     "text": [
      "\t best_score_     : 0.624717288137399\n",
      "\t best_params_    : {'max_depth': 500, 'min_samples_split': 100}\n"
     ]
    }
   ],
   "source": [
    "# examine the best model\n",
    "print(\"\\t best_score_     :\",gs.best_score_)\n",
    "print(\"\\t best_params_    :\",gs.best_params_)\n",
    "#print(\" best_estimator_ :\",gs.best_estimator_)\n",
    "Set5_best = gs.best_params_\n",
    "Set5_best_max_depth         = gs.best_params_['max_depth']\n",
    "Set5_best_min_samples_split = gs.best_params_['min_samples_split']\n",
    "Set5_Cv_AUC = gs.best_score_"
   ]
  },
  {
   "cell_type": "markdown",
   "metadata": {},
   "source": [
    "We captured the Best Parametres that we want.\n",
    "\n",
    "Let Train our Model with theese best Params and Draw AUC for bot Train and Test Data.\n",
    "\n",
    "We also Evaluate the Model for its Train and Test Accuracy."
   ]
  },
  {
   "cell_type": "code",
   "execution_count": 201,
   "metadata": {},
   "outputs": [],
   "source": [
    "Set5_Weights = []\n",
    "dt = DecisionTreeClassifier(criterion='gini',max_depth = Set5_best_max_depth,min_samples_split = Set5_best_min_samples_split , splitter='best', class_weight = \"balanced\")\n",
    "dt.fit(X_Bow_Tr_new,Y_tr)\n",
    "Set5_Weights = dt.feature_importances_.tolist()"
   ]
  },
  {
   "cell_type": "code",
   "execution_count": 202,
   "metadata": {
    "scrolled": true
   },
   "outputs": [
    {
     "name": "stdout",
     "output_type": "stream",
     "text": [
      " Train Data      AUC for the Best Lamda  is  0.9324923665307251\n",
      " Test Validaton  AUC for the BEst Lamda  is  0.6381837522626772\n"
     ]
    },
    {
     "data": {
      "image/png": "[encoded data removed]",
      "text/plain": [
       "<Figure size 432x288 with 1 Axes>"
      ]
     },
     "metadata": {},
     "output_type": "display_data"
    }
   ],
   "source": [
    "#https://qiita.com/bmj0114/items/460424c110a8ce22d945\n",
    "Set5_Tr_prob    =  dt.predict_proba(X_Bow_Tr_new)    # Probablity of TRAIN-Validation\n",
    "Set5_Tst_prob   =  dt.predict_proba(X_Bow_Test_new)    # Probablity of Cross-Validation\n",
    "\n",
    "set5_tst_fpr, set5_tst_tpr, thresholds = roc_curve(Y_test,Set5_Tst_prob[:,1])\n",
    "set5_tst_roc_auc = auc(set5_tst_fpr, set5_tst_tpr)\n",
    "\n",
    "set5_train_fpr, set5_train_tpr, thresholds = roc_curve(Y_tr,Set5_Tr_prob[:,1])\n",
    "set5_train_roc_auc = auc(set5_train_fpr, set5_train_tpr)\n",
    "\n",
    "\n",
    "print(\" Train Data      AUC for the Best Lamda  is \", set5_train_roc_auc)\n",
    "print(\" Test Validaton  AUC for the BEst Lamda  is \", set5_tst_roc_auc)\n",
    "\n",
    "lw=1\n",
    "plt.figure()\n",
    "plt.plot(set5_tst_fpr, set5_tst_tpr, color='darkorange', lw=3, label='Test ROC curve (area = %0.2f)' % set5_tst_roc_auc)\n",
    "plt.plot(set5_train_fpr, set5_train_tpr, color='navy', lw=1, label='Train ROC curve (area = %0.2f)' % set5_train_roc_auc)\n",
    "plt.plot([0, 1], [0,1], color='red', lw=lw, linestyle='--')\n",
    "plt.xlim([0.0, 1.0])\n",
    "plt.ylim([0.0, 1.04])\n",
    "plt.xlabel('False Positive Rate')\n",
    "plt.ylabel('True Positive Rate')\n",
    "plt.title('ROC - Receiver operating characteristic')\n",
    "plt.legend(loc=\"lower right\")\n",
    "plt.show()"
   ]
  },
  {
   "cell_type": "markdown",
   "metadata": {},
   "source": [
    "#### Accuracy"
   ]
  },
  {
   "cell_type": "code",
   "execution_count": 203,
   "metadata": {},
   "outputs": [
    {
     "name": "stdout",
     "output_type": "stream",
     "text": [
      "\n",
      "\tAccuracy for Train Data :  0.8354327641062269\n",
      "\tAccuracy for Test Data :  0.737790975131237\n"
     ]
    }
   ],
   "source": [
    "Set5_Tr_Pred  =  dt.predict(X_Bow_Tr_new)\n",
    "Set5_Tst_Pred =  dt.predict(X_Bow_Test_new)\n",
    "\n",
    "Set5_Tr_Acc =  accuracy_score(Y_tr,Set5_Tr_Pred,normalize=True)\n",
    "Set5_Tst_Acc =  accuracy_score(Y_test,Set5_Tst_Pred,normalize=True)\n",
    "\n",
    "print(\"\\n\\tAccuracy for Train Data : \",Set5_Tr_Acc)\n",
    "print(\"\\tAccuracy for Test Data : \",Set5_Tst_Acc)"
   ]
  },
  {
   "cell_type": "markdown",
   "metadata": {},
   "source": [
    "#### Train Confusion Matrix"
   ]
  },
  {
   "cell_type": "code",
   "execution_count": 204,
   "metadata": {},
   "outputs": [
    {
     "name": "stdout",
     "output_type": "stream",
     "text": [
      "\n",
      "Train Accuracy :: 0.8354327641062269\n",
      "Confusion Matrix::\n",
      " [[ 4534   437]\n",
      " [ 4632 21199]] \n",
      "\n"
     ]
    },
    {
     "data": {
      "text/plain": [
       "Text(83.4,0.5,'True label')"
      ]
     },
     "execution_count": 204,
     "metadata": {},
     "output_type": "execute_result"
    },
    {
     "data": {
      "image/png": "[encoded data removed]",
      "text/plain": [
       "<Figure size 432x288 with 2 Axes>"
      ]
     },
     "metadata": {},
     "output_type": "display_data"
    }
   ],
   "source": [
    "print(\"\\nTrain Accuracy ::\",Set5_Tr_Acc)\n",
    "Train_CM= confusion_matrix(Y_tr, Set5_Tr_Pred, labels=None, sample_weight=None) \n",
    "print(\"Confusion Matrix::\\n\",Train_CM,\"\\n\")\n",
    "plt.imshow(Train_CM, cmap='binary')\n",
    "sns.heatmap(Train_CM, cmap=\"YlGnBu\", fmt=\"d\"  ,annot=True,annot_kws={\"size\": 17})\n",
    "plt.xlabel('Predicted label')\n",
    "plt.ylabel('True label')  "
   ]
  },
  {
   "cell_type": "markdown",
   "metadata": {},
   "source": [
    "#### Test Confusion Matrix"
   ]
  },
  {
   "cell_type": "code",
   "execution_count": 205,
   "metadata": {},
   "outputs": [
    {
     "name": "stdout",
     "output_type": "stream",
     "text": [
      "\n",
      "Test Accuracy :: 0.737790975131237\n",
      "\n",
      "\n",
      "Confusion Matrix::\n",
      " [[ 1434  1623]\n",
      " [ 3322 12480]] \n",
      "\n"
     ]
    },
    {
     "data": {
      "text/plain": [
       "Text(33,0.5,'True label')"
      ]
     },
     "execution_count": 205,
     "metadata": {},
     "output_type": "execute_result"
    },
    {
     "data": {
      "image/png": "[encoded data removed]",
      "text/plain": [
       "<Figure size 432x288 with 2 Axes>"
      ]
     },
     "metadata": {},
     "output_type": "display_data"
    }
   ],
   "source": [
    "print(\"\\nTest Accuracy ::\",Set5_Tst_Acc)\n",
    "Test_CM= confusion_matrix(Y_test, Set5_Tst_Pred, labels=None, sample_weight=None) \n",
    "print(\"\\n\\nConfusion Matrix::\\n\",Test_CM,\"\\n\")\n",
    "sns.heatmap(Test_CM, cmap=\"YlGnBu\", fmt=\"d\"  ,annot=True,annot_kws={\"size\": 17})\n",
    "plt.xlabel('Predicted label')\n",
    "plt.ylabel('True label') "
   ]
  },
  {
   "cell_type": "code",
   "execution_count": 206,
   "metadata": {},
   "outputs": [],
   "source": [
    "Total_AUC['set5']=[Set5_best , set5_tst_roc_auc , Set5_Tst_Acc]"
   ]
  },
  {
   "cell_type": "markdown",
   "metadata": {
    "colab_type": "text",
    "id": "jm4vkPwMiWOu"
   },
   "source": [
    "### [5.5.1] Top 20 important features from<font color='red'> SET 5</font>"
   ]
  },
  {
   "cell_type": "code",
   "execution_count": 207,
   "metadata": {},
   "outputs": [
    {
     "data": {
      "text/html": [
       "<div>\n",
       "<style scoped>\n",
       "    .dataframe tbody tr th:only-of-type {\n",
       "        vertical-align: middle;\n",
       "    }\n",
       "\n",
       "    .dataframe tbody tr th {\n",
       "        vertical-align: top;\n",
       "    }\n",
       "\n",
       "    .dataframe thead th {\n",
       "        text-align: right;\n",
       "    }\n",
       "</style>\n",
       "<table border=\"1\" class=\"dataframe\">\n",
       "  <thead>\n",
       "    <tr style=\"text-align: right;\">\n",
       "      <th></th>\n",
       "      <th>feature</th>\n",
       "      <th>Decision_Imp</th>\n",
       "    </tr>\n",
       "  </thead>\n",
       "  <tbody>\n",
       "    <tr>\n",
       "      <th>3057</th>\n",
       "      <td>Lenght of Review</td>\n",
       "      <td>0.059049</td>\n",
       "    </tr>\n",
       "    <tr>\n",
       "      <th>3056</th>\n",
       "      <td>No of Words</td>\n",
       "      <td>0.0206319</td>\n",
       "    </tr>\n",
       "    <tr>\n",
       "      <th>3044</th>\n",
       "      <td>yuck</td>\n",
       "      <td>0.00745424</td>\n",
       "    </tr>\n",
       "    <tr>\n",
       "      <th>2819</th>\n",
       "      <td>trash</td>\n",
       "      <td>0.00699867</td>\n",
       "    </tr>\n",
       "    <tr>\n",
       "      <th>2369</th>\n",
       "      <td>shame</td>\n",
       "      <td>0.00544021</td>\n",
       "    </tr>\n",
       "    <tr>\n",
       "      <th>1083</th>\n",
       "      <td>garbage</td>\n",
       "      <td>0.00520455</td>\n",
       "    </tr>\n",
       "    <tr>\n",
       "      <th>2206</th>\n",
       "      <td>returned</td>\n",
       "      <td>0.00495298</td>\n",
       "    </tr>\n",
       "    <tr>\n",
       "      <th>918</th>\n",
       "      <td>expired</td>\n",
       "      <td>0.00480698</td>\n",
       "    </tr>\n",
       "    <tr>\n",
       "      <th>2088</th>\n",
       "      <td>rancid</td>\n",
       "      <td>0.00455149</td>\n",
       "    </tr>\n",
       "    <tr>\n",
       "      <th>2225</th>\n",
       "      <td>rip</td>\n",
       "      <td>0.00448932</td>\n",
       "    </tr>\n",
       "    <tr>\n",
       "      <th>2207</th>\n",
       "      <td>returning</td>\n",
       "      <td>0.0043945</td>\n",
       "    </tr>\n",
       "    <tr>\n",
       "      <th>565</th>\n",
       "      <td>contacted</td>\n",
       "      <td>0.00416283</td>\n",
       "    </tr>\n",
       "    <tr>\n",
       "      <th>1274</th>\n",
       "      <td>hopes</td>\n",
       "      <td>0.00399409</td>\n",
       "    </tr>\n",
       "    <tr>\n",
       "      <th>1680</th>\n",
       "      <td>misleading</td>\n",
       "      <td>0.00372241</td>\n",
       "    </tr>\n",
       "    <tr>\n",
       "      <th>350</th>\n",
       "      <td>cancelled</td>\n",
       "      <td>0.00347032</td>\n",
       "    </tr>\n",
       "    <tr>\n",
       "      <th>328</th>\n",
       "      <td>buyer</td>\n",
       "      <td>0.00343598</td>\n",
       "    </tr>\n",
       "    <tr>\n",
       "      <th>1002</th>\n",
       "      <td>flavorless</td>\n",
       "      <td>0.00331227</td>\n",
       "    </tr>\n",
       "    <tr>\n",
       "      <th>797</th>\n",
       "      <td>drain</td>\n",
       "      <td>0.00326222</td>\n",
       "    </tr>\n",
       "    <tr>\n",
       "      <th>423</th>\n",
       "      <td>chewed</td>\n",
       "      <td>0.00325992</td>\n",
       "    </tr>\n",
       "    <tr>\n",
       "      <th>2208</th>\n",
       "      <td>returns</td>\n",
       "      <td>0.00317228</td>\n",
       "    </tr>\n",
       "  </tbody>\n",
       "</table>\n",
       "</div>"
      ],
      "text/plain": [
       "                feature Decision_Imp\n",
       "3057   Lenght of Review     0.059049\n",
       "3056        No of Words    0.0206319\n",
       "3044               yuck   0.00745424\n",
       "2819              trash   0.00699867\n",
       "2369              shame   0.00544021\n",
       "1083            garbage   0.00520455\n",
       "2206           returned   0.00495298\n",
       "918             expired   0.00480698\n",
       "2088             rancid   0.00455149\n",
       "2225                rip   0.00448932\n",
       "2207          returning    0.0043945\n",
       "565           contacted   0.00416283\n",
       "1274              hopes   0.00399409\n",
       "1680         misleading   0.00372241\n",
       "350           cancelled   0.00347032\n",
       "328               buyer   0.00343598\n",
       "1002         flavorless   0.00331227\n",
       "797               drain   0.00326222\n",
       "423              chewed   0.00325992\n",
       "2208            returns   0.00317228"
      ]
     },
     "execution_count": 207,
     "metadata": {},
     "output_type": "execute_result"
    }
   ],
   "source": [
    "# Top Important features\n",
    "set5_Imp_Features=pd.DataFrame([Bow_Feature,Set5_Weights],index=['feature','Decision_Imp']).T\n",
    "#set1_Imp_Features= set1_Imp_Features[(set1_Imp_Features['Decision_Imp']>0)]\n",
    "set5_Imp_Features_sortd = set5_Imp_Features.sort_values(by='Decision_Imp')[-20:][::-1]\n",
    "set5_Imp_Features_sortd"
   ]
  },
  {
   "cell_type": "markdown",
   "metadata": {
    "colab_type": "text",
    "id": "5przjMTbiWOz"
   },
   "source": [
    "## [5.6] Applying Decision Trees on New TFIDF Dataset,<font color='red'> SET 6</font>"
   ]
  },
  {
   "cell_type": "markdown",
   "metadata": {},
   "source": [
    "Let us see, if our Feature Engineering hacks will results in Good Model Perfomance or not.\n",
    "\n",
    "Firstly, will try with New Tf-Idf DataSet"
   ]
  },
  {
   "cell_type": "markdown",
   "metadata": {
    "colab": {},
    "colab_type": "code",
    "id": "Bm3mfI7miWOz"
   },
   "source": [
    "##### HyperParameters tunning by the CrossValidation for Best AUC"
   ]
  },
  {
   "cell_type": "code",
   "execution_count": 209,
   "metadata": {},
   "outputs": [
    {
     "name": "stdout",
     "output_type": "stream",
     "text": [
      "    mean_test_score  std_test_score  \\\n",
      "0          0.515130        0.011475   \n",
      "1          0.515130        0.011475   \n",
      "2          0.515130        0.011475   \n",
      "3          0.515130        0.011475   \n",
      "4          0.557490        0.019423   \n",
      "5          0.556748        0.020177   \n",
      "6          0.556753        0.020178   \n",
      "7          0.557166        0.019514   \n",
      "8          0.568765        0.018222   \n",
      "9          0.570244        0.016133   \n",
      "10         0.569455        0.019420   \n",
      "11         0.569544        0.019548   \n",
      "12         0.615120        0.015630   \n",
      "13         0.611965        0.015083   \n",
      "14         0.622890        0.014348   \n",
      "15         0.622711        0.014263   \n",
      "16         0.610524        0.015898   \n",
      "17         0.614158        0.013937   \n",
      "18         0.628344        0.007583   \n",
      "19         0.619041        0.013182   \n",
      "20         0.632703        0.015887   \n",
      "21         0.649777        0.018338   \n",
      "22         0.643367        0.017610   \n",
      "23         0.647374        0.022368   \n",
      "24         0.614451        0.008220   \n",
      "25         0.620013        0.009142   \n",
      "26         0.629671        0.006514   \n",
      "27         0.632296        0.013025   \n",
      "\n",
      "                                          params  \n",
      "0       {'max_depth': 1, 'min_samples_split': 5}  \n",
      "1      {'max_depth': 1, 'min_samples_split': 10}  \n",
      "2     {'max_depth': 1, 'min_samples_split': 100}  \n",
      "3     {'max_depth': 1, 'min_samples_split': 500}  \n",
      "4       {'max_depth': 5, 'min_samples_split': 5}  \n",
      "5      {'max_depth': 5, 'min_samples_split': 10}  \n",
      "6     {'max_depth': 5, 'min_samples_split': 100}  \n",
      "7     {'max_depth': 5, 'min_samples_split': 500}  \n",
      "8      {'max_depth': 10, 'min_samples_split': 5}  \n",
      "9     {'max_depth': 10, 'min_samples_split': 10}  \n",
      "10   {'max_depth': 10, 'min_samples_split': 100}  \n",
      "11   {'max_depth': 10, 'min_samples_split': 500}  \n",
      "12     {'max_depth': 50, 'min_samples_split': 5}  \n",
      "13    {'max_depth': 50, 'min_samples_split': 10}  \n",
      "14   {'max_depth': 50, 'min_samples_split': 100}  \n",
      "15   {'max_depth': 50, 'min_samples_split': 500}  \n",
      "16    {'max_depth': 100, 'min_samples_split': 5}  \n",
      "17   {'max_depth': 100, 'min_samples_split': 10}  \n",
      "18  {'max_depth': 100, 'min_samples_split': 100}  \n",
      "19  {'max_depth': 100, 'min_samples_split': 500}  \n",
      "20    {'max_depth': 500, 'min_samples_split': 5}  \n",
      "21   {'max_depth': 500, 'min_samples_split': 10}  \n",
      "22  {'max_depth': 500, 'min_samples_split': 100}  \n",
      "23  {'max_depth': 500, 'min_samples_split': 500}  \n",
      "24    {'max_depth': 100, 'min_samples_split': 5}  \n",
      "25   {'max_depth': 100, 'min_samples_split': 10}  \n",
      "26  {'max_depth': 100, 'min_samples_split': 100}  \n",
      "27  {'max_depth': 100, 'min_samples_split': 500}  \n"
     ]
    }
   ],
   "source": [
    "dt = DecisionTreeClassifier(criterion='gini', splitter='best', class_weight = \"balanced\")\n",
    "gs = GridSearchCV(dt, param_grid=params, cv=5,scoring='roc_auc',n_jobs=-1)\n",
    "gs.fit(X_Tfidf_Cv_new,Y_cv)\n",
    "Set6_Cv_Results = pd.DataFrame(gs.cv_results_)[['mean_test_score', 'std_test_score', 'params']]\n",
    "print(Set6_Cv_Results)"
   ]
  },
  {
   "cell_type": "code",
   "execution_count": 210,
   "metadata": {},
   "outputs": [
    {
     "name": "stdout",
     "output_type": "stream",
     "text": [
      "\t best_score_     : 0.6497774812435755\n",
      "\t best_params_    : {'max_depth': 500, 'min_samples_split': 10}\n"
     ]
    }
   ],
   "source": [
    "# examine the best model\n",
    "print(\"\\t best_score_     :\",gs.best_score_)\n",
    "print(\"\\t best_params_    :\",gs.best_params_)\n",
    "#print(\" best_estimator_ :\",gs.best_estimator_)\n",
    "Set6_best = gs.best_params_\n",
    "Set6_best_max_depth         = gs.best_params_['max_depth']\n",
    "Set6_best_min_samples_split = gs.best_params_['min_samples_split']\n",
    "Set6_Cv_AUC = gs.best_score_"
   ]
  },
  {
   "cell_type": "markdown",
   "metadata": {},
   "source": [
    "We captured the Best Parametres that we want.\n",
    "\n",
    "Let Train our Model with theese best Params and Draw AUC for bot Train and Test Data.\n",
    "\n",
    "We also Evaluate the Model for its Train and Test Accuracy."
   ]
  },
  {
   "cell_type": "code",
   "execution_count": 211,
   "metadata": {},
   "outputs": [],
   "source": [
    "Set6_Weights = []\n",
    "dt = DecisionTreeClassifier(criterion='gini',max_depth = Set6_best_max_depth,min_samples_split = Set6_best_min_samples_split,splitter='best', class_weight = \"balanced\")\n",
    "dt.fit(X_Tfidf_Tr_new,Y_tr)\n",
    "Set6_Weights = dt.feature_importances_.tolist()"
   ]
  },
  {
   "cell_type": "code",
   "execution_count": 212,
   "metadata": {
    "scrolled": true
   },
   "outputs": [
    {
     "name": "stdout",
     "output_type": "stream",
     "text": [
      " Train Data      AUC for the Best Lamda  is  0.8774725976183912\n",
      " Test Validaton  AUC for the BEst Lamda  is  0.739723602396139\n"
     ]
    },
    {
     "data": {
      "image/png": "[encoded data removed]",
      "text/plain": [
       "<Figure size 432x288 with 1 Axes>"
      ]
     },
     "metadata": {},
     "output_type": "display_data"
    }
   ],
   "source": [
    "#https://qiita.com/bmj0114/items/460424c110a8ce22d945\n",
    "Set6_Tr_prob    =  dt.predict_proba(X_Tfidf_Tr_new)    # Probablity of TRAIN-Validation\n",
    "Set6_Tst_prob   =  dt.predict_proba(X_Tfidf_Test_new)    # Probablity of Cross-Validation\n",
    "\n",
    "set6_tst_fpr, set6_tst_tpr, thresholds = roc_curve(Y_test,Set6_Tst_prob[:,1])\n",
    "set6_tst_roc_auc = auc(set6_tst_fpr, set6_tst_tpr)\n",
    "\n",
    "set6_train_fpr, set6_train_tpr, thresholds = roc_curve(Y_tr,Set6_Tr_prob[:,1])\n",
    "set6_train_roc_auc = auc(set6_train_fpr, set6_train_tpr)\n",
    "\n",
    "print(\" Train Data      AUC for the Best Lamda  is \", set2_train_roc_auc)\n",
    "print(\" Test Validaton  AUC for the BEst Lamda  is \", set2_tst_roc_auc)\n",
    "\n",
    "lw=1\n",
    "plt.figure()\n",
    "plt.plot(set2_tst_fpr, set2_tst_tpr, color='darkorange', lw=3, label='Test ROC curve (area = %0.2f)' % set2_tst_roc_auc)\n",
    "plt.plot(set2_train_fpr, set2_train_tpr, color='navy', lw=1, label='Train ROC curve (area = %0.2f)' % set2_train_roc_auc)\n",
    "plt.plot([0, 1], [0,1], color='red', lw=lw, linestyle='--')\n",
    "plt.xlim([0.0, 1.0])\n",
    "plt.ylim([0.0, 1.04])\n",
    "plt.xlabel('False Positive Rate')\n",
    "plt.ylabel('True Positive Rate')\n",
    "plt.title('ROC - Receiver operating characteristic')\n",
    "plt.legend(loc=\"lower right\")\n",
    "plt.show()"
   ]
  },
  {
   "cell_type": "markdown",
   "metadata": {},
   "source": [
    "##### Accuracy"
   ]
  },
  {
   "cell_type": "code",
   "execution_count": 213,
   "metadata": {},
   "outputs": [
    {
     "name": "stdout",
     "output_type": "stream",
     "text": [
      "\n",
      "\tAccuracy for Train Data :  0.9435101616778131\n",
      "\tAccuracy for Test Data :  0.7709316506707673\n"
     ]
    }
   ],
   "source": [
    "Set6_Tr_Pred  =  dt.predict(X_Tfidf_Tr_new)\n",
    "Set6_Tst_Pred =  dt.predict(X_Tfidf_Test_new)\n",
    "\n",
    "Set6_Tr_Acc =  accuracy_score(Y_tr,Set6_Tr_Pred,normalize=True)\n",
    "Set6_Tst_Acc =  accuracy_score(Y_test,Set6_Tst_Pred,normalize=True)\n",
    "\n",
    "print(\"\\n\\tAccuracy for Train Data : \",Set6_Tr_Acc)\n",
    "print(\"\\tAccuracy for Test Data : \",Set6_Tst_Acc)"
   ]
  },
  {
   "cell_type": "markdown",
   "metadata": {},
   "source": [
    "### Train Confusion Matrix"
   ]
  },
  {
   "cell_type": "code",
   "execution_count": 214,
   "metadata": {},
   "outputs": [
    {
     "name": "stdout",
     "output_type": "stream",
     "text": [
      "\n",
      "Train Accuracy :: 0.9435101616778131\n",
      "Confusion Matrix::\n",
      " [[ 4912    59]\n",
      " [ 1681 24150]] \n",
      "\n"
     ]
    },
    {
     "data": {
      "text/plain": [
       "Text(83.4,0.5,'True label')"
      ]
     },
     "execution_count": 214,
     "metadata": {},
     "output_type": "execute_result"
    },
    {
     "data": {
      "image/png": "[encoded data removed]",
      "text/plain": [
       "<Figure size 432x288 with 2 Axes>"
      ]
     },
     "metadata": {},
     "output_type": "display_data"
    }
   ],
   "source": [
    "print(\"\\nTrain Accuracy ::\",Set6_Tr_Acc)\n",
    "Train_CM= confusion_matrix(Y_tr, Set6_Tr_Pred, labels=None, sample_weight=None) \n",
    "print(\"Confusion Matrix::\\n\",Train_CM,\"\\n\")\n",
    "plt.imshow(Train_CM, cmap='binary')\n",
    "sns.heatmap(Train_CM, cmap=\"YlGnBu\", fmt=\"d\"  ,annot=True,annot_kws={\"size\": 17})\n",
    "plt.xlabel('Predicted label')\n",
    "plt.ylabel('True label')  "
   ]
  },
  {
   "cell_type": "markdown",
   "metadata": {},
   "source": [
    "### Test Confusion Matrix"
   ]
  },
  {
   "cell_type": "code",
   "execution_count": 215,
   "metadata": {},
   "outputs": [
    {
     "name": "stdout",
     "output_type": "stream",
     "text": [
      "\n",
      "Test Accuracy :: 0.7709316506707673\n",
      "\n",
      "\n",
      "Confusion Matrix::\n",
      " [[ 1467  1590]\n",
      " [ 2730 13072]] \n",
      "\n"
     ]
    },
    {
     "data": {
      "text/plain": [
       "Text(33,0.5,'True label')"
      ]
     },
     "execution_count": 215,
     "metadata": {},
     "output_type": "execute_result"
    },
    {
     "data": {
      "image/png": "[encoded data removed]",
      "text/plain": [
       "<Figure size 432x288 with 2 Axes>"
      ]
     },
     "metadata": {},
     "output_type": "display_data"
    }
   ],
   "source": [
    "print(\"\\nTest Accuracy ::\",Set6_Tst_Acc)\n",
    "Test_CM= confusion_matrix(Y_test, Set6_Tst_Pred, labels=None, sample_weight=None) \n",
    "print(\"\\n\\nConfusion Matrix::\\n\",Test_CM,\"\\n\")\n",
    "sns.heatmap(Test_CM, cmap=\"YlGnBu\", fmt=\"d\"  ,annot=True,annot_kws={\"size\": 17})\n",
    "plt.xlabel('Predicted label')\n",
    "plt.ylabel('True label') "
   ]
  },
  {
   "cell_type": "code",
   "execution_count": 216,
   "metadata": {},
   "outputs": [],
   "source": [
    "Total_AUC['set6']=[Set6_best , set6_tst_roc_auc , Set6_Tst_Acc]"
   ]
  },
  {
   "cell_type": "markdown",
   "metadata": {
    "colab_type": "text",
    "id": "PIKUCldjiWO0"
   },
   "source": [
    "### [5.6.1] Top 20 important features from<font color='red'> SET 6</font>"
   ]
  },
  {
   "cell_type": "code",
   "execution_count": 217,
   "metadata": {},
   "outputs": [
    {
     "data": {
      "text/html": [
       "<div>\n",
       "<style scoped>\n",
       "    .dataframe tbody tr th:only-of-type {\n",
       "        vertical-align: middle;\n",
       "    }\n",
       "\n",
       "    .dataframe tbody tr th {\n",
       "        vertical-align: top;\n",
       "    }\n",
       "\n",
       "    .dataframe thead th {\n",
       "        text-align: right;\n",
       "    }\n",
       "</style>\n",
       "<table border=\"1\" class=\"dataframe\">\n",
       "  <thead>\n",
       "    <tr style=\"text-align: right;\">\n",
       "      <th></th>\n",
       "      <th>feature</th>\n",
       "      <th>Decision_Imp</th>\n",
       "    </tr>\n",
       "  </thead>\n",
       "  <tbody>\n",
       "    <tr>\n",
       "      <th>7135</th>\n",
       "      <td>Lenght of Review</td>\n",
       "      <td>0.0351647</td>\n",
       "    </tr>\n",
       "    <tr>\n",
       "      <th>7134</th>\n",
       "      <td>No of Words</td>\n",
       "      <td>0.01386</td>\n",
       "    </tr>\n",
       "    <tr>\n",
       "      <th>4275</th>\n",
       "      <td>not purchase</td>\n",
       "      <td>0.00638645</td>\n",
       "    </tr>\n",
       "    <tr>\n",
       "      <th>4028</th>\n",
       "      <td>never buy</td>\n",
       "      <td>0.00609103</td>\n",
       "    </tr>\n",
       "    <tr>\n",
       "      <th>4162</th>\n",
       "      <td>not buying</td>\n",
       "      <td>0.00578152</td>\n",
       "    </tr>\n",
       "    <tr>\n",
       "      <th>4324</th>\n",
       "      <td>not waste</td>\n",
       "      <td>0.00557623</td>\n",
       "    </tr>\n",
       "    <tr>\n",
       "      <th>3642</th>\n",
       "      <td>made china</td>\n",
       "      <td>0.00544926</td>\n",
       "    </tr>\n",
       "    <tr>\n",
       "      <th>7119</th>\n",
       "      <td>yuck</td>\n",
       "      <td>0.0051785</td>\n",
       "    </tr>\n",
       "    <tr>\n",
       "      <th>6516</th>\n",
       "      <td>trash</td>\n",
       "      <td>0.00480001</td>\n",
       "    </tr>\n",
       "    <tr>\n",
       "      <th>4218</th>\n",
       "      <td>not happy</td>\n",
       "      <td>0.00436671</td>\n",
       "    </tr>\n",
       "    <tr>\n",
       "      <th>363</th>\n",
       "      <td>bad batch</td>\n",
       "      <td>0.00429212</td>\n",
       "    </tr>\n",
       "    <tr>\n",
       "      <th>2397</th>\n",
       "      <td>garbage</td>\n",
       "      <td>0.00419127</td>\n",
       "    </tr>\n",
       "    <tr>\n",
       "      <th>5538</th>\n",
       "      <td>shame</td>\n",
       "      <td>0.00413037</td>\n",
       "    </tr>\n",
       "    <tr>\n",
       "      <th>1554</th>\n",
       "      <td>disappointed product</td>\n",
       "      <td>0.00354366</td>\n",
       "    </tr>\n",
       "    <tr>\n",
       "      <th>6631</th>\n",
       "      <td>two stars</td>\n",
       "      <td>0.00344821</td>\n",
       "    </tr>\n",
       "    <tr>\n",
       "      <th>1218</th>\n",
       "      <td>contacted</td>\n",
       "      <td>0.00344574</td>\n",
       "    </tr>\n",
       "    <tr>\n",
       "      <th>5276</th>\n",
       "      <td>returning</td>\n",
       "      <td>0.00330064</td>\n",
       "    </tr>\n",
       "    <tr>\n",
       "      <th>5275</th>\n",
       "      <td>returned</td>\n",
       "      <td>0.00329961</td>\n",
       "    </tr>\n",
       "    <tr>\n",
       "      <th>5880</th>\n",
       "      <td>stay away</td>\n",
       "      <td>0.00315933</td>\n",
       "    </tr>\n",
       "    <tr>\n",
       "      <th>7042</th>\n",
       "      <td>would better</td>\n",
       "      <td>0.00283981</td>\n",
       "    </tr>\n",
       "  </tbody>\n",
       "</table>\n",
       "</div>"
      ],
      "text/plain": [
       "                   feature Decision_Imp\n",
       "7135      Lenght of Review    0.0351647\n",
       "7134           No of Words      0.01386\n",
       "4275          not purchase   0.00638645\n",
       "4028             never buy   0.00609103\n",
       "4162            not buying   0.00578152\n",
       "4324             not waste   0.00557623\n",
       "3642            made china   0.00544926\n",
       "7119                  yuck    0.0051785\n",
       "6516                 trash   0.00480001\n",
       "4218             not happy   0.00436671\n",
       "363              bad batch   0.00429212\n",
       "2397               garbage   0.00419127\n",
       "5538                 shame   0.00413037\n",
       "1554  disappointed product   0.00354366\n",
       "6631             two stars   0.00344821\n",
       "1218             contacted   0.00344574\n",
       "5276             returning   0.00330064\n",
       "5275              returned   0.00329961\n",
       "5880             stay away   0.00315933\n",
       "7042          would better   0.00283981"
      ]
     },
     "execution_count": 217,
     "metadata": {},
     "output_type": "execute_result"
    }
   ],
   "source": [
    "# Top Important features\n",
    "set6_Imp_Features=pd.DataFrame([tf_idf_feature,Set6_Weights],index=['feature','Decision_Imp']).T\n",
    "#set2_Imp_Features= set2_Imp_Features[(set2_Imp_Features['Decision_Imp']>0)]\n",
    "set6_Imp_Features_sortd = set6_Imp_Features.sort_values(by='Decision_Imp')[-20:][::-1]\n",
    "set6_Imp_Features_sortd"
   ]
  },
  {
   "cell_type": "markdown",
   "metadata": {
    "colab_type": "text",
    "id": "nOvsBNf2LPpv"
   },
   "source": [
    "# [6] Conclusions of Decision Trees"
   ]
  },
  {
   "cell_type": "code",
   "execution_count": 218,
   "metadata": {},
   "outputs": [],
   "source": [
    "#Letus check all the neibours\n",
    "from prettytable import PrettyTable"
   ]
  },
  {
   "cell_type": "code",
   "execution_count": 219,
   "metadata": {},
   "outputs": [
    {
     "name": "stdout",
     "output_type": "stream",
     "text": [
      "+------+----------+----------------------------------------------+--------------------+--------------------+\n",
      "| SET# |   SET    |             Best Hyper parameter             |      Test AUC      |   Test Accuracy    |\n",
      "+------+----------+----------------------------------------------+--------------------+--------------------+\n",
      "| set1 |   BOW    | {'max_depth': 500, 'min_samples_split': 100} | 0.711534011607579  | 0.7328066175300917 |\n",
      "| set2 |  TFIDF   | {'max_depth': 500, 'min_samples_split': 500} | 0.739723602396139  | 0.7618113367622885 |\n",
      "| set3 |   W2V    | {'max_depth': 50, 'min_samples_split': 500}  | 0.813462213554828  | 0.7206108489315446 |\n",
      "| set4 | TFIDFW2V | {'max_depth': 10, 'min_samples_split': 500}  | 0.7452701605826471 | 0.6603743570708945 |\n",
      "| set5 |  FE_BOW  | {'max_depth': 500, 'min_samples_split': 100} | 0.6381837522626772 | 0.737790975131237  |\n",
      "| set6 | FE_TFIDF | {'max_depth': 500, 'min_samples_split': 10}  | 0.6646134738123566 | 0.7709316506707673 |\n",
      "+------+----------+----------------------------------------------+--------------------+--------------------+\n"
     ]
    }
   ],
   "source": [
    "#http://zetcode.com/python/prettytable/\n",
    "x = PrettyTable()\n",
    "x.clear_rows()\n",
    "Best_Acuracy = 0\n",
    "Best_Model = ''\n",
    "sets = [\"BOW\",\"TFIDF\",\"W2V\",\"TFIDFW2V\",\"FE_BOW\",\"FE_TFIDF\"]\n",
    "x.field_names = [\"SET#\", \"SET\", \"Best Hyper parameter\", \"Test AUC\", \"Test Accuracy\"]\n",
    "for i,j in enumerate(Total_AUC) :    \n",
    "    #print(j,sets[(i%4)],\"Brute\",Total_ACU[j][0],Total_ACU[j][1])\n",
    "    x.add_row([ j,sets[i],Total_AUC[j][0],Total_AUC[j][1],Total_AUC[j][2]])\n",
    "    if(Total_AUC[j][2]>Best_Acuracy):\n",
    "        Best_Acuracy = Total_AUC[j][2]\n",
    "        Best_Model = sets[i]      \n",
    "print(x)"
   ]
  },
  {
   "cell_type": "markdown",
   "metadata": {},
   "source": [
    "We can notice that More the Min Smaples split is giving the Descent Accuracy and AUC combination.\n",
    "\n",
    "Both TF-IDF and W2V is giving us the better combination of AUC and Accuracies."
   ]
  }
 ],
 "metadata": {
  "colab": {
   "name": "05 Amazon Fine Food Reviews Analysis_Logistic Regression.ipynb",
   "provenance": [],
   "version": "0.3.2"
  },
  "kernelspec": {
   "display_name": "Python 3",
   "language": "python",
   "name": "python3"
  },
  "language_info": {
   "codemirror_mode": {
    "name": "ipython",
    "version": 3
   },
   "file_extension": ".py",
   "mimetype": "text/x-python",
   "name": "python",
   "nbconvert_exporter": "python",
   "pygments_lexer": "ipython3",
   "version": "3.6.5"
  }
 },
 "nbformat": 4,
 "nbformat_minor": 1
}
